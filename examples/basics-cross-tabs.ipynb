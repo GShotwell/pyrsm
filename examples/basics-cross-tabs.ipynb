{
 "cells": [
  {
   "cell_type": "markdown",
   "id": "indoor-basket",
   "metadata": {},
   "source": [
    "# Basics > Cross-tabs"
   ]
  },
  {
   "cell_type": "markdown",
   "id": "removed-insert",
   "metadata": {},
   "source": [
    "<div class=\"alert alert-info\">Evaluate associations between two categorical variables</div>\n",
    "\n",
    "Cross-tab analysis is used to evaluate if categorical variables are associated. This tool is also known as chi-square or contingency table analysis"
   ]
  },
  {
   "cell_type": "code",
   "execution_count": 1,
   "id": "prostate-rescue",
   "metadata": {},
   "outputs": [],
   "source": [
    "import matplotlib as mpl\n",
    "import pyrsm as rsm\n",
    "\n",
    "# increase plot resolution\n",
    "mpl.rcParams[\"figure.dpi\"] = 100"
   ]
  },
  {
   "cell_type": "code",
   "execution_count": 2,
   "id": "58da7a64",
   "metadata": {},
   "outputs": [],
   "source": [
    "## setup pyrsm for autoreload\n",
    "%reload_ext autoreload\n",
    "%autoreload 2\n",
    "%aimport pyrsm"
   ]
  },
  {
   "cell_type": "markdown",
   "id": "84271bcd",
   "metadata": {},
   "source": [
    "\n",
    "\n",
    "### Example\n",
    "\n",
    "The data are from a sample of 580 newspaper readers that indicated (1) which newspaper they read most frequently (USA today or Wall Street Journal) and (2) their level of income (Low income vs. High income). The data has three variables: A respondent identifier (id), respondent income (High or Low), and the primary newspaper the respondent reads (USA today or Wall Street Journal).\n",
    "\n",
    "We will examine if there is a relationship between income level and choice of newspaper. In particular, we test the following null and alternative hypotheses:\n",
    "\n",
    "* H0: There is no relationship between income level and newspaper choice\n",
    "* Ha: There is a relationship between income level and newspaper choice\n",
    "\n",
    "If the null-hypothesis is rejected we can investigate which cell(s) contribute to the hypothesized association. To run this test we will choose Income as the first categorical variable and Newspaper as the second. This test amounts to evaluating the size of the difference between the observed and expected frequencies. The expected frequencies are calculated using H0 (i.e., no association) as (Row total x Column Total) /  Overall Total."
   ]
  },
  {
   "cell_type": "code",
   "execution_count": 3,
   "id": "american-guyana",
   "metadata": {},
   "outputs": [
    {
     "data": {
      "text/html": [
       "<div>\n",
       "<style scoped>\n",
       "    .dataframe tbody tr th:only-of-type {\n",
       "        vertical-align: middle;\n",
       "    }\n",
       "\n",
       "    .dataframe tbody tr th {\n",
       "        vertical-align: top;\n",
       "    }\n",
       "\n",
       "    .dataframe thead th {\n",
       "        text-align: right;\n",
       "    }\n",
       "</style>\n",
       "<table border=\"1\" class=\"dataframe\">\n",
       "  <thead>\n",
       "    <tr style=\"text-align: right;\">\n",
       "      <th></th>\n",
       "      <th>id</th>\n",
       "      <th>Income</th>\n",
       "      <th>Newspaper</th>\n",
       "    </tr>\n",
       "  </thead>\n",
       "  <tbody>\n",
       "    <tr>\n",
       "      <th>0</th>\n",
       "      <td>1</td>\n",
       "      <td>Low Income</td>\n",
       "      <td>USA Today</td>\n",
       "    </tr>\n",
       "    <tr>\n",
       "      <th>1</th>\n",
       "      <td>2</td>\n",
       "      <td>Low Income</td>\n",
       "      <td>USA Today</td>\n",
       "    </tr>\n",
       "    <tr>\n",
       "      <th>2</th>\n",
       "      <td>3</td>\n",
       "      <td>Low Income</td>\n",
       "      <td>USA Today</td>\n",
       "    </tr>\n",
       "    <tr>\n",
       "      <th>3</th>\n",
       "      <td>4</td>\n",
       "      <td>High Income</td>\n",
       "      <td>USA Today</td>\n",
       "    </tr>\n",
       "    <tr>\n",
       "      <th>4</th>\n",
       "      <td>5</td>\n",
       "      <td>Low Income</td>\n",
       "      <td>USA Today</td>\n",
       "    </tr>\n",
       "    <tr>\n",
       "      <th>...</th>\n",
       "      <td>...</td>\n",
       "      <td>...</td>\n",
       "      <td>...</td>\n",
       "    </tr>\n",
       "    <tr>\n",
       "      <th>575</th>\n",
       "      <td>576</td>\n",
       "      <td>Low Income</td>\n",
       "      <td>USA Today</td>\n",
       "    </tr>\n",
       "    <tr>\n",
       "      <th>576</th>\n",
       "      <td>577</td>\n",
       "      <td>High Income</td>\n",
       "      <td>WS Journal</td>\n",
       "    </tr>\n",
       "    <tr>\n",
       "      <th>577</th>\n",
       "      <td>578</td>\n",
       "      <td>High Income</td>\n",
       "      <td>WS Journal</td>\n",
       "    </tr>\n",
       "    <tr>\n",
       "      <th>578</th>\n",
       "      <td>579</td>\n",
       "      <td>Low Income</td>\n",
       "      <td>USA Today</td>\n",
       "    </tr>\n",
       "    <tr>\n",
       "      <th>579</th>\n",
       "      <td>580</td>\n",
       "      <td>High Income</td>\n",
       "      <td>WS Journal</td>\n",
       "    </tr>\n",
       "  </tbody>\n",
       "</table>\n",
       "<p>580 rows × 3 columns</p>\n",
       "</div>"
      ],
      "text/plain": [
       "      id       Income   Newspaper\n",
       "0      1   Low Income   USA Today\n",
       "1      2   Low Income   USA Today\n",
       "2      3   Low Income   USA Today\n",
       "3      4  High Income   USA Today\n",
       "4      5   Low Income   USA Today\n",
       "..   ...          ...         ...\n",
       "575  576   Low Income   USA Today\n",
       "576  577  High Income  WS Journal\n",
       "577  578  High Income  WS Journal\n",
       "578  579   Low Income   USA Today\n",
       "579  580  High Income  WS Journal\n",
       "\n",
       "[580 rows x 3 columns]"
      ]
     },
     "execution_count": 3,
     "metadata": {},
     "output_type": "execute_result"
    }
   ],
   "source": [
    "# load example data from the pyrsm library\n",
    "newspaper, newspaper_description = rsm.load_data(pkg=\"basics\", name=\"newspaper\")\n",
    "newspaper"
   ]
  },
  {
   "cell_type": "code",
   "execution_count": 4,
   "id": "encouraging-event",
   "metadata": {},
   "outputs": [
    {
     "data": {
      "text/markdown": [
       "## Newspaper readership\n",
       "\n",
       "### Description\n",
       "\n",
       "Data from a sample for 580 newspaper readers indicating which newspaper they read most frequently (USA today or Wall Street Journal) and their level of income (Low income vs. High income).\n",
       "\n",
       "### Variables\n",
       "\n",
       "A data frame with 580 observations on 3 variables\n",
       "\n",
       "- id = Respondent identifier\n",
       "- Income = A factor indicating if a respondent has High or Low income. Factor was created using a median split on income data\n",
       "- Newspaper = A factor indicating the primary newspaper the respondent reads (USA today or Wall Street Journal)"
      ],
      "text/plain": [
       "<IPython.core.display.Markdown object>"
      ]
     },
     "metadata": {},
     "output_type": "display_data"
    }
   ],
   "source": [
    "# format the data description\n",
    "rsm.md(newspaper_description)"
   ]
  },
  {
   "cell_type": "markdown",
   "id": "changing-ottawa",
   "metadata": {},
   "source": [
    "To create a cross_tabs object use `rsm.cross_tabs`. The created object has attributes and methods that you can use to get the information you need. For example. the `.expected` attribute shows the expected values under the null-hypothesis as a Pandas dataframe."
   ]
  },
  {
   "cell_type": "code",
   "execution_count": 5,
   "id": "mexican-revelation",
   "metadata": {},
   "outputs": [],
   "source": [
    "ct = rsm.basics.cross_tabs({\"newspaper\": newspaper}, \"Income\", \"Newspaper\")"
   ]
  },
  {
   "cell_type": "code",
   "execution_count": 6,
   "id": "statistical-salon",
   "metadata": {},
   "outputs": [
    {
     "data": {
      "text/html": [
       "<div>\n",
       "<style scoped>\n",
       "    .dataframe tbody tr th:only-of-type {\n",
       "        vertical-align: middle;\n",
       "    }\n",
       "\n",
       "    .dataframe tbody tr th {\n",
       "        vertical-align: top;\n",
       "    }\n",
       "\n",
       "    .dataframe thead th {\n",
       "        text-align: right;\n",
       "    }\n",
       "</style>\n",
       "<table border=\"1\" class=\"dataframe\">\n",
       "  <thead>\n",
       "    <tr style=\"text-align: right;\">\n",
       "      <th>Newspaper</th>\n",
       "      <th>WS Journal</th>\n",
       "      <th>USA Today</th>\n",
       "      <th>Total</th>\n",
       "    </tr>\n",
       "    <tr>\n",
       "      <th>Income</th>\n",
       "      <th></th>\n",
       "      <th></th>\n",
       "      <th></th>\n",
       "    </tr>\n",
       "  </thead>\n",
       "  <tbody>\n",
       "    <tr>\n",
       "      <th>Low Income</th>\n",
       "      <td>83</td>\n",
       "      <td>276</td>\n",
       "      <td>359</td>\n",
       "    </tr>\n",
       "    <tr>\n",
       "      <th>High Income</th>\n",
       "      <td>180</td>\n",
       "      <td>41</td>\n",
       "      <td>221</td>\n",
       "    </tr>\n",
       "    <tr>\n",
       "      <th>Total</th>\n",
       "      <td>263</td>\n",
       "      <td>317</td>\n",
       "      <td>580</td>\n",
       "    </tr>\n",
       "  </tbody>\n",
       "</table>\n",
       "</div>"
      ],
      "text/plain": [
       "Newspaper    WS Journal  USA Today  Total\n",
       "Income                                   \n",
       "Low Income           83        276    359\n",
       "High Income         180         41    221\n",
       "Total               263        317    580"
      ]
     },
     "execution_count": 6,
     "metadata": {},
     "output_type": "execute_result"
    }
   ],
   "source": [
    "ct.observed"
   ]
  },
  {
   "cell_type": "code",
   "execution_count": 7,
   "id": "loving-provincial",
   "metadata": {},
   "outputs": [
    {
     "data": {
      "text/html": [
       "<div>\n",
       "<style scoped>\n",
       "    .dataframe tbody tr th:only-of-type {\n",
       "        vertical-align: middle;\n",
       "    }\n",
       "\n",
       "    .dataframe tbody tr th {\n",
       "        vertical-align: top;\n",
       "    }\n",
       "\n",
       "    .dataframe thead th {\n",
       "        text-align: right;\n",
       "    }\n",
       "</style>\n",
       "<table border=\"1\" class=\"dataframe\">\n",
       "  <thead>\n",
       "    <tr style=\"text-align: right;\">\n",
       "      <th>Newspaper</th>\n",
       "      <th>WS Journal</th>\n",
       "      <th>USA Today</th>\n",
       "      <th>Total</th>\n",
       "    </tr>\n",
       "    <tr>\n",
       "      <th>Income</th>\n",
       "      <th></th>\n",
       "      <th></th>\n",
       "      <th></th>\n",
       "    </tr>\n",
       "  </thead>\n",
       "  <tbody>\n",
       "    <tr>\n",
       "      <th>Low Income</th>\n",
       "      <td>162.79</td>\n",
       "      <td>196.21</td>\n",
       "      <td>359.0</td>\n",
       "    </tr>\n",
       "    <tr>\n",
       "      <th>High Income</th>\n",
       "      <td>100.21</td>\n",
       "      <td>120.79</td>\n",
       "      <td>221.0</td>\n",
       "    </tr>\n",
       "    <tr>\n",
       "      <th>Total</th>\n",
       "      <td>263.00</td>\n",
       "      <td>317.00</td>\n",
       "      <td>580.0</td>\n",
       "    </tr>\n",
       "  </tbody>\n",
       "</table>\n",
       "</div>"
      ],
      "text/plain": [
       "Newspaper    WS Journal  USA Today  Total\n",
       "Income                                   \n",
       "Low Income       162.79     196.21  359.0\n",
       "High Income      100.21     120.79  221.0\n",
       "Total            263.00     317.00  580.0"
      ]
     },
     "execution_count": 7,
     "metadata": {},
     "output_type": "execute_result"
    }
   ],
   "source": [
    "ct.expected.round(2)"
   ]
  },
  {
   "cell_type": "markdown",
   "id": "behind-conspiracy",
   "metadata": {},
   "source": [
    "`cross_tabs` objects have two methods: `summary()` and `plot()`. "
   ]
  },
  {
   "cell_type": "code",
   "execution_count": 8,
   "id": "subsequent-skating",
   "metadata": {},
   "outputs": [
    {
     "name": "stdout",
     "output_type": "stream",
     "text": [
      "\n",
      "Cross-tabs\n",
      "Variables: Income, Newspaper\n",
      "Data     : newspaper\n",
      "Null hyp : There is no association between Income and Newspaper\n",
      "Alt. hyp : There is an association between Income and Newspaper\n",
      "\n",
      "Observed:\n",
      "\n",
      "Newspaper   WS Journal USA Today Total\n",
      "Income                                \n",
      "Low Income          83       276   359\n",
      "High Income        180        41   221\n",
      "Total              263       317   580\n",
      "\n",
      "Expected: (row total x column total) / total\n",
      "\n",
      "Newspaper   WS Journal USA Today  Total\n",
      "Income                                 \n",
      "Low Income      162.79    196.21  359.0\n",
      "High Income     100.21    120.79  221.0\n",
      "Total            263.0     317.0  580.0\n",
      "\n",
      "Contribution to chi-squared: (o - e)^2 / e\n",
      "\n",
      "Newspaper   WS Journal USA Today   Total\n",
      "Income                                  \n",
      "Low Income       39.11     32.45   71.55\n",
      "High Income      63.53      52.7  116.23\n",
      "Total           102.63     85.15  187.78\n",
      "\n",
      "Chi-squared: 187.78 df(1), p.value < .001\n",
      "0.0% of cells have expected values below 5\n",
      "\n"
     ]
    }
   ],
   "source": [
    "ct.summary(output=[\"observed\", \"expected\", \"chisq\"])"
   ]
  },
  {
   "cell_type": "markdown",
   "id": "compound-filter",
   "metadata": {},
   "source": [
    "The (Pearson) chi-squared test evaluates if we can reject the null-hypothesis that the two variables are independent. It does so by comparing the observed frequencies (i.e., what we actually see in the data) to the expected frequencies (i.e., what we would expect to see if the two variables were independent). If there are big differences between the table of expected and observed frequencies, the chi-square value will be _large_. The chi-square value for each cell is calculated as $(o - e)^2 / e$, where $o$ is the observed frequency in a cell and $e$ is the expected frequency in that cell if the null hypothesis holds. These chi-square values can be shown by adding `output=\"chisq\"` as an argrument to the `.summary()` method of a `cross_tab` object. The overall chi-square value is obtained by summing the chi-square values across all cells, i.e., it is the sum of the values shown in the _Contribution to chi-squared_ table.\n",
    "\n",
    "In order to determine if the overall chi-square statistics can be considered _large_ we first determine the degrees of freedom (df). In particular: $df = (\\# rows - 1) \\times (\\# columns - 1)$. In a 2x2 table, we have $(2-1) \\times (2-1) = 1$ df. The output from `ct.summary()` shows the value of the chi-square statistic, the associated df, and the p.value associated with the test.\n",
    "\n",
    "Remember to check the expected values: All expected frequencies are larger than 5 therefore the p.value for the chi-square statistic is unlikely to be biased. As usual we reject the null-hypothesis when the p.value is smaller 0.05. Since our p.value is very small (< .001) we can reject the null-hypothesis (i.e., the data suggest there is an association between newspaper readership and income).\n",
    "\n",
    "We can use the provided p.value associated with the Chi-squared value of 187.783 to evaluate the null hypothesis. However, we can also calculate the critical Chi-squared value using the probability calculator in the Radiant R package. As we can see from the output below, that value is 3.841 if we choose a 95% confidence level. Because the calculated Chi-square value is larger than the critical value (187.783 > 3.841) we reject null hypothesis that `Income` and `Newspaper` are independent."
   ]
  },
  {
   "cell_type": "code",
   "execution_count": 9,
   "id": "6d1f3dcb",
   "metadata": {},
   "outputs": [
    {
     "name": "stdout",
     "output_type": "stream",
     "text": [
      "Probability calculator\n",
      "Distribution: Chi-square\n",
      "Df          : 1\n",
      "Mean        : 1\n",
      "Variance    : 2\n",
      "Lower bound : 0\n",
      "Upper bound : 0.95\n",
      "\n",
      "P(X < 3.841458820694124) = 0.95\n",
      "P(X > 3.841458820694124) = 0.05\n"
     ]
    },
    {
     "data": {
      "image/png": "[encoded data removed]",
      "text/plain": [
       "<Figure size 640x480 with 1 Axes>"
      ]
     },
     "metadata": {},
     "output_type": "display_data"
    }
   ],
   "source": [
    "pc = rsm.basics.prob_calc(\"chisq\", df=1,  pub=0.95)\n",
    "pc.summary()\n",
    "pc.plot()\n"
   ]
  },
  {
   "cell_type": "markdown",
   "id": "correct-bible",
   "metadata": {},
   "source": [
    "We can also use the probability calculator to determine the p.value associated with the calculated Chi-square value. Consistent with the output from the `.summary()` method shown above this `p.value` is `< .001`."
   ]
  },
  {
   "cell_type": "code",
   "execution_count": 10,
   "id": "centered-printing",
   "metadata": {},
   "outputs": [
    {
     "name": "stdout",
     "output_type": "stream",
     "text": [
      "Probability calculator\n",
      "Distribution: Chi-square\n",
      "Df          : 1\n",
      "Mean        : 1\n",
      "Variance    : 2\n",
      "Lower bound : 0\n",
      "Upper bound : 187.83\n",
      "\n",
      "P(X < 187.83) = 1.0\n",
      "P(X > 187.83) = 0.0\n"
     ]
    },
    {
     "data": {
      "image/png": "[encoded data removed]",
      "text/plain": [
       "<Figure size 640x480 with 1 Axes>"
      ]
     },
     "metadata": {},
     "output_type": "display_data"
    }
   ],
   "source": [
    "pc = rsm.basics.prob_calc(\"chisq\", df=1,  ub=187.83)\n",
    "pc.summary()\n",
    "pc.plot()"
   ]
  },
  {
   "cell_type": "code",
   "execution_count": 11,
   "id": "individual-absolute",
   "metadata": {},
   "outputs": [],
   "source": [
    "# %%R\n",
    "# plot(result)"
   ]
  },
  {
   "cell_type": "markdown",
   "id": "vanilla-endorsement",
   "metadata": {},
   "source": [
    "In addition to the numerical output provided by the `.summary()` method we can evaluate the hypothesis visually using the `.plot()` method of the `cross_tab` object. In addition to the distribution of observed and expected frequencies, we will also plot the standardized deviations (i.e., standardized differences between the observed and expected table). This measure is calculated as $(o-e)/sqrt(e)$, i.e., a score of how different the observed and expected frequencies in one cell in our table are. When a cell's standardized deviation is greater than 1.96 (in absolute value) the cell has a significant deviation from the model of independence (or no association)."
   ]
  },
  {
   "cell_type": "code",
   "execution_count": 12,
   "id": "environmental-electricity",
   "metadata": {},
   "outputs": [
    {
     "data": {
      "image/png": "[encoded data removed]",
      "text/plain": [
       "<Figure size 640x480 with 1 Axes>"
      ]
     },
     "metadata": {},
     "output_type": "display_data"
    },
    {
     "data": {
      "image/png": "[encoded data removed]",
      "text/plain": [
       "<Figure size 640x480 with 1 Axes>"
      ]
     },
     "metadata": {},
     "output_type": "display_data"
    },
    {
     "data": {
      "image/png": "[encoded data removed]",
      "text/plain": [
       "<Figure size 640x480 with 1 Axes>"
      ]
     },
     "metadata": {},
     "output_type": "display_data"
    }
   ],
   "source": [
    "ct.plot(output=[\"observed\", \"expected\", \"dev_std\"])"
   ]
  },
  {
   "cell_type": "markdown",
   "id": "coupled-surveillance",
   "metadata": {},
   "source": [
    "In the last plot above we see that all cells contribute to the association between income and readership as all standardized deviations are larger than 1.96 in absolute value (i.e., the bars extend beyond the outer dotted line in the plot).\n",
    "\n",
    "In other words, there seem to be fewer low income respondents that read WSJ and more high income respondents that read WSJ than would be expected if the null hypothesis of no-association were true. Furthermore, there are more low income respondents that read USA today and fewer high income respondents that read USA Today than would be expected if the null hypothesis of no-association were true.\n",
    "\n",
    "### Technical note\n",
    "\n",
    "When one or more expected values are small (e.g., 5 or less) the p.value for the Chi-squared test is biased and it may be necessary to _collapse_ rows and/or columns and recalculate the test statistics."
   ]
  },
  {
   "cell_type": "markdown",
   "id": "f0794705",
   "metadata": {},
   "source": [
    "# Radiant for Python App: Cross-tabs\n",
    "\n",
    "Now lets re-run the analysis using a web-based user interface. Select `Income` as the first categotical variable and `Newspaper` as the second. This test amounts to evaluating the size of the difference between the observed and expected frequencies. The expected frequencies are calculated using H0 (i.e., no association) as (Row total x Column Total) /  Overall Total. \n",
    "\n",
    "Select `Observed`, `Expected`, and `Chi-squared` as the output tables to create. The (Pearson) chi-squared test evaluates if we can reject the null-hypothesis that the two variables are independent. It does so by comparing the observed frequencies (i.e., what we actually see in the data) to the expected frequencies (i.e., what we would expect to see if the two variables were independent). If there are big differences between the table of expected and observed frequencies, the chi-square value will be _large_. The chi-square value for each cell is calculated as $(o - e)^2 / e$, where $o$ is the observed frequency in a cell and $e$ is the expected frequency in that cell if the null hypothesis holds. These chi-square values can be shown by adding `output=\"chisq\"` as an argrument to the `summary()` method of a `cross_tab` object. The overall chi-square value is obtained by summing the chi-square values across all cells, i.e., it is the sum of the values shown in the _Contribution to chi-squared_ table.\n",
    "\n",
    "> Note: The app will continue running until you press the `Stop` button in the app navigation bar or the stop button next to the notebook cell"
   ]
  },
  {
   "cell_type": "code",
   "execution_count": 13,
   "id": "ade629e8",
   "metadata": {},
   "outputs": [
    {
     "name": "stdout",
     "output_type": "stream",
     "text": [
      "Listening on http://0.0.0.0:8000\n",
      "Pyrsm and Radiant are open source tools and free to use. If you\n",
      "are a student or instructor using pyrsm or Radiant for a class,\n",
      "as a favor to the developers, please send an email to\n",
      "<radiant@rady.ucsd.edu> with the name of the school and class.\n",
      "If you are using Radiant in your company, as a favor to the\n",
      "developer, please share the name of your company and what types\n",
      "of activites you are supporting with the tool.\n"
     ]
    }
   ],
   "source": [
    "rsm.radiant.cross_tabs(\n",
    "    {\"newspaper\": newspaper}, {\"newspaper\": newspaper_description}, open=True\n",
    ")\n"
   ]
  },
  {
   "cell_type": "markdown",
   "id": "a9297f38",
   "metadata": {},
   "source": [
    "## Video Tutorials\n",
    "\n",
    "To review the same analysis in Radiant for R, copy-and-paste the full command below into the RStudio console (i.e., the bottom-left window) and press return to gain access to all materials used in the hypothesis testing module of the <a href=\"https://www.youtube.com/playlist?list=PLNhtaetb48EdKRIY7MewCyvb_1x7dV3xw\">Radiant Tutorial Series</a>:\n",
    "\n",
    "`usethis::use_course(\"https://www.dropbox.com/sh/0xvhyolgcvox685/AADSppNSIocrJS-BqZXhD1Kna?dl=1\")`\n",
    "\n",
    "[Cross-tabs Hypothesis Test](https://youtu.be/MEt8vO5FNYQ){target=\"_blank\"}\n",
    "\n",
    "* This video demonstrates how to investigate associations between two categorical variables by a cross-tabs hypothesis test\n",
    "* Topics List:\n",
    "    - Setup a hypothesis test for cross-tabs in Radiant\n",
    "    - Explain how observed, expected and contribution to chi-squared tables are constructed\n",
    "    - Use the p.value and critical value to evaluate the hypothesis test"
   ]
  },
  {
   "cell_type": "markdown",
   "id": "f996ff3b",
   "metadata": {},
   "source": [
    "© Vincent Nijs (2023)"
   ]
  }
 ],
 "metadata": {
  "interpreter": {
   "hash": "bbba8b880f8e16fea63b45a2473043b3a2eb4895c09d1c8a67b72e7583b44428"
  },
  "kernelspec": {
   "display_name": "Python 3 (ipykernel)",
   "language": "python",
   "name": "python3"
  },
  "language_info": {
   "codemirror_mode": {
    "name": "ipython",
    "version": 3
   },
   "file_extension": ".py",
   "mimetype": "text/x-python",
   "name": "python",
   "nbconvert_exporter": "python",
   "pygments_lexer": "ipython3",
   "version": "3.10.8"
  }
 },
 "nbformat": 4,
 "nbformat_minor": 5
}
