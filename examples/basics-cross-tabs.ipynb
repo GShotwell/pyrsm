{
    "cells": [
        {
            "cell_type": "markdown",
            "id": "indoor-basket",
            "metadata": {},
            "source": [
                "# Basics > Cross-tabs"
            ]
        },
        {
            "cell_type": "markdown",
            "id": "removed-insert",
            "metadata": {},
            "source": [
                "> Cross-tab analysis is used to evaluate if categorical variables are associated. This tool is also known as chi-square or contingency table analysis\n",
                "\n",
                "### Example\n",
                "\n",
                "The data are from a sample of 580 newspaper readers that indicated (1) which newspaper they read most frequently (USA today or Wall Street Journal) and (2) their level of income (Low income vs. High income). The data has three variables: A respondent identifier (id), respondent income (High or Low), and the primary newspaper the respondent reads (USA today or Wall Street Journal).\n",
                "\n",
                "We will examine if there is a relationship between income level and choice of newspaper. In particular, we test the following null and alternative hypotheses:\n",
                "\n",
                "* H0: There is no relationship between income level and newspaper choice\n",
                "* Ha: There is a relationship between income level and newspaper choice\n",
                "\n",
                "If the null-hypothesis is rejected we can investigate which cell(s) contribute to the hypothesized association. To run this test we will choose Income as the first categorical variable and Newspaper as the second. This test amounts to evaluating the size of the difference between the observed and expected frequencies. The expected frequencies are calculated using H0 (i.e., no association) as (Row total x Column Total) /  Overall Total."
            ]
        },
        {
            "cell_type": "code",
            "execution_count": null,
            "id": "prostate-rescue",
            "metadata": {},
            "outputs": [],
            "source": [
                "import matplotlib as mpl\n",
                "import pyrsm as rsm\n",
                "\n",
                "# increase plot resolution\n",
                "mpl.rcParams[\"figure.dpi\"] = 150"
            ]
        },
        {
            "cell_type": "code",
            "execution_count": null,
            "id": "parliamentary-hampshire",
            "metadata": {},
            "outputs": [],
            "source": [
                "# check pyrsm version\n",
                "rsm.__version__"
            ]
        },
        {
            "cell_type": "code",
            "execution_count": null,
            "id": "7ee0a39f",
            "metadata": {},
            "outputs": [],
            "source": [
                "# check conda environment used\n",
                "!conda info | grep 'active env'"
            ]
        },
        {
            "cell_type": "code",
            "execution_count": null,
            "id": "a681b773",
            "metadata": {},
            "outputs": [],
            "source": [
                "# check python being used\n",
                "import sys\n",
                "print(sys.executable)"
            ]
        },
        {
            "cell_type": "code",
            "execution_count": null,
            "id": "american-guyana",
            "metadata": {},
            "outputs": [],
            "source": [
                "rsm.load_data(pkg=\"basics\", name=\"newspaper\", dct=globals())"
            ]
        },
        {
            "cell_type": "code",
            "execution_count": null,
            "id": "encouraging-event",
            "metadata": {},
            "outputs": [],
            "source": [
                "rsm.describe(newspaper)"
            ]
        },
        {
            "cell_type": "code",
            "execution_count": null,
            "id": "rough-lecture",
            "metadata": {},
            "outputs": [],
            "source": [
                "newspaper"
            ]
        },
        {
            "cell_type": "markdown",
            "id": "changing-ottawa",
            "metadata": {},
            "source": [
                "To create a cross_tabs object use `rsm.cross_tabs`. The created object has attributes and methods that you can use to get the information you need. For example. the `.expected` attribute shows the expected values under the null-hypothesis as a Pandas dataframe."
            ]
        },
        {
            "cell_type": "code",
            "execution_count": null,
            "id": "mexican-revelation",
            "metadata": {},
            "outputs": [],
            "source": [
                "ct = rsm.cross_tabs(newspaper, \"Income\", \"Newspaper\")"
            ]
        },
        {
            "cell_type": "markdown",
            "id": "acoustic-float",
            "metadata": {},
            "source": [
                "Documentation about how to create a cross_tabs object and how to acces its attrubutes is shown below."
            ]
        },
        {
            "cell_type": "code",
            "execution_count": null,
            "id": "static-platform",
            "metadata": {},
            "outputs": [],
            "source": [
                "help(ct)"
            ]
        },
        {
            "cell_type": "code",
            "execution_count": null,
            "id": "statistical-salon",
            "metadata": {},
            "outputs": [],
            "source": [
                "ct.observed"
            ]
        },
        {
            "cell_type": "code",
            "execution_count": null,
            "id": "loving-provincial",
            "metadata": {},
            "outputs": [],
            "source": [
                "ct.expected.round(2)"
            ]
        },
        {
            "cell_type": "markdown",
            "id": "behind-conspiracy",
            "metadata": {},
            "source": [
                "`cross_tab` objects have two methods: `.summary()` and `.plot()`. The documentation for each is shown below."
            ]
        },
        {
            "cell_type": "code",
            "execution_count": null,
            "id": "conceptual-species",
            "metadata": {},
            "outputs": [],
            "source": [
                "help(ct.summary)"
            ]
        },
        {
            "cell_type": "code",
            "execution_count": null,
            "id": "broad-short",
            "metadata": {},
            "outputs": [],
            "source": [
                "help(ct.plot)"
            ]
        },
        {
            "cell_type": "code",
            "execution_count": null,
            "id": "subsequent-skating",
            "metadata": {},
            "outputs": [],
            "source": [
                "ct.summary(output=[\"observed\", \"expected\", \"chisq\"])"
            ]
        },
        {
            "cell_type": "markdown",
            "id": "compound-filter",
            "metadata": {},
            "source": [
                "The (Pearson) chi-squared test evaluates if we can reject the null-hypothesis that the two variables are independent. It does so by comparing the observed frequencies (i.e., what we actually see in the data) to the expected frequencies (i.e., what we would expect to see if the two variables were independent). If there are big differences between the table of expected and observed frequencies, the chi-square value will be _large_. The chi-square value for each cell is calculated as $(o - e)^2 / e$, where $o$ is the observed frequency in a cell and $e$ is the expected frequency in that cell if the null hypothesis holds. These chi-square values can be shown by adding `output=\"chisq\"` as an argrument to the `.summary()` method of a `cross_tab` object. The overall chi-square value is obtained by summing the chi-square values across all cells, i.e., it is the sum of the values shown in the _Contribution to chi-squared_ table.\n",
                "\n",
                "In order to determine if the overall chi-square statistics can be considered _large_ we first determine the degrees of freedom (df). In particular: $df = (\\# rows - 1) \\times (\\# columns - 1)$. In a 2x2 table, we have $(2-1) \\times (2-1) = 1$ df. The output from `ct.summary()` shows the value of the chi-square statistic, the associated df, and the p.value associated with the test.\n",
                "\n",
                "Remember to check the expected values: All expected frequencies are larger than 5 therefore the p.value for the chi-square statistic is unlikely to be biased. As usual we reject the null-hypothesis when the p.value is smaller 0.05. Since our p.value is very small (< .001) we can reject the null-hypothesis (i.e., the data suggest there is an association between newspaper readership and income).\n",
                "\n",
                "We can use the provided p.value associated with the Chi-squared value of 187.783 to evaluate the null hypothesis. However, we can also calculate the critical Chi-squared value using the probability calculator in the Radiant R package. As we can see from the output below, that value is 3.841 if we choose a 95% confidence level. Because the calculated Chi-square value is larger than the critical value (187.783 > 3.841) we reject null hypothesis that `Income` and `Newspaper` are independent."
            ]
        },
        {
            "cell_type": "code",
            "execution_count": null,
            "id": "previous-wednesday",
            "metadata": {},
            "outputs": [],
            "source": [
                "%reload_ext rpy2.ipython"
            ]
        },
        {
            "cell_type": "code",
            "execution_count": null,
            "id": "german-inventory",
            "metadata": {},
            "outputs": [],
            "source": [
                "%%R\n",
                "Sys.getenv(\"R_HOME\")"
            ]
        },
        {
            "cell_type": "code",
            "execution_count": null,
            "id": "22719002",
            "metadata": {},
            "outputs": [],
            "source": [
                "%%R \n",
                "result <- radiant.basics::prob_chisq(df = 1, pub = 0.95)\n",
                "summary(result, type = \"probs\")"
            ]
        },
        {
            "cell_type": "code",
            "execution_count": null,
            "id": "handy-taiwan",
            "metadata": {},
            "outputs": [],
            "source": [
                "%%R\n",
                "plot(result, type = \"probs\")"
            ]
        },
        {
            "cell_type": "markdown",
            "id": "correct-bible",
            "metadata": {},
            "source": [
                "We can also use the probability calculator to determine the p.value associated with the calculated Chi-square value. Consistent with the output from the `.summary()` method shown above this `p.value` is `< .001`."
            ]
        },
        {
            "cell_type": "code",
            "execution_count": null,
            "id": "centered-printing",
            "metadata": {},
            "outputs": [],
            "source": [
                "%%R\n",
                "result <- radiant.basics::prob_chisq(df = 1, ub = 187.83)\n",
                "summary(result)"
            ]
        },
        {
            "cell_type": "code",
            "execution_count": null,
            "id": "individual-absolute",
            "metadata": {},
            "outputs": [],
            "source": [
                "%%R\n",
                "plot(result)"
            ]
        },
        {
            "cell_type": "markdown",
            "id": "vanilla-endorsement",
            "metadata": {},
            "source": [
                "In addition to the numerical output provided by the `.summary()` method we can evaluate the hypothesis visually using the `.plot()` method of the `cross_tab` object. In addition to the distribution of observed and expected frequencies, we will also plot the standardized deviations (i.e., standardized differences between the observed and expected table). This measure is calculated as $(o-e)/sqrt(e)$, i.e., a score of how different the observed and expected frequencies in one cell in our table are. When a cell's standardized deviation is greater than 1.96 (in absolute value) the cell has a significant deviation from the model of independence (or no association)."
            ]
        },
        {
            "cell_type": "code",
            "execution_count": null,
            "id": "environmental-electricity",
            "metadata": {},
            "outputs": [],
            "source": [
                "ct.plot(output=[\"observed\", \"expected\", \"dev_std\"])"
            ]
        },
        {
            "cell_type": "markdown",
            "id": "coupled-surveillance",
            "metadata": {},
            "source": [
                "In the last plot above we see that all cells contribute to the association between income and readership as all standardized deviations are larger than 1.96 in absolute value (i.e., the bars extend beyond the outer dotted line in the plot).\n",
                "\n",
                "In other words, there seem to be fewer low income respondents that read WSJ and more high income respondents that read WSJ than would be expected if the null hypothesis of no-association were true. Furthermore, there are more low income respondents that read USA today and fewer high income respondents that read USA Today than would be expected if the null hypothesis of no-association were true.\n",
                "\n",
                "### Technical note\n",
                "\n",
                "When one or more expected values are small (e.g., 5 or less) the p.value for the Chi-squared test is biased and it may be necessary to _collapse_ rows and/or columns and recalculate the test statistics."
            ]
        }
    ],
    "metadata": {
        "interpreter": {
            "hash": "bbba8b880f8e16fea63b45a2473043b3a2eb4895c09d1c8a67b72e7583b44428"
        },
        "kernelspec": {
            "display_name": "Python 3.10.4 ('pyrsm-dev')",
            "language": "python",
            "name": "python3"
        },
        "language_info": {
            "codemirror_mode": {
                "name": "ipython",
                "version": 3
            },
            "file_extension": ".py",
            "mimetype": "text/x-python",
            "name": "python",
            "nbconvert_exporter": "python",
            "pygments_lexer": "ipython3",
            "version": "3.10.4"
        }
    },
    "nbformat": 4,
    "nbformat_minor": 5
}
