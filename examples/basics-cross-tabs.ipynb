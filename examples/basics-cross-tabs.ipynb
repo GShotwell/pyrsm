{
    "cells": [
        {
            "cell_type": "markdown",
            "id": "indoor-basket",
            "metadata": {},
            "source": [
                "# Basics > Cross-tabs"
            ]
        },
        {
            "cell_type": "markdown",
            "id": "removed-insert",
            "metadata": {},
            "source": [
                "> Cross-tab analysis is used to evaluate if categorical variables are associated. This tool is also known as chi-square or contingency table analysis\n",
                "\n",
                "### Example\n",
                "\n",
                "The data are from a sample of 580 newspaper readers that indicated (1) which newspaper they read most frequently (USA today or Wall Street Journal) and (2) their level of income (Low income vs. High income). The data has three variables: A respondent identifier (id), respondent income (High or Low), and the primary newspaper the respondent reads (USA today or Wall Street Journal).\n",
                "\n",
                "We will examine if there is a relationship between income level and choice of newspaper. In particular, we test the following null and alternative hypotheses:\n",
                "\n",
                "* H0: There is no relationship between income level and newspaper choice\n",
                "* Ha: There is a relationship between income level and newspaper choice\n",
                "\n",
                "If the null-hypothesis is rejected we can investigate which cell(s) contribute to the hypothesized association. To run this test we will choose Income as the first categorical variable and Newspaper as the second. This test amounts to evaluating the size of the difference between the observed and expected frequencies. The expected frequencies are calculated using H0 (i.e., no association) as (Row total x Column Total) /  Overall Total."
            ]
        },
        {
            "cell_type": "code",
            "execution_count": 2,
            "id": "prostate-rescue",
            "metadata": {},
            "outputs": [],
            "source": [
                "import matplotlib as mpl\n",
                "import pandas as pd\n",
                "import pyrsm as rsm\n",
                "import matplotlib.pyplot as plt\n",
                "\n",
                "# increase plot resolution\n",
                "mpl.rcParams[\"figure.dpi\"] = 150"
            ]
        },
        {
            "cell_type": "code",
            "execution_count": 3,
            "id": "american-guyana",
            "metadata": {},
            "outputs": [],
            "source": [
                "rsm.load_data(pkg=\"basics\", name=\"newspaper\", dct=globals())"
            ]
        },
        {
            "cell_type": "code",
            "execution_count": 4,
            "id": "encouraging-event",
            "metadata": {},
            "outputs": [
                {
                    "data": {
                        "text/markdown": [
                            "## Newspaper readership\n",
                            "\n",
                            "### Description\n",
                            "\n",
                            "Data from a sample for 580 newspaper readers indicating which newspaper they read most frequently (USA today or Wall Street Journal) and their level of income (Low income vs. High income).\n",
                            "\n",
                            "### Variables\n",
                            "\n",
                            "A data frame with 580 observations on 3 variables\n",
                            "\n",
                            "- id = Respondent identifier\n",
                            "- Income = A factor indicating if a respondent has High or Low income. Factor was created using a median split on income data\n",
                            "- Newspaper = A factor indicating the primary newspaper the respondent reads (USA today or Wall Street Journal)"
                        ],
                        "text/plain": [
                            "<IPython.core.display.Markdown object>"
                        ]
                    },
                    "metadata": {},
                    "output_type": "display_data"
                }
            ],
            "source": [
                "rsm.describe(newspaper)"
            ]
        },
        {
            "cell_type": "code",
            "execution_count": 5,
            "id": "rough-lecture",
            "metadata": {},
            "outputs": [
                {
                    "data": {
                        "text/html": [
                            "<div>\n",
                            "<style scoped>\n",
                            "    .dataframe tbody tr th:only-of-type {\n",
                            "        vertical-align: middle;\n",
                            "    }\n",
                            "\n",
                            "    .dataframe tbody tr th {\n",
                            "        vertical-align: top;\n",
                            "    }\n",
                            "\n",
                            "    .dataframe thead th {\n",
                            "        text-align: right;\n",
                            "    }\n",
                            "</style>\n",
                            "<table border=\"1\" class=\"dataframe\">\n",
                            "  <thead>\n",
                            "    <tr style=\"text-align: right;\">\n",
                            "      <th></th>\n",
                            "      <th>id</th>\n",
                            "      <th>Income</th>\n",
                            "      <th>Newspaper</th>\n",
                            "    </tr>\n",
                            "  </thead>\n",
                            "  <tbody>\n",
                            "    <tr>\n",
                            "      <th>0</th>\n",
                            "      <td>1</td>\n",
                            "      <td>Low Income</td>\n",
                            "      <td>USA Today</td>\n",
                            "    </tr>\n",
                            "    <tr>\n",
                            "      <th>1</th>\n",
                            "      <td>2</td>\n",
                            "      <td>Low Income</td>\n",
                            "      <td>USA Today</td>\n",
                            "    </tr>\n",
                            "    <tr>\n",
                            "      <th>2</th>\n",
                            "      <td>3</td>\n",
                            "      <td>Low Income</td>\n",
                            "      <td>USA Today</td>\n",
                            "    </tr>\n",
                            "    <tr>\n",
                            "      <th>3</th>\n",
                            "      <td>4</td>\n",
                            "      <td>High Income</td>\n",
                            "      <td>USA Today</td>\n",
                            "    </tr>\n",
                            "    <tr>\n",
                            "      <th>4</th>\n",
                            "      <td>5</td>\n",
                            "      <td>Low Income</td>\n",
                            "      <td>USA Today</td>\n",
                            "    </tr>\n",
                            "    <tr>\n",
                            "      <th>...</th>\n",
                            "      <td>...</td>\n",
                            "      <td>...</td>\n",
                            "      <td>...</td>\n",
                            "    </tr>\n",
                            "    <tr>\n",
                            "      <th>575</th>\n",
                            "      <td>576</td>\n",
                            "      <td>Low Income</td>\n",
                            "      <td>USA Today</td>\n",
                            "    </tr>\n",
                            "    <tr>\n",
                            "      <th>576</th>\n",
                            "      <td>577</td>\n",
                            "      <td>High Income</td>\n",
                            "      <td>WS Journal</td>\n",
                            "    </tr>\n",
                            "    <tr>\n",
                            "      <th>577</th>\n",
                            "      <td>578</td>\n",
                            "      <td>High Income</td>\n",
                            "      <td>WS Journal</td>\n",
                            "    </tr>\n",
                            "    <tr>\n",
                            "      <th>578</th>\n",
                            "      <td>579</td>\n",
                            "      <td>Low Income</td>\n",
                            "      <td>USA Today</td>\n",
                            "    </tr>\n",
                            "    <tr>\n",
                            "      <th>579</th>\n",
                            "      <td>580</td>\n",
                            "      <td>High Income</td>\n",
                            "      <td>WS Journal</td>\n",
                            "    </tr>\n",
                            "  </tbody>\n",
                            "</table>\n",
                            "<p>580 rows × 3 columns</p>\n",
                            "</div>"
                        ],
                        "text/plain": [
                            "      id       Income   Newspaper\n",
                            "0      1   Low Income   USA Today\n",
                            "1      2   Low Income   USA Today\n",
                            "2      3   Low Income   USA Today\n",
                            "3      4  High Income   USA Today\n",
                            "4      5   Low Income   USA Today\n",
                            "..   ...          ...         ...\n",
                            "575  576   Low Income   USA Today\n",
                            "576  577  High Income  WS Journal\n",
                            "577  578  High Income  WS Journal\n",
                            "578  579   Low Income   USA Today\n",
                            "579  580  High Income  WS Journal\n",
                            "\n",
                            "[580 rows x 3 columns]"
                        ]
                    },
                    "execution_count": 5,
                    "metadata": {},
                    "output_type": "execute_result"
                }
            ],
            "source": [
                "newspaper"
            ]
        },
        {
            "cell_type": "markdown",
            "id": "changing-ottawa",
            "metadata": {},
            "source": [
                "To create a cross_tabs object use `rsm.cross_tabs`. The created object has attributes and methods that you can use to get the information you need. For example. the `.expected` attribute shows the expected values under the null-hypothesis as a Pandas dataframe."
            ]
        },
        {
            "cell_type": "code",
            "execution_count": 6,
            "id": "mexican-revelation",
            "metadata": {},
            "outputs": [],
            "source": [
                "ct = rsm.cross_tabs(newspaper, \"Income\", \"Newspaper\")"
            ]
        },
        {
            "cell_type": "markdown",
            "id": "acoustic-float",
            "metadata": {},
            "source": [
                "Documentation about how to create a cross_tabs object and how to acces its attrubutes is shown below."
            ]
        },
        {
            "cell_type": "code",
            "execution_count": 16,
            "id": "static-platform",
            "metadata": {},
            "outputs": [
                {
                    "name": "stdout",
                    "output_type": "stream",
                    "text": [
                        "Help on cross_tabs in module pyrsm.basics object:\n",
                        "\n",
                        "class cross_tabs(builtins.object)\n",
                        " |  cross_tabs(df, var1, var2)\n",
                        " |  \n",
                        " |  Methods defined here:\n",
                        " |  \n",
                        " |  __init__(self, df, var1, var2)\n",
                        " |      Calculate a Chi-square test between two categorical variables contained\n",
                        " |      in a Pandas dataframe\n",
                        " |      \n",
                        " |      Parameters\n",
                        " |      ----------\n",
                        " |      df : Pandas dataframe with numeric variables\n",
                        " |      \n",
                        " |      Returns\n",
                        " |      -------\n",
                        " |      Cross object with several attributes\n",
                        " |      df: Original dataframe\n",
                        " |      var1: Name of the first categorical variable\n",
                        " |      var2: Name of the second categorical variable\n",
                        " |      observed: Dataframe of observed frequencies\n",
                        " |      expected: Dataframe of expected frequencies\n",
                        " |      expected_low: List with number of cells with expected values < 5\n",
                        " |          and the total number of cells\n",
                        " |      chisq: Dataframe of chi-square values for each cell\n",
                        " |      dev_std: Dataframe of standardized deviations from the expected table\n",
                        " |      perc_row: Dataframe of observation percentages conditioned by row\n",
                        " |      perc_col: Dataframe of observation percentages conditioned by column\n",
                        " |      perc: Dataframe of observation percentages by the total number of observations\n",
                        " |      \n",
                        " |      Examples\n",
                        " |      --------\n",
                        " |      import pyrsm as rsm\n",
                        " |      rsm.load_data(pkg=\"basics\", name=\"newspaper\", dct=globals())\n",
                        " |      ct = rsm.cross_tabs(newspaper, \"Income\", \"Newspaper\")\n",
                        " |      ct.expected\n",
                        " |  \n",
                        " |  plot(self, output='perc_col', **kwargs)\n",
                        " |      Plot of correlations between numeric variables in a Pandas dataframe\n",
                        " |      \n",
                        " |      Parameters\n",
                        " |      ----------\n",
                        " |      output : list of tables to show\n",
                        " |          Options include \"observed\" (observed frequencies),\n",
                        " |          \"expected\" (expected frequencies), \"chisq\" (chi-square values)\n",
                        " |          for each cell, \"dev_std\" (standardized deviations from expected)\n",
                        " |          \"perc_row\" (percentages conditioned by row), \"perc_col\"\n",
                        " |          (percentages conditioned by column), \"perc\" (percentages by the\n",
                        " |          total number of observations). The default value is [\"observed\", \"expected\"]\n",
                        " |      **kwargs : Named arguments to be passed to pandas plotting functions\n",
                        " |      \n",
                        " |      Examples\n",
                        " |      --------\n",
                        " |      import pyrsm as rsm\n",
                        " |      rsm.load_data(pkg=\"basics\", name=\"newspaper\", dct=globals())\n",
                        " |      ct = rsm.cross_tabs(newspaper, \"Income\", \"Newspaper\")\n",
                        " |      ct.plot()\n",
                        " |  \n",
                        " |  summary(self, output=['observed', 'expected'], dec=2)\n",
                        " |      Print different output tables for a cross_tabs object\n",
                        " |      \n",
                        " |      Parameters\n",
                        " |      ----------\n",
                        " |      output : list of tables to show\n",
                        " |          Options include \"observed\" (observed frequencies),\n",
                        " |          \"expected\" (expected frequencies), \"chisq\" (chi-square values)\n",
                        " |          for each cell, \"dev_std\" (standardized deviations from expected)\n",
                        " |          \"perc_row\" (percentages conditioned by row), \"perc_col\"\n",
                        " |          (percentages conditioned by column), \"perc\" (percentages by the\n",
                        " |          total number of observations). The default value is [\"observed\", \"expected\"]\n",
                        " |      dec : int\n",
                        " |          Number of decimal places to use in rounding\n",
                        " |      \n",
                        " |      Examples\n",
                        " |      --------\n",
                        " |      import pyrsm as rsm\n",
                        " |      rsm.load_data(pkg=\"basics\", name=\"newspaper\", dct=globals())\n",
                        " |      ct = rsm.cross_tabs(newspaper)\n",
                        " |      ct.summary()\n",
                        " |  \n",
                        " |  ----------------------------------------------------------------------\n",
                        " |  Data descriptors defined here:\n",
                        " |  \n",
                        " |  __dict__\n",
                        " |      dictionary for instance variables (if defined)\n",
                        " |  \n",
                        " |  __weakref__\n",
                        " |      list of weak references to the object (if defined)\n",
                        "\n"
                    ]
                }
            ],
            "source": [
                "help(ct)"
            ]
        },
        {
            "cell_type": "code",
            "execution_count": 8,
            "id": "statistical-salon",
            "metadata": {},
            "outputs": [
                {
                    "data": {
                        "text/html": [
                            "<div>\n",
                            "<style scoped>\n",
                            "    .dataframe tbody tr th:only-of-type {\n",
                            "        vertical-align: middle;\n",
                            "    }\n",
                            "\n",
                            "    .dataframe tbody tr th {\n",
                            "        vertical-align: top;\n",
                            "    }\n",
                            "\n",
                            "    .dataframe thead th {\n",
                            "        text-align: right;\n",
                            "    }\n",
                            "</style>\n",
                            "<table border=\"1\" class=\"dataframe\">\n",
                            "  <thead>\n",
                            "    <tr style=\"text-align: right;\">\n",
                            "      <th>Newspaper</th>\n",
                            "      <th>WS Journal</th>\n",
                            "      <th>USA Today</th>\n",
                            "      <th>Total</th>\n",
                            "    </tr>\n",
                            "    <tr>\n",
                            "      <th>Income</th>\n",
                            "      <th></th>\n",
                            "      <th></th>\n",
                            "      <th></th>\n",
                            "    </tr>\n",
                            "  </thead>\n",
                            "  <tbody>\n",
                            "    <tr>\n",
                            "      <th>Low Income</th>\n",
                            "      <td>83</td>\n",
                            "      <td>276</td>\n",
                            "      <td>359</td>\n",
                            "    </tr>\n",
                            "    <tr>\n",
                            "      <th>High Income</th>\n",
                            "      <td>180</td>\n",
                            "      <td>41</td>\n",
                            "      <td>221</td>\n",
                            "    </tr>\n",
                            "    <tr>\n",
                            "      <th>Total</th>\n",
                            "      <td>263</td>\n",
                            "      <td>317</td>\n",
                            "      <td>580</td>\n",
                            "    </tr>\n",
                            "  </tbody>\n",
                            "</table>\n",
                            "</div>"
                        ],
                        "text/plain": [
                            "Newspaper    WS Journal  USA Today  Total\n",
                            "Income                                   \n",
                            "Low Income           83        276    359\n",
                            "High Income         180         41    221\n",
                            "Total               263        317    580"
                        ]
                    },
                    "execution_count": 8,
                    "metadata": {},
                    "output_type": "execute_result"
                }
            ],
            "source": [
                "ct.observed"
            ]
        },
        {
            "cell_type": "code",
            "execution_count": 9,
            "id": "loving-provincial",
            "metadata": {},
            "outputs": [
                {
                    "data": {
                        "text/html": [
                            "<div>\n",
                            "<style scoped>\n",
                            "    .dataframe tbody tr th:only-of-type {\n",
                            "        vertical-align: middle;\n",
                            "    }\n",
                            "\n",
                            "    .dataframe tbody tr th {\n",
                            "        vertical-align: top;\n",
                            "    }\n",
                            "\n",
                            "    .dataframe thead th {\n",
                            "        text-align: right;\n",
                            "    }\n",
                            "</style>\n",
                            "<table border=\"1\" class=\"dataframe\">\n",
                            "  <thead>\n",
                            "    <tr style=\"text-align: right;\">\n",
                            "      <th>Newspaper</th>\n",
                            "      <th>WS Journal</th>\n",
                            "      <th>USA Today</th>\n",
                            "      <th>Total</th>\n",
                            "    </tr>\n",
                            "    <tr>\n",
                            "      <th>Income</th>\n",
                            "      <th></th>\n",
                            "      <th></th>\n",
                            "      <th></th>\n",
                            "    </tr>\n",
                            "  </thead>\n",
                            "  <tbody>\n",
                            "    <tr>\n",
                            "      <th>Low Income</th>\n",
                            "      <td>162.79</td>\n",
                            "      <td>196.21</td>\n",
                            "      <td>359.0</td>\n",
                            "    </tr>\n",
                            "    <tr>\n",
                            "      <th>High Income</th>\n",
                            "      <td>100.21</td>\n",
                            "      <td>120.79</td>\n",
                            "      <td>221.0</td>\n",
                            "    </tr>\n",
                            "    <tr>\n",
                            "      <th>Total</th>\n",
                            "      <td>263.00</td>\n",
                            "      <td>317.00</td>\n",
                            "      <td>580.0</td>\n",
                            "    </tr>\n",
                            "  </tbody>\n",
                            "</table>\n",
                            "</div>"
                        ],
                        "text/plain": [
                            "Newspaper    WS Journal  USA Today  Total\n",
                            "Income                                   \n",
                            "Low Income       162.79     196.21  359.0\n",
                            "High Income      100.21     120.79  221.0\n",
                            "Total            263.00     317.00  580.0"
                        ]
                    },
                    "execution_count": 9,
                    "metadata": {},
                    "output_type": "execute_result"
                }
            ],
            "source": [
                "ct.expected.round(2)"
            ]
        },
        {
            "cell_type": "markdown",
            "id": "behind-conspiracy",
            "metadata": {},
            "source": [
                "`cross_tab` objects have two methods: `.summary()` and `.plot()`. The documentation for each is shown below."
            ]
        },
        {
            "cell_type": "code",
            "execution_count": 10,
            "id": "conceptual-species",
            "metadata": {},
            "outputs": [
                {
                    "name": "stdout",
                    "output_type": "stream",
                    "text": [
                        "\u001b[0;31mSignature:\u001b[0m \u001b[0mct\u001b[0m\u001b[0;34m.\u001b[0m\u001b[0msummary\u001b[0m\u001b[0;34m(\u001b[0m\u001b[0moutput\u001b[0m\u001b[0;34m=\u001b[0m\u001b[0;34m[\u001b[0m\u001b[0;34m'observed'\u001b[0m\u001b[0;34m,\u001b[0m \u001b[0;34m'expected'\u001b[0m\u001b[0;34m]\u001b[0m\u001b[0;34m,\u001b[0m \u001b[0mdec\u001b[0m\u001b[0;34m=\u001b[0m\u001b[0;36m2\u001b[0m\u001b[0;34m)\u001b[0m\u001b[0;34m\u001b[0m\u001b[0;34m\u001b[0m\u001b[0m\n",
                        "\u001b[0;31mDocstring:\u001b[0m\n",
                        "Print different output tables for a cross_tabs object\n",
                        "\n",
                        "Parameters\n",
                        "----------\n",
                        "output : list of tables to show\n",
                        "    Options include \"observed\" (observed frequencies),\n",
                        "    \"expected\" (expected frequencies), \"chisq\" (chi-square values)\n",
                        "    for each cell, \"dev_std\" (standardized deviations from expected)\n",
                        "    \"perc_row\" (percentages conditioned by row), \"perc_col\"\n",
                        "    (percentages conditioned by column), \"perc\" (percentages by the\n",
                        "    total number of observations). The default value is [\"observed\", \"expected\"]\n",
                        "dec : int\n",
                        "    Number of decimal places to use in rounding\n",
                        "\n",
                        "Examples\n",
                        "--------\n",
                        "import pyrsm as rsm\n",
                        "rsm.load_data(pkg=\"basics\", name=\"newspaper\", dct=globals())\n",
                        "ct = rsm.cross_tabs(newspaper)\n",
                        "ct.summary()\n",
                        "\u001b[0;31mFile:\u001b[0m      /opt/conda/lib/python3.10/site-packages/pyrsm/basics.py\n",
                        "\u001b[0;31mType:\u001b[0m      method\n"
                    ]
                }
            ],
            "source": [
                "help(ct.summary)"
            ]
        },
        {
            "cell_type": "code",
            "execution_count": 11,
            "id": "broad-short",
            "metadata": {},
            "outputs": [
                {
                    "name": "stdout",
                    "output_type": "stream",
                    "text": [
                        "Help on method plot in module pyrsm.basics:\n",
                        "\n",
                        "plot(output='perc_col', **kwargs) method of pyrsm.basics.cross_tabs instance\n",
                        "    Plot of correlations between numeric variables in a Pandas dataframe\n",
                        "    \n",
                        "    Parameters\n",
                        "    ----------\n",
                        "    output : list of tables to show\n",
                        "        Options include \"observed\" (observed frequencies),\n",
                        "        \"expected\" (expected frequencies), \"chisq\" (chi-square values)\n",
                        "        for each cell, \"dev_std\" (standardized deviations from expected)\n",
                        "        \"perc_row\" (percentages conditioned by row), \"perc_col\"\n",
                        "        (percentages conditioned by column), \"perc\" (percentages by the\n",
                        "        total number of observations). The default value is [\"observed\", \"expected\"]\n",
                        "    **kwargs : Named arguments to be passed to pandas plotting functions\n",
                        "    \n",
                        "    Examples\n",
                        "    --------\n",
                        "    import pyrsm as rsm\n",
                        "    rsm.load_data(pkg=\"basics\", name=\"newspaper\", dct=globals())\n",
                        "    ct = rsm.cross_tabs(newspaper, \"Income\", \"Newspaper\")\n",
                        "    ct.plot()\n",
                        "\n"
                    ]
                }
            ],
            "source": [
                "help(ct.plot)"
            ]
        },
        {
            "cell_type": "code",
            "execution_count": 12,
            "id": "subsequent-skating",
            "metadata": {},
            "outputs": [
                {
                    "name": "stdout",
                    "output_type": "stream",
                    "text": [
                        "\n",
                        "Cross-tabs\n",
                        "Variables: Income, Newspaper\n",
                        "Null hyp: there is no association between Income and Newspaper\n",
                        "Alt. hyp: there is an association between Income and Newspaper\n",
                        "\n",
                        "Observed:\n",
                        "\n",
                        "Newspaper   WS Journal USA Today Total\n",
                        "Income                                \n",
                        "Low Income          83       276   359\n",
                        "High Income        180        41   221\n",
                        "Total              263       317   580\n",
                        "\n",
                        "Expected: (row total x column total) / total\n",
                        "\n",
                        "Newspaper   WS Journal USA Today  Total\n",
                        "Income                                 \n",
                        "Low Income      162.79    196.21  359.0\n",
                        "High Income     100.21    120.79  221.0\n",
                        "Total            263.0     317.0  580.0\n",
                        "\n",
                        "Contribution to chi-squared: (o - e)^2 / e\n",
                        "\n",
                        "Newspaper   WS Journal USA Today   Total\n",
                        "Income                                  \n",
                        "Low Income       39.11     32.45   71.55\n",
                        "High Income      63.53      52.7  116.23\n",
                        "Total           102.63     85.15  187.78\n",
                        "\n",
                        "Chi-squared: 187.78 df(1), p.value < .001\n",
                        "0.0% of cells have expected values below 5\n",
                        "\n"
                    ]
                }
            ],
            "source": [
                "ct.summary(output=[\"observed\", \"expected\", \"chisq\"])"
            ]
        },
        {
            "cell_type": "markdown",
            "id": "compound-filter",
            "metadata": {},
            "source": [
                "The (Pearson) chi-squared test evaluates if we can reject the null-hypothesis that the two variables are independent. It does so by comparing the observed frequencies (i.e., what we actually see in the data) to the expected frequencies (i.e., what we would expect to see if the two variables were independent). If there are big differences between the table of expected and observed frequencies, the chi-square value will be _large_. The chi-square value for each cell is calculated as $(o - e)^2 / e$, where $o$ is the observed frequency in a cell and $e$ is the expected frequency in that cell if the null hypothesis holds. These chi-square values can be shown by adding `output=\"chisq\"` as an argrument to the `.summary()` method of a `cross_tab` object. The overall chi-square value is obtained by summing the chi-square values across all cells, i.e., it is the sum of the values shown in the _Contribution to chi-squared_ table.\n",
                "\n",
                "In order to determine if the overall chi-square statistics can be considered _large_ we first determine the degrees of freedom (df). In particular: $df = (\\# rows - 1) \\times (\\# columns - 1)$. In a 2x2 table, we have $(2-1) \\times (2-1) = 1$ df. The output from `ct.summary()` shows the value of the chi-square statistic, the associated df, and the p.value associated with the test.\n",
                "\n",
                "Remember to check the expected values: All expected frequencies are larger than 5 therefore the p.value for the chi-square statistic is unlikely to be biased. As usual we reject the null-hypothesis when the p.value is smaller 0.05. Since our p.value is very small (< .001) we can reject the null-hypothesis (i.e., the data suggest there is an association between newspaper readership and income).\n",
                "\n",
                "We can use the provided p.value associated with the Chi-squared value of 187.783 to evaluate the null hypothesis. However, we can also calculate the critical Chi-squared value using the probability calculator in the Radiant R package. As we can see from the output below, that value is 3.841 if we choose a 95% confidence level. Because the calculated Chi-square value is larger than the critical value (187.783 > 3.841) we reject null hypothesis that `Income` and `Newspaper` are independent."
            ]
        },
        {
            "cell_type": "code",
            "execution_count": 13,
            "id": "previous-wednesday",
            "metadata": {},
            "outputs": [
                {
                    "ename": "ModuleNotFoundError",
                    "evalue": "No module named 'rpy2'",
                    "output_type": "error",
                    "traceback": [
                        "\u001b[0;31m---------------------------------------------------------------------------\u001b[0m",
                        "\u001b[0;31mModuleNotFoundError\u001b[0m                       Traceback (most recent call last)",
                        "\u001b[1;32m/Users/vnijs/gh/pyrsm/examples/basics-cross-tabs.ipynb Cell 18'\u001b[0m in \u001b[0;36m<cell line: 1>\u001b[0;34m()\u001b[0m\n\u001b[0;32m----> <a href='vscode-notebook-cell:/Users/vnijs/gh/pyrsm/examples/basics-cross-tabs.ipynb#ch0000017?line=0'>1</a>\u001b[0m get_ipython()\u001b[39m.\u001b[39;49mrun_line_magic(\u001b[39m'\u001b[39;49m\u001b[39mreload_ext\u001b[39;49m\u001b[39m'\u001b[39;49m, \u001b[39m'\u001b[39;49m\u001b[39mrpy2.ipython\u001b[39;49m\u001b[39m'\u001b[39;49m)\n",
                        "File \u001b[0;32m/opt/conda/lib/python3.10/site-packages/IPython/core/interactiveshell.py:2294\u001b[0m, in \u001b[0;36mInteractiveShell.run_line_magic\u001b[0;34m(self, magic_name, line, _stack_depth)\u001b[0m\n\u001b[1;32m   <a href='file:///opt/conda/lib/python3.10/site-packages/IPython/core/interactiveshell.py?line=2291'>2292</a>\u001b[0m     kwargs[\u001b[39m'\u001b[39m\u001b[39mlocal_ns\u001b[39m\u001b[39m'\u001b[39m] \u001b[39m=\u001b[39m \u001b[39mself\u001b[39m\u001b[39m.\u001b[39mget_local_scope(stack_depth)\n\u001b[1;32m   <a href='file:///opt/conda/lib/python3.10/site-packages/IPython/core/interactiveshell.py?line=2292'>2293</a>\u001b[0m \u001b[39mwith\u001b[39;00m \u001b[39mself\u001b[39m\u001b[39m.\u001b[39mbuiltin_trap:\n\u001b[0;32m-> <a href='file:///opt/conda/lib/python3.10/site-packages/IPython/core/interactiveshell.py?line=2293'>2294</a>\u001b[0m     result \u001b[39m=\u001b[39m fn(\u001b[39m*\u001b[39;49margs, \u001b[39m*\u001b[39;49m\u001b[39m*\u001b[39;49mkwargs)\n\u001b[1;32m   <a href='file:///opt/conda/lib/python3.10/site-packages/IPython/core/interactiveshell.py?line=2294'>2295</a>\u001b[0m \u001b[39mreturn\u001b[39;00m result\n",
                        "File \u001b[0;32m/opt/conda/lib/python3.10/site-packages/IPython/core/magics/extension.py:63\u001b[0m, in \u001b[0;36mExtensionMagics.reload_ext\u001b[0;34m(self, module_str)\u001b[0m\n\u001b[1;32m     <a href='file:///opt/conda/lib/python3.10/site-packages/IPython/core/magics/extension.py?line=60'>61</a>\u001b[0m \u001b[39mif\u001b[39;00m \u001b[39mnot\u001b[39;00m module_str:\n\u001b[1;32m     <a href='file:///opt/conda/lib/python3.10/site-packages/IPython/core/magics/extension.py?line=61'>62</a>\u001b[0m     \u001b[39mraise\u001b[39;00m UsageError(\u001b[39m'\u001b[39m\u001b[39mMissing module name.\u001b[39m\u001b[39m'\u001b[39m)\n\u001b[0;32m---> <a href='file:///opt/conda/lib/python3.10/site-packages/IPython/core/magics/extension.py?line=62'>63</a>\u001b[0m \u001b[39mself\u001b[39;49m\u001b[39m.\u001b[39;49mshell\u001b[39m.\u001b[39;49mextension_manager\u001b[39m.\u001b[39;49mreload_extension(module_str)\n",
                        "File \u001b[0;32m/opt/conda/lib/python3.10/site-packages/IPython/core/extensions.py:147\u001b[0m, in \u001b[0;36mExtensionManager.reload_extension\u001b[0;34m(self, module_str)\u001b[0m\n\u001b[1;32m    <a href='file:///opt/conda/lib/python3.10/site-packages/IPython/core/extensions.py?line=144'>145</a>\u001b[0m         \u001b[39mself\u001b[39m\u001b[39m.\u001b[39mloaded\u001b[39m.\u001b[39madd(module_str)\n\u001b[1;32m    <a href='file:///opt/conda/lib/python3.10/site-packages/IPython/core/extensions.py?line=145'>146</a>\u001b[0m \u001b[39melse\u001b[39;00m:\n\u001b[0;32m--> <a href='file:///opt/conda/lib/python3.10/site-packages/IPython/core/extensions.py?line=146'>147</a>\u001b[0m     \u001b[39mself\u001b[39;49m\u001b[39m.\u001b[39;49mload_extension(module_str)\n",
                        "File \u001b[0;32m/opt/conda/lib/python3.10/site-packages/IPython/core/extensions.py:76\u001b[0m, in \u001b[0;36mExtensionManager.load_extension\u001b[0;34m(self, module_str)\u001b[0m\n\u001b[1;32m     <a href='file:///opt/conda/lib/python3.10/site-packages/IPython/core/extensions.py?line=68'>69</a>\u001b[0m \u001b[39m\"\"\"Load an IPython extension by its module name.\u001b[39;00m\n\u001b[1;32m     <a href='file:///opt/conda/lib/python3.10/site-packages/IPython/core/extensions.py?line=69'>70</a>\u001b[0m \n\u001b[1;32m     <a href='file:///opt/conda/lib/python3.10/site-packages/IPython/core/extensions.py?line=70'>71</a>\u001b[0m \u001b[39mReturns the string \"already loaded\" if the extension is already loaded,\u001b[39;00m\n\u001b[1;32m     <a href='file:///opt/conda/lib/python3.10/site-packages/IPython/core/extensions.py?line=71'>72</a>\u001b[0m \u001b[39m\"no load function\" if the module doesn't have a load_ipython_extension\u001b[39;00m\n\u001b[1;32m     <a href='file:///opt/conda/lib/python3.10/site-packages/IPython/core/extensions.py?line=72'>73</a>\u001b[0m \u001b[39mfunction, or None if it succeeded.\u001b[39;00m\n\u001b[1;32m     <a href='file:///opt/conda/lib/python3.10/site-packages/IPython/core/extensions.py?line=73'>74</a>\u001b[0m \u001b[39m\"\"\"\u001b[39;00m\n\u001b[1;32m     <a href='file:///opt/conda/lib/python3.10/site-packages/IPython/core/extensions.py?line=74'>75</a>\u001b[0m \u001b[39mtry\u001b[39;00m:\n\u001b[0;32m---> <a href='file:///opt/conda/lib/python3.10/site-packages/IPython/core/extensions.py?line=75'>76</a>\u001b[0m     \u001b[39mreturn\u001b[39;00m \u001b[39mself\u001b[39;49m\u001b[39m.\u001b[39;49m_load_extension(module_str)\n\u001b[1;32m     <a href='file:///opt/conda/lib/python3.10/site-packages/IPython/core/extensions.py?line=76'>77</a>\u001b[0m \u001b[39mexcept\u001b[39;00m \u001b[39mModuleNotFoundError\u001b[39;00m:\n\u001b[1;32m     <a href='file:///opt/conda/lib/python3.10/site-packages/IPython/core/extensions.py?line=77'>78</a>\u001b[0m     \u001b[39mif\u001b[39;00m module_str \u001b[39min\u001b[39;00m BUILTINS_EXTS:\n",
                        "File \u001b[0;32m/opt/conda/lib/python3.10/site-packages/IPython/core/extensions.py:92\u001b[0m, in \u001b[0;36mExtensionManager._load_extension\u001b[0;34m(self, module_str)\u001b[0m\n\u001b[1;32m     <a href='file:///opt/conda/lib/python3.10/site-packages/IPython/core/extensions.py?line=89'>90</a>\u001b[0m \u001b[39mif\u001b[39;00m module_str \u001b[39mnot\u001b[39;00m \u001b[39min\u001b[39;00m sys\u001b[39m.\u001b[39mmodules:\n\u001b[1;32m     <a href='file:///opt/conda/lib/python3.10/site-packages/IPython/core/extensions.py?line=90'>91</a>\u001b[0m     \u001b[39mwith\u001b[39;00m prepended_to_syspath(\u001b[39mself\u001b[39m\u001b[39m.\u001b[39mipython_extension_dir):\n\u001b[0;32m---> <a href='file:///opt/conda/lib/python3.10/site-packages/IPython/core/extensions.py?line=91'>92</a>\u001b[0m         mod \u001b[39m=\u001b[39m import_module(module_str)\n\u001b[1;32m     <a href='file:///opt/conda/lib/python3.10/site-packages/IPython/core/extensions.py?line=92'>93</a>\u001b[0m         \u001b[39mif\u001b[39;00m mod\u001b[39m.\u001b[39m\u001b[39m__file__\u001b[39m\u001b[39m.\u001b[39mstartswith(\u001b[39mself\u001b[39m\u001b[39m.\u001b[39mipython_extension_dir):\n\u001b[1;32m     <a href='file:///opt/conda/lib/python3.10/site-packages/IPython/core/extensions.py?line=93'>94</a>\u001b[0m             \u001b[39mprint\u001b[39m((\u001b[39m\"\u001b[39m\u001b[39mLoading extensions from \u001b[39m\u001b[39m{dir}\u001b[39;00m\u001b[39m is deprecated. \u001b[39m\u001b[39m\"\u001b[39m\n\u001b[1;32m     <a href='file:///opt/conda/lib/python3.10/site-packages/IPython/core/extensions.py?line=94'>95</a>\u001b[0m                    \u001b[39m\"\u001b[39m\u001b[39mWe recommend managing extensions like any \u001b[39m\u001b[39m\"\u001b[39m\n\u001b[1;32m     <a href='file:///opt/conda/lib/python3.10/site-packages/IPython/core/extensions.py?line=95'>96</a>\u001b[0m                    \u001b[39m\"\u001b[39m\u001b[39mother Python packages, in site-packages.\u001b[39m\u001b[39m\"\u001b[39m)\u001b[39m.\u001b[39mformat(\n\u001b[1;32m     <a href='file:///opt/conda/lib/python3.10/site-packages/IPython/core/extensions.py?line=96'>97</a>\u001b[0m                   \u001b[39mdir\u001b[39m\u001b[39m=\u001b[39mcompress_user(\u001b[39mself\u001b[39m\u001b[39m.\u001b[39mipython_extension_dir)))\n",
                        "File \u001b[0;32m/opt/conda/lib/python3.10/importlib/__init__.py:126\u001b[0m, in \u001b[0;36mimport_module\u001b[0;34m(name, package)\u001b[0m\n\u001b[1;32m    <a href='file:///opt/conda/lib/python3.10/importlib/__init__.py?line=123'>124</a>\u001b[0m             \u001b[39mbreak\u001b[39;00m\n\u001b[1;32m    <a href='file:///opt/conda/lib/python3.10/importlib/__init__.py?line=124'>125</a>\u001b[0m         level \u001b[39m+\u001b[39m\u001b[39m=\u001b[39m \u001b[39m1\u001b[39m\n\u001b[0;32m--> <a href='file:///opt/conda/lib/python3.10/importlib/__init__.py?line=125'>126</a>\u001b[0m \u001b[39mreturn\u001b[39;00m _bootstrap\u001b[39m.\u001b[39;49m_gcd_import(name[level:], package, level)\n",
                        "File \u001b[0;32m<frozen importlib._bootstrap>:1050\u001b[0m, in \u001b[0;36m_gcd_import\u001b[0;34m(name, package, level)\u001b[0m\n",
                        "File \u001b[0;32m<frozen importlib._bootstrap>:1027\u001b[0m, in \u001b[0;36m_find_and_load\u001b[0;34m(name, import_)\u001b[0m\n",
                        "File \u001b[0;32m<frozen importlib._bootstrap>:992\u001b[0m, in \u001b[0;36m_find_and_load_unlocked\u001b[0;34m(name, import_)\u001b[0m\n",
                        "File \u001b[0;32m<frozen importlib._bootstrap>:241\u001b[0m, in \u001b[0;36m_call_with_frames_removed\u001b[0;34m(f, *args, **kwds)\u001b[0m\n",
                        "File \u001b[0;32m<frozen importlib._bootstrap>:1050\u001b[0m, in \u001b[0;36m_gcd_import\u001b[0;34m(name, package, level)\u001b[0m\n",
                        "File \u001b[0;32m<frozen importlib._bootstrap>:1027\u001b[0m, in \u001b[0;36m_find_and_load\u001b[0;34m(name, import_)\u001b[0m\n",
                        "File \u001b[0;32m<frozen importlib._bootstrap>:1004\u001b[0m, in \u001b[0;36m_find_and_load_unlocked\u001b[0;34m(name, import_)\u001b[0m\n",
                        "\u001b[0;31mModuleNotFoundError\u001b[0m: No module named 'rpy2'"
                    ]
                }
            ],
            "source": [
                "%reload_ext rpy2.ipython"
            ]
        },
        {
            "cell_type": "code",
            "execution_count": null,
            "id": "german-inventory",
            "metadata": {},
            "outputs": [],
            "source": [
                "%%R \n",
                "result <- radiant.basics::prob_chisq(df = 1, pub = 0.95)\n",
                "summary(result, type = \"probs\")"
            ]
        },
        {
            "cell_type": "code",
            "execution_count": null,
            "id": "handy-taiwan",
            "metadata": {},
            "outputs": [],
            "source": [
                "%%R\n",
                "plot(result, type = \"probs\")"
            ]
        },
        {
            "cell_type": "markdown",
            "id": "correct-bible",
            "metadata": {},
            "source": [
                "We can also use the probability calculator to determine the p.value associated with the calculated Chi-square value. Consistent with the output from the `.summary()` method shown above this `p.value` is `< .001`."
            ]
        },
        {
            "cell_type": "code",
            "execution_count": null,
            "id": "centered-printing",
            "metadata": {},
            "outputs": [],
            "source": [
                "%%R\n",
                "result <- radiant.basics::prob_chisq(df = 1, ub = 187.83)\n",
                "summary(result)"
            ]
        },
        {
            "cell_type": "code",
            "execution_count": null,
            "id": "individual-absolute",
            "metadata": {},
            "outputs": [],
            "source": [
                "%%R\n",
                "plot(result)"
            ]
        },
        {
            "cell_type": "markdown",
            "id": "vanilla-endorsement",
            "metadata": {},
            "source": [
                "In addition to the numerical output provided by the `.summary()` method we can evaluate the hypothesis visually using the `.plot()` method of the `cross_tab` object. In addition to the distribution of observed and expected frequencies, we will also plot the standardized deviations (i.e., standardized differences between the observed and expected table). This measure is calculated as $(o-e)/sqrt(e)$, i.e., a score of how different the observed and expected frequencies in one cell in our table are. When a cell's standardized deviation is greater than 1.96 (in absolute value) the cell has a significant deviation from the model of independence (or no association)."
            ]
        },
        {
            "cell_type": "code",
            "execution_count": null,
            "id": "environmental-electricity",
            "metadata": {},
            "outputs": [],
            "source": [
                "ct.plot(output=[\"observed\", \"expected\", \"dev_std\"])"
            ]
        },
        {
            "cell_type": "markdown",
            "id": "coupled-surveillance",
            "metadata": {},
            "source": [
                "In the last plot above we see that all cells contribute to the association between income and readership as all standardized deviations are larger than 1.96 in absolute value (i.e., the bars extend beyond the outer dotted line in the plot).\n",
                "\n",
                "In other words, there seem to be fewer low income respondents that read WSJ and more high income respondents that read WSJ than would be expected if the null hypothesis of no-association were true. Furthermore, there are more low income respondents that read USA today and fewer high income respondents that read USA Today than would be expected if the null hypothesis of no-association were true.\n",
                "\n",
                "### Technical note\n",
                "\n",
                "When one or more expected values are small (e.g., 5 or less) the p.value for the Chi-squared test is biased and it may be necessary to _collapse_ rows and/or columns and recalculate the test statistics."
            ]
        }
    ],
    "metadata": {
        "kernelspec": {
            "display_name": "Python 3 (ipykernel)",
            "language": "python",
            "name": "python3"
        },
        "language_info": {
            "codemirror_mode": {
                "name": "ipython",
                "version": 3
            },
            "file_extension": ".py",
            "mimetype": "text/x-python",
            "name": "python",
            "nbconvert_exporter": "python",
            "pygments_lexer": "ipython3",
            "version": "3.10.4"
        }
    },
    "nbformat": 4,
    "nbformat_minor": 5
}
