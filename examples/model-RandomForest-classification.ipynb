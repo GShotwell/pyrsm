{
 "cells": [
  {
   "cell_type": "markdown",
   "id": "b433c1d8-d242-4bcd-a09e-45626cd95566",
   "metadata": {},
   "source": [
    "#### Preferred read for more information on Random Forest\n",
    "\n",
    "https://www.analyticsvidhya.com/blog/2021/06/understanding-random-forest/"
   ]
  },
  {
   "cell_type": "markdown",
   "id": "ea16a5f4-eec0-4b60-9dc4-4c6568b98984",
   "metadata": {},
   "source": [
    "> Random Forest is a supervised \"bagging\" machine learning algorithm that can be used for both classification and regression tasks. It is an ensemble method that combines multiple decision trees and uses the results of all the trees to make a final prediction. In Random Forest, each decision tree is constructed using a random subset of the training data and a random subset of the features, which helps to reduce overfitting and improve the generalization performance of the model.\n",
    "\n",
    "## Advantages\n",
    "\n",
    "- Random Forest is a highly accurate and robust algorithm that can handle both small and large datasets with high-dimensional feature spaces and can handle missing values and outliers in the data without the need for data preprocessing or imputation.\n",
    "\n",
    "- Random Forest can capture non-linear relationships between the features and the target variable, and can identify important features that contribute to the prediction.\n",
    "\n",
    "- It is a fast algorithm that can scale well to large datasets and can be easily parallelized to run on multiple CPUs or GPUs.\n",
    "\n",
    "- Random Forest is less sensitive to overfitting than individual decision trees, as the aggregation of multiple trees helps to reduce variance and increase stability.\n",
    "\n",
    "## Disadvantages\n",
    "\n",
    "\n",
    "- Random Forest can be computationally expensive and memory-intensive, especially when dealing with large datasets and many trees.\n",
    "\n",
    "- The results of Random Forest may be difficult to interpret or explain, as it is not always clear which features or interactions are most important for the prediction.\n",
    "\n",
    "- Random Forest can be prone to overfitting if the number of trees is too high or if the trees are too deep.\n",
    "\n",
    "- The performance of Random Forest may degrade if there are many irrelevant or redundant features in the data, as these can introduce noise and reduce the predictive power of the model.\n",
    "\n",
    "- Random Forest may not perform well on datasets with imbalanced classes, as it tends to favor the majority class and may produce biased predictions.\n"
   ]
  },
  {
   "cell_type": "code",
   "execution_count": 48,
   "id": "744a3b68-1a8e-43b6-86fd-6448a5e9695a",
   "metadata": {},
   "outputs": [],
   "source": [
    "import pandas as pd\n",
    "import numpy as np\n",
    "\n",
    "import seaborn as sns\n",
    "import matplotlib.pyplot as plt\n",
    "from mlxtend.plotting import plot_confusion_matrix\n",
    "\n",
    "\n",
    "from sklearn.model_selection import train_test_split\n",
    "from sklearn.model_selection import GridSearchCV\n",
    "from sklearn.model_selection import StratifiedKFold\n",
    "from sklearn.inspection import permutation_importance\n",
    "from sklearn.metrics import confusion_matrix\n",
    "from sklearn import metrics, tree\n",
    "\n",
    "\n",
    "## RandomForestClassifier\n",
    "\n",
    "from sklearn.ensemble import RandomForestClassifier\n",
    "\n",
    "\n",
    "import pyrsm as rsm"
   ]
  },
  {
   "cell_type": "code",
   "execution_count": null,
   "id": "371607d0",
   "metadata": {},
   "outputs": [],
   "source": [
    "## setup pyrsm for autoreload when you edit code and save\n",
    "## nothing else needed!\n",
    "%reload_ext autoreload\n",
    "%autoreload 2\n",
    "%aimport pyrsm"
   ]
  },
  {
   "cell_type": "code",
   "execution_count": 49,
   "id": "36ba61fc-2aab-4783-ad3d-613280d517eb",
   "metadata": {},
   "outputs": [],
   "source": [
    "data = pd.read_pickle('https://raw.githubusercontent.com/vnijs/pyrsm/main/pyrsm/data/model/fraud_data.pkl')"
   ]
  },
  {
   "cell_type": "code",
   "execution_count": 50,
   "id": "e14e25da-84f6-45cf-996f-a824fdc2b5bd",
   "metadata": {},
   "outputs": [
    {
     "data": {
      "text/html": [
       "<div>\n",
       "<style scoped>\n",
       "    .dataframe tbody tr th:only-of-type {\n",
       "        vertical-align: middle;\n",
       "    }\n",
       "\n",
       "    .dataframe tbody tr th {\n",
       "        vertical-align: top;\n",
       "    }\n",
       "\n",
       "    .dataframe thead th {\n",
       "        text-align: right;\n",
       "    }\n",
       "</style>\n",
       "<table border=\"1\" class=\"dataframe\">\n",
       "  <thead>\n",
       "    <tr style=\"text-align: right;\">\n",
       "      <th></th>\n",
       "      <th>cc_num</th>\n",
       "      <th>amt</th>\n",
       "      <th>zip</th>\n",
       "      <th>lat</th>\n",
       "      <th>long</th>\n",
       "      <th>city_pop</th>\n",
       "      <th>unix_time</th>\n",
       "      <th>merch_lat</th>\n",
       "      <th>merch_long</th>\n",
       "      <th>is_fraud</th>\n",
       "    </tr>\n",
       "  </thead>\n",
       "  <tbody>\n",
       "    <tr>\n",
       "      <th>count</th>\n",
       "      <td>2.222880e+05</td>\n",
       "      <td>222288.000000</td>\n",
       "      <td>222288.000000</td>\n",
       "      <td>222288.000000</td>\n",
       "      <td>222288.000000</td>\n",
       "      <td>2.222880e+05</td>\n",
       "      <td>2.222880e+05</td>\n",
       "      <td>222288.000000</td>\n",
       "      <td>222288.000000</td>\n",
       "      <td>222288.000000</td>\n",
       "    </tr>\n",
       "    <tr>\n",
       "      <th>mean</th>\n",
       "      <td>4.207592e+17</td>\n",
       "      <td>69.401502</td>\n",
       "      <td>48805.671278</td>\n",
       "      <td>38.537418</td>\n",
       "      <td>-90.231433</td>\n",
       "      <td>8.803416e+04</td>\n",
       "      <td>1.380672e+09</td>\n",
       "      <td>38.537002</td>\n",
       "      <td>-90.232102</td>\n",
       "      <td>0.003842</td>\n",
       "    </tr>\n",
       "    <tr>\n",
       "      <th>std</th>\n",
       "      <td>1.313834e+18</td>\n",
       "      <td>149.463684</td>\n",
       "      <td>26892.840297</td>\n",
       "      <td>5.058758</td>\n",
       "      <td>13.748966</td>\n",
       "      <td>3.006358e+05</td>\n",
       "      <td>5.196285e+06</td>\n",
       "      <td>5.092326</td>\n",
       "      <td>13.758243</td>\n",
       "      <td>0.061864</td>\n",
       "    </tr>\n",
       "    <tr>\n",
       "      <th>min</th>\n",
       "      <td>6.041621e+10</td>\n",
       "      <td>1.000000</td>\n",
       "      <td>1257.000000</td>\n",
       "      <td>20.027100</td>\n",
       "      <td>-165.672300</td>\n",
       "      <td>2.300000e+01</td>\n",
       "      <td>1.371817e+09</td>\n",
       "      <td>19.027849</td>\n",
       "      <td>-166.669910</td>\n",
       "      <td>0.000000</td>\n",
       "    </tr>\n",
       "    <tr>\n",
       "      <th>25%</th>\n",
       "      <td>1.800462e+14</td>\n",
       "      <td>9.620000</td>\n",
       "      <td>26237.000000</td>\n",
       "      <td>34.668900</td>\n",
       "      <td>-96.809400</td>\n",
       "      <td>7.410000e+02</td>\n",
       "      <td>1.376039e+09</td>\n",
       "      <td>34.748957</td>\n",
       "      <td>-96.922423</td>\n",
       "      <td>0.000000</td>\n",
       "    </tr>\n",
       "    <tr>\n",
       "      <th>50%</th>\n",
       "      <td>3.521417e+15</td>\n",
       "      <td>47.230000</td>\n",
       "      <td>48154.000000</td>\n",
       "      <td>39.371600</td>\n",
       "      <td>-87.461600</td>\n",
       "      <td>2.408000e+03</td>\n",
       "      <td>1.380740e+09</td>\n",
       "      <td>39.366193</td>\n",
       "      <td>-87.410562</td>\n",
       "      <td>0.000000</td>\n",
       "    </tr>\n",
       "    <tr>\n",
       "      <th>75%</th>\n",
       "      <td>4.642255e+15</td>\n",
       "      <td>83.010000</td>\n",
       "      <td>72042.000000</td>\n",
       "      <td>41.846700</td>\n",
       "      <td>-80.158000</td>\n",
       "      <td>1.968500e+04</td>\n",
       "      <td>1.385858e+09</td>\n",
       "      <td>41.938688</td>\n",
       "      <td>-80.231169</td>\n",
       "      <td>0.000000</td>\n",
       "    </tr>\n",
       "    <tr>\n",
       "      <th>max</th>\n",
       "      <td>4.992346e+18</td>\n",
       "      <td>13149.150000</td>\n",
       "      <td>99921.000000</td>\n",
       "      <td>65.689900</td>\n",
       "      <td>-67.950300</td>\n",
       "      <td>2.906700e+06</td>\n",
       "      <td>1.388534e+09</td>\n",
       "      <td>66.668167</td>\n",
       "      <td>-66.955602</td>\n",
       "      <td>1.000000</td>\n",
       "    </tr>\n",
       "  </tbody>\n",
       "</table>\n",
       "</div>"
      ],
      "text/plain": [
       "             cc_num            amt            zip            lat  \\\n",
       "count  2.222880e+05  222288.000000  222288.000000  222288.000000   \n",
       "mean   4.207592e+17      69.401502   48805.671278      38.537418   \n",
       "std    1.313834e+18     149.463684   26892.840297       5.058758   \n",
       "min    6.041621e+10       1.000000    1257.000000      20.027100   \n",
       "25%    1.800462e+14       9.620000   26237.000000      34.668900   \n",
       "50%    3.521417e+15      47.230000   48154.000000      39.371600   \n",
       "75%    4.642255e+15      83.010000   72042.000000      41.846700   \n",
       "max    4.992346e+18   13149.150000   99921.000000      65.689900   \n",
       "\n",
       "                long      city_pop     unix_time      merch_lat  \\\n",
       "count  222288.000000  2.222880e+05  2.222880e+05  222288.000000   \n",
       "mean      -90.231433  8.803416e+04  1.380672e+09      38.537002   \n",
       "std        13.748966  3.006358e+05  5.196285e+06       5.092326   \n",
       "min      -165.672300  2.300000e+01  1.371817e+09      19.027849   \n",
       "25%       -96.809400  7.410000e+02  1.376039e+09      34.748957   \n",
       "50%       -87.461600  2.408000e+03  1.380740e+09      39.366193   \n",
       "75%       -80.158000  1.968500e+04  1.385858e+09      41.938688   \n",
       "max       -67.950300  2.906700e+06  1.388534e+09      66.668167   \n",
       "\n",
       "          merch_long       is_fraud  \n",
       "count  222288.000000  222288.000000  \n",
       "mean      -90.232102       0.003842  \n",
       "std        13.758243       0.061864  \n",
       "min      -166.669910       0.000000  \n",
       "25%       -96.922423       0.000000  \n",
       "50%       -87.410562       0.000000  \n",
       "75%       -80.231169       0.000000  \n",
       "max       -66.955602       1.000000  "
      ]
     },
     "execution_count": 50,
     "metadata": {},
     "output_type": "execute_result"
    }
   ],
   "source": [
    "data.describe()"
   ]
  },
  {
   "cell_type": "code",
   "execution_count": 51,
   "id": "129617f4-a55a-4cc6-890a-5153a25fa3a0",
   "metadata": {},
   "outputs": [
    {
     "data": {
      "text/html": [
       "<div>\n",
       "<style scoped>\n",
       "    .dataframe tbody tr th:only-of-type {\n",
       "        vertical-align: middle;\n",
       "    }\n",
       "\n",
       "    .dataframe tbody tr th {\n",
       "        vertical-align: top;\n",
       "    }\n",
       "\n",
       "    .dataframe thead th {\n",
       "        text-align: right;\n",
       "    }\n",
       "</style>\n",
       "<table border=\"1\" class=\"dataframe\">\n",
       "  <thead>\n",
       "    <tr style=\"text-align: right;\">\n",
       "      <th></th>\n",
       "      <th>trans_date_trans_time</th>\n",
       "      <th>cc_num</th>\n",
       "      <th>merchant</th>\n",
       "      <th>category</th>\n",
       "      <th>amt</th>\n",
       "      <th>first</th>\n",
       "      <th>last</th>\n",
       "      <th>gender</th>\n",
       "      <th>street</th>\n",
       "      <th>city</th>\n",
       "      <th>...</th>\n",
       "      <th>lat</th>\n",
       "      <th>long</th>\n",
       "      <th>city_pop</th>\n",
       "      <th>job</th>\n",
       "      <th>dob</th>\n",
       "      <th>trans_num</th>\n",
       "      <th>unix_time</th>\n",
       "      <th>merch_lat</th>\n",
       "      <th>merch_long</th>\n",
       "      <th>is_fraud</th>\n",
       "    </tr>\n",
       "  </thead>\n",
       "  <tbody>\n",
       "    <tr>\n",
       "      <th>191922</th>\n",
       "      <td>2020-08-27 16:50:04</td>\n",
       "      <td>4169759661243568</td>\n",
       "      <td>fraud_Terry, Johns and Bins</td>\n",
       "      <td>misc_pos</td>\n",
       "      <td>96.71</td>\n",
       "      <td>Jamie</td>\n",
       "      <td>Carr</td>\n",
       "      <td>F</td>\n",
       "      <td>55363 Aaron Circle Suite 450</td>\n",
       "      <td>Lawn</td>\n",
       "      <td>...</td>\n",
       "      <td>40.2236</td>\n",
       "      <td>-76.5380</td>\n",
       "      <td>213</td>\n",
       "      <td>Special educational needs teacher</td>\n",
       "      <td>1972-02-15</td>\n",
       "      <td>f3fc65de5749ead3631c0f9b7a95355a</td>\n",
       "      <td>1377622204</td>\n",
       "      <td>39.866326</td>\n",
       "      <td>-76.664828</td>\n",
       "      <td>0</td>\n",
       "    </tr>\n",
       "    <tr>\n",
       "      <th>350244</th>\n",
       "      <td>2020-11-03 08:27:37</td>\n",
       "      <td>4769426683924058915</td>\n",
       "      <td>fraud_Zieme, Bode and Dooley</td>\n",
       "      <td>gas_transport</td>\n",
       "      <td>85.30</td>\n",
       "      <td>Andrea</td>\n",
       "      <td>Cruz</td>\n",
       "      <td>F</td>\n",
       "      <td>26572 Hodge Villages Suite 512</td>\n",
       "      <td>Mifflin</td>\n",
       "      <td>...</td>\n",
       "      <td>40.5553</td>\n",
       "      <td>-77.4001</td>\n",
       "      <td>1909</td>\n",
       "      <td>Mining engineer</td>\n",
       "      <td>1954-08-22</td>\n",
       "      <td>8a41e2423d25ea0dcd96cbbbfe149186</td>\n",
       "      <td>1383467257</td>\n",
       "      <td>39.930887</td>\n",
       "      <td>-77.448371</td>\n",
       "      <td>0</td>\n",
       "    </tr>\n",
       "    <tr>\n",
       "      <th>230792</th>\n",
       "      <td>2020-09-12 14:08:26</td>\n",
       "      <td>6011693194885790</td>\n",
       "      <td>fraud_Boehm, Predovic and Reinger</td>\n",
       "      <td>misc_pos</td>\n",
       "      <td>3.74</td>\n",
       "      <td>Victoria</td>\n",
       "      <td>Fleming</td>\n",
       "      <td>F</td>\n",
       "      <td>2807 Parker Station Suite 080</td>\n",
       "      <td>Stanchfield</td>\n",
       "      <td>...</td>\n",
       "      <td>45.6675</td>\n",
       "      <td>-93.2433</td>\n",
       "      <td>2607</td>\n",
       "      <td>Lecturer, further education</td>\n",
       "      <td>1995-12-04</td>\n",
       "      <td>5e00cb43812b425be8c7bcc8b149cd45</td>\n",
       "      <td>1378994906</td>\n",
       "      <td>46.477073</td>\n",
       "      <td>-92.446747</td>\n",
       "      <td>0</td>\n",
       "    </tr>\n",
       "    <tr>\n",
       "      <th>405817</th>\n",
       "      <td>2020-11-28 11:14:55</td>\n",
       "      <td>180046765320457</td>\n",
       "      <td>fraud_Johns-Hoeger</td>\n",
       "      <td>entertainment</td>\n",
       "      <td>83.16</td>\n",
       "      <td>Jared</td>\n",
       "      <td>Camacho</td>\n",
       "      <td>M</td>\n",
       "      <td>4257 Perez Mall</td>\n",
       "      <td>Canton</td>\n",
       "      <td>...</td>\n",
       "      <td>40.8027</td>\n",
       "      <td>-81.3739</td>\n",
       "      <td>192805</td>\n",
       "      <td>Building control surveyor</td>\n",
       "      <td>1963-06-30</td>\n",
       "      <td>e40e987ef47ab544db1c4eced0ee832a</td>\n",
       "      <td>1385637295</td>\n",
       "      <td>41.800316</td>\n",
       "      <td>-80.517950</td>\n",
       "      <td>0</td>\n",
       "    </tr>\n",
       "    <tr>\n",
       "      <th>280759</th>\n",
       "      <td>2020-10-04 11:36:45</td>\n",
       "      <td>3513618443244549</td>\n",
       "      <td>fraud_Miller-Hauck</td>\n",
       "      <td>grocery_pos</td>\n",
       "      <td>128.99</td>\n",
       "      <td>Amber</td>\n",
       "      <td>Perez</td>\n",
       "      <td>F</td>\n",
       "      <td>954 Reyes Ways</td>\n",
       "      <td>Fulton</td>\n",
       "      <td>...</td>\n",
       "      <td>43.7588</td>\n",
       "      <td>-97.8712</td>\n",
       "      <td>355</td>\n",
       "      <td>Financial adviser</td>\n",
       "      <td>1955-06-26</td>\n",
       "      <td>0dc92a2c21a0a2a1ba20dd56bba70330</td>\n",
       "      <td>1380886605</td>\n",
       "      <td>43.639493</td>\n",
       "      <td>-97.897122</td>\n",
       "      <td>0</td>\n",
       "    </tr>\n",
       "  </tbody>\n",
       "</table>\n",
       "<p>5 rows × 22 columns</p>\n",
       "</div>"
      ],
      "text/plain": [
       "       trans_date_trans_time               cc_num  \\\n",
       "191922   2020-08-27 16:50:04     4169759661243568   \n",
       "350244   2020-11-03 08:27:37  4769426683924058915   \n",
       "230792   2020-09-12 14:08:26     6011693194885790   \n",
       "405817   2020-11-28 11:14:55      180046765320457   \n",
       "280759   2020-10-04 11:36:45     3513618443244549   \n",
       "\n",
       "                                 merchant       category     amt     first  \\\n",
       "191922        fraud_Terry, Johns and Bins       misc_pos   96.71     Jamie   \n",
       "350244       fraud_Zieme, Bode and Dooley  gas_transport   85.30    Andrea   \n",
       "230792  fraud_Boehm, Predovic and Reinger       misc_pos    3.74  Victoria   \n",
       "405817                 fraud_Johns-Hoeger  entertainment   83.16     Jared   \n",
       "280759                 fraud_Miller-Hauck    grocery_pos  128.99     Amber   \n",
       "\n",
       "           last gender                          street         city  ...  \\\n",
       "191922     Carr      F    55363 Aaron Circle Suite 450         Lawn  ...   \n",
       "350244     Cruz      F  26572 Hodge Villages Suite 512      Mifflin  ...   \n",
       "230792  Fleming      F   2807 Parker Station Suite 080  Stanchfield  ...   \n",
       "405817  Camacho      M                 4257 Perez Mall       Canton  ...   \n",
       "280759    Perez      F                  954 Reyes Ways       Fulton  ...   \n",
       "\n",
       "            lat     long  city_pop                                job  \\\n",
       "191922  40.2236 -76.5380       213  Special educational needs teacher   \n",
       "350244  40.5553 -77.4001      1909                    Mining engineer   \n",
       "230792  45.6675 -93.2433      2607        Lecturer, further education   \n",
       "405817  40.8027 -81.3739    192805          Building control surveyor   \n",
       "280759  43.7588 -97.8712       355                  Financial adviser   \n",
       "\n",
       "               dob                         trans_num   unix_time  merch_lat  \\\n",
       "191922  1972-02-15  f3fc65de5749ead3631c0f9b7a95355a  1377622204  39.866326   \n",
       "350244  1954-08-22  8a41e2423d25ea0dcd96cbbbfe149186  1383467257  39.930887   \n",
       "230792  1995-12-04  5e00cb43812b425be8c7bcc8b149cd45  1378994906  46.477073   \n",
       "405817  1963-06-30  e40e987ef47ab544db1c4eced0ee832a  1385637295  41.800316   \n",
       "280759  1955-06-26  0dc92a2c21a0a2a1ba20dd56bba70330  1380886605  43.639493   \n",
       "\n",
       "        merch_long  is_fraud  \n",
       "191922  -76.664828         0  \n",
       "350244  -77.448371         0  \n",
       "230792  -92.446747         0  \n",
       "405817  -80.517950         0  \n",
       "280759  -97.897122         0  \n",
       "\n",
       "[5 rows x 22 columns]"
      ]
     },
     "execution_count": 51,
     "metadata": {},
     "output_type": "execute_result"
    }
   ],
   "source": [
    "data.head()"
   ]
  },
  {
   "cell_type": "code",
   "execution_count": 52,
   "id": "76086164-deb4-417d-8a89-765b46241014",
   "metadata": {},
   "outputs": [
    {
     "data": {
      "text/plain": [
       "trans_date_trans_time    0\n",
       "cc_num                   0\n",
       "merchant                 0\n",
       "category                 0\n",
       "amt                      0\n",
       "first                    0\n",
       "last                     0\n",
       "gender                   0\n",
       "street                   0\n",
       "city                     0\n",
       "state                    0\n",
       "zip                      0\n",
       "lat                      0\n",
       "long                     0\n",
       "city_pop                 0\n",
       "job                      0\n",
       "dob                      0\n",
       "trans_num                0\n",
       "unix_time                0\n",
       "merch_lat                0\n",
       "merch_long               0\n",
       "is_fraud                 0\n",
       "dtype: int64"
      ]
     },
     "execution_count": 52,
     "metadata": {},
     "output_type": "execute_result"
    }
   ],
   "source": [
    "data.isnull().sum()"
   ]
  },
  {
   "cell_type": "code",
   "execution_count": 53,
   "id": "bbe7bf1b-d928-415c-8e3e-6d6f4516d5fd",
   "metadata": {},
   "outputs": [
    {
     "data": {
      "text/markdown": [
       "## Fraud Detection Data\n",
       "\n",
       "#### _Source: Kaggle_\n",
       "\n",
       "### About the Dataset\n",
       "This is a simulated credit card transaction dataset containing legitimate and fraud transactions from the duration 1st Jan 2019 - 31st Dec 2020. It covers credit cards of 1000 customers doing transactions with a pool of 800 merchants.\n",
       "\n",
       "Following are the columns in the dataset:\n",
       "\n",
       "- trans_date_trans_time : Date and time of Transaction occuring\n",
       "- cc_num : Credit card number\n",
       "- merchant : Organization where the transaction occured\n",
       "- category : Type of merchant/organization. Eg home, food dining etc\n",
       "- amt: Amount of transaction\n",
       "- first : First name of the person who did transaction\n",
       "- last : Last name of the person who did transaction\n",
       "- gender\n",
       "- street\n",
       "- city\n",
       "- state\n",
       "- zip\n",
       "- lat : Geographical Latitude coordinates of the customer where transaction occured\n",
       "- long : Geographical Longitude coordinates of the customer where transaction occured\n",
       "- city_pop : City Population\n",
       "- job : Current Job of the person who did transaction\n",
       "- dob : Date of birth\n",
       "- trans_num : Transaction number\n",
       "- merch_lat : Geographical Latitude coordinates of the merhcant where transaction occured\n",
       "- merch_long : Geographical Latitude coordinates of the merhcant where transaction occured\n",
       "- is_fraud : Variable that tells whether a transaction is fraud or not\n"
      ],
      "text/plain": [
       "<IPython.core.display.Markdown object>"
      ]
     },
     "metadata": {},
     "output_type": "display_data"
    }
   ],
   "source": [
    "rsm.describe(data)"
   ]
  },
  {
   "cell_type": "code",
   "execution_count": 54,
   "id": "30490c1e-2883-43ab-9bc3-1fab18446cba",
   "metadata": {},
   "outputs": [
    {
     "data": {
      "text/plain": [
       "Index(['trans_date_trans_time', 'cc_num', 'merchant', 'category', 'amt',\n",
       "       'first', 'last', 'gender', 'street', 'city', 'state', 'zip', 'lat',\n",
       "       'long', 'city_pop', 'job', 'dob', 'trans_num', 'unix_time', 'merch_lat',\n",
       "       'merch_long', 'is_fraud'],\n",
       "      dtype='object')"
      ]
     },
     "execution_count": 54,
     "metadata": {},
     "output_type": "execute_result"
    }
   ],
   "source": [
    "data.columns"
   ]
  },
  {
   "cell_type": "code",
   "execution_count": 55,
   "id": "2508ce23-ec7d-4720-834e-41a78d697b64",
   "metadata": {},
   "outputs": [],
   "source": [
    "dict = {'lat': 'Latitude',\n",
    "        'long': 'Longitude'}\n",
    " \n",
    "# call rename () method\n",
    "data.rename(columns=dict,\n",
    "          inplace=True)"
   ]
  },
  {
   "cell_type": "code",
   "execution_count": 56,
   "id": "99ad9bd9-0069-4dd3-b1a8-79b40d920970",
   "metadata": {},
   "outputs": [
    {
     "data": {
      "text/plain": [
       "Index(['trans_date_trans_time', 'cc_num', 'merchant', 'category', 'amt',\n",
       "       'first', 'last', 'gender', 'street', 'city', 'state', 'zip', 'Latitude',\n",
       "       'Longitude', 'city_pop', 'job', 'dob', 'trans_num', 'unix_time',\n",
       "       'merch_lat', 'merch_long', 'is_fraud'],\n",
       "      dtype='object')"
      ]
     },
     "execution_count": 56,
     "metadata": {},
     "output_type": "execute_result"
    }
   ],
   "source": [
    "data.columns"
   ]
  },
  {
   "cell_type": "code",
   "execution_count": 57,
   "id": "e108fde7-d160-4c49-875f-af4d2fb8fbf2",
   "metadata": {},
   "outputs": [],
   "source": [
    "## Encoding Male as 1 and Female as 0\n",
    "\n",
    "data[\"GenderMale\"] = rsm.ifelse(data.gender == \"M\",1,0)"
   ]
  },
  {
   "cell_type": "code",
   "execution_count": 58,
   "id": "b943b2b4-569b-47ce-9c1d-055a1646c730",
   "metadata": {},
   "outputs": [
    {
     "data": {
      "text/plain": [
       "0    221434\n",
       "1       854\n",
       "Name: is_fraud, dtype: int64"
      ]
     },
     "execution_count": 58,
     "metadata": {},
     "output_type": "execute_result"
    }
   ],
   "source": [
    "data['is_fraud'].value_counts()"
   ]
  },
  {
   "cell_type": "code",
   "execution_count": 59,
   "id": "f2fedebb-2869-48af-acd2-38b787752e97",
   "metadata": {},
   "outputs": [
    {
     "data": {
      "text/plain": [
       "trans_date_trans_time     object\n",
       "cc_num                     int64\n",
       "merchant                  object\n",
       "category                  object\n",
       "amt                      float64\n",
       "first                     object\n",
       "last                      object\n",
       "gender                    object\n",
       "street                    object\n",
       "city                      object\n",
       "state                     object\n",
       "zip                        int64\n",
       "Latitude                 float64\n",
       "Longitude                float64\n",
       "city_pop                   int64\n",
       "job                       object\n",
       "dob                       object\n",
       "trans_num                 object\n",
       "unix_time                  int64\n",
       "merch_lat                float64\n",
       "merch_long               float64\n",
       "is_fraud                   int64\n",
       "GenderMale                 int64\n",
       "dtype: object"
      ]
     },
     "execution_count": 59,
     "metadata": {},
     "output_type": "execute_result"
    }
   ],
   "source": [
    "data.dtypes"
   ]
  },
  {
   "cell_type": "code",
   "execution_count": 60,
   "id": "9317284d-fa44-4dce-925a-cb7b6179af0a",
   "metadata": {},
   "outputs": [
    {
     "name": "stderr",
     "output_type": "stream",
     "text": [
      "/tmp/ipykernel_25034/4184077422.py:1: DeprecationWarning: `np.object` is a deprecated alias for the builtin `object`. To silence this warning, use `object` by itself. Doing this will not modify any behavior and is safe. \n",
      "Deprecated in NumPy 1.20; for more details and guidance: https://numpy.org/devdocs/release/1.20.0-notes.html#deprecations\n",
      "  data_numeric = data.loc[:,data.dtypes!= np.object]\n"
     ]
    }
   ],
   "source": [
    "data_numeric = data.loc[:,data.dtypes!= np.object]"
   ]
  },
  {
   "cell_type": "code",
   "execution_count": 61,
   "id": "bd019b3a-3186-4af4-a632-1a596a34ed43",
   "metadata": {},
   "outputs": [
    {
     "data": {
      "text/html": [
       "<div>\n",
       "<style scoped>\n",
       "    .dataframe tbody tr th:only-of-type {\n",
       "        vertical-align: middle;\n",
       "    }\n",
       "\n",
       "    .dataframe tbody tr th {\n",
       "        vertical-align: top;\n",
       "    }\n",
       "\n",
       "    .dataframe thead th {\n",
       "        text-align: right;\n",
       "    }\n",
       "</style>\n",
       "<table border=\"1\" class=\"dataframe\">\n",
       "  <thead>\n",
       "    <tr style=\"text-align: right;\">\n",
       "      <th></th>\n",
       "      <th>cc_num</th>\n",
       "      <th>amt</th>\n",
       "      <th>zip</th>\n",
       "      <th>Latitude</th>\n",
       "      <th>Longitude</th>\n",
       "      <th>city_pop</th>\n",
       "      <th>unix_time</th>\n",
       "      <th>merch_lat</th>\n",
       "      <th>merch_long</th>\n",
       "      <th>is_fraud</th>\n",
       "      <th>GenderMale</th>\n",
       "    </tr>\n",
       "  </thead>\n",
       "  <tbody>\n",
       "    <tr>\n",
       "      <th>191922</th>\n",
       "      <td>4169759661243568</td>\n",
       "      <td>96.71</td>\n",
       "      <td>17041</td>\n",
       "      <td>40.2236</td>\n",
       "      <td>-76.5380</td>\n",
       "      <td>213</td>\n",
       "      <td>1377622204</td>\n",
       "      <td>39.866326</td>\n",
       "      <td>-76.664828</td>\n",
       "      <td>0</td>\n",
       "      <td>0</td>\n",
       "    </tr>\n",
       "    <tr>\n",
       "      <th>350244</th>\n",
       "      <td>4769426683924058915</td>\n",
       "      <td>85.30</td>\n",
       "      <td>17058</td>\n",
       "      <td>40.5553</td>\n",
       "      <td>-77.4001</td>\n",
       "      <td>1909</td>\n",
       "      <td>1383467257</td>\n",
       "      <td>39.930887</td>\n",
       "      <td>-77.448371</td>\n",
       "      <td>0</td>\n",
       "      <td>0</td>\n",
       "    </tr>\n",
       "    <tr>\n",
       "      <th>230792</th>\n",
       "      <td>6011693194885790</td>\n",
       "      <td>3.74</td>\n",
       "      <td>55080</td>\n",
       "      <td>45.6675</td>\n",
       "      <td>-93.2433</td>\n",
       "      <td>2607</td>\n",
       "      <td>1378994906</td>\n",
       "      <td>46.477073</td>\n",
       "      <td>-92.446747</td>\n",
       "      <td>0</td>\n",
       "      <td>0</td>\n",
       "    </tr>\n",
       "    <tr>\n",
       "      <th>405817</th>\n",
       "      <td>180046765320457</td>\n",
       "      <td>83.16</td>\n",
       "      <td>44702</td>\n",
       "      <td>40.8027</td>\n",
       "      <td>-81.3739</td>\n",
       "      <td>192805</td>\n",
       "      <td>1385637295</td>\n",
       "      <td>41.800316</td>\n",
       "      <td>-80.517950</td>\n",
       "      <td>0</td>\n",
       "      <td>1</td>\n",
       "    </tr>\n",
       "    <tr>\n",
       "      <th>280759</th>\n",
       "      <td>3513618443244549</td>\n",
       "      <td>128.99</td>\n",
       "      <td>57340</td>\n",
       "      <td>43.7588</td>\n",
       "      <td>-97.8712</td>\n",
       "      <td>355</td>\n",
       "      <td>1380886605</td>\n",
       "      <td>43.639493</td>\n",
       "      <td>-97.897122</td>\n",
       "      <td>0</td>\n",
       "      <td>0</td>\n",
       "    </tr>\n",
       "  </tbody>\n",
       "</table>\n",
       "</div>"
      ],
      "text/plain": [
       "                     cc_num     amt    zip  Latitude  Longitude  city_pop  \\\n",
       "191922     4169759661243568   96.71  17041   40.2236   -76.5380       213   \n",
       "350244  4769426683924058915   85.30  17058   40.5553   -77.4001      1909   \n",
       "230792     6011693194885790    3.74  55080   45.6675   -93.2433      2607   \n",
       "405817      180046765320457   83.16  44702   40.8027   -81.3739    192805   \n",
       "280759     3513618443244549  128.99  57340   43.7588   -97.8712       355   \n",
       "\n",
       "         unix_time  merch_lat  merch_long  is_fraud  GenderMale  \n",
       "191922  1377622204  39.866326  -76.664828         0           0  \n",
       "350244  1383467257  39.930887  -77.448371         0           0  \n",
       "230792  1378994906  46.477073  -92.446747         0           0  \n",
       "405817  1385637295  41.800316  -80.517950         0           1  \n",
       "280759  1380886605  43.639493  -97.897122         0           0  "
      ]
     },
     "execution_count": 61,
     "metadata": {},
     "output_type": "execute_result"
    }
   ],
   "source": [
    "data_numeric.head()"
   ]
  },
  {
   "cell_type": "markdown",
   "id": "370b0f0a-4f8e-4dc4-a0ec-d2b3447ec2f3",
   "metadata": {},
   "source": [
    "#### Data Split and assigning Training values as 0 or 1"
   ]
  },
  {
   "cell_type": "code",
   "execution_count": 62,
   "id": "419d543c-aea1-44b2-8b66-17930b1652a7",
   "metadata": {},
   "outputs": [],
   "source": [
    "data_numeric = data_numeric.drop(['cc_num'], axis = 1)\n",
    "\n",
    "train_data, test_data = train_test_split(data_numeric, test_size=0.3, random_state=42)\n",
    "train_data[\"Training\"] = 1\n",
    "test_data[\"Training\"] = 0\n",
    "data = pd.concat([train_data, test_data], ignore_index=True)"
   ]
  },
  {
   "cell_type": "code",
   "execution_count": 63,
   "id": "5a838fb5-c028-48ed-85f6-d9f903771005",
   "metadata": {},
   "outputs": [
    {
     "data": {
      "text/html": [
       "<div>\n",
       "<style scoped>\n",
       "    .dataframe tbody tr th:only-of-type {\n",
       "        vertical-align: middle;\n",
       "    }\n",
       "\n",
       "    .dataframe tbody tr th {\n",
       "        vertical-align: top;\n",
       "    }\n",
       "\n",
       "    .dataframe thead th {\n",
       "        text-align: right;\n",
       "    }\n",
       "</style>\n",
       "<table border=\"1\" class=\"dataframe\">\n",
       "  <thead>\n",
       "    <tr style=\"text-align: right;\">\n",
       "      <th></th>\n",
       "      <th>amt</th>\n",
       "      <th>zip</th>\n",
       "      <th>Latitude</th>\n",
       "      <th>Longitude</th>\n",
       "      <th>city_pop</th>\n",
       "      <th>unix_time</th>\n",
       "      <th>merch_lat</th>\n",
       "      <th>merch_long</th>\n",
       "      <th>is_fraud</th>\n",
       "      <th>GenderMale</th>\n",
       "      <th>Training</th>\n",
       "    </tr>\n",
       "  </thead>\n",
       "  <tbody>\n",
       "    <tr>\n",
       "      <th>0</th>\n",
       "      <td>8.70</td>\n",
       "      <td>49440</td>\n",
       "      <td>43.2326</td>\n",
       "      <td>-86.2492</td>\n",
       "      <td>128715</td>\n",
       "      <td>1376249570</td>\n",
       "      <td>43.142312</td>\n",
       "      <td>-87.137187</td>\n",
       "      <td>0</td>\n",
       "      <td>1</td>\n",
       "      <td>1</td>\n",
       "    </tr>\n",
       "    <tr>\n",
       "      <th>1</th>\n",
       "      <td>3.86</td>\n",
       "      <td>15920</td>\n",
       "      <td>40.4603</td>\n",
       "      <td>-79.0097</td>\n",
       "      <td>922</td>\n",
       "      <td>1379523248</td>\n",
       "      <td>40.794572</td>\n",
       "      <td>-79.360570</td>\n",
       "      <td>0</td>\n",
       "      <td>0</td>\n",
       "      <td>1</td>\n",
       "    </tr>\n",
       "    <tr>\n",
       "      <th>2</th>\n",
       "      <td>55.18</td>\n",
       "      <td>56117</td>\n",
       "      <td>43.5336</td>\n",
       "      <td>-95.6515</td>\n",
       "      <td>399</td>\n",
       "      <td>1373150139</td>\n",
       "      <td>43.027659</td>\n",
       "      <td>-95.111562</td>\n",
       "      <td>0</td>\n",
       "      <td>0</td>\n",
       "      <td>1</td>\n",
       "    </tr>\n",
       "    <tr>\n",
       "      <th>3</th>\n",
       "      <td>63.97</td>\n",
       "      <td>29455</td>\n",
       "      <td>32.8357</td>\n",
       "      <td>-79.8217</td>\n",
       "      <td>20478</td>\n",
       "      <td>1371823404</td>\n",
       "      <td>33.204335</td>\n",
       "      <td>-78.992084</td>\n",
       "      <td>0</td>\n",
       "      <td>1</td>\n",
       "      <td>1</td>\n",
       "    </tr>\n",
       "    <tr>\n",
       "      <th>4</th>\n",
       "      <td>38.76</td>\n",
       "      <td>22015</td>\n",
       "      <td>38.7894</td>\n",
       "      <td>-77.2818</td>\n",
       "      <td>43102</td>\n",
       "      <td>1384530785</td>\n",
       "      <td>39.367203</td>\n",
       "      <td>-77.338293</td>\n",
       "      <td>0</td>\n",
       "      <td>1</td>\n",
       "      <td>1</td>\n",
       "    </tr>\n",
       "    <tr>\n",
       "      <th>...</th>\n",
       "      <td>...</td>\n",
       "      <td>...</td>\n",
       "      <td>...</td>\n",
       "      <td>...</td>\n",
       "      <td>...</td>\n",
       "      <td>...</td>\n",
       "      <td>...</td>\n",
       "      <td>...</td>\n",
       "      <td>...</td>\n",
       "      <td>...</td>\n",
       "      <td>...</td>\n",
       "    </tr>\n",
       "    <tr>\n",
       "      <th>222283</th>\n",
       "      <td>88.85</td>\n",
       "      <td>89512</td>\n",
       "      <td>39.5483</td>\n",
       "      <td>-119.7957</td>\n",
       "      <td>276896</td>\n",
       "      <td>1388187837</td>\n",
       "      <td>39.431524</td>\n",
       "      <td>-118.885055</td>\n",
       "      <td>0</td>\n",
       "      <td>1</td>\n",
       "      <td>0</td>\n",
       "    </tr>\n",
       "    <tr>\n",
       "      <th>222284</th>\n",
       "      <td>58.04</td>\n",
       "      <td>5486</td>\n",
       "      <td>44.6400</td>\n",
       "      <td>-73.3113</td>\n",
       "      <td>1654</td>\n",
       "      <td>1377799974</td>\n",
       "      <td>44.514894</td>\n",
       "      <td>-74.151891</td>\n",
       "      <td>0</td>\n",
       "      <td>1</td>\n",
       "      <td>0</td>\n",
       "    </tr>\n",
       "    <tr>\n",
       "      <th>222285</th>\n",
       "      <td>46.81</td>\n",
       "      <td>4555</td>\n",
       "      <td>44.0943</td>\n",
       "      <td>-69.4828</td>\n",
       "      <td>1643</td>\n",
       "      <td>1387424993</td>\n",
       "      <td>43.870709</td>\n",
       "      <td>-68.564362</td>\n",
       "      <td>0</td>\n",
       "      <td>0</td>\n",
       "      <td>0</td>\n",
       "    </tr>\n",
       "    <tr>\n",
       "      <th>222286</th>\n",
       "      <td>39.96</td>\n",
       "      <td>59714</td>\n",
       "      <td>45.7801</td>\n",
       "      <td>-111.1439</td>\n",
       "      <td>18182</td>\n",
       "      <td>1377651198</td>\n",
       "      <td>44.857909</td>\n",
       "      <td>-111.244932</td>\n",
       "      <td>0</td>\n",
       "      <td>1</td>\n",
       "      <td>0</td>\n",
       "    </tr>\n",
       "    <tr>\n",
       "      <th>222287</th>\n",
       "      <td>79.60</td>\n",
       "      <td>75092</td>\n",
       "      <td>33.6372</td>\n",
       "      <td>-96.6184</td>\n",
       "      <td>46563</td>\n",
       "      <td>1386410914</td>\n",
       "      <td>33.450687</td>\n",
       "      <td>-97.382745</td>\n",
       "      <td>0</td>\n",
       "      <td>0</td>\n",
       "      <td>0</td>\n",
       "    </tr>\n",
       "  </tbody>\n",
       "</table>\n",
       "<p>222288 rows × 11 columns</p>\n",
       "</div>"
      ],
      "text/plain": [
       "          amt    zip  Latitude  Longitude  city_pop   unix_time  merch_lat  \\\n",
       "0        8.70  49440   43.2326   -86.2492    128715  1376249570  43.142312   \n",
       "1        3.86  15920   40.4603   -79.0097       922  1379523248  40.794572   \n",
       "2       55.18  56117   43.5336   -95.6515       399  1373150139  43.027659   \n",
       "3       63.97  29455   32.8357   -79.8217     20478  1371823404  33.204335   \n",
       "4       38.76  22015   38.7894   -77.2818     43102  1384530785  39.367203   \n",
       "...       ...    ...       ...        ...       ...         ...        ...   \n",
       "222283  88.85  89512   39.5483  -119.7957    276896  1388187837  39.431524   \n",
       "222284  58.04   5486   44.6400   -73.3113      1654  1377799974  44.514894   \n",
       "222285  46.81   4555   44.0943   -69.4828      1643  1387424993  43.870709   \n",
       "222286  39.96  59714   45.7801  -111.1439     18182  1377651198  44.857909   \n",
       "222287  79.60  75092   33.6372   -96.6184     46563  1386410914  33.450687   \n",
       "\n",
       "        merch_long  is_fraud  GenderMale  Training  \n",
       "0       -87.137187         0           1         1  \n",
       "1       -79.360570         0           0         1  \n",
       "2       -95.111562         0           0         1  \n",
       "3       -78.992084         0           1         1  \n",
       "4       -77.338293         0           1         1  \n",
       "...            ...       ...         ...       ...  \n",
       "222283 -118.885055         0           1         0  \n",
       "222284  -74.151891         0           1         0  \n",
       "222285  -68.564362         0           0         0  \n",
       "222286 -111.244932         0           1         0  \n",
       "222287  -97.382745         0           0         0  \n",
       "\n",
       "[222288 rows x 11 columns]"
      ]
     },
     "execution_count": 63,
     "metadata": {},
     "output_type": "execute_result"
    }
   ],
   "source": [
    "data"
   ]
  },
  {
   "cell_type": "markdown",
   "id": "c24049be-7144-4723-9472-8b28d04a16cb",
   "metadata": {},
   "source": [
    "### Creating feature list to run models"
   ]
  },
  {
   "cell_type": "code",
   "execution_count": 64,
   "id": "70e9bd4f-be1a-4256-bf91-acab2e6a6933",
   "metadata": {},
   "outputs": [],
   "source": [
    "col_list = [col for col in data.columns if col!= 'Training' and col!= 'is_fraud']"
   ]
  },
  {
   "cell_type": "code",
   "execution_count": 65,
   "id": "0fed9665-0237-4ef6-ac34-3158c76eb8bb",
   "metadata": {},
   "outputs": [
    {
     "data": {
      "text/plain": [
       "['amt',\n",
       " 'zip',\n",
       " 'Latitude',\n",
       " 'Longitude',\n",
       " 'city_pop',\n",
       " 'unix_time',\n",
       " 'merch_lat',\n",
       " 'merch_long',\n",
       " 'GenderMale']"
      ]
     },
     "execution_count": 65,
     "metadata": {},
     "output_type": "execute_result"
    }
   ],
   "source": [
    "col_list"
   ]
  },
  {
   "cell_type": "markdown",
   "id": "d705d8aa-5c5a-44b4-addf-075b24ea51dd",
   "metadata": {},
   "source": [
    "#### Random Forest w/o Hyperparameter tuning\n"
   ]
  },
  {
   "cell_type": "code",
   "execution_count": 66,
   "id": "e0bc8747-eb8b-403a-a610-90b48bc0f8b3",
   "metadata": {},
   "outputs": [],
   "source": [
    "rf = RandomForestClassifier(n_estimators=200,random_state=42)\n",
    "\n",
    "rf.fit(data[data.Training==1][col_list],data[data.Training == 1]['is_fraud'])\n",
    "\n",
    "rf_pred = rf.predict(data[data.Training == 0][col_list])\n"
   ]
  },
  {
   "cell_type": "code",
   "execution_count": 67,
   "id": "a2f656d4-e023-403d-bb4b-01622f60df60",
   "metadata": {},
   "outputs": [
    {
     "data": {
      "image/png": "[encoded data removed]",
      "text/plain": [
       "<Figure size 500x500 with 1 Axes>"
      ]
     },
     "metadata": {},
     "output_type": "display_data"
    }
   ],
   "source": [
    "fig, ax = plot_confusion_matrix(conf_mat=confusion_matrix(data[data.Training == 0]['is_fraud'],rf_pred), \n",
    "                                 figsize=(5, 5), cmap=plt.cm.Blues)\n",
    "\n",
    "ax.set_xlabel('Predicted label', fontsize=14)\n",
    "ax.set_ylabel('True label', fontsize=14)\n",
    "plt.title('Confusion Matrix', fontsize=14)\n",
    "plt.show()"
   ]
  },
  {
   "cell_type": "code",
   "execution_count": 68,
   "id": "2f5374f6-b6c9-44ea-b772-d336a702baa5",
   "metadata": {
    "tags": []
   },
   "outputs": [
    {
     "data": {
      "text/plain": [
       "{'bootstrap': True,\n",
       " 'ccp_alpha': 0.0,\n",
       " 'class_weight': None,\n",
       " 'criterion': 'gini',\n",
       " 'max_depth': None,\n",
       " 'max_features': 'sqrt',\n",
       " 'max_leaf_nodes': None,\n",
       " 'max_samples': None,\n",
       " 'min_impurity_decrease': 0.0,\n",
       " 'min_samples_leaf': 1,\n",
       " 'min_samples_split': 2,\n",
       " 'min_weight_fraction_leaf': 0.0,\n",
       " 'n_estimators': 200,\n",
       " 'n_jobs': None,\n",
       " 'oob_score': False,\n",
       " 'random_state': 42,\n",
       " 'verbose': 0,\n",
       " 'warm_start': False}"
      ]
     },
     "execution_count": 68,
     "metadata": {},
     "output_type": "execute_result"
    }
   ],
   "source": [
    "rf.get_params()"
   ]
  },
  {
   "cell_type": "code",
   "execution_count": 69,
   "id": "5a51c037-c7f8-4e85-9b97-d62fa29ae863",
   "metadata": {},
   "outputs": [],
   "source": [
    "data['RF_pred'] = rf.predict_proba(data[col_list])[:,1]"
   ]
  },
  {
   "cell_type": "markdown",
   "id": "64c702c3-a314-4b15-a18c-61b03455374d",
   "metadata": {},
   "source": [
    "### What is Hyperparameter Tuning and Cross Validation (CV)?\n",
    "\n",
    "Hyperparameter tuning refers to the process of selecting the best hyperparameters for a given machine learning algorithm. \n",
    "\n",
    "- Hyperparameters are parameters that cannot be learned from the data and must be set manually before training. \n",
    "- Examples of hyperparameters include the regularization parameter, maximum depth, number of estimators etc. By tuning these hyperparameters, we can optimize the performance of the model on a given dataset. (We can find all these parameters on sklearn model's help website)\n",
    "\n",
    "Cross-validation, is a technique for evaluating the performance of a model on a given dataset. \n",
    "- In cross-validation, the dataset is divided into k-folds, and the model is trained and tested k times. \n",
    "- In each iteration, k-1 folds are used for training, and the remaining fold is used for testing. \n",
    "- This process is repeated for each fold, and the results are averaged to obtain a final performance score. Cross-validation can help prevent overfitting and provide a more accurate estimate of the model's performance on unseen data.\n",
    "\n",
    "Together, hyperparameter tuning and cross-validation can help improve the performance of machine learning models and make them more robust and reliable. By selecting the best hyperparameters and evaluating the model's performance on multiple folds of data, we can create models that generalize well and are less prone to overfitting.\n"
   ]
  },
  {
   "cell_type": "markdown",
   "id": "2b2e4a38-0312-4c93-9f09-9e9b6dcf900c",
   "metadata": {},
   "source": [
    "### Why are we using F1 score for scoring and refitting the algorithm?\n",
    "\n",
    "The F1 score is a commonly used metric for evaluating the performance of classification models. It is a weighted average of precision and recall, which makes it a good choice for problems where both false positives and false negatives are important.\n",
    "\n",
    "F1 score can be used to refit a classification model when the goal is to improve the model's ability to correctly classify both positive and negative instances, rather than just one of them. This is particularly important when the dataset is imbalanced, meaning that one class is much more frequent than the other. In such cases, accuracy alone may not be a good metric for evaluating the model's performance, as it may give an overly optimistic estimate of the model's true ability to classify the minority class."
   ]
  },
  {
   "cell_type": "markdown",
   "id": "19d35ca5-62ef-412e-b22d-9a79e735656f",
   "metadata": {},
   "source": [
    "#### Random Forest with CV & Hyperparameter Tuning"
   ]
  },
  {
   "cell_type": "code",
   "execution_count": 70,
   "id": "e72a241e-27fd-4b4d-b99e-5eaa7ac8e1dc",
   "metadata": {},
   "outputs": [],
   "source": [
    "kf = StratifiedKFold(n_splits=5, shuffle=False)"
   ]
  },
  {
   "cell_type": "code",
   "execution_count": 71,
   "id": "f2fb3fc3-3fdc-41a5-a84a-56d87e081459",
   "metadata": {},
   "outputs": [],
   "source": [
    "rf_cv = RandomForestClassifier(random_state=42)"
   ]
  },
  {
   "cell_type": "code",
   "execution_count": 72,
   "id": "e7403390-4c4a-4238-8d38-72039b635ae3",
   "metadata": {},
   "outputs": [
    {
     "name": "stdout",
     "output_type": "stream",
     "text": [
      "Fitting 5 folds for each of 8 candidates, totalling 40 fits\n"
     ]
    }
   ],
   "source": [
    "params = {\n",
    "    'n_estimators': list(range(100, 401, 100)),\n",
    "    'max_features': ['sqrt','log2']\n",
    "}\n",
    "grid_rf = GridSearchCV(rf_cv, param_grid=params,scoring = 'f1', cv = kf,n_jobs = 4,refit = 'f1',verbose=5\n",
    "                      ).fit(data[data.Training==1][col_list],data[data.Training == 1]['is_fraud'])\n"
   ]
  },
  {
   "cell_type": "code",
   "execution_count": 73,
   "id": "d47d5f76-f067-4fc8-a606-0983d0a7ddf9",
   "metadata": {},
   "outputs": [
    {
     "name": "stdout",
     "output_type": "stream",
     "text": [
      "Best Parameters: {'max_features': 'sqrt', 'n_estimators': 200}\n",
      "Best Score 0.5748551489417346\n"
     ]
    }
   ],
   "source": [
    "print(\"Best Parameters:\", grid_rf.best_params_)\n",
    "print(\"Best Score\", grid_rf.best_score_)"
   ]
  },
  {
   "cell_type": "code",
   "execution_count": 74,
   "id": "3b38a670-cb76-4ff1-92dd-fdc50a016686",
   "metadata": {},
   "outputs": [],
   "source": [
    "rf_cv_pred = grid_rf.predict(data[data.Training==0][col_list])\n"
   ]
  },
  {
   "cell_type": "code",
   "execution_count": 75,
   "id": "3ca4323b-6639-45d4-bd7a-f6caa97ebbd0",
   "metadata": {},
   "outputs": [
    {
     "data": {
      "image/png": "[encoded data removed]",
      "text/plain": [
       "<Figure size 500x500 with 1 Axes>"
      ]
     },
     "metadata": {},
     "output_type": "display_data"
    }
   ],
   "source": [
    "fig, ax = plot_confusion_matrix(conf_mat=confusion_matrix(data[data.Training == 0]['is_fraud'],rf_cv_pred), \n",
    "                                 figsize=(5, 5), cmap=plt.cm.Blues)\n",
    "\n",
    "ax.set_xlabel('Predicted label', fontsize=14)\n",
    "ax.set_ylabel('True label', fontsize=14)\n",
    "plt.title('Confusion Matrix', fontsize=14)\n",
    "plt.show()"
   ]
  },
  {
   "cell_type": "code",
   "execution_count": 76,
   "id": "5165475c-15a8-4b87-8864-1f76b55fcfc1",
   "metadata": {},
   "outputs": [],
   "source": [
    "data['RF_cv_pred'] = grid_rf.predict_proba(data[col_list])[:,1]"
   ]
  },
  {
   "cell_type": "markdown",
   "id": "fb981c6a-b23c-4777-9146-6336a647b6dd",
   "metadata": {},
   "source": [
    "### What is Permutation Importance?\n",
    "\n",
    "Permutation importance is a technique for feature importance estimation in machine learning models. It measures the importance of each feature by permuting its values and observing the effect on the model's performance.\n",
    "\n",
    "The basic idea behind permutation importance is to shuffle the values of a feature in the test set and evaluate the resulting decrease in the model's performance metric. By comparing the decrease in performance with the original performance, we can estimate the importance of the feature. Features that have a large impact on the performance metric when their values are permuted are considered more important, while features that have little impact are considered less important.\n",
    "\n",
    "Permutation importance is a powerful technique for understanding which features are most important for a given machine learning problem. It is often used in combination with other feature selection techniques to improve the performance of models and reduce overfitting."
   ]
  },
  {
   "cell_type": "markdown",
   "id": "841766a1-8a86-4d27-b80c-20a381b484df",
   "metadata": {},
   "source": [
    "## Permutation importance using RF"
   ]
  },
  {
   "cell_type": "code",
   "execution_count": 77,
   "id": "1919be8a-df84-4ebb-a46a-d2bec1b5c648",
   "metadata": {},
   "outputs": [],
   "source": [
    "def importance(clf, X, y, cn):\n",
    "    imp = permutation_importance(\n",
    "        clf, X, y, scoring=\"f1\", n_repeats=10, random_state=1234\n",
    "    )\n",
    "    data = pd.DataFrame(imp.importances.T)\n",
    "    data.columns = cn\n",
    "    order = data.agg(\"mean\").sort_values(ascending=False).index\n",
    "    fig = sns.barplot(\n",
    "        x=\"value\", y=\"variable\", color=\"slateblue\", data=pd.melt(data[order])\n",
    "    )\n",
    "    fig.set(title=\"Permutation Importances\", xlabel=None, ylabel=None)\n",
    "    return fig"
   ]
  },
  {
   "cell_type": "code",
   "execution_count": 78,
   "id": "789cc2b7-0b28-4f9f-a9d6-2b451a8595dc",
   "metadata": {},
   "outputs": [
    {
     "data": {
      "image/png": "[encoded data removed]",
      "text/plain": [
       "<Figure size 640x480 with 1 Axes>"
      ]
     },
     "metadata": {},
     "output_type": "display_data"
    }
   ],
   "source": [
    "fig = importance(grid_rf, data[data.Training == 0][col_list], data[data.Training == 0]['is_fraud'],\n",
    "                 data[data.Training == 0][col_list].columns)"
   ]
  },
  {
   "cell_type": "markdown",
   "id": "a7579cad-e61e-4ede-889b-4e93e3e9282f",
   "metadata": {},
   "source": [
    "## Model Comparison"
   ]
  },
  {
   "cell_type": "code",
   "execution_count": 79,
   "id": "bd9fc3ce-620b-42c0-94da-48b07378f621",
   "metadata": {},
   "outputs": [],
   "source": [
    "pred_cols = [col for col in data.columns if \"pred\" in col]\n",
    "\n",
    "model_comparison = rsm.evalbin(\n",
    "    pred=pred_cols,\n",
    "    df=data[data.Training == 0],\n",
    "    rvar=\"is_fraud\",\n",
    "    lev=1,\n",
    "    cost=1,\n",
    "    margin=2,\n",
    ")"
   ]
  },
  {
   "cell_type": "code",
   "execution_count": 80,
   "id": "cf9b16e8-f7d5-464c-8ba9-28471d25a8f3",
   "metadata": {},
   "outputs": [
    {
     "data": {
      "text/html": [
       "<div>\n",
       "<style scoped>\n",
       "    .dataframe tbody tr th:only-of-type {\n",
       "        vertical-align: middle;\n",
       "    }\n",
       "\n",
       "    .dataframe tbody tr th {\n",
       "        vertical-align: top;\n",
       "    }\n",
       "\n",
       "    .dataframe thead th {\n",
       "        text-align: right;\n",
       "    }\n",
       "</style>\n",
       "<table border=\"1\" class=\"dataframe\">\n",
       "  <thead>\n",
       "    <tr style=\"text-align: right;\">\n",
       "      <th></th>\n",
       "      <th>Type</th>\n",
       "      <th>predictor</th>\n",
       "      <th>TP</th>\n",
       "      <th>FP</th>\n",
       "      <th>TN</th>\n",
       "      <th>FN</th>\n",
       "      <th>total</th>\n",
       "      <th>TPR</th>\n",
       "      <th>TNR</th>\n",
       "      <th>precision</th>\n",
       "      <th>Fscore</th>\n",
       "      <th>accuracy</th>\n",
       "      <th>kappa</th>\n",
       "      <th>profit</th>\n",
       "      <th>index</th>\n",
       "      <th>ROME</th>\n",
       "      <th>contact</th>\n",
       "      <th>AUC</th>\n",
       "    </tr>\n",
       "  </thead>\n",
       "  <tbody>\n",
       "    <tr>\n",
       "      <th>0</th>\n",
       "      <td>All</td>\n",
       "      <td>RF_pred</td>\n",
       "      <td>117</td>\n",
       "      <td>19</td>\n",
       "      <td>66399</td>\n",
       "      <td>152</td>\n",
       "      <td>66687</td>\n",
       "      <td>0.435</td>\n",
       "      <td>1.0</td>\n",
       "      <td>0.86</td>\n",
       "      <td>0.578</td>\n",
       "      <td>0.997</td>\n",
       "      <td>0.577</td>\n",
       "      <td>98</td>\n",
       "      <td>1.0</td>\n",
       "      <td>0.721</td>\n",
       "      <td>0.002</td>\n",
       "      <td>0.951</td>\n",
       "    </tr>\n",
       "    <tr>\n",
       "      <th>1</th>\n",
       "      <td>All</td>\n",
       "      <td>RF_cv_pred</td>\n",
       "      <td>117</td>\n",
       "      <td>19</td>\n",
       "      <td>66399</td>\n",
       "      <td>152</td>\n",
       "      <td>66687</td>\n",
       "      <td>0.435</td>\n",
       "      <td>1.0</td>\n",
       "      <td>0.86</td>\n",
       "      <td>0.578</td>\n",
       "      <td>0.997</td>\n",
       "      <td>0.577</td>\n",
       "      <td>98</td>\n",
       "      <td>1.0</td>\n",
       "      <td>0.721</td>\n",
       "      <td>0.002</td>\n",
       "      <td>0.951</td>\n",
       "    </tr>\n",
       "  </tbody>\n",
       "</table>\n",
       "</div>"
      ],
      "text/plain": [
       "  Type   predictor   TP  FP     TN   FN  total    TPR  TNR  precision  Fscore  \\\n",
       "0  All     RF_pred  117  19  66399  152  66687  0.435  1.0       0.86   0.578   \n",
       "1  All  RF_cv_pred  117  19  66399  152  66687  0.435  1.0       0.86   0.578   \n",
       "\n",
       "   accuracy  kappa  profit  index   ROME  contact    AUC  \n",
       "0     0.997  0.577      98    1.0  0.721    0.002  0.951  \n",
       "1     0.997  0.577      98    1.0  0.721    0.002  0.951  "
      ]
     },
     "execution_count": 80,
     "metadata": {},
     "output_type": "execute_result"
    }
   ],
   "source": [
    "model_comparison"
   ]
  },
  {
   "cell_type": "markdown",
   "id": "45b7254b-9912-447c-94b0-0ab6e2469c40",
   "metadata": {
    "tags": []
   },
   "source": [
    "## Partial Dependence plots"
   ]
  },
  {
   "cell_type": "markdown",
   "id": "2ded8be0-47b5-43e0-8bd7-a3845053b93a",
   "metadata": {},
   "source": [
    "#### What are Partial Dependence Plots (PDPs)\n",
    "\n",
    "PDPs are essentially a way to graphically display the average response of a machine learning model to changes in one or more input variables, while holding all other input variables constant at their mean or median values. This allows us to see how the output of the model changes as the value of the input variable(s) being examined changes, while keeping everything else constant.\n",
    "\n",
    "PDPs are useful because they can help us to understand the relationship between different input variables and the output of your model, and to identify any non-linear relationships or interactions that may be present in your data. This information can be helpful in developing more accurate and robust models, and in gaining insights into the underlying data generating process."
   ]
  },
  {
   "cell_type": "code",
   "execution_count": 81,
   "id": "44615d4f-5494-4db0-b2bb-7a59d8b31213",
   "metadata": {},
   "outputs": [
    {
     "data": {
      "image/png": "[encoded data removed]",
      "text/plain": [
       "<Figure size 1000x1800 with 9 Axes>"
      ]
     },
     "metadata": {},
     "output_type": "display_data"
    }
   ],
   "source": [
    "rsm.pred_plot_sk(grid_rf,data[col_list],rvar='is_fraud')"
   ]
  }
 ],
 "metadata": {
  "kernelspec": {
   "display_name": "Python 3 (ipykernel)",
   "language": "python",
   "name": "python3"
  },
  "language_info": {
   "codemirror_mode": {
    "name": "ipython",
    "version": 3
   },
   "file_extension": ".py",
   "mimetype": "text/x-python",
   "name": "python",
   "nbconvert_exporter": "python",
   "pygments_lexer": "ipython3",
   "version": "3.10.8"
  }
 },
 "nbformat": 4,
 "nbformat_minor": 5
}
