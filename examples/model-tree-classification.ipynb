{
 "cells": [
  {
   "cell_type": "code",
   "execution_count": 1,
   "id": "4d7dd357-e127-41a9-8446-336c7b9afa6c",
   "metadata": {},
   "outputs": [],
   "source": [
    "import pandas as pd\n",
    "import numpy as np\n",
    "\n",
    "import seaborn as sns\n",
    "import matplotlib.pyplot as plt\n",
    "from mlxtend.plotting import plot_confusion_matrix\n",
    "\n",
    "from sklearn.model_selection import train_test_split\n",
    "\n",
    "from sklearn.model_selection import GridSearchCV\n",
    "\n",
    "## Tree Based classifiers\n",
    "\n",
    "from sklearn.tree import DecisionTreeClassifier\n",
    "from sklearn.ensemble import RandomForestClassifier, AdaBoostClassifier\n",
    "import xgboost as xgb\n",
    "from sklearn.model_selection import StratifiedKFold\n",
    "\n",
    "import matplotlib.pyplot as plt\n",
    "import seaborn as sns\n",
    "from sklearn.inspection import permutation_importance\n",
    "\n",
    "import pyrsm as rsm"
   ]
  },
  {
   "cell_type": "code",
   "execution_count": 2,
   "id": "da745bdd-2743-47de-ba7f-ec6231c1fc21",
   "metadata": {},
   "outputs": [],
   "source": [
    "data = pd.read_pickle('https://raw.githubusercontent.com/vnijs/pyrsm/main/pyrsm/data/model/fraud_data.pkl')"
   ]
  },
  {
   "cell_type": "code",
   "execution_count": 3,
   "id": "a9e65f00-4abd-4323-8ccf-f8efcf22a9ea",
   "metadata": {},
   "outputs": [
    {
     "data": {
      "text/html": [
       "<div>\n",
       "<style scoped>\n",
       "    .dataframe tbody tr th:only-of-type {\n",
       "        vertical-align: middle;\n",
       "    }\n",
       "\n",
       "    .dataframe tbody tr th {\n",
       "        vertical-align: top;\n",
       "    }\n",
       "\n",
       "    .dataframe thead th {\n",
       "        text-align: right;\n",
       "    }\n",
       "</style>\n",
       "<table border=\"1\" class=\"dataframe\">\n",
       "  <thead>\n",
       "    <tr style=\"text-align: right;\">\n",
       "      <th></th>\n",
       "      <th>cc_num</th>\n",
       "      <th>amt</th>\n",
       "      <th>zip</th>\n",
       "      <th>lat</th>\n",
       "      <th>long</th>\n",
       "      <th>city_pop</th>\n",
       "      <th>unix_time</th>\n",
       "      <th>merch_lat</th>\n",
       "      <th>merch_long</th>\n",
       "      <th>is_fraud</th>\n",
       "    </tr>\n",
       "  </thead>\n",
       "  <tbody>\n",
       "    <tr>\n",
       "      <th>count</th>\n",
       "      <td>2.222880e+05</td>\n",
       "      <td>222288.000000</td>\n",
       "      <td>222288.000000</td>\n",
       "      <td>222288.000000</td>\n",
       "      <td>222288.000000</td>\n",
       "      <td>2.222880e+05</td>\n",
       "      <td>2.222880e+05</td>\n",
       "      <td>222288.000000</td>\n",
       "      <td>222288.000000</td>\n",
       "      <td>222288.000000</td>\n",
       "    </tr>\n",
       "    <tr>\n",
       "      <th>mean</th>\n",
       "      <td>4.207592e+17</td>\n",
       "      <td>69.401502</td>\n",
       "      <td>48805.671278</td>\n",
       "      <td>38.537418</td>\n",
       "      <td>-90.231433</td>\n",
       "      <td>8.803416e+04</td>\n",
       "      <td>1.380672e+09</td>\n",
       "      <td>38.537002</td>\n",
       "      <td>-90.232102</td>\n",
       "      <td>0.003842</td>\n",
       "    </tr>\n",
       "    <tr>\n",
       "      <th>std</th>\n",
       "      <td>1.313834e+18</td>\n",
       "      <td>149.463684</td>\n",
       "      <td>26892.840297</td>\n",
       "      <td>5.058758</td>\n",
       "      <td>13.748966</td>\n",
       "      <td>3.006358e+05</td>\n",
       "      <td>5.196285e+06</td>\n",
       "      <td>5.092326</td>\n",
       "      <td>13.758243</td>\n",
       "      <td>0.061864</td>\n",
       "    </tr>\n",
       "    <tr>\n",
       "      <th>min</th>\n",
       "      <td>6.041621e+10</td>\n",
       "      <td>1.000000</td>\n",
       "      <td>1257.000000</td>\n",
       "      <td>20.027100</td>\n",
       "      <td>-165.672300</td>\n",
       "      <td>2.300000e+01</td>\n",
       "      <td>1.371817e+09</td>\n",
       "      <td>19.027849</td>\n",
       "      <td>-166.669910</td>\n",
       "      <td>0.000000</td>\n",
       "    </tr>\n",
       "    <tr>\n",
       "      <th>25%</th>\n",
       "      <td>1.800462e+14</td>\n",
       "      <td>9.620000</td>\n",
       "      <td>26237.000000</td>\n",
       "      <td>34.668900</td>\n",
       "      <td>-96.809400</td>\n",
       "      <td>7.410000e+02</td>\n",
       "      <td>1.376039e+09</td>\n",
       "      <td>34.748957</td>\n",
       "      <td>-96.922423</td>\n",
       "      <td>0.000000</td>\n",
       "    </tr>\n",
       "    <tr>\n",
       "      <th>50%</th>\n",
       "      <td>3.521417e+15</td>\n",
       "      <td>47.230000</td>\n",
       "      <td>48154.000000</td>\n",
       "      <td>39.371600</td>\n",
       "      <td>-87.461600</td>\n",
       "      <td>2.408000e+03</td>\n",
       "      <td>1.380740e+09</td>\n",
       "      <td>39.366193</td>\n",
       "      <td>-87.410562</td>\n",
       "      <td>0.000000</td>\n",
       "    </tr>\n",
       "    <tr>\n",
       "      <th>75%</th>\n",
       "      <td>4.642255e+15</td>\n",
       "      <td>83.010000</td>\n",
       "      <td>72042.000000</td>\n",
       "      <td>41.846700</td>\n",
       "      <td>-80.158000</td>\n",
       "      <td>1.968500e+04</td>\n",
       "      <td>1.385858e+09</td>\n",
       "      <td>41.938688</td>\n",
       "      <td>-80.231169</td>\n",
       "      <td>0.000000</td>\n",
       "    </tr>\n",
       "    <tr>\n",
       "      <th>max</th>\n",
       "      <td>4.992346e+18</td>\n",
       "      <td>13149.150000</td>\n",
       "      <td>99921.000000</td>\n",
       "      <td>65.689900</td>\n",
       "      <td>-67.950300</td>\n",
       "      <td>2.906700e+06</td>\n",
       "      <td>1.388534e+09</td>\n",
       "      <td>66.668167</td>\n",
       "      <td>-66.955602</td>\n",
       "      <td>1.000000</td>\n",
       "    </tr>\n",
       "  </tbody>\n",
       "</table>\n",
       "</div>"
      ],
      "text/plain": [
       "             cc_num            amt            zip            lat  \\\n",
       "count  2.222880e+05  222288.000000  222288.000000  222288.000000   \n",
       "mean   4.207592e+17      69.401502   48805.671278      38.537418   \n",
       "std    1.313834e+18     149.463684   26892.840297       5.058758   \n",
       "min    6.041621e+10       1.000000    1257.000000      20.027100   \n",
       "25%    1.800462e+14       9.620000   26237.000000      34.668900   \n",
       "50%    3.521417e+15      47.230000   48154.000000      39.371600   \n",
       "75%    4.642255e+15      83.010000   72042.000000      41.846700   \n",
       "max    4.992346e+18   13149.150000   99921.000000      65.689900   \n",
       "\n",
       "                long      city_pop     unix_time      merch_lat  \\\n",
       "count  222288.000000  2.222880e+05  2.222880e+05  222288.000000   \n",
       "mean      -90.231433  8.803416e+04  1.380672e+09      38.537002   \n",
       "std        13.748966  3.006358e+05  5.196285e+06       5.092326   \n",
       "min      -165.672300  2.300000e+01  1.371817e+09      19.027849   \n",
       "25%       -96.809400  7.410000e+02  1.376039e+09      34.748957   \n",
       "50%       -87.461600  2.408000e+03  1.380740e+09      39.366193   \n",
       "75%       -80.158000  1.968500e+04  1.385858e+09      41.938688   \n",
       "max       -67.950300  2.906700e+06  1.388534e+09      66.668167   \n",
       "\n",
       "          merch_long       is_fraud  \n",
       "count  222288.000000  222288.000000  \n",
       "mean      -90.232102       0.003842  \n",
       "std        13.758243       0.061864  \n",
       "min      -166.669910       0.000000  \n",
       "25%       -96.922423       0.000000  \n",
       "50%       -87.410562       0.000000  \n",
       "75%       -80.231169       0.000000  \n",
       "max       -66.955602       1.000000  "
      ]
     },
     "execution_count": 3,
     "metadata": {},
     "output_type": "execute_result"
    }
   ],
   "source": [
    "data.describe()"
   ]
  },
  {
   "cell_type": "code",
   "execution_count": 4,
   "id": "2d5a6160-ef39-4e99-92b3-22d424511c78",
   "metadata": {},
   "outputs": [
    {
     "data": {
      "text/html": [
       "<div>\n",
       "<style scoped>\n",
       "    .dataframe tbody tr th:only-of-type {\n",
       "        vertical-align: middle;\n",
       "    }\n",
       "\n",
       "    .dataframe tbody tr th {\n",
       "        vertical-align: top;\n",
       "    }\n",
       "\n",
       "    .dataframe thead th {\n",
       "        text-align: right;\n",
       "    }\n",
       "</style>\n",
       "<table border=\"1\" class=\"dataframe\">\n",
       "  <thead>\n",
       "    <tr style=\"text-align: right;\">\n",
       "      <th></th>\n",
       "      <th>trans_date_trans_time</th>\n",
       "      <th>cc_num</th>\n",
       "      <th>merchant</th>\n",
       "      <th>category</th>\n",
       "      <th>amt</th>\n",
       "      <th>first</th>\n",
       "      <th>last</th>\n",
       "      <th>gender</th>\n",
       "      <th>street</th>\n",
       "      <th>city</th>\n",
       "      <th>...</th>\n",
       "      <th>lat</th>\n",
       "      <th>long</th>\n",
       "      <th>city_pop</th>\n",
       "      <th>job</th>\n",
       "      <th>dob</th>\n",
       "      <th>trans_num</th>\n",
       "      <th>unix_time</th>\n",
       "      <th>merch_lat</th>\n",
       "      <th>merch_long</th>\n",
       "      <th>is_fraud</th>\n",
       "    </tr>\n",
       "  </thead>\n",
       "  <tbody>\n",
       "    <tr>\n",
       "      <th>191922</th>\n",
       "      <td>2020-08-27 16:50:04</td>\n",
       "      <td>4169759661243568</td>\n",
       "      <td>fraud_Terry, Johns and Bins</td>\n",
       "      <td>misc_pos</td>\n",
       "      <td>96.71</td>\n",
       "      <td>Jamie</td>\n",
       "      <td>Carr</td>\n",
       "      <td>F</td>\n",
       "      <td>55363 Aaron Circle Suite 450</td>\n",
       "      <td>Lawn</td>\n",
       "      <td>...</td>\n",
       "      <td>40.2236</td>\n",
       "      <td>-76.5380</td>\n",
       "      <td>213</td>\n",
       "      <td>Special educational needs teacher</td>\n",
       "      <td>1972-02-15</td>\n",
       "      <td>f3fc65de5749ead3631c0f9b7a95355a</td>\n",
       "      <td>1377622204</td>\n",
       "      <td>39.866326</td>\n",
       "      <td>-76.664828</td>\n",
       "      <td>0</td>\n",
       "    </tr>\n",
       "    <tr>\n",
       "      <th>350244</th>\n",
       "      <td>2020-11-03 08:27:37</td>\n",
       "      <td>4769426683924058915</td>\n",
       "      <td>fraud_Zieme, Bode and Dooley</td>\n",
       "      <td>gas_transport</td>\n",
       "      <td>85.30</td>\n",
       "      <td>Andrea</td>\n",
       "      <td>Cruz</td>\n",
       "      <td>F</td>\n",
       "      <td>26572 Hodge Villages Suite 512</td>\n",
       "      <td>Mifflin</td>\n",
       "      <td>...</td>\n",
       "      <td>40.5553</td>\n",
       "      <td>-77.4001</td>\n",
       "      <td>1909</td>\n",
       "      <td>Mining engineer</td>\n",
       "      <td>1954-08-22</td>\n",
       "      <td>8a41e2423d25ea0dcd96cbbbfe149186</td>\n",
       "      <td>1383467257</td>\n",
       "      <td>39.930887</td>\n",
       "      <td>-77.448371</td>\n",
       "      <td>0</td>\n",
       "    </tr>\n",
       "    <tr>\n",
       "      <th>230792</th>\n",
       "      <td>2020-09-12 14:08:26</td>\n",
       "      <td>6011693194885790</td>\n",
       "      <td>fraud_Boehm, Predovic and Reinger</td>\n",
       "      <td>misc_pos</td>\n",
       "      <td>3.74</td>\n",
       "      <td>Victoria</td>\n",
       "      <td>Fleming</td>\n",
       "      <td>F</td>\n",
       "      <td>2807 Parker Station Suite 080</td>\n",
       "      <td>Stanchfield</td>\n",
       "      <td>...</td>\n",
       "      <td>45.6675</td>\n",
       "      <td>-93.2433</td>\n",
       "      <td>2607</td>\n",
       "      <td>Lecturer, further education</td>\n",
       "      <td>1995-12-04</td>\n",
       "      <td>5e00cb43812b425be8c7bcc8b149cd45</td>\n",
       "      <td>1378994906</td>\n",
       "      <td>46.477073</td>\n",
       "      <td>-92.446747</td>\n",
       "      <td>0</td>\n",
       "    </tr>\n",
       "    <tr>\n",
       "      <th>405817</th>\n",
       "      <td>2020-11-28 11:14:55</td>\n",
       "      <td>180046765320457</td>\n",
       "      <td>fraud_Johns-Hoeger</td>\n",
       "      <td>entertainment</td>\n",
       "      <td>83.16</td>\n",
       "      <td>Jared</td>\n",
       "      <td>Camacho</td>\n",
       "      <td>M</td>\n",
       "      <td>4257 Perez Mall</td>\n",
       "      <td>Canton</td>\n",
       "      <td>...</td>\n",
       "      <td>40.8027</td>\n",
       "      <td>-81.3739</td>\n",
       "      <td>192805</td>\n",
       "      <td>Building control surveyor</td>\n",
       "      <td>1963-06-30</td>\n",
       "      <td>e40e987ef47ab544db1c4eced0ee832a</td>\n",
       "      <td>1385637295</td>\n",
       "      <td>41.800316</td>\n",
       "      <td>-80.517950</td>\n",
       "      <td>0</td>\n",
       "    </tr>\n",
       "    <tr>\n",
       "      <th>280759</th>\n",
       "      <td>2020-10-04 11:36:45</td>\n",
       "      <td>3513618443244549</td>\n",
       "      <td>fraud_Miller-Hauck</td>\n",
       "      <td>grocery_pos</td>\n",
       "      <td>128.99</td>\n",
       "      <td>Amber</td>\n",
       "      <td>Perez</td>\n",
       "      <td>F</td>\n",
       "      <td>954 Reyes Ways</td>\n",
       "      <td>Fulton</td>\n",
       "      <td>...</td>\n",
       "      <td>43.7588</td>\n",
       "      <td>-97.8712</td>\n",
       "      <td>355</td>\n",
       "      <td>Financial adviser</td>\n",
       "      <td>1955-06-26</td>\n",
       "      <td>0dc92a2c21a0a2a1ba20dd56bba70330</td>\n",
       "      <td>1380886605</td>\n",
       "      <td>43.639493</td>\n",
       "      <td>-97.897122</td>\n",
       "      <td>0</td>\n",
       "    </tr>\n",
       "  </tbody>\n",
       "</table>\n",
       "<p>5 rows × 22 columns</p>\n",
       "</div>"
      ],
      "text/plain": [
       "       trans_date_trans_time               cc_num  \\\n",
       "191922   2020-08-27 16:50:04     4169759661243568   \n",
       "350244   2020-11-03 08:27:37  4769426683924058915   \n",
       "230792   2020-09-12 14:08:26     6011693194885790   \n",
       "405817   2020-11-28 11:14:55      180046765320457   \n",
       "280759   2020-10-04 11:36:45     3513618443244549   \n",
       "\n",
       "                                 merchant       category     amt     first  \\\n",
       "191922        fraud_Terry, Johns and Bins       misc_pos   96.71     Jamie   \n",
       "350244       fraud_Zieme, Bode and Dooley  gas_transport   85.30    Andrea   \n",
       "230792  fraud_Boehm, Predovic and Reinger       misc_pos    3.74  Victoria   \n",
       "405817                 fraud_Johns-Hoeger  entertainment   83.16     Jared   \n",
       "280759                 fraud_Miller-Hauck    grocery_pos  128.99     Amber   \n",
       "\n",
       "           last gender                          street         city  ...  \\\n",
       "191922     Carr      F    55363 Aaron Circle Suite 450         Lawn  ...   \n",
       "350244     Cruz      F  26572 Hodge Villages Suite 512      Mifflin  ...   \n",
       "230792  Fleming      F   2807 Parker Station Suite 080  Stanchfield  ...   \n",
       "405817  Camacho      M                 4257 Perez Mall       Canton  ...   \n",
       "280759    Perez      F                  954 Reyes Ways       Fulton  ...   \n",
       "\n",
       "            lat     long  city_pop                                job  \\\n",
       "191922  40.2236 -76.5380       213  Special educational needs teacher   \n",
       "350244  40.5553 -77.4001      1909                    Mining engineer   \n",
       "230792  45.6675 -93.2433      2607        Lecturer, further education   \n",
       "405817  40.8027 -81.3739    192805          Building control surveyor   \n",
       "280759  43.7588 -97.8712       355                  Financial adviser   \n",
       "\n",
       "               dob                         trans_num   unix_time  merch_lat  \\\n",
       "191922  1972-02-15  f3fc65de5749ead3631c0f9b7a95355a  1377622204  39.866326   \n",
       "350244  1954-08-22  8a41e2423d25ea0dcd96cbbbfe149186  1383467257  39.930887   \n",
       "230792  1995-12-04  5e00cb43812b425be8c7bcc8b149cd45  1378994906  46.477073   \n",
       "405817  1963-06-30  e40e987ef47ab544db1c4eced0ee832a  1385637295  41.800316   \n",
       "280759  1955-06-26  0dc92a2c21a0a2a1ba20dd56bba70330  1380886605  43.639493   \n",
       "\n",
       "        merch_long  is_fraud  \n",
       "191922  -76.664828         0  \n",
       "350244  -77.448371         0  \n",
       "230792  -92.446747         0  \n",
       "405817  -80.517950         0  \n",
       "280759  -97.897122         0  \n",
       "\n",
       "[5 rows x 22 columns]"
      ]
     },
     "execution_count": 4,
     "metadata": {},
     "output_type": "execute_result"
    }
   ],
   "source": [
    "data.head()"
   ]
  },
  {
   "cell_type": "code",
   "execution_count": 5,
   "id": "036bdb99-0e84-40b1-b507-bdae85eddff0",
   "metadata": {},
   "outputs": [
    {
     "data": {
      "text/plain": [
       "trans_date_trans_time    0\n",
       "cc_num                   0\n",
       "merchant                 0\n",
       "category                 0\n",
       "amt                      0\n",
       "first                    0\n",
       "last                     0\n",
       "gender                   0\n",
       "street                   0\n",
       "city                     0\n",
       "state                    0\n",
       "zip                      0\n",
       "lat                      0\n",
       "long                     0\n",
       "city_pop                 0\n",
       "job                      0\n",
       "dob                      0\n",
       "trans_num                0\n",
       "unix_time                0\n",
       "merch_lat                0\n",
       "merch_long               0\n",
       "is_fraud                 0\n",
       "dtype: int64"
      ]
     },
     "execution_count": 5,
     "metadata": {},
     "output_type": "execute_result"
    }
   ],
   "source": [
    "data.isnull().sum()"
   ]
  },
  {
   "cell_type": "code",
   "execution_count": 6,
   "id": "6423754b-ac38-4cd5-8b90-19b1be760f66",
   "metadata": {},
   "outputs": [
    {
     "data": {
      "text/markdown": [
       "## Fraud Detection Data\n",
       "\n",
       "#### _Source: Kaggle_\n",
       "\n",
       "### About the Dataset\n",
       "This is a simulated credit card transaction dataset containing legitimate and fraud transactions from the duration 1st Jan 2019 - 31st Dec 2020. It covers credit cards of 1000 customers doing transactions with a pool of 800 merchants.\n",
       "\n",
       "Following are the columns in the dataset:\n",
       "\n",
       "- trans_date_trans_time : Date and time of Transaction occuring\n",
       "- cc_num : Credit card number\n",
       "- merchant : Organization where the transaction occured\n",
       "- category : Type of merchant/organization. Eg home, food dining etc\n",
       "- amt: Amount of transaction\n",
       "- first : First name of the person who did transaction\n",
       "- last : Last name of the person who did transaction\n",
       "- gender\n",
       "- street\n",
       "- city\n",
       "- state\n",
       "- zip\n",
       "- lat : Geographical Latitude coordinates of the customer where transaction occured\n",
       "- long : Geographical Longitude coordinates of the customer where transaction occured\n",
       "- city_pop : City Population\n",
       "- job : Current Job of the person who did transaction\n",
       "- dob : Date of birth\n",
       "- trans_num : Transaction number\n",
       "- merch_lat : Geographical Latitude coordinates of the merhcant where transaction occured\n",
       "- merch_long : Geographical Latitude coordinates of the merhcant where transaction occured\n",
       "- is_fraud : Variable that tells whether a transaction is fraud or not\n"
      ],
      "text/plain": [
       "<IPython.core.display.Markdown object>"
      ]
     },
     "metadata": {},
     "output_type": "display_data"
    }
   ],
   "source": [
    "rsm.describe(data)"
   ]
  },
  {
   "cell_type": "code",
   "execution_count": 7,
   "id": "12f550f1-6b4b-4062-91b2-a585bb16a94b",
   "metadata": {},
   "outputs": [
    {
     "data": {
      "text/plain": [
       "Index(['trans_date_trans_time', 'cc_num', 'merchant', 'category', 'amt',\n",
       "       'first', 'last', 'gender', 'street', 'city', 'state', 'zip', 'lat',\n",
       "       'long', 'city_pop', 'job', 'dob', 'trans_num', 'unix_time', 'merch_lat',\n",
       "       'merch_long', 'is_fraud'],\n",
       "      dtype='object')"
      ]
     },
     "execution_count": 7,
     "metadata": {},
     "output_type": "execute_result"
    }
   ],
   "source": [
    "data.columns"
   ]
  },
  {
   "cell_type": "code",
   "execution_count": 8,
   "id": "800838ea-105b-4615-bca0-130d4cf8796b",
   "metadata": {},
   "outputs": [],
   "source": [
    "dict = {'lat': 'Latitude',\n",
    "        'long': 'Longitude'}\n",
    " \n",
    "# call rename () method\n",
    "data.rename(columns=dict,\n",
    "          inplace=True)"
   ]
  },
  {
   "cell_type": "code",
   "execution_count": 9,
   "id": "9d8f4849-fd04-484a-a061-e544df1c3e1a",
   "metadata": {},
   "outputs": [
    {
     "data": {
      "text/plain": [
       "Index(['trans_date_trans_time', 'cc_num', 'merchant', 'category', 'amt',\n",
       "       'first', 'last', 'gender', 'street', 'city', 'state', 'zip', 'Latitude',\n",
       "       'Longitude', 'city_pop', 'job', 'dob', 'trans_num', 'unix_time',\n",
       "       'merch_lat', 'merch_long', 'is_fraud'],\n",
       "      dtype='object')"
      ]
     },
     "execution_count": 9,
     "metadata": {},
     "output_type": "execute_result"
    }
   ],
   "source": [
    "data.columns"
   ]
  },
  {
   "cell_type": "code",
   "execution_count": 10,
   "id": "25a0a463-1bc6-4199-ad6a-a56769d5503d",
   "metadata": {},
   "outputs": [],
   "source": [
    "data[\"GenderMale\"] = rsm.ifelse(data.gender == \"M\",1,0)"
   ]
  },
  {
   "cell_type": "code",
   "execution_count": 11,
   "id": "42c8c66a-37fd-40a9-8335-8f4510b5bdaf",
   "metadata": {},
   "outputs": [
    {
     "data": {
      "text/plain": [
       "0    221434\n",
       "1       854\n",
       "Name: is_fraud, dtype: int64"
      ]
     },
     "execution_count": 11,
     "metadata": {},
     "output_type": "execute_result"
    }
   ],
   "source": [
    "data['is_fraud'].value_counts()"
   ]
  },
  {
   "cell_type": "code",
   "execution_count": 12,
   "id": "b3459acc-efdc-481b-9b63-b0cedd91cd84",
   "metadata": {},
   "outputs": [
    {
     "data": {
      "text/plain": [
       "trans_date_trans_time     object\n",
       "cc_num                     int64\n",
       "merchant                  object\n",
       "category                  object\n",
       "amt                      float64\n",
       "first                     object\n",
       "last                      object\n",
       "gender                    object\n",
       "street                    object\n",
       "city                      object\n",
       "state                     object\n",
       "zip                        int64\n",
       "Latitude                 float64\n",
       "Longitude                float64\n",
       "city_pop                   int64\n",
       "job                       object\n",
       "dob                       object\n",
       "trans_num                 object\n",
       "unix_time                  int64\n",
       "merch_lat                float64\n",
       "merch_long               float64\n",
       "is_fraud                   int64\n",
       "GenderMale                 int64\n",
       "dtype: object"
      ]
     },
     "execution_count": 12,
     "metadata": {},
     "output_type": "execute_result"
    }
   ],
   "source": [
    "data.dtypes"
   ]
  },
  {
   "cell_type": "code",
   "execution_count": 13,
   "id": "0a0d5d35-d528-479f-9b29-a57d5f76f0fe",
   "metadata": {},
   "outputs": [
    {
     "name": "stderr",
     "output_type": "stream",
     "text": [
      "/tmp/ipykernel_9136/4184077422.py:1: DeprecationWarning: `np.object` is a deprecated alias for the builtin `object`. To silence this warning, use `object` by itself. Doing this will not modify any behavior and is safe. \n",
      "Deprecated in NumPy 1.20; for more details and guidance: https://numpy.org/devdocs/release/1.20.0-notes.html#deprecations\n",
      "  data_numeric = data.loc[:,data.dtypes!= np.object]\n"
     ]
    }
   ],
   "source": [
    "data_numeric = data.loc[:,data.dtypes!= np.object]"
   ]
  },
  {
   "cell_type": "code",
   "execution_count": 14,
   "id": "4c590d21-024d-49f2-981e-6d87698d1aaf",
   "metadata": {},
   "outputs": [
    {
     "data": {
      "text/html": [
       "<div>\n",
       "<style scoped>\n",
       "    .dataframe tbody tr th:only-of-type {\n",
       "        vertical-align: middle;\n",
       "    }\n",
       "\n",
       "    .dataframe tbody tr th {\n",
       "        vertical-align: top;\n",
       "    }\n",
       "\n",
       "    .dataframe thead th {\n",
       "        text-align: right;\n",
       "    }\n",
       "</style>\n",
       "<table border=\"1\" class=\"dataframe\">\n",
       "  <thead>\n",
       "    <tr style=\"text-align: right;\">\n",
       "      <th></th>\n",
       "      <th>cc_num</th>\n",
       "      <th>amt</th>\n",
       "      <th>zip</th>\n",
       "      <th>Latitude</th>\n",
       "      <th>Longitude</th>\n",
       "      <th>city_pop</th>\n",
       "      <th>unix_time</th>\n",
       "      <th>merch_lat</th>\n",
       "      <th>merch_long</th>\n",
       "      <th>is_fraud</th>\n",
       "      <th>GenderMale</th>\n",
       "    </tr>\n",
       "  </thead>\n",
       "  <tbody>\n",
       "    <tr>\n",
       "      <th>191922</th>\n",
       "      <td>4169759661243568</td>\n",
       "      <td>96.71</td>\n",
       "      <td>17041</td>\n",
       "      <td>40.2236</td>\n",
       "      <td>-76.5380</td>\n",
       "      <td>213</td>\n",
       "      <td>1377622204</td>\n",
       "      <td>39.866326</td>\n",
       "      <td>-76.664828</td>\n",
       "      <td>0</td>\n",
       "      <td>0</td>\n",
       "    </tr>\n",
       "    <tr>\n",
       "      <th>350244</th>\n",
       "      <td>4769426683924058915</td>\n",
       "      <td>85.30</td>\n",
       "      <td>17058</td>\n",
       "      <td>40.5553</td>\n",
       "      <td>-77.4001</td>\n",
       "      <td>1909</td>\n",
       "      <td>1383467257</td>\n",
       "      <td>39.930887</td>\n",
       "      <td>-77.448371</td>\n",
       "      <td>0</td>\n",
       "      <td>0</td>\n",
       "    </tr>\n",
       "    <tr>\n",
       "      <th>230792</th>\n",
       "      <td>6011693194885790</td>\n",
       "      <td>3.74</td>\n",
       "      <td>55080</td>\n",
       "      <td>45.6675</td>\n",
       "      <td>-93.2433</td>\n",
       "      <td>2607</td>\n",
       "      <td>1378994906</td>\n",
       "      <td>46.477073</td>\n",
       "      <td>-92.446747</td>\n",
       "      <td>0</td>\n",
       "      <td>0</td>\n",
       "    </tr>\n",
       "    <tr>\n",
       "      <th>405817</th>\n",
       "      <td>180046765320457</td>\n",
       "      <td>83.16</td>\n",
       "      <td>44702</td>\n",
       "      <td>40.8027</td>\n",
       "      <td>-81.3739</td>\n",
       "      <td>192805</td>\n",
       "      <td>1385637295</td>\n",
       "      <td>41.800316</td>\n",
       "      <td>-80.517950</td>\n",
       "      <td>0</td>\n",
       "      <td>1</td>\n",
       "    </tr>\n",
       "    <tr>\n",
       "      <th>280759</th>\n",
       "      <td>3513618443244549</td>\n",
       "      <td>128.99</td>\n",
       "      <td>57340</td>\n",
       "      <td>43.7588</td>\n",
       "      <td>-97.8712</td>\n",
       "      <td>355</td>\n",
       "      <td>1380886605</td>\n",
       "      <td>43.639493</td>\n",
       "      <td>-97.897122</td>\n",
       "      <td>0</td>\n",
       "      <td>0</td>\n",
       "    </tr>\n",
       "  </tbody>\n",
       "</table>\n",
       "</div>"
      ],
      "text/plain": [
       "                     cc_num     amt    zip  Latitude  Longitude  city_pop  \\\n",
       "191922     4169759661243568   96.71  17041   40.2236   -76.5380       213   \n",
       "350244  4769426683924058915   85.30  17058   40.5553   -77.4001      1909   \n",
       "230792     6011693194885790    3.74  55080   45.6675   -93.2433      2607   \n",
       "405817      180046765320457   83.16  44702   40.8027   -81.3739    192805   \n",
       "280759     3513618443244549  128.99  57340   43.7588   -97.8712       355   \n",
       "\n",
       "         unix_time  merch_lat  merch_long  is_fraud  GenderMale  \n",
       "191922  1377622204  39.866326  -76.664828         0           0  \n",
       "350244  1383467257  39.930887  -77.448371         0           0  \n",
       "230792  1378994906  46.477073  -92.446747         0           0  \n",
       "405817  1385637295  41.800316  -80.517950         0           1  \n",
       "280759  1380886605  43.639493  -97.897122         0           0  "
      ]
     },
     "execution_count": 14,
     "metadata": {},
     "output_type": "execute_result"
    }
   ],
   "source": [
    "data_numeric.head()"
   ]
  },
  {
   "cell_type": "markdown",
   "id": "77a6d1df-35bf-4051-ba9a-017d963612b8",
   "metadata": {},
   "source": [
    "#### Data Split and assigning Training values as 0 or 1"
   ]
  },
  {
   "cell_type": "code",
   "execution_count": 15,
   "id": "fa0669cc-705b-4608-9fe1-6594eb31d424",
   "metadata": {},
   "outputs": [],
   "source": [
    "data_numeric = data_numeric.drop(['cc_num'], axis = 1)\n",
    "\n",
    "train_data, test_data = train_test_split(data_numeric, test_size=0.3, random_state=42)\n",
    "train_data[\"Training\"] = 1\n",
    "test_data[\"Training\"] = 0\n",
    "data = pd.concat([train_data, test_data], ignore_index=True)"
   ]
  },
  {
   "cell_type": "code",
   "execution_count": 16,
   "id": "f3467a86-8511-4da7-9563-578feef653d0",
   "metadata": {},
   "outputs": [
    {
     "data": {
      "text/html": [
       "<div>\n",
       "<style scoped>\n",
       "    .dataframe tbody tr th:only-of-type {\n",
       "        vertical-align: middle;\n",
       "    }\n",
       "\n",
       "    .dataframe tbody tr th {\n",
       "        vertical-align: top;\n",
       "    }\n",
       "\n",
       "    .dataframe thead th {\n",
       "        text-align: right;\n",
       "    }\n",
       "</style>\n",
       "<table border=\"1\" class=\"dataframe\">\n",
       "  <thead>\n",
       "    <tr style=\"text-align: right;\">\n",
       "      <th></th>\n",
       "      <th>amt</th>\n",
       "      <th>zip</th>\n",
       "      <th>Latitude</th>\n",
       "      <th>Longitude</th>\n",
       "      <th>city_pop</th>\n",
       "      <th>unix_time</th>\n",
       "      <th>merch_lat</th>\n",
       "      <th>merch_long</th>\n",
       "      <th>is_fraud</th>\n",
       "      <th>GenderMale</th>\n",
       "      <th>Training</th>\n",
       "    </tr>\n",
       "  </thead>\n",
       "  <tbody>\n",
       "    <tr>\n",
       "      <th>0</th>\n",
       "      <td>8.70</td>\n",
       "      <td>49440</td>\n",
       "      <td>43.2326</td>\n",
       "      <td>-86.2492</td>\n",
       "      <td>128715</td>\n",
       "      <td>1376249570</td>\n",
       "      <td>43.142312</td>\n",
       "      <td>-87.137187</td>\n",
       "      <td>0</td>\n",
       "      <td>1</td>\n",
       "      <td>1</td>\n",
       "    </tr>\n",
       "    <tr>\n",
       "      <th>1</th>\n",
       "      <td>3.86</td>\n",
       "      <td>15920</td>\n",
       "      <td>40.4603</td>\n",
       "      <td>-79.0097</td>\n",
       "      <td>922</td>\n",
       "      <td>1379523248</td>\n",
       "      <td>40.794572</td>\n",
       "      <td>-79.360570</td>\n",
       "      <td>0</td>\n",
       "      <td>0</td>\n",
       "      <td>1</td>\n",
       "    </tr>\n",
       "    <tr>\n",
       "      <th>2</th>\n",
       "      <td>55.18</td>\n",
       "      <td>56117</td>\n",
       "      <td>43.5336</td>\n",
       "      <td>-95.6515</td>\n",
       "      <td>399</td>\n",
       "      <td>1373150139</td>\n",
       "      <td>43.027659</td>\n",
       "      <td>-95.111562</td>\n",
       "      <td>0</td>\n",
       "      <td>0</td>\n",
       "      <td>1</td>\n",
       "    </tr>\n",
       "    <tr>\n",
       "      <th>3</th>\n",
       "      <td>63.97</td>\n",
       "      <td>29455</td>\n",
       "      <td>32.8357</td>\n",
       "      <td>-79.8217</td>\n",
       "      <td>20478</td>\n",
       "      <td>1371823404</td>\n",
       "      <td>33.204335</td>\n",
       "      <td>-78.992084</td>\n",
       "      <td>0</td>\n",
       "      <td>1</td>\n",
       "      <td>1</td>\n",
       "    </tr>\n",
       "    <tr>\n",
       "      <th>4</th>\n",
       "      <td>38.76</td>\n",
       "      <td>22015</td>\n",
       "      <td>38.7894</td>\n",
       "      <td>-77.2818</td>\n",
       "      <td>43102</td>\n",
       "      <td>1384530785</td>\n",
       "      <td>39.367203</td>\n",
       "      <td>-77.338293</td>\n",
       "      <td>0</td>\n",
       "      <td>1</td>\n",
       "      <td>1</td>\n",
       "    </tr>\n",
       "    <tr>\n",
       "      <th>...</th>\n",
       "      <td>...</td>\n",
       "      <td>...</td>\n",
       "      <td>...</td>\n",
       "      <td>...</td>\n",
       "      <td>...</td>\n",
       "      <td>...</td>\n",
       "      <td>...</td>\n",
       "      <td>...</td>\n",
       "      <td>...</td>\n",
       "      <td>...</td>\n",
       "      <td>...</td>\n",
       "    </tr>\n",
       "    <tr>\n",
       "      <th>222283</th>\n",
       "      <td>88.85</td>\n",
       "      <td>89512</td>\n",
       "      <td>39.5483</td>\n",
       "      <td>-119.7957</td>\n",
       "      <td>276896</td>\n",
       "      <td>1388187837</td>\n",
       "      <td>39.431524</td>\n",
       "      <td>-118.885055</td>\n",
       "      <td>0</td>\n",
       "      <td>1</td>\n",
       "      <td>0</td>\n",
       "    </tr>\n",
       "    <tr>\n",
       "      <th>222284</th>\n",
       "      <td>58.04</td>\n",
       "      <td>5486</td>\n",
       "      <td>44.6400</td>\n",
       "      <td>-73.3113</td>\n",
       "      <td>1654</td>\n",
       "      <td>1377799974</td>\n",
       "      <td>44.514894</td>\n",
       "      <td>-74.151891</td>\n",
       "      <td>0</td>\n",
       "      <td>1</td>\n",
       "      <td>0</td>\n",
       "    </tr>\n",
       "    <tr>\n",
       "      <th>222285</th>\n",
       "      <td>46.81</td>\n",
       "      <td>4555</td>\n",
       "      <td>44.0943</td>\n",
       "      <td>-69.4828</td>\n",
       "      <td>1643</td>\n",
       "      <td>1387424993</td>\n",
       "      <td>43.870709</td>\n",
       "      <td>-68.564362</td>\n",
       "      <td>0</td>\n",
       "      <td>0</td>\n",
       "      <td>0</td>\n",
       "    </tr>\n",
       "    <tr>\n",
       "      <th>222286</th>\n",
       "      <td>39.96</td>\n",
       "      <td>59714</td>\n",
       "      <td>45.7801</td>\n",
       "      <td>-111.1439</td>\n",
       "      <td>18182</td>\n",
       "      <td>1377651198</td>\n",
       "      <td>44.857909</td>\n",
       "      <td>-111.244932</td>\n",
       "      <td>0</td>\n",
       "      <td>1</td>\n",
       "      <td>0</td>\n",
       "    </tr>\n",
       "    <tr>\n",
       "      <th>222287</th>\n",
       "      <td>79.60</td>\n",
       "      <td>75092</td>\n",
       "      <td>33.6372</td>\n",
       "      <td>-96.6184</td>\n",
       "      <td>46563</td>\n",
       "      <td>1386410914</td>\n",
       "      <td>33.450687</td>\n",
       "      <td>-97.382745</td>\n",
       "      <td>0</td>\n",
       "      <td>0</td>\n",
       "      <td>0</td>\n",
       "    </tr>\n",
       "  </tbody>\n",
       "</table>\n",
       "<p>222288 rows × 11 columns</p>\n",
       "</div>"
      ],
      "text/plain": [
       "          amt    zip  Latitude  Longitude  city_pop   unix_time  merch_lat  \\\n",
       "0        8.70  49440   43.2326   -86.2492    128715  1376249570  43.142312   \n",
       "1        3.86  15920   40.4603   -79.0097       922  1379523248  40.794572   \n",
       "2       55.18  56117   43.5336   -95.6515       399  1373150139  43.027659   \n",
       "3       63.97  29455   32.8357   -79.8217     20478  1371823404  33.204335   \n",
       "4       38.76  22015   38.7894   -77.2818     43102  1384530785  39.367203   \n",
       "...       ...    ...       ...        ...       ...         ...        ...   \n",
       "222283  88.85  89512   39.5483  -119.7957    276896  1388187837  39.431524   \n",
       "222284  58.04   5486   44.6400   -73.3113      1654  1377799974  44.514894   \n",
       "222285  46.81   4555   44.0943   -69.4828      1643  1387424993  43.870709   \n",
       "222286  39.96  59714   45.7801  -111.1439     18182  1377651198  44.857909   \n",
       "222287  79.60  75092   33.6372   -96.6184     46563  1386410914  33.450687   \n",
       "\n",
       "        merch_long  is_fraud  GenderMale  Training  \n",
       "0       -87.137187         0           1         1  \n",
       "1       -79.360570         0           0         1  \n",
       "2       -95.111562         0           0         1  \n",
       "3       -78.992084         0           1         1  \n",
       "4       -77.338293         0           1         1  \n",
       "...            ...       ...         ...       ...  \n",
       "222283 -118.885055         0           1         0  \n",
       "222284  -74.151891         0           1         0  \n",
       "222285  -68.564362         0           0         0  \n",
       "222286 -111.244932         0           1         0  \n",
       "222287  -97.382745         0           0         0  \n",
       "\n",
       "[222288 rows x 11 columns]"
      ]
     },
     "execution_count": 16,
     "metadata": {},
     "output_type": "execute_result"
    }
   ],
   "source": [
    "data"
   ]
  },
  {
   "cell_type": "markdown",
   "id": "4e3bb12c-e8dc-41cf-8acb-e0e3a378d53b",
   "metadata": {},
   "source": [
    "### Creating feature list to run models"
   ]
  },
  {
   "cell_type": "code",
   "execution_count": 17,
   "id": "f0215670-ebce-45e2-9573-307a6c06c2c6",
   "metadata": {},
   "outputs": [],
   "source": [
    "col_list = [col for col in data.columns if col!= 'Training' and col!= 'is_fraud']"
   ]
  },
  {
   "cell_type": "code",
   "execution_count": 18,
   "id": "f4312458-a055-4be3-b04f-d6311c2b93ca",
   "metadata": {},
   "outputs": [
    {
     "data": {
      "text/plain": [
       "['amt',\n",
       " 'zip',\n",
       " 'Latitude',\n",
       " 'Longitude',\n",
       " 'city_pop',\n",
       " 'unix_time',\n",
       " 'merch_lat',\n",
       " 'merch_long',\n",
       " 'GenderMale']"
      ]
     },
     "execution_count": 18,
     "metadata": {},
     "output_type": "execute_result"
    }
   ],
   "source": [
    "col_list"
   ]
  },
  {
   "cell_type": "markdown",
   "id": "0497730d-7ec2-4c52-ac16-378b46eabffc",
   "metadata": {},
   "source": [
    "#### Decision Tree w/o Hyperparameter tuning\n"
   ]
  },
  {
   "cell_type": "code",
   "execution_count": 302,
   "id": "5c562c13-176b-485a-bbb1-486c0070c53f",
   "metadata": {
    "tags": []
   },
   "outputs": [],
   "source": [
    "dt = DecisionTreeClassifier(random_state=42)\n",
    "# Train\n",
    "dt.fit(data[data.Training==1][col_list],data[data.Training == 1]['is_fraud'])\n",
    "# Predict\n",
    "dt_pred = dt.predict(data[data.Training == 0][col_list])\n"
   ]
  },
  {
   "cell_type": "code",
   "execution_count": 303,
   "id": "60ede506-8140-42e1-85c9-48f374ab7e8b",
   "metadata": {},
   "outputs": [
    {
     "data": {
      "image/png": "[encoded data removed]",
      "text/plain": [
       "<Figure size 500x500 with 1 Axes>"
      ]
     },
     "metadata": {},
     "output_type": "display_data"
    }
   ],
   "source": [
    "fig, ax = plot_confusion_matrix(conf_mat=confusion_matrix(data[data.Training == 0]['is_fraud'],dt_pred), \n",
    "                                 figsize=(5, 5), cmap=plt.cm.Blues)\n",
    "\n",
    "ax.set_xlabel('Predicted label', fontsize=14)\n",
    "ax.set_ylabel('True label', fontsize=14)\n",
    "plt.title('Confusion Matrix', fontsize=14)\n",
    "plt.show()"
   ]
  },
  {
   "cell_type": "code",
   "execution_count": 304,
   "id": "3869c2b5-93cf-4c1a-b102-b0b7cfa53a36",
   "metadata": {
    "tags": []
   },
   "outputs": [
    {
     "data": {
      "text/plain": [
       "{'ccp_alpha': 0.0,\n",
       " 'class_weight': None,\n",
       " 'criterion': 'gini',\n",
       " 'max_depth': None,\n",
       " 'max_features': None,\n",
       " 'max_leaf_nodes': None,\n",
       " 'min_impurity_decrease': 0.0,\n",
       " 'min_samples_leaf': 1,\n",
       " 'min_samples_split': 2,\n",
       " 'min_weight_fraction_leaf': 0.0,\n",
       " 'random_state': 42,\n",
       " 'splitter': 'best'}"
      ]
     },
     "execution_count": 304,
     "metadata": {},
     "output_type": "execute_result"
    }
   ],
   "source": [
    "dt.get_params()"
   ]
  },
  {
   "cell_type": "code",
   "execution_count": 305,
   "id": "1f942edd-5add-4ae6-985a-4ac45358ebce",
   "metadata": {},
   "outputs": [],
   "source": [
    "data['dt_pred'] = dt.predict_proba(data[col_list])[:,1]"
   ]
  },
  {
   "cell_type": "code",
   "execution_count": 306,
   "id": "1543b4ea-c195-4336-af67-67dba93c7b7c",
   "metadata": {
    "tags": []
   },
   "outputs": [
    {
     "data": {
      "text/html": [
       "<div>\n",
       "<style scoped>\n",
       "    .dataframe tbody tr th:only-of-type {\n",
       "        vertical-align: middle;\n",
       "    }\n",
       "\n",
       "    .dataframe tbody tr th {\n",
       "        vertical-align: top;\n",
       "    }\n",
       "\n",
       "    .dataframe thead th {\n",
       "        text-align: right;\n",
       "    }\n",
       "</style>\n",
       "<table border=\"1\" class=\"dataframe\">\n",
       "  <thead>\n",
       "    <tr style=\"text-align: right;\">\n",
       "      <th></th>\n",
       "      <th>amt</th>\n",
       "      <th>zip</th>\n",
       "      <th>Latitude</th>\n",
       "      <th>Longitude</th>\n",
       "      <th>city_pop</th>\n",
       "      <th>unix_time</th>\n",
       "      <th>merch_lat</th>\n",
       "      <th>merch_long</th>\n",
       "      <th>is_fraud</th>\n",
       "      <th>GenderMale</th>\n",
       "      <th>Training</th>\n",
       "      <th>dt_pred</th>\n",
       "    </tr>\n",
       "  </thead>\n",
       "  <tbody>\n",
       "    <tr>\n",
       "      <th>0</th>\n",
       "      <td>13.43</td>\n",
       "      <td>29436</td>\n",
       "      <td>33.3364</td>\n",
       "      <td>-80.1859</td>\n",
       "      <td>4471</td>\n",
       "      <td>1377991686</td>\n",
       "      <td>33.263489</td>\n",
       "      <td>-79.424448</td>\n",
       "      <td>0</td>\n",
       "      <td>1</td>\n",
       "      <td>1</td>\n",
       "      <td>0.0</td>\n",
       "    </tr>\n",
       "    <tr>\n",
       "      <th>1</th>\n",
       "      <td>71.86</td>\n",
       "      <td>10463</td>\n",
       "      <td>40.8798</td>\n",
       "      <td>-73.9067</td>\n",
       "      <td>1382480</td>\n",
       "      <td>1379422481</td>\n",
       "      <td>41.821649</td>\n",
       "      <td>-73.875606</td>\n",
       "      <td>0</td>\n",
       "      <td>1</td>\n",
       "      <td>1</td>\n",
       "      <td>0.0</td>\n",
       "    </tr>\n",
       "    <tr>\n",
       "      <th>2</th>\n",
       "      <td>8.47</td>\n",
       "      <td>58579</td>\n",
       "      <td>47.1709</td>\n",
       "      <td>-100.7944</td>\n",
       "      <td>1190</td>\n",
       "      <td>1376242968</td>\n",
       "      <td>48.013929</td>\n",
       "      <td>-100.089278</td>\n",
       "      <td>0</td>\n",
       "      <td>0</td>\n",
       "      <td>1</td>\n",
       "      <td>0.0</td>\n",
       "    </tr>\n",
       "    <tr>\n",
       "      <th>3</th>\n",
       "      <td>86.62</td>\n",
       "      <td>39157</td>\n",
       "      <td>32.4122</td>\n",
       "      <td>-90.1207</td>\n",
       "      <td>24645</td>\n",
       "      <td>1387799448</td>\n",
       "      <td>31.964041</td>\n",
       "      <td>-90.873328</td>\n",
       "      <td>0</td>\n",
       "      <td>0</td>\n",
       "      <td>1</td>\n",
       "      <td>0.0</td>\n",
       "    </tr>\n",
       "    <tr>\n",
       "      <th>4</th>\n",
       "      <td>8.94</td>\n",
       "      <td>76578</td>\n",
       "      <td>30.5920</td>\n",
       "      <td>-97.2893</td>\n",
       "      <td>1766</td>\n",
       "      <td>1380715667</td>\n",
       "      <td>31.429211</td>\n",
       "      <td>-96.324927</td>\n",
       "      <td>0</td>\n",
       "      <td>0</td>\n",
       "      <td>1</td>\n",
       "      <td>0.0</td>\n",
       "    </tr>\n",
       "  </tbody>\n",
       "</table>\n",
       "</div>"
      ],
      "text/plain": [
       "     amt    zip  Latitude  Longitude  city_pop   unix_time  merch_lat  \\\n",
       "0  13.43  29436   33.3364   -80.1859      4471  1377991686  33.263489   \n",
       "1  71.86  10463   40.8798   -73.9067   1382480  1379422481  41.821649   \n",
       "2   8.47  58579   47.1709  -100.7944      1190  1376242968  48.013929   \n",
       "3  86.62  39157   32.4122   -90.1207     24645  1387799448  31.964041   \n",
       "4   8.94  76578   30.5920   -97.2893      1766  1380715667  31.429211   \n",
       "\n",
       "   merch_long  is_fraud  GenderMale  Training  dt_pred  \n",
       "0  -79.424448         0           1         1      0.0  \n",
       "1  -73.875606         0           1         1      0.0  \n",
       "2 -100.089278         0           0         1      0.0  \n",
       "3  -90.873328         0           0         1      0.0  \n",
       "4  -96.324927         0           0         1      0.0  "
      ]
     },
     "execution_count": 306,
     "metadata": {},
     "output_type": "execute_result"
    }
   ],
   "source": [
    "data.head()"
   ]
  },
  {
   "cell_type": "markdown",
   "id": "e06246d5-48de-467c-8f9d-26c0871b004d",
   "metadata": {},
   "source": [
    "#### Random Forest w/o Hyperparameter tuning\n"
   ]
  },
  {
   "cell_type": "code",
   "execution_count": 307,
   "id": "ab621ed6-eda6-46a5-a262-ec420bcf3c45",
   "metadata": {},
   "outputs": [],
   "source": [
    "rf = RandomForestClassifier(n_estimators=200,random_state=42)\n",
    "\n",
    "rf.fit(data[data.Training==1][col_list],data[data.Training == 1]['is_fraud'])\n",
    "\n",
    "rf_pred = rf.predict(data[data.Training == 0][col_list])\n"
   ]
  },
  {
   "cell_type": "code",
   "execution_count": 308,
   "id": "9663b8c6-f781-43ac-991c-040267d161d7",
   "metadata": {},
   "outputs": [
    {
     "data": {
      "image/png": "[encoded data removed]",
      "text/plain": [
       "<Figure size 500x500 with 1 Axes>"
      ]
     },
     "metadata": {},
     "output_type": "display_data"
    }
   ],
   "source": [
    "fig, ax = plot_confusion_matrix(conf_mat=confusion_matrix(data[data.Training == 0]['is_fraud'],rf_pred), \n",
    "                                 figsize=(5, 5), cmap=plt.cm.Blues)\n",
    "\n",
    "ax.set_xlabel('Predicted label', fontsize=14)\n",
    "ax.set_ylabel('True label', fontsize=14)\n",
    "plt.title('Confusion Matrix', fontsize=14)\n",
    "plt.show()"
   ]
  },
  {
   "cell_type": "code",
   "execution_count": 309,
   "id": "0534be0f-624a-4a2a-8325-72e452ae50c4",
   "metadata": {
    "tags": []
   },
   "outputs": [
    {
     "data": {
      "text/plain": [
       "{'bootstrap': True,\n",
       " 'ccp_alpha': 0.0,\n",
       " 'class_weight': None,\n",
       " 'criterion': 'gini',\n",
       " 'max_depth': None,\n",
       " 'max_features': 'sqrt',\n",
       " 'max_leaf_nodes': None,\n",
       " 'max_samples': None,\n",
       " 'min_impurity_decrease': 0.0,\n",
       " 'min_samples_leaf': 1,\n",
       " 'min_samples_split': 2,\n",
       " 'min_weight_fraction_leaf': 0.0,\n",
       " 'n_estimators': 200,\n",
       " 'n_jobs': None,\n",
       " 'oob_score': False,\n",
       " 'random_state': 42,\n",
       " 'verbose': 0,\n",
       " 'warm_start': False}"
      ]
     },
     "execution_count": 309,
     "metadata": {},
     "output_type": "execute_result"
    }
   ],
   "source": [
    "rf.get_params()"
   ]
  },
  {
   "cell_type": "code",
   "execution_count": 310,
   "id": "904cee14-5636-4b32-9eca-121cce34a825",
   "metadata": {},
   "outputs": [],
   "source": [
    "data['RD_pred'] = rf.predict_proba(data[col_list])[:,1]"
   ]
  },
  {
   "cell_type": "markdown",
   "id": "419b0f93-c428-4f16-a27a-a0560e8978de",
   "metadata": {},
   "source": [
    "#### AdaBoost w/o Hyperparameter tuning\n"
   ]
  },
  {
   "cell_type": "code",
   "execution_count": 311,
   "id": "43ea808f-9de0-4f1b-9a5e-0aa7a2592690",
   "metadata": {},
   "outputs": [],
   "source": [
    "ada = AdaBoostClassifier(n_estimators=200,random_state=42)\n",
    "ada.fit(data[data.Training==1][col_list],data[data.Training == 1]['is_fraud'])\n",
    "\n",
    "ada_pred = ada.predict(data[data.Training == 0][col_list])\n"
   ]
  },
  {
   "cell_type": "code",
   "execution_count": 312,
   "id": "3a2f6b70-0f0f-4a74-85a7-0535b0073caa",
   "metadata": {},
   "outputs": [
    {
     "data": {
      "image/png": "[encoded data removed]",
      "text/plain": [
       "<Figure size 500x500 with 1 Axes>"
      ]
     },
     "metadata": {},
     "output_type": "display_data"
    }
   ],
   "source": [
    "fig, ax = plot_confusion_matrix(conf_mat=confusion_matrix(data[data.Training == 0]['is_fraud'],ada_pred), \n",
    "                                 figsize=(5, 5), cmap=plt.cm.Blues)\n",
    "\n",
    "ax.set_xlabel('Predicted label', fontsize=14)\n",
    "ax.set_ylabel('True label', fontsize=14)\n",
    "plt.title('Confusion Matrix', fontsize=14)\n",
    "plt.show()"
   ]
  },
  {
   "cell_type": "code",
   "execution_count": 313,
   "id": "d79c37d4-9fcb-459e-b299-03ccb32e9c9d",
   "metadata": {},
   "outputs": [
    {
     "data": {
      "text/plain": [
       "{'algorithm': 'SAMME.R',\n",
       " 'base_estimator': 'deprecated',\n",
       " 'estimator': None,\n",
       " 'learning_rate': 1.0,\n",
       " 'n_estimators': 200,\n",
       " 'random_state': 42}"
      ]
     },
     "execution_count": 313,
     "metadata": {},
     "output_type": "execute_result"
    }
   ],
   "source": [
    "ada.get_params()"
   ]
  },
  {
   "cell_type": "code",
   "execution_count": 314,
   "id": "67d75da5-0080-4a30-8f29-e5826f417abf",
   "metadata": {},
   "outputs": [],
   "source": [
    "data['ADA_pred'] = ada.predict_proba(data[col_list])[:,1]"
   ]
  },
  {
   "cell_type": "markdown",
   "id": "91c068b7-ec5b-4b8c-8ac2-3fdaa046fb87",
   "metadata": {},
   "source": [
    "#### XGB w/o Hyperparameter tuning"
   ]
  },
  {
   "cell_type": "code",
   "execution_count": 315,
   "id": "d9bae63c-4a11-4957-bbd2-8b23c59a7039",
   "metadata": {},
   "outputs": [],
   "source": [
    "xgbc = xgb.XGBClassifier(n_estimators=200,\n",
    "                         max_depth=2,\n",
    "                         eval_metric=\"auc\",\n",
    "                         random_state=42).fit(data[data.Training==1][col_list],data[data.Training == 1]['is_fraud'],verbose=True)\n",
    "\n",
    "\n",
    "xgb_pred = xgbc.predict(data[data.Training == 0][col_list])\n"
   ]
  },
  {
   "cell_type": "code",
   "execution_count": 316,
   "id": "151b39a4-ca43-493a-881d-a82f37b0e596",
   "metadata": {},
   "outputs": [
    {
     "data": {
      "image/png": "[encoded data removed]",
      "text/plain": [
       "<Figure size 500x500 with 1 Axes>"
      ]
     },
     "metadata": {},
     "output_type": "display_data"
    }
   ],
   "source": [
    "fig, ax = plot_confusion_matrix(conf_mat=confusion_matrix(data[data.Training == 0]['is_fraud'],xgb_pred), \n",
    "                                 figsize=(5, 5), cmap=plt.cm.Blues)\n",
    "\n",
    "ax.set_xlabel('Predicted label', fontsize=14)\n",
    "ax.set_ylabel('True label', fontsize=14)\n",
    "plt.title('Confusion Matrix', fontsize=14)\n",
    "plt.show()"
   ]
  },
  {
   "cell_type": "code",
   "execution_count": 317,
   "id": "667b9d63-4219-4a54-852a-205db89c10bc",
   "metadata": {
    "tags": []
   },
   "outputs": [
    {
     "data": {
      "text/plain": [
       "{'objective': 'binary:logistic',\n",
       " 'use_label_encoder': None,\n",
       " 'base_score': 0.5,\n",
       " 'booster': 'gbtree',\n",
       " 'callbacks': None,\n",
       " 'colsample_bylevel': 1,\n",
       " 'colsample_bynode': 1,\n",
       " 'colsample_bytree': 1,\n",
       " 'early_stopping_rounds': None,\n",
       " 'enable_categorical': False,\n",
       " 'eval_metric': 'auc',\n",
       " 'feature_types': None,\n",
       " 'gamma': 0,\n",
       " 'gpu_id': -1,\n",
       " 'grow_policy': 'depthwise',\n",
       " 'importance_type': None,\n",
       " 'interaction_constraints': '',\n",
       " 'learning_rate': 0.300000012,\n",
       " 'max_bin': 256,\n",
       " 'max_cat_threshold': 64,\n",
       " 'max_cat_to_onehot': 4,\n",
       " 'max_delta_step': 0,\n",
       " 'max_depth': 2,\n",
       " 'max_leaves': 0,\n",
       " 'min_child_weight': 1,\n",
       " 'missing': nan,\n",
       " 'monotone_constraints': '()',\n",
       " 'n_estimators': 200,\n",
       " 'n_jobs': 0,\n",
       " 'num_parallel_tree': 1,\n",
       " 'predictor': 'auto',\n",
       " 'random_state': 42,\n",
       " 'reg_alpha': 0,\n",
       " 'reg_lambda': 1,\n",
       " 'sampling_method': 'uniform',\n",
       " 'scale_pos_weight': 1,\n",
       " 'subsample': 1,\n",
       " 'tree_method': 'exact',\n",
       " 'validate_parameters': 1,\n",
       " 'verbosity': None}"
      ]
     },
     "execution_count": 317,
     "metadata": {},
     "output_type": "execute_result"
    }
   ],
   "source": [
    "xgbc.get_params()"
   ]
  },
  {
   "cell_type": "code",
   "execution_count": 318,
   "id": "d9ed0169-ef86-469e-a27f-c49ee479b3c0",
   "metadata": {},
   "outputs": [],
   "source": [
    "data['XGB_pred'] = xgbc.predict_proba(data[col_list])[:,1]"
   ]
  },
  {
   "cell_type": "markdown",
   "id": "496f2120-35d0-43b7-bf20-f7c8ad855bb5",
   "metadata": {},
   "source": [
    "### What is Hyperparameter Tuning and Cross Validation (CV)?\n",
    "\n",
    "Hyperparameter tuning refers to the process of selecting the best hyperparameters for a given machine learning algorithm. \n",
    "\n",
    "- Hyperparameters are parameters that cannot be learned from the data and must be set manually before training. \n",
    "- Examples of hyperparameters include the regularization parameter, maximum depth, number of estimators etc. By tuning these hyperparameters, we can optimize the performance of the model on a given dataset. (We can find all these parameters on sklearn model's help website)\n",
    "\n",
    "Cross-validation, is a technique for evaluating the performance of a model on a given dataset. \n",
    "- In cross-validation, the dataset is divided into k-folds, and the model is trained and tested k times. \n",
    "- In each iteration, k-1 folds are used for training, and the remaining fold is used for testing. \n",
    "- This process is repeated for each fold, and the results are averaged to obtain a final performance score. Cross-validation can help prevent overfitting and provide a more accurate estimate of the model's performance on unseen data.\n",
    "\n",
    "Together, hyperparameter tuning and cross-validation can help improve the performance of machine learning models and make them more robust and reliable. By selecting the best hyperparameters and evaluating the model's performance on multiple folds of data, we can create models that generalize well and are less prone to overfitting.\n"
   ]
  },
  {
   "cell_type": "markdown",
   "id": "59351ac2-18dc-4383-a6a9-91a5f8fe1d89",
   "metadata": {},
   "source": [
    "#### Decision Tree with CV & Hyperparameter Tuning"
   ]
  },
  {
   "cell_type": "code",
   "execution_count": 319,
   "id": "35aa3a69-2725-4e64-a56e-6daf267dd5cb",
   "metadata": {},
   "outputs": [],
   "source": [
    "kf = StratifiedKFold(n_splits=5, shuffle=False)"
   ]
  },
  {
   "cell_type": "code",
   "execution_count": 320,
   "id": "85a65d30-4632-4ed8-9f6e-1dadb567e766",
   "metadata": {},
   "outputs": [],
   "source": [
    "dt_cv = DecisionTreeClassifier(random_state=42)"
   ]
  },
  {
   "cell_type": "code",
   "execution_count": 321,
   "id": "97c528dc-1001-4bcc-8025-0794dbe8a4d8",
   "metadata": {},
   "outputs": [
    {
     "name": "stdout",
     "output_type": "stream",
     "text": [
      "Fitting 5 folds for each of 6 candidates, totalling 30 fits\n"
     ]
    }
   ],
   "source": [
    "params = {\n",
    "    'criterion': ['gini','entropy'],\n",
    "    'max_depth': list(range(1, 4))\n",
    "}\n",
    "grid_dt = GridSearchCV(dt_cv, param_grid=params,scoring = 'f1', cv = kf, n_jobs = 4, refit = 'f1', verbose = 5\n",
    "                      ).fit(data[data.Training==1][col_list],data[data.Training == 1]['is_fraud'])\n"
   ]
  },
  {
   "cell_type": "code",
   "execution_count": 322,
   "id": "75950325-72c6-4cf7-a2bf-8196a0df19f6",
   "metadata": {},
   "outputs": [
    {
     "name": "stdout",
     "output_type": "stream",
     "text": [
      "Best Parameters: {'criterion': 'gini', 'max_depth': 1}\n",
      "Best Score 0.0\n"
     ]
    }
   ],
   "source": [
    "print(\"Best Parameters:\", grid_dt.best_params_)\n",
    "print(\"Best Score\", grid_dt.best_score_)"
   ]
  },
  {
   "cell_type": "code",
   "execution_count": 323,
   "id": "aa24255c-58e5-444f-b305-ac497945c5a0",
   "metadata": {},
   "outputs": [],
   "source": [
    "dt_cv_pred = grid_dt.predict(data[data.Training==0][col_list])\n"
   ]
  },
  {
   "cell_type": "code",
   "execution_count": 324,
   "id": "62ee957b-5352-4996-b173-7e9628a311f3",
   "metadata": {},
   "outputs": [
    {
     "data": {
      "image/png": "[encoded data removed]",
      "text/plain": [
       "<Figure size 500x500 with 1 Axes>"
      ]
     },
     "metadata": {},
     "output_type": "display_data"
    }
   ],
   "source": [
    "fig, ax = plot_confusion_matrix(conf_mat=confusion_matrix(data[data.Training == 0]['is_fraud'],dt_cv_pred), \n",
    "                                 figsize=(5, 5), cmap=plt.cm.Blues)\n",
    "\n",
    "ax.set_xlabel('Predicted label', fontsize=14)\n",
    "ax.set_ylabel('True label', fontsize=14)\n",
    "plt.title('Confusion Matrix', fontsize=14)\n",
    "plt.show()"
   ]
  },
  {
   "cell_type": "code",
   "execution_count": 325,
   "id": "a62cc064-564b-4ab6-8c4b-6aeb66c80c65",
   "metadata": {},
   "outputs": [],
   "source": [
    "data['DT_cv_pred'] = grid_dt.predict_proba(data[col_list])[:,1]"
   ]
  },
  {
   "cell_type": "markdown",
   "id": "a9bdd184-7987-47e7-86b6-2028648c978c",
   "metadata": {},
   "source": [
    "#### Random Forest with CV & Hyperparameter Tuning"
   ]
  },
  {
   "cell_type": "code",
   "execution_count": 326,
   "id": "da432606-d912-4be4-afe5-ce3150d24f66",
   "metadata": {},
   "outputs": [],
   "source": [
    "rf_cv = RandomForestClassifier(random_state=42)"
   ]
  },
  {
   "cell_type": "code",
   "execution_count": 327,
   "id": "bcf71c25-2055-455d-9a7c-a7c6e39fc365",
   "metadata": {},
   "outputs": [
    {
     "name": "stdout",
     "output_type": "stream",
     "text": [
      "Fitting 5 folds for each of 8 candidates, totalling 40 fits\n"
     ]
    }
   ],
   "source": [
    "params = {\n",
    "    'n_estimators': list(range(100, 401, 100)),\n",
    "    'max_features': ['sqrt','log2']\n",
    "}\n",
    "grid_rf = GridSearchCV(rf_cv, param_grid=params,scoring = 'f1', cv = kf,n_jobs = 4,refit = 'f1',verbose=5\n",
    "                      ).fit(data[data.Training==1][col_list],data[data.Training == 1]['is_fraud'])\n"
   ]
  },
  {
   "cell_type": "code",
   "execution_count": 328,
   "id": "06e00881-e7cc-4b74-ac74-f5a03e57fa99",
   "metadata": {},
   "outputs": [
    {
     "name": "stdout",
     "output_type": "stream",
     "text": [
      "Best Parameters: {'max_features': 'sqrt', 'n_estimators': 400}\n",
      "Best Score 0.5557388591364772\n"
     ]
    }
   ],
   "source": [
    "print(\"Best Parameters:\", grid_rf.best_params_)\n",
    "print(\"Best Score\", grid_rf.best_score_)"
   ]
  },
  {
   "cell_type": "code",
   "execution_count": 329,
   "id": "40faee6c-23f9-41fe-a3a6-9cc616e15ac6",
   "metadata": {},
   "outputs": [],
   "source": [
    "rf_cv_pred = grid_rf.predict(data[data.Training==0][col_list])\n"
   ]
  },
  {
   "cell_type": "code",
   "execution_count": 330,
   "id": "85864edd-15b2-4d7a-be4b-b65b345e097e",
   "metadata": {},
   "outputs": [
    {
     "data": {
      "image/png": "[encoded data removed]",
      "text/plain": [
       "<Figure size 500x500 with 1 Axes>"
      ]
     },
     "metadata": {},
     "output_type": "display_data"
    }
   ],
   "source": [
    "fig, ax = plot_confusion_matrix(conf_mat=confusion_matrix(data[data.Training == 0]['is_fraud'],rf_cv_pred), \n",
    "                                 figsize=(5, 5), cmap=plt.cm.Blues)\n",
    "\n",
    "ax.set_xlabel('Predicted label', fontsize=14)\n",
    "ax.set_ylabel('True label', fontsize=14)\n",
    "plt.title('Confusion Matrix', fontsize=14)\n",
    "plt.show()"
   ]
  },
  {
   "cell_type": "code",
   "execution_count": 331,
   "id": "1818f21b-f7d7-4c50-9ab0-7847e3f66e24",
   "metadata": {},
   "outputs": [],
   "source": [
    "data['RF_cv_pred'] = grid_rf.predict_proba(data[col_list])[:,1]"
   ]
  },
  {
   "cell_type": "markdown",
   "id": "01110b2c-9196-489e-928e-53352c1910ea",
   "metadata": {},
   "source": [
    "#### AdaBoost with CV & Hyperparameter Tuning"
   ]
  },
  {
   "cell_type": "code",
   "execution_count": 332,
   "id": "0c5d0695-70ee-4f8e-9934-bb22e06ee833",
   "metadata": {},
   "outputs": [
    {
     "name": "stdout",
     "output_type": "stream",
     "text": [
      "Fitting 5 folds for each of 3 candidates, totalling 15 fits\n"
     ]
    }
   ],
   "source": [
    "ada_cv = AdaBoostClassifier(random_state=42)\n",
    "params = {\n",
    "    'n_estimators': [50,100,200]\n",
    "}\n",
    "\n",
    "grid_ada = GridSearchCV(ada_cv, param_grid=params,scoring = 'f1', cv = kf ,n_jobs = 4, refit = 'f1',\n",
    "                        verbose=5).fit(data[data.Training==1][col_list],data[data.Training == 1]['is_fraud'])\n",
    "\n"
   ]
  },
  {
   "cell_type": "code",
   "execution_count": 333,
   "id": "ff414756-43f0-458f-9c8f-d2abea2a35cd",
   "metadata": {},
   "outputs": [
    {
     "name": "stdout",
     "output_type": "stream",
     "text": [
      "Best Parameters: {'n_estimators': 200}\n",
      "Best Score 0.3478928078824537\n"
     ]
    }
   ],
   "source": [
    "print(\"Best Parameters:\", grid_ada.best_params_)\n",
    "print(\"Best Score\", grid_ada.best_score_)"
   ]
  },
  {
   "cell_type": "code",
   "execution_count": 334,
   "id": "c7ae9828-da37-46a1-8356-4397e51409cf",
   "metadata": {},
   "outputs": [],
   "source": [
    "ada_cv_pred = grid_ada.predict(data[data.Training==0][col_list])\n"
   ]
  },
  {
   "cell_type": "code",
   "execution_count": 335,
   "id": "4890e9f2-fac1-49e2-a697-010d9c6e2ce7",
   "metadata": {},
   "outputs": [
    {
     "data": {
      "image/png": "[encoded data removed]",
      "text/plain": [
       "<Figure size 500x500 with 1 Axes>"
      ]
     },
     "metadata": {},
     "output_type": "display_data"
    }
   ],
   "source": [
    "fig, ax = plot_confusion_matrix(conf_mat=confusion_matrix(data[data.Training == 0]['is_fraud'],ada_cv_pred), \n",
    "                                 figsize=(5, 5), cmap=plt.cm.Blues)\n",
    "\n",
    "ax.set_xlabel('Predicted label', fontsize=14)\n",
    "ax.set_ylabel('True label', fontsize=14)\n",
    "plt.title('Confusion Matrix', fontsize=14)\n",
    "plt.show()"
   ]
  },
  {
   "cell_type": "code",
   "execution_count": 336,
   "id": "26ff9865-0be0-47f1-a166-44a7ee61e375",
   "metadata": {},
   "outputs": [],
   "source": [
    "data['ADA_cv_pred'] = grid_ada.predict_proba(data[col_list])[:,1]"
   ]
  },
  {
   "cell_type": "markdown",
   "id": "c84308b0-4371-4d69-8966-b77b8714963d",
   "metadata": {},
   "source": [
    "#### XGBoost with CV & Hyperparameter Tuning"
   ]
  },
  {
   "cell_type": "code",
   "execution_count": 337,
   "id": "0b945ec9-a795-4e7b-aa23-14a3e5a141c3",
   "metadata": {},
   "outputs": [
    {
     "name": "stdout",
     "output_type": "stream",
     "text": [
      "Fitting 5 folds for each of 24 candidates, totalling 120 fits\n"
     ]
    }
   ],
   "source": [
    "xgbc_cv = xgb.XGBClassifier(random_state=42)\n",
    "\n",
    "params = {\n",
    "    'n_estimators': list(range(100, 801, 100)),\n",
    "    'max_depth': list(range(1, 4))\n",
    "}\n",
    "\n",
    "\n",
    "grid_xgb = GridSearchCV(xgbc_cv, param_grid=params,scoring = 'f1', cv = kf ,n_jobs = 4, refit = 'f1', verbose=5\n",
    "                       ).fit(data[data.Training==1][col_list],data[data.Training == 1]['is_fraud'])\n",
    "\n"
   ]
  },
  {
   "cell_type": "code",
   "execution_count": 338,
   "id": "d7be564c-bd50-48f8-abce-a2568796597f",
   "metadata": {},
   "outputs": [
    {
     "name": "stdout",
     "output_type": "stream",
     "text": [
      "Best Parameters: {'max_depth': 3, 'n_estimators': 800}\n",
      "Best Score 0.6151558048884189\n"
     ]
    }
   ],
   "source": [
    "print(\"Best Parameters:\", grid_xgb.best_params_)\n",
    "print(\"Best Score\", grid_xgb.best_score_)"
   ]
  },
  {
   "cell_type": "code",
   "execution_count": 339,
   "id": "79e6bfb8-bd17-4873-b03c-06e531490384",
   "metadata": {},
   "outputs": [],
   "source": [
    "xgbc_cv_pred = grid_xgb.predict(data[data.Training==0][col_list])\n"
   ]
  },
  {
   "cell_type": "code",
   "execution_count": 340,
   "id": "7e9057f7-1908-447a-bbac-b5602670b4c6",
   "metadata": {},
   "outputs": [
    {
     "data": {
      "image/png": "[encoded data removed]",
      "text/plain": [
       "<Figure size 500x500 with 1 Axes>"
      ]
     },
     "metadata": {},
     "output_type": "display_data"
    }
   ],
   "source": [
    "fig, ax = plot_confusion_matrix(conf_mat=confusion_matrix(data[data.Training == 0]['is_fraud'],xgbc_cv_pred), \n",
    "                                 figsize=(5, 5), cmap=plt.cm.Blues)\n",
    "\n",
    "ax.set_xlabel('Predicted label', fontsize=14)\n",
    "ax.set_ylabel('True label', fontsize=14)\n",
    "plt.title('Confusion Matrix', fontsize=14)\n",
    "plt.show()"
   ]
  },
  {
   "cell_type": "code",
   "execution_count": 341,
   "id": "3b285120-2a3e-4ecb-b868-21d060ac8518",
   "metadata": {},
   "outputs": [],
   "source": [
    "data['XGB_cv_pred'] = grid_xgb.predict_proba(data[col_list])[:,1]"
   ]
  },
  {
   "cell_type": "markdown",
   "id": "167cb2ab-c820-40d4-97b9-1b340c4b6b73",
   "metadata": {},
   "source": [
    "### What is Permutation Importance?\n",
    "\n",
    "Permutation importance is a technique for feature importance estimation in machine learning models. It measures the importance of each feature by permuting its values and observing the effect on the model's performance.\n",
    "\n",
    "The basic idea behind permutation importance is to shuffle the values of a feature in the test set and evaluate the resulting decrease in the model's performance metric. By comparing the decrease in performance with the original performance, we can estimate the importance of the feature. Features that have a large impact on the performance metric when their values are permuted are considered more important, while features that have little impact are considered less important.\n",
    "\n",
    "Permutation importance is a powerful technique for understanding which features are most important for a given machine learning problem. It is often used in combination with other feature selection techniques to improve the performance of models and reduce overfitting."
   ]
  },
  {
   "cell_type": "markdown",
   "id": "5c8feed1-8c74-4e3c-a7c6-a74b5e7fef3a",
   "metadata": {},
   "source": [
    "## Permutation importance using XGB"
   ]
  },
  {
   "cell_type": "code",
   "execution_count": 342,
   "id": "cafae376-25c5-43ff-959a-364dada0350c",
   "metadata": {},
   "outputs": [],
   "source": [
    "def importance(clf, X, y, cn):\n",
    "    imp = permutation_importance(\n",
    "        clf, X, y, scoring=\"f1\", n_repeats=10, random_state=1234\n",
    "    )\n",
    "    data = pd.DataFrame(imp.importances.T)\n",
    "    data.columns = cn\n",
    "    order = data.agg(\"mean\").sort_values(ascending=False).index\n",
    "    fig = sns.barplot(\n",
    "        x=\"value\", y=\"variable\", color=\"slateblue\", data=pd.melt(data[order])\n",
    "    )\n",
    "    fig.set(title=\"Permutation Importances\", xlabel=None, ylabel=None)\n",
    "    return fig"
   ]
  },
  {
   "cell_type": "code",
   "execution_count": 343,
   "id": "277c32ce-9e18-4277-8a92-90d3769460ad",
   "metadata": {},
   "outputs": [
    {
     "data": {
      "image/png": "[encoded data removed]",
      "text/plain": [
       "<Figure size 640x480 with 1 Axes>"
      ]
     },
     "metadata": {},
     "output_type": "display_data"
    }
   ],
   "source": [
    "fig = importance(grid_xgb, data[data.Training == 0][col_list], data[data.Training == 0]['is_fraud'],\n",
    "                 data[data.Training == 0][col_list].columns)"
   ]
  },
  {
   "cell_type": "markdown",
   "id": "0a077280-41f2-4fb3-8459-369c4dbd3d49",
   "metadata": {},
   "source": [
    "## Model Comparison"
   ]
  },
  {
   "cell_type": "code",
   "execution_count": 344,
   "id": "f7a4e63b-c2aa-45b4-ac56-44d659248fe6",
   "metadata": {},
   "outputs": [
    {
     "name": "stderr",
     "output_type": "stream",
     "text": [
      "/home/jovyan/.rsm-msba/lib/python3.10/site-packages/pyrsm/perf.py:1038: RuntimeWarning: invalid value encountered in long_scalars\n",
      "  precision = TP / (TP + FP)\n",
      "/home/jovyan/.rsm-msba/lib/python3.10/site-packages/pyrsm/perf.py:1062: RuntimeWarning: invalid value encountered in long_scalars\n",
      "  ROME=[profit / (cost * (TP + FP))],\n"
     ]
    }
   ],
   "source": [
    "pred_cols = [col for col in data.columns if \"pred\" in col]\n",
    "\n",
    "model_comparison = rsm.evalbin(\n",
    "    pred=pred_cols,\n",
    "    df=data[data.Training == 0],\n",
    "    rvar=\"is_fraud\",\n",
    "    lev=1,\n",
    "    cost=1,\n",
    "    margin=2,\n",
    ")"
   ]
  },
  {
   "cell_type": "code",
   "execution_count": 345,
   "id": "1781927f-76f5-4e4e-b838-344d587ccd6d",
   "metadata": {},
   "outputs": [
    {
     "data": {
      "text/html": [
       "<div>\n",
       "<style scoped>\n",
       "    .dataframe tbody tr th:only-of-type {\n",
       "        vertical-align: middle;\n",
       "    }\n",
       "\n",
       "    .dataframe tbody tr th {\n",
       "        vertical-align: top;\n",
       "    }\n",
       "\n",
       "    .dataframe thead th {\n",
       "        text-align: right;\n",
       "    }\n",
       "</style>\n",
       "<table border=\"1\" class=\"dataframe\">\n",
       "  <thead>\n",
       "    <tr style=\"text-align: right;\">\n",
       "      <th></th>\n",
       "      <th>Type</th>\n",
       "      <th>predictor</th>\n",
       "      <th>TP</th>\n",
       "      <th>FP</th>\n",
       "      <th>TN</th>\n",
       "      <th>FN</th>\n",
       "      <th>total</th>\n",
       "      <th>TPR</th>\n",
       "      <th>TNR</th>\n",
       "      <th>precision</th>\n",
       "      <th>Fscore</th>\n",
       "      <th>accuracy</th>\n",
       "      <th>kappa</th>\n",
       "      <th>profit</th>\n",
       "      <th>index</th>\n",
       "      <th>ROME</th>\n",
       "      <th>contact</th>\n",
       "      <th>AUC</th>\n",
       "    </tr>\n",
       "  </thead>\n",
       "  <tbody>\n",
       "    <tr>\n",
       "      <th>0</th>\n",
       "      <td>All</td>\n",
       "      <td>dt_pred</td>\n",
       "      <td>131</td>\n",
       "      <td>131</td>\n",
       "      <td>66287</td>\n",
       "      <td>138</td>\n",
       "      <td>66687</td>\n",
       "      <td>0.487</td>\n",
       "      <td>0.998</td>\n",
       "      <td>0.500</td>\n",
       "      <td>0.493</td>\n",
       "      <td>0.996</td>\n",
       "      <td>0.491</td>\n",
       "      <td>0</td>\n",
       "      <td>0.000</td>\n",
       "      <td>0.000</td>\n",
       "      <td>0.004</td>\n",
       "      <td>0.743</td>\n",
       "    </tr>\n",
       "    <tr>\n",
       "      <th>1</th>\n",
       "      <td>All</td>\n",
       "      <td>RD_pred</td>\n",
       "      <td>117</td>\n",
       "      <td>18</td>\n",
       "      <td>66400</td>\n",
       "      <td>152</td>\n",
       "      <td>66687</td>\n",
       "      <td>0.435</td>\n",
       "      <td>1.000</td>\n",
       "      <td>0.867</td>\n",
       "      <td>0.579</td>\n",
       "      <td>0.997</td>\n",
       "      <td>0.578</td>\n",
       "      <td>99</td>\n",
       "      <td>0.846</td>\n",
       "      <td>0.733</td>\n",
       "      <td>0.002</td>\n",
       "      <td>0.959</td>\n",
       "    </tr>\n",
       "    <tr>\n",
       "      <th>2</th>\n",
       "      <td>All</td>\n",
       "      <td>ADA_pred</td>\n",
       "      <td>55</td>\n",
       "      <td>44</td>\n",
       "      <td>66374</td>\n",
       "      <td>214</td>\n",
       "      <td>66687</td>\n",
       "      <td>0.204</td>\n",
       "      <td>0.999</td>\n",
       "      <td>0.556</td>\n",
       "      <td>0.299</td>\n",
       "      <td>0.996</td>\n",
       "      <td>0.297</td>\n",
       "      <td>11</td>\n",
       "      <td>0.094</td>\n",
       "      <td>0.111</td>\n",
       "      <td>0.001</td>\n",
       "      <td>0.967</td>\n",
       "    </tr>\n",
       "    <tr>\n",
       "      <th>3</th>\n",
       "      <td>All</td>\n",
       "      <td>XGB_pred</td>\n",
       "      <td>81</td>\n",
       "      <td>23</td>\n",
       "      <td>66395</td>\n",
       "      <td>188</td>\n",
       "      <td>66687</td>\n",
       "      <td>0.301</td>\n",
       "      <td>1.000</td>\n",
       "      <td>0.779</td>\n",
       "      <td>0.434</td>\n",
       "      <td>0.997</td>\n",
       "      <td>0.433</td>\n",
       "      <td>58</td>\n",
       "      <td>0.496</td>\n",
       "      <td>0.558</td>\n",
       "      <td>0.002</td>\n",
       "      <td>0.977</td>\n",
       "    </tr>\n",
       "    <tr>\n",
       "      <th>4</th>\n",
       "      <td>All</td>\n",
       "      <td>DT_cv_pred</td>\n",
       "      <td>0</td>\n",
       "      <td>0</td>\n",
       "      <td>66418</td>\n",
       "      <td>269</td>\n",
       "      <td>66687</td>\n",
       "      <td>0.000</td>\n",
       "      <td>1.000</td>\n",
       "      <td>NaN</td>\n",
       "      <td>NaN</td>\n",
       "      <td>0.996</td>\n",
       "      <td>0.000</td>\n",
       "      <td>0</td>\n",
       "      <td>0.000</td>\n",
       "      <td>NaN</td>\n",
       "      <td>0.000</td>\n",
       "      <td>0.699</td>\n",
       "    </tr>\n",
       "    <tr>\n",
       "      <th>5</th>\n",
       "      <td>All</td>\n",
       "      <td>RF_cv_pred</td>\n",
       "      <td>116</td>\n",
       "      <td>18</td>\n",
       "      <td>66400</td>\n",
       "      <td>153</td>\n",
       "      <td>66687</td>\n",
       "      <td>0.431</td>\n",
       "      <td>1.000</td>\n",
       "      <td>0.866</td>\n",
       "      <td>0.576</td>\n",
       "      <td>0.997</td>\n",
       "      <td>0.575</td>\n",
       "      <td>98</td>\n",
       "      <td>0.838</td>\n",
       "      <td>0.731</td>\n",
       "      <td>0.002</td>\n",
       "      <td>0.971</td>\n",
       "    </tr>\n",
       "    <tr>\n",
       "      <th>6</th>\n",
       "      <td>All</td>\n",
       "      <td>ADA_cv_pred</td>\n",
       "      <td>55</td>\n",
       "      <td>44</td>\n",
       "      <td>66374</td>\n",
       "      <td>214</td>\n",
       "      <td>66687</td>\n",
       "      <td>0.204</td>\n",
       "      <td>0.999</td>\n",
       "      <td>0.556</td>\n",
       "      <td>0.299</td>\n",
       "      <td>0.996</td>\n",
       "      <td>0.297</td>\n",
       "      <td>11</td>\n",
       "      <td>0.094</td>\n",
       "      <td>0.111</td>\n",
       "      <td>0.001</td>\n",
       "      <td>0.967</td>\n",
       "    </tr>\n",
       "    <tr>\n",
       "      <th>7</th>\n",
       "      <td>All</td>\n",
       "      <td>XGB_cv_pred</td>\n",
       "      <td>141</td>\n",
       "      <td>24</td>\n",
       "      <td>66394</td>\n",
       "      <td>128</td>\n",
       "      <td>66687</td>\n",
       "      <td>0.524</td>\n",
       "      <td>1.000</td>\n",
       "      <td>0.855</td>\n",
       "      <td>0.650</td>\n",
       "      <td>0.998</td>\n",
       "      <td>0.649</td>\n",
       "      <td>117</td>\n",
       "      <td>1.000</td>\n",
       "      <td>0.709</td>\n",
       "      <td>0.002</td>\n",
       "      <td>0.987</td>\n",
       "    </tr>\n",
       "  </tbody>\n",
       "</table>\n",
       "</div>"
      ],
      "text/plain": [
       "  Type    predictor   TP   FP     TN   FN  total    TPR    TNR  precision  \\\n",
       "0  All      dt_pred  131  131  66287  138  66687  0.487  0.998      0.500   \n",
       "1  All      RD_pred  117   18  66400  152  66687  0.435  1.000      0.867   \n",
       "2  All     ADA_pred   55   44  66374  214  66687  0.204  0.999      0.556   \n",
       "3  All     XGB_pred   81   23  66395  188  66687  0.301  1.000      0.779   \n",
       "4  All   DT_cv_pred    0    0  66418  269  66687  0.000  1.000        NaN   \n",
       "5  All   RF_cv_pred  116   18  66400  153  66687  0.431  1.000      0.866   \n",
       "6  All  ADA_cv_pred   55   44  66374  214  66687  0.204  0.999      0.556   \n",
       "7  All  XGB_cv_pred  141   24  66394  128  66687  0.524  1.000      0.855   \n",
       "\n",
       "   Fscore  accuracy  kappa  profit  index   ROME  contact    AUC  \n",
       "0   0.493     0.996  0.491       0  0.000  0.000    0.004  0.743  \n",
       "1   0.579     0.997  0.578      99  0.846  0.733    0.002  0.959  \n",
       "2   0.299     0.996  0.297      11  0.094  0.111    0.001  0.967  \n",
       "3   0.434     0.997  0.433      58  0.496  0.558    0.002  0.977  \n",
       "4     NaN     0.996  0.000       0  0.000    NaN    0.000  0.699  \n",
       "5   0.576     0.997  0.575      98  0.838  0.731    0.002  0.971  \n",
       "6   0.299     0.996  0.297      11  0.094  0.111    0.001  0.967  \n",
       "7   0.650     0.998  0.649     117  1.000  0.709    0.002  0.987  "
      ]
     },
     "execution_count": 345,
     "metadata": {},
     "output_type": "execute_result"
    }
   ],
   "source": [
    "model_comparison"
   ]
  },
  {
   "cell_type": "markdown",
   "id": "ffb77f94-27ec-4abe-9e22-a9792058c7e8",
   "metadata": {
    "tags": []
   },
   "source": [
    "## Partial Dependence plots"
   ]
  },
  {
   "cell_type": "markdown",
   "id": "76edda23-039e-4d6e-8dde-dcab5afc0f88",
   "metadata": {},
   "source": [
    "#### What are Partial Dependence Plots (PDPs)\n",
    "\n",
    "PDPs are essentially a way to graphically display the average response of a machine learning model to changes in one or more input variables, while holding all other input variables constant at their mean or median values. This allows us to see how the output of the model changes as the value of the input variable(s) being examined changes, while keeping everything else constant.\n",
    "\n",
    "PDPs are useful because they can help us to understand the relationship between different input variables and the output of your model, and to identify any non-linear relationships or interactions that may be present in your data. This information can be helpful in developing more accurate and robust models, and in gaining insights into the underlying data generating process."
   ]
  },
  {
   "cell_type": "code",
   "execution_count": 360,
   "id": "2b0d206e-dd09-4248-9e37-6dd7f8880b01",
   "metadata": {},
   "outputs": [
    {
     "data": {
      "image/png": "[encoded data removed]",
      "text/plain": [
       "<Figure size 1000x1800 with 9 Axes>"
      ]
     },
     "metadata": {},
     "output_type": "display_data"
    }
   ],
   "source": [
    "rsm.pred_plot_sk(grid_xgb,data[col_list],rvar='is_fraud')"
   ]
  },
  {
   "cell_type": "markdown",
   "id": "5059a5d3-d3e1-4109-98de-d4db310aa8c0",
   "metadata": {},
   "source": [
    "#### Quick note\n",
    "\n",
    "\n",
    "To create partial dependence plots, pred_plot_sk was used. In order to make sure it runs we had to rename the 'lat' and 'long' features in the original dataset to 'Latitude' and 'Longitude'. This was done as there were 'merch_lat' and 'merch_long' features present in dataset. \n",
    "\n",
    "pred_plot_sk() plots the values of features against the target variable. These features are selected on condition that the intersection of the transformed features (one using dummy variables) and not transformed features is null.\n",
    "\n",
    "Bug: pred_plot_sk() was identifying 'lat' and 'long' columns/features as transformed features because 'merch_lat' and 'merch_long' were also present in the dataset. It assumed that lat after transformation changed to 'merch_lat' and long after transformation changed to 'merch_long'"
   ]
  },
  {
   "cell_type": "code",
   "execution_count": null,
   "id": "a4de5a56-41b8-4589-bbc0-45a57912fa4e",
   "metadata": {},
   "outputs": [],
   "source": []
  }
 ],
 "metadata": {
  "kernelspec": {
   "display_name": "Python 3 (ipykernel)",
   "language": "python",
   "name": "python3"
  },
  "language_info": {
   "codemirror_mode": {
    "name": "ipython",
    "version": 3
   },
   "file_extension": ".py",
   "mimetype": "text/x-python",
   "name": "python",
   "nbconvert_exporter": "python",
   "pygments_lexer": "ipython3",
   "version": "3.10.8"
  }
 },
 "nbformat": 4,
 "nbformat_minor": 5
}
