{
 "cells": [
  {
   "cell_type": "code",
   "execution_count": 1,
   "id": "18ece266-bd73-4499-96b9-4222513e6cfd",
   "metadata": {},
   "outputs": [],
   "source": [
    "import pandas as pd\n",
    "import numpy as np\n",
    "\n",
    "import seaborn as sns\n",
    "import matplotlib.pyplot as plt\n",
    "\n",
    "from sklearn.model_selection import train_test_split\n",
    "from sklearn.metrics import confusion_matrix, classification_report\n",
    "from sklearn.metrics import recall_score, precision_score, f1_score, accuracy_score\n",
    "from sklearn.preprocessing import RobustScaler\n",
    "\n",
    "from sklearn.model_selection import GridSearchCV\n",
    "\n",
    "## Tree Based classifiers\n",
    "\n",
    "from sklearn.tree import DecisionTreeClassifier\n",
    "from sklearn.ensemble import RandomForestClassifier, AdaBoostClassifier\n",
    "import xgboost as xgb\n",
    "from sklearn.model_selection import StratifiedKFold\n",
    "from sklearn.model_selection import cross_val_score\n",
    "from sklearn.metrics import roc_curve, roc_auc_score\n",
    "from sklearn.metrics import auc\n",
    "\n",
    "import pyrsm as rsm"
   ]
  },
  {
   "cell_type": "code",
   "execution_count": 2,
   "id": "6066b253-4b3a-4107-a68b-48746a0d2543",
   "metadata": {},
   "outputs": [],
   "source": [
    "data = pd.read_csv(\"./fraudData.csv\")"
   ]
  },
  {
   "cell_type": "code",
   "execution_count": 3,
   "id": "cebd6505-bf1e-4c89-b061-c1fc817b9183",
   "metadata": {},
   "outputs": [
    {
     "data": {
      "text/html": [
       "<div>\n",
       "<style scoped>\n",
       "    .dataframe tbody tr th:only-of-type {\n",
       "        vertical-align: middle;\n",
       "    }\n",
       "\n",
       "    .dataframe tbody tr th {\n",
       "        vertical-align: top;\n",
       "    }\n",
       "\n",
       "    .dataframe thead th {\n",
       "        text-align: right;\n",
       "    }\n",
       "</style>\n",
       "<table border=\"1\" class=\"dataframe\">\n",
       "  <thead>\n",
       "    <tr style=\"text-align: right;\">\n",
       "      <th></th>\n",
       "      <th>Unnamed: 0</th>\n",
       "      <th>cc_num</th>\n",
       "      <th>amt</th>\n",
       "      <th>zip</th>\n",
       "      <th>lat</th>\n",
       "      <th>long</th>\n",
       "      <th>city_pop</th>\n",
       "      <th>unix_time</th>\n",
       "      <th>merch_lat</th>\n",
       "      <th>merch_long</th>\n",
       "      <th>is_fraud</th>\n",
       "    </tr>\n",
       "  </thead>\n",
       "  <tbody>\n",
       "    <tr>\n",
       "      <th>count</th>\n",
       "      <td>555719.000000</td>\n",
       "      <td>5.557190e+05</td>\n",
       "      <td>555719.000000</td>\n",
       "      <td>555719.000000</td>\n",
       "      <td>555719.000000</td>\n",
       "      <td>555719.000000</td>\n",
       "      <td>5.557190e+05</td>\n",
       "      <td>5.557190e+05</td>\n",
       "      <td>555719.000000</td>\n",
       "      <td>555719.000000</td>\n",
       "      <td>555719.000000</td>\n",
       "    </tr>\n",
       "    <tr>\n",
       "      <th>mean</th>\n",
       "      <td>277859.000000</td>\n",
       "      <td>4.178387e+17</td>\n",
       "      <td>69.392810</td>\n",
       "      <td>48842.628015</td>\n",
       "      <td>38.543253</td>\n",
       "      <td>-90.231325</td>\n",
       "      <td>8.822189e+04</td>\n",
       "      <td>1.380679e+09</td>\n",
       "      <td>38.542798</td>\n",
       "      <td>-90.231380</td>\n",
       "      <td>0.003860</td>\n",
       "    </tr>\n",
       "    <tr>\n",
       "      <th>std</th>\n",
       "      <td>160422.401459</td>\n",
       "      <td>1.309837e+18</td>\n",
       "      <td>156.745941</td>\n",
       "      <td>26855.283328</td>\n",
       "      <td>5.061336</td>\n",
       "      <td>13.721780</td>\n",
       "      <td>3.003909e+05</td>\n",
       "      <td>5.201104e+06</td>\n",
       "      <td>5.095829</td>\n",
       "      <td>13.733071</td>\n",
       "      <td>0.062008</td>\n",
       "    </tr>\n",
       "    <tr>\n",
       "      <th>min</th>\n",
       "      <td>0.000000</td>\n",
       "      <td>6.041621e+10</td>\n",
       "      <td>1.000000</td>\n",
       "      <td>1257.000000</td>\n",
       "      <td>20.027100</td>\n",
       "      <td>-165.672300</td>\n",
       "      <td>2.300000e+01</td>\n",
       "      <td>1.371817e+09</td>\n",
       "      <td>19.027422</td>\n",
       "      <td>-166.671575</td>\n",
       "      <td>0.000000</td>\n",
       "    </tr>\n",
       "    <tr>\n",
       "      <th>25%</th>\n",
       "      <td>138929.500000</td>\n",
       "      <td>1.800429e+14</td>\n",
       "      <td>9.630000</td>\n",
       "      <td>26292.000000</td>\n",
       "      <td>34.668900</td>\n",
       "      <td>-96.798000</td>\n",
       "      <td>7.410000e+02</td>\n",
       "      <td>1.376029e+09</td>\n",
       "      <td>34.755302</td>\n",
       "      <td>-96.905129</td>\n",
       "      <td>0.000000</td>\n",
       "    </tr>\n",
       "    <tr>\n",
       "      <th>50%</th>\n",
       "      <td>277859.000000</td>\n",
       "      <td>3.521417e+15</td>\n",
       "      <td>47.290000</td>\n",
       "      <td>48174.000000</td>\n",
       "      <td>39.371600</td>\n",
       "      <td>-87.476900</td>\n",
       "      <td>2.408000e+03</td>\n",
       "      <td>1.380762e+09</td>\n",
       "      <td>39.376593</td>\n",
       "      <td>-87.445204</td>\n",
       "      <td>0.000000</td>\n",
       "    </tr>\n",
       "    <tr>\n",
       "      <th>75%</th>\n",
       "      <td>416788.500000</td>\n",
       "      <td>4.635331e+15</td>\n",
       "      <td>83.010000</td>\n",
       "      <td>72011.000000</td>\n",
       "      <td>41.894800</td>\n",
       "      <td>-80.175200</td>\n",
       "      <td>1.968500e+04</td>\n",
       "      <td>1.385867e+09</td>\n",
       "      <td>41.954163</td>\n",
       "      <td>-80.264637</td>\n",
       "      <td>0.000000</td>\n",
       "    </tr>\n",
       "    <tr>\n",
       "      <th>max</th>\n",
       "      <td>555718.000000</td>\n",
       "      <td>4.992346e+18</td>\n",
       "      <td>22768.110000</td>\n",
       "      <td>99921.000000</td>\n",
       "      <td>65.689900</td>\n",
       "      <td>-67.950300</td>\n",
       "      <td>2.906700e+06</td>\n",
       "      <td>1.388534e+09</td>\n",
       "      <td>66.679297</td>\n",
       "      <td>-66.952026</td>\n",
       "      <td>1.000000</td>\n",
       "    </tr>\n",
       "  </tbody>\n",
       "</table>\n",
       "</div>"
      ],
      "text/plain": [
       "          Unnamed: 0        cc_num            amt            zip  \\\n",
       "count  555719.000000  5.557190e+05  555719.000000  555719.000000   \n",
       "mean   277859.000000  4.178387e+17      69.392810   48842.628015   \n",
       "std    160422.401459  1.309837e+18     156.745941   26855.283328   \n",
       "min         0.000000  6.041621e+10       1.000000    1257.000000   \n",
       "25%    138929.500000  1.800429e+14       9.630000   26292.000000   \n",
       "50%    277859.000000  3.521417e+15      47.290000   48174.000000   \n",
       "75%    416788.500000  4.635331e+15      83.010000   72011.000000   \n",
       "max    555718.000000  4.992346e+18   22768.110000   99921.000000   \n",
       "\n",
       "                 lat           long      city_pop     unix_time  \\\n",
       "count  555719.000000  555719.000000  5.557190e+05  5.557190e+05   \n",
       "mean       38.543253     -90.231325  8.822189e+04  1.380679e+09   \n",
       "std         5.061336      13.721780  3.003909e+05  5.201104e+06   \n",
       "min        20.027100    -165.672300  2.300000e+01  1.371817e+09   \n",
       "25%        34.668900     -96.798000  7.410000e+02  1.376029e+09   \n",
       "50%        39.371600     -87.476900  2.408000e+03  1.380762e+09   \n",
       "75%        41.894800     -80.175200  1.968500e+04  1.385867e+09   \n",
       "max        65.689900     -67.950300  2.906700e+06  1.388534e+09   \n",
       "\n",
       "           merch_lat     merch_long       is_fraud  \n",
       "count  555719.000000  555719.000000  555719.000000  \n",
       "mean       38.542798     -90.231380       0.003860  \n",
       "std         5.095829      13.733071       0.062008  \n",
       "min        19.027422    -166.671575       0.000000  \n",
       "25%        34.755302     -96.905129       0.000000  \n",
       "50%        39.376593     -87.445204       0.000000  \n",
       "75%        41.954163     -80.264637       0.000000  \n",
       "max        66.679297     -66.952026       1.000000  "
      ]
     },
     "execution_count": 3,
     "metadata": {},
     "output_type": "execute_result"
    }
   ],
   "source": [
    "data.describe()"
   ]
  },
  {
   "cell_type": "code",
   "execution_count": 4,
   "id": "76bc8489-99f0-4f11-91c1-f8c028415764",
   "metadata": {},
   "outputs": [
    {
     "data": {
      "text/html": [
       "<div>\n",
       "<style scoped>\n",
       "    .dataframe tbody tr th:only-of-type {\n",
       "        vertical-align: middle;\n",
       "    }\n",
       "\n",
       "    .dataframe tbody tr th {\n",
       "        vertical-align: top;\n",
       "    }\n",
       "\n",
       "    .dataframe thead th {\n",
       "        text-align: right;\n",
       "    }\n",
       "</style>\n",
       "<table border=\"1\" class=\"dataframe\">\n",
       "  <thead>\n",
       "    <tr style=\"text-align: right;\">\n",
       "      <th></th>\n",
       "      <th>Unnamed: 0</th>\n",
       "      <th>trans_date_trans_time</th>\n",
       "      <th>cc_num</th>\n",
       "      <th>merchant</th>\n",
       "      <th>category</th>\n",
       "      <th>amt</th>\n",
       "      <th>first</th>\n",
       "      <th>last</th>\n",
       "      <th>gender</th>\n",
       "      <th>street</th>\n",
       "      <th>...</th>\n",
       "      <th>lat</th>\n",
       "      <th>long</th>\n",
       "      <th>city_pop</th>\n",
       "      <th>job</th>\n",
       "      <th>dob</th>\n",
       "      <th>trans_num</th>\n",
       "      <th>unix_time</th>\n",
       "      <th>merch_lat</th>\n",
       "      <th>merch_long</th>\n",
       "      <th>is_fraud</th>\n",
       "    </tr>\n",
       "  </thead>\n",
       "  <tbody>\n",
       "    <tr>\n",
       "      <th>0</th>\n",
       "      <td>0</td>\n",
       "      <td>2020-06-21 12:14:25</td>\n",
       "      <td>2291163933867244</td>\n",
       "      <td>fraud_Kirlin and Sons</td>\n",
       "      <td>personal_care</td>\n",
       "      <td>2.86</td>\n",
       "      <td>Jeff</td>\n",
       "      <td>Elliott</td>\n",
       "      <td>M</td>\n",
       "      <td>351 Darlene Green</td>\n",
       "      <td>...</td>\n",
       "      <td>33.9659</td>\n",
       "      <td>-80.9355</td>\n",
       "      <td>333497</td>\n",
       "      <td>Mechanical engineer</td>\n",
       "      <td>1968-03-19</td>\n",
       "      <td>2da90c7d74bd46a0caf3777415b3ebd3</td>\n",
       "      <td>1371816865</td>\n",
       "      <td>33.986391</td>\n",
       "      <td>-81.200714</td>\n",
       "      <td>0</td>\n",
       "    </tr>\n",
       "    <tr>\n",
       "      <th>1</th>\n",
       "      <td>1</td>\n",
       "      <td>2020-06-21 12:14:33</td>\n",
       "      <td>3573030041201292</td>\n",
       "      <td>fraud_Sporer-Keebler</td>\n",
       "      <td>personal_care</td>\n",
       "      <td>29.84</td>\n",
       "      <td>Joanne</td>\n",
       "      <td>Williams</td>\n",
       "      <td>F</td>\n",
       "      <td>3638 Marsh Union</td>\n",
       "      <td>...</td>\n",
       "      <td>40.3207</td>\n",
       "      <td>-110.4360</td>\n",
       "      <td>302</td>\n",
       "      <td>Sales professional, IT</td>\n",
       "      <td>1990-01-17</td>\n",
       "      <td>324cc204407e99f51b0d6ca0055005e7</td>\n",
       "      <td>1371816873</td>\n",
       "      <td>39.450498</td>\n",
       "      <td>-109.960431</td>\n",
       "      <td>0</td>\n",
       "    </tr>\n",
       "    <tr>\n",
       "      <th>2</th>\n",
       "      <td>2</td>\n",
       "      <td>2020-06-21 12:14:53</td>\n",
       "      <td>3598215285024754</td>\n",
       "      <td>fraud_Swaniawski, Nitzsche and Welch</td>\n",
       "      <td>health_fitness</td>\n",
       "      <td>41.28</td>\n",
       "      <td>Ashley</td>\n",
       "      <td>Lopez</td>\n",
       "      <td>F</td>\n",
       "      <td>9333 Valentine Point</td>\n",
       "      <td>...</td>\n",
       "      <td>40.6729</td>\n",
       "      <td>-73.5365</td>\n",
       "      <td>34496</td>\n",
       "      <td>Librarian, public</td>\n",
       "      <td>1970-10-21</td>\n",
       "      <td>c81755dbbbea9d5c77f094348a7579be</td>\n",
       "      <td>1371816893</td>\n",
       "      <td>40.495810</td>\n",
       "      <td>-74.196111</td>\n",
       "      <td>0</td>\n",
       "    </tr>\n",
       "    <tr>\n",
       "      <th>3</th>\n",
       "      <td>3</td>\n",
       "      <td>2020-06-21 12:15:15</td>\n",
       "      <td>3591919803438423</td>\n",
       "      <td>fraud_Haley Group</td>\n",
       "      <td>misc_pos</td>\n",
       "      <td>60.05</td>\n",
       "      <td>Brian</td>\n",
       "      <td>Williams</td>\n",
       "      <td>M</td>\n",
       "      <td>32941 Krystal Mill Apt. 552</td>\n",
       "      <td>...</td>\n",
       "      <td>28.5697</td>\n",
       "      <td>-80.8191</td>\n",
       "      <td>54767</td>\n",
       "      <td>Set designer</td>\n",
       "      <td>1987-07-25</td>\n",
       "      <td>2159175b9efe66dc301f149d3d5abf8c</td>\n",
       "      <td>1371816915</td>\n",
       "      <td>28.812398</td>\n",
       "      <td>-80.883061</td>\n",
       "      <td>0</td>\n",
       "    </tr>\n",
       "    <tr>\n",
       "      <th>4</th>\n",
       "      <td>4</td>\n",
       "      <td>2020-06-21 12:15:17</td>\n",
       "      <td>3526826139003047</td>\n",
       "      <td>fraud_Johnston-Casper</td>\n",
       "      <td>travel</td>\n",
       "      <td>3.19</td>\n",
       "      <td>Nathan</td>\n",
       "      <td>Massey</td>\n",
       "      <td>M</td>\n",
       "      <td>5783 Evan Roads Apt. 465</td>\n",
       "      <td>...</td>\n",
       "      <td>44.2529</td>\n",
       "      <td>-85.0170</td>\n",
       "      <td>1126</td>\n",
       "      <td>Furniture designer</td>\n",
       "      <td>1955-07-06</td>\n",
       "      <td>57ff021bd3f328f8738bb535c302a31b</td>\n",
       "      <td>1371816917</td>\n",
       "      <td>44.959148</td>\n",
       "      <td>-85.884734</td>\n",
       "      <td>0</td>\n",
       "    </tr>\n",
       "  </tbody>\n",
       "</table>\n",
       "<p>5 rows × 23 columns</p>\n",
       "</div>"
      ],
      "text/plain": [
       "   Unnamed: 0 trans_date_trans_time            cc_num  \\\n",
       "0           0   2020-06-21 12:14:25  2291163933867244   \n",
       "1           1   2020-06-21 12:14:33  3573030041201292   \n",
       "2           2   2020-06-21 12:14:53  3598215285024754   \n",
       "3           3   2020-06-21 12:15:15  3591919803438423   \n",
       "4           4   2020-06-21 12:15:17  3526826139003047   \n",
       "\n",
       "                               merchant        category    amt   first  \\\n",
       "0                 fraud_Kirlin and Sons   personal_care   2.86    Jeff   \n",
       "1                  fraud_Sporer-Keebler   personal_care  29.84  Joanne   \n",
       "2  fraud_Swaniawski, Nitzsche and Welch  health_fitness  41.28  Ashley   \n",
       "3                     fraud_Haley Group        misc_pos  60.05   Brian   \n",
       "4                 fraud_Johnston-Casper          travel   3.19  Nathan   \n",
       "\n",
       "       last gender                       street  ...      lat      long  \\\n",
       "0   Elliott      M            351 Darlene Green  ...  33.9659  -80.9355   \n",
       "1  Williams      F             3638 Marsh Union  ...  40.3207 -110.4360   \n",
       "2     Lopez      F         9333 Valentine Point  ...  40.6729  -73.5365   \n",
       "3  Williams      M  32941 Krystal Mill Apt. 552  ...  28.5697  -80.8191   \n",
       "4    Massey      M     5783 Evan Roads Apt. 465  ...  44.2529  -85.0170   \n",
       "\n",
       "   city_pop                     job         dob  \\\n",
       "0    333497     Mechanical engineer  1968-03-19   \n",
       "1       302  Sales professional, IT  1990-01-17   \n",
       "2     34496       Librarian, public  1970-10-21   \n",
       "3     54767            Set designer  1987-07-25   \n",
       "4      1126      Furniture designer  1955-07-06   \n",
       "\n",
       "                          trans_num   unix_time  merch_lat  merch_long  \\\n",
       "0  2da90c7d74bd46a0caf3777415b3ebd3  1371816865  33.986391  -81.200714   \n",
       "1  324cc204407e99f51b0d6ca0055005e7  1371816873  39.450498 -109.960431   \n",
       "2  c81755dbbbea9d5c77f094348a7579be  1371816893  40.495810  -74.196111   \n",
       "3  2159175b9efe66dc301f149d3d5abf8c  1371816915  28.812398  -80.883061   \n",
       "4  57ff021bd3f328f8738bb535c302a31b  1371816917  44.959148  -85.884734   \n",
       "\n",
       "   is_fraud  \n",
       "0         0  \n",
       "1         0  \n",
       "2         0  \n",
       "3         0  \n",
       "4         0  \n",
       "\n",
       "[5 rows x 23 columns]"
      ]
     },
     "execution_count": 4,
     "metadata": {},
     "output_type": "execute_result"
    }
   ],
   "source": [
    "data.head()"
   ]
  },
  {
   "cell_type": "code",
   "execution_count": 5,
   "id": "c622c2f2-c447-4e8f-b001-efdd127544a4",
   "metadata": {},
   "outputs": [],
   "source": [
    "data = data.drop(columns = ['Unnamed: 0'])"
   ]
  },
  {
   "cell_type": "code",
   "execution_count": 6,
   "id": "544f9905-610a-4639-a280-b12db03a8f3f",
   "metadata": {},
   "outputs": [
    {
     "data": {
      "text/html": [
       "<div>\n",
       "<style scoped>\n",
       "    .dataframe tbody tr th:only-of-type {\n",
       "        vertical-align: middle;\n",
       "    }\n",
       "\n",
       "    .dataframe tbody tr th {\n",
       "        vertical-align: top;\n",
       "    }\n",
       "\n",
       "    .dataframe thead th {\n",
       "        text-align: right;\n",
       "    }\n",
       "</style>\n",
       "<table border=\"1\" class=\"dataframe\">\n",
       "  <thead>\n",
       "    <tr style=\"text-align: right;\">\n",
       "      <th></th>\n",
       "      <th>trans_date_trans_time</th>\n",
       "      <th>cc_num</th>\n",
       "      <th>merchant</th>\n",
       "      <th>category</th>\n",
       "      <th>amt</th>\n",
       "      <th>first</th>\n",
       "      <th>last</th>\n",
       "      <th>gender</th>\n",
       "      <th>street</th>\n",
       "      <th>city</th>\n",
       "      <th>...</th>\n",
       "      <th>lat</th>\n",
       "      <th>long</th>\n",
       "      <th>city_pop</th>\n",
       "      <th>job</th>\n",
       "      <th>dob</th>\n",
       "      <th>trans_num</th>\n",
       "      <th>unix_time</th>\n",
       "      <th>merch_lat</th>\n",
       "      <th>merch_long</th>\n",
       "      <th>is_fraud</th>\n",
       "    </tr>\n",
       "  </thead>\n",
       "  <tbody>\n",
       "    <tr>\n",
       "      <th>0</th>\n",
       "      <td>2020-06-21 12:14:25</td>\n",
       "      <td>2291163933867244</td>\n",
       "      <td>fraud_Kirlin and Sons</td>\n",
       "      <td>personal_care</td>\n",
       "      <td>2.86</td>\n",
       "      <td>Jeff</td>\n",
       "      <td>Elliott</td>\n",
       "      <td>M</td>\n",
       "      <td>351 Darlene Green</td>\n",
       "      <td>Columbia</td>\n",
       "      <td>...</td>\n",
       "      <td>33.9659</td>\n",
       "      <td>-80.9355</td>\n",
       "      <td>333497</td>\n",
       "      <td>Mechanical engineer</td>\n",
       "      <td>1968-03-19</td>\n",
       "      <td>2da90c7d74bd46a0caf3777415b3ebd3</td>\n",
       "      <td>1371816865</td>\n",
       "      <td>33.986391</td>\n",
       "      <td>-81.200714</td>\n",
       "      <td>0</td>\n",
       "    </tr>\n",
       "    <tr>\n",
       "      <th>1</th>\n",
       "      <td>2020-06-21 12:14:33</td>\n",
       "      <td>3573030041201292</td>\n",
       "      <td>fraud_Sporer-Keebler</td>\n",
       "      <td>personal_care</td>\n",
       "      <td>29.84</td>\n",
       "      <td>Joanne</td>\n",
       "      <td>Williams</td>\n",
       "      <td>F</td>\n",
       "      <td>3638 Marsh Union</td>\n",
       "      <td>Altonah</td>\n",
       "      <td>...</td>\n",
       "      <td>40.3207</td>\n",
       "      <td>-110.4360</td>\n",
       "      <td>302</td>\n",
       "      <td>Sales professional, IT</td>\n",
       "      <td>1990-01-17</td>\n",
       "      <td>324cc204407e99f51b0d6ca0055005e7</td>\n",
       "      <td>1371816873</td>\n",
       "      <td>39.450498</td>\n",
       "      <td>-109.960431</td>\n",
       "      <td>0</td>\n",
       "    </tr>\n",
       "    <tr>\n",
       "      <th>2</th>\n",
       "      <td>2020-06-21 12:14:53</td>\n",
       "      <td>3598215285024754</td>\n",
       "      <td>fraud_Swaniawski, Nitzsche and Welch</td>\n",
       "      <td>health_fitness</td>\n",
       "      <td>41.28</td>\n",
       "      <td>Ashley</td>\n",
       "      <td>Lopez</td>\n",
       "      <td>F</td>\n",
       "      <td>9333 Valentine Point</td>\n",
       "      <td>Bellmore</td>\n",
       "      <td>...</td>\n",
       "      <td>40.6729</td>\n",
       "      <td>-73.5365</td>\n",
       "      <td>34496</td>\n",
       "      <td>Librarian, public</td>\n",
       "      <td>1970-10-21</td>\n",
       "      <td>c81755dbbbea9d5c77f094348a7579be</td>\n",
       "      <td>1371816893</td>\n",
       "      <td>40.495810</td>\n",
       "      <td>-74.196111</td>\n",
       "      <td>0</td>\n",
       "    </tr>\n",
       "    <tr>\n",
       "      <th>3</th>\n",
       "      <td>2020-06-21 12:15:15</td>\n",
       "      <td>3591919803438423</td>\n",
       "      <td>fraud_Haley Group</td>\n",
       "      <td>misc_pos</td>\n",
       "      <td>60.05</td>\n",
       "      <td>Brian</td>\n",
       "      <td>Williams</td>\n",
       "      <td>M</td>\n",
       "      <td>32941 Krystal Mill Apt. 552</td>\n",
       "      <td>Titusville</td>\n",
       "      <td>...</td>\n",
       "      <td>28.5697</td>\n",
       "      <td>-80.8191</td>\n",
       "      <td>54767</td>\n",
       "      <td>Set designer</td>\n",
       "      <td>1987-07-25</td>\n",
       "      <td>2159175b9efe66dc301f149d3d5abf8c</td>\n",
       "      <td>1371816915</td>\n",
       "      <td>28.812398</td>\n",
       "      <td>-80.883061</td>\n",
       "      <td>0</td>\n",
       "    </tr>\n",
       "    <tr>\n",
       "      <th>4</th>\n",
       "      <td>2020-06-21 12:15:17</td>\n",
       "      <td>3526826139003047</td>\n",
       "      <td>fraud_Johnston-Casper</td>\n",
       "      <td>travel</td>\n",
       "      <td>3.19</td>\n",
       "      <td>Nathan</td>\n",
       "      <td>Massey</td>\n",
       "      <td>M</td>\n",
       "      <td>5783 Evan Roads Apt. 465</td>\n",
       "      <td>Falmouth</td>\n",
       "      <td>...</td>\n",
       "      <td>44.2529</td>\n",
       "      <td>-85.0170</td>\n",
       "      <td>1126</td>\n",
       "      <td>Furniture designer</td>\n",
       "      <td>1955-07-06</td>\n",
       "      <td>57ff021bd3f328f8738bb535c302a31b</td>\n",
       "      <td>1371816917</td>\n",
       "      <td>44.959148</td>\n",
       "      <td>-85.884734</td>\n",
       "      <td>0</td>\n",
       "    </tr>\n",
       "  </tbody>\n",
       "</table>\n",
       "<p>5 rows × 22 columns</p>\n",
       "</div>"
      ],
      "text/plain": [
       "  trans_date_trans_time            cc_num  \\\n",
       "0   2020-06-21 12:14:25  2291163933867244   \n",
       "1   2020-06-21 12:14:33  3573030041201292   \n",
       "2   2020-06-21 12:14:53  3598215285024754   \n",
       "3   2020-06-21 12:15:15  3591919803438423   \n",
       "4   2020-06-21 12:15:17  3526826139003047   \n",
       "\n",
       "                               merchant        category    amt   first  \\\n",
       "0                 fraud_Kirlin and Sons   personal_care   2.86    Jeff   \n",
       "1                  fraud_Sporer-Keebler   personal_care  29.84  Joanne   \n",
       "2  fraud_Swaniawski, Nitzsche and Welch  health_fitness  41.28  Ashley   \n",
       "3                     fraud_Haley Group        misc_pos  60.05   Brian   \n",
       "4                 fraud_Johnston-Casper          travel   3.19  Nathan   \n",
       "\n",
       "       last gender                       street        city  ...      lat  \\\n",
       "0   Elliott      M            351 Darlene Green    Columbia  ...  33.9659   \n",
       "1  Williams      F             3638 Marsh Union     Altonah  ...  40.3207   \n",
       "2     Lopez      F         9333 Valentine Point    Bellmore  ...  40.6729   \n",
       "3  Williams      M  32941 Krystal Mill Apt. 552  Titusville  ...  28.5697   \n",
       "4    Massey      M     5783 Evan Roads Apt. 465    Falmouth  ...  44.2529   \n",
       "\n",
       "       long  city_pop                     job         dob  \\\n",
       "0  -80.9355    333497     Mechanical engineer  1968-03-19   \n",
       "1 -110.4360       302  Sales professional, IT  1990-01-17   \n",
       "2  -73.5365     34496       Librarian, public  1970-10-21   \n",
       "3  -80.8191     54767            Set designer  1987-07-25   \n",
       "4  -85.0170      1126      Furniture designer  1955-07-06   \n",
       "\n",
       "                          trans_num   unix_time  merch_lat  merch_long  \\\n",
       "0  2da90c7d74bd46a0caf3777415b3ebd3  1371816865  33.986391  -81.200714   \n",
       "1  324cc204407e99f51b0d6ca0055005e7  1371816873  39.450498 -109.960431   \n",
       "2  c81755dbbbea9d5c77f094348a7579be  1371816893  40.495810  -74.196111   \n",
       "3  2159175b9efe66dc301f149d3d5abf8c  1371816915  28.812398  -80.883061   \n",
       "4  57ff021bd3f328f8738bb535c302a31b  1371816917  44.959148  -85.884734   \n",
       "\n",
       "   is_fraud  \n",
       "0         0  \n",
       "1         0  \n",
       "2         0  \n",
       "3         0  \n",
       "4         0  \n",
       "\n",
       "[5 rows x 22 columns]"
      ]
     },
     "execution_count": 6,
     "metadata": {},
     "output_type": "execute_result"
    }
   ],
   "source": [
    "data.head()"
   ]
  },
  {
   "cell_type": "code",
   "execution_count": 7,
   "id": "378aa7c4-68e6-4443-b709-cdb964da1865",
   "metadata": {},
   "outputs": [],
   "source": [
    "# !pip install pandas_profiling"
   ]
  },
  {
   "cell_type": "code",
   "execution_count": 8,
   "id": "1eff654c-2380-4558-bea8-320456aa0814",
   "metadata": {},
   "outputs": [],
   "source": [
    "# import pandas_profiling"
   ]
  },
  {
   "cell_type": "code",
   "execution_count": 9,
   "id": "fd60f2d7-cc49-4a82-8f4c-dfaaae879bf5",
   "metadata": {},
   "outputs": [],
   "source": [
    "# data.profile_report()"
   ]
  },
  {
   "cell_type": "code",
   "execution_count": 10,
   "id": "0d3d870d-f833-4bf6-a5cf-0adaaa0d6181",
   "metadata": {},
   "outputs": [
    {
     "data": {
      "text/plain": [
       "trans_date_trans_time    0\n",
       "cc_num                   0\n",
       "merchant                 0\n",
       "category                 0\n",
       "amt                      0\n",
       "first                    0\n",
       "last                     0\n",
       "gender                   0\n",
       "street                   0\n",
       "city                     0\n",
       "state                    0\n",
       "zip                      0\n",
       "lat                      0\n",
       "long                     0\n",
       "city_pop                 0\n",
       "job                      0\n",
       "dob                      0\n",
       "trans_num                0\n",
       "unix_time                0\n",
       "merch_lat                0\n",
       "merch_long               0\n",
       "is_fraud                 0\n",
       "dtype: int64"
      ]
     },
     "execution_count": 10,
     "metadata": {},
     "output_type": "execute_result"
    }
   ],
   "source": [
    "data.isnull().sum()"
   ]
  },
  {
   "cell_type": "code",
   "execution_count": 11,
   "id": "c43e3457-8dfa-4f12-9e8f-9571d0749fd2",
   "metadata": {},
   "outputs": [],
   "source": [
    "data_sample = data.sample(frac=0.40,replace = True)"
   ]
  },
  {
   "cell_type": "code",
   "execution_count": 12,
   "id": "e0283ab3-1446-4aa1-b9e1-c78a2e11effd",
   "metadata": {},
   "outputs": [
    {
     "data": {
      "text/plain": [
       "Index(['trans_date_trans_time', 'cc_num', 'merchant', 'category', 'amt',\n",
       "       'first', 'last', 'gender', 'street', 'city', 'state', 'zip', 'lat',\n",
       "       'long', 'city_pop', 'job', 'dob', 'trans_num', 'unix_time', 'merch_lat',\n",
       "       'merch_long', 'is_fraud'],\n",
       "      dtype='object')"
      ]
     },
     "execution_count": 12,
     "metadata": {},
     "output_type": "execute_result"
    }
   ],
   "source": [
    "data_sample.columns"
   ]
  },
  {
   "cell_type": "code",
   "execution_count": 13,
   "id": "4018ef31-4b61-47c0-858a-baa8f34f3116",
   "metadata": {},
   "outputs": [],
   "source": [
    "data_sample[\"GenderMale\"] = rsm.ifelse(data_sample.gender == \"M\",1,0)"
   ]
  },
  {
   "cell_type": "code",
   "execution_count": 14,
   "id": "677137da-2ea3-4e79-90fe-3485526370bd",
   "metadata": {},
   "outputs": [
    {
     "data": {
      "text/plain": [
       "0    221451\n",
       "1       837\n",
       "Name: is_fraud, dtype: int64"
      ]
     },
     "execution_count": 14,
     "metadata": {},
     "output_type": "execute_result"
    }
   ],
   "source": [
    "data_sample['is_fraud'].value_counts()"
   ]
  },
  {
   "cell_type": "code",
   "execution_count": 15,
   "id": "e0d36369-a813-4efa-a21a-40743d9f806a",
   "metadata": {},
   "outputs": [
    {
     "data": {
      "text/plain": [
       "trans_date_trans_time     object\n",
       "cc_num                     int64\n",
       "merchant                  object\n",
       "category                  object\n",
       "amt                      float64\n",
       "first                     object\n",
       "last                      object\n",
       "gender                    object\n",
       "street                    object\n",
       "city                      object\n",
       "state                     object\n",
       "zip                        int64\n",
       "lat                      float64\n",
       "long                     float64\n",
       "city_pop                   int64\n",
       "job                       object\n",
       "dob                       object\n",
       "trans_num                 object\n",
       "unix_time                  int64\n",
       "merch_lat                float64\n",
       "merch_long               float64\n",
       "is_fraud                   int64\n",
       "GenderMale                 int64\n",
       "dtype: object"
      ]
     },
     "execution_count": 15,
     "metadata": {},
     "output_type": "execute_result"
    }
   ],
   "source": [
    "data_sample.dtypes"
   ]
  },
  {
   "cell_type": "code",
   "execution_count": 16,
   "id": "6fe58f3a-2018-4f0f-8d78-0a9c03845086",
   "metadata": {},
   "outputs": [
    {
     "name": "stderr",
     "output_type": "stream",
     "text": [
      "/tmp/ipykernel_4458/1444919491.py:1: DeprecationWarning: `np.object` is a deprecated alias for the builtin `object`. To silence this warning, use `object` by itself. Doing this will not modify any behavior and is safe. \n",
      "Deprecated in NumPy 1.20; for more details and guidance: https://numpy.org/devdocs/release/1.20.0-notes.html#deprecations\n",
      "  data_numeric = data_sample.loc[:,data_sample.dtypes!= np.object]\n"
     ]
    }
   ],
   "source": [
    "data_numeric = data_sample.loc[:,data_sample.dtypes!= np.object]"
   ]
  },
  {
   "cell_type": "code",
   "execution_count": 17,
   "id": "9f53e430-c7f2-40ad-8614-737849bc66d5",
   "metadata": {},
   "outputs": [
    {
     "data": {
      "text/html": [
       "<div>\n",
       "<style scoped>\n",
       "    .dataframe tbody tr th:only-of-type {\n",
       "        vertical-align: middle;\n",
       "    }\n",
       "\n",
       "    .dataframe tbody tr th {\n",
       "        vertical-align: top;\n",
       "    }\n",
       "\n",
       "    .dataframe thead th {\n",
       "        text-align: right;\n",
       "    }\n",
       "</style>\n",
       "<table border=\"1\" class=\"dataframe\">\n",
       "  <thead>\n",
       "    <tr style=\"text-align: right;\">\n",
       "      <th></th>\n",
       "      <th>cc_num</th>\n",
       "      <th>amt</th>\n",
       "      <th>zip</th>\n",
       "      <th>lat</th>\n",
       "      <th>long</th>\n",
       "      <th>city_pop</th>\n",
       "      <th>unix_time</th>\n",
       "      <th>merch_lat</th>\n",
       "      <th>merch_long</th>\n",
       "      <th>is_fraud</th>\n",
       "      <th>GenderMale</th>\n",
       "    </tr>\n",
       "  </thead>\n",
       "  <tbody>\n",
       "    <tr>\n",
       "      <th>401788</th>\n",
       "      <td>4561368699336875</td>\n",
       "      <td>100.86</td>\n",
       "      <td>29324</td>\n",
       "      <td>34.9906</td>\n",
       "      <td>-81.8327</td>\n",
       "      <td>167</td>\n",
       "      <td>1385432954</td>\n",
       "      <td>35.888305</td>\n",
       "      <td>-81.282959</td>\n",
       "      <td>0</td>\n",
       "      <td>0</td>\n",
       "    </tr>\n",
       "    <tr>\n",
       "      <th>147911</th>\n",
       "      <td>342952484382519</td>\n",
       "      <td>50.03</td>\n",
       "      <td>6024</td>\n",
       "      <td>42.0158</td>\n",
       "      <td>-73.2913</td>\n",
       "      <td>647</td>\n",
       "      <td>1376235829</td>\n",
       "      <td>42.969745</td>\n",
       "      <td>-73.788808</td>\n",
       "      <td>0</td>\n",
       "      <td>0</td>\n",
       "    </tr>\n",
       "    <tr>\n",
       "      <th>29204</th>\n",
       "      <td>3595192916105588</td>\n",
       "      <td>90.66</td>\n",
       "      <td>28314</td>\n",
       "      <td>35.0583</td>\n",
       "      <td>-79.0080</td>\n",
       "      <td>238602</td>\n",
       "      <td>1372621124</td>\n",
       "      <td>35.134708</td>\n",
       "      <td>-78.420797</td>\n",
       "      <td>0</td>\n",
       "      <td>1</td>\n",
       "    </tr>\n",
       "    <tr>\n",
       "      <th>469791</th>\n",
       "      <td>676248282243</td>\n",
       "      <td>127.75</td>\n",
       "      <td>33909</td>\n",
       "      <td>26.6939</td>\n",
       "      <td>-81.9452</td>\n",
       "      <td>156391</td>\n",
       "      <td>1386927851</td>\n",
       "      <td>27.332978</td>\n",
       "      <td>-82.522339</td>\n",
       "      <td>0</td>\n",
       "      <td>0</td>\n",
       "    </tr>\n",
       "    <tr>\n",
       "      <th>247578</th>\n",
       "      <td>180094608895855</td>\n",
       "      <td>110.68</td>\n",
       "      <td>97492</td>\n",
       "      <td>43.7575</td>\n",
       "      <td>-122.4810</td>\n",
       "      <td>597</td>\n",
       "      <td>1379625287</td>\n",
       "      <td>42.992136</td>\n",
       "      <td>-123.073370</td>\n",
       "      <td>0</td>\n",
       "      <td>0</td>\n",
       "    </tr>\n",
       "  </tbody>\n",
       "</table>\n",
       "</div>"
      ],
      "text/plain": [
       "                  cc_num     amt    zip      lat      long  city_pop  \\\n",
       "401788  4561368699336875  100.86  29324  34.9906  -81.8327       167   \n",
       "147911   342952484382519   50.03   6024  42.0158  -73.2913       647   \n",
       "29204   3595192916105588   90.66  28314  35.0583  -79.0080    238602   \n",
       "469791      676248282243  127.75  33909  26.6939  -81.9452    156391   \n",
       "247578   180094608895855  110.68  97492  43.7575 -122.4810       597   \n",
       "\n",
       "         unix_time  merch_lat  merch_long  is_fraud  GenderMale  \n",
       "401788  1385432954  35.888305  -81.282959         0           0  \n",
       "147911  1376235829  42.969745  -73.788808         0           0  \n",
       "29204   1372621124  35.134708  -78.420797         0           1  \n",
       "469791  1386927851  27.332978  -82.522339         0           0  \n",
       "247578  1379625287  42.992136 -123.073370         0           0  "
      ]
     },
     "execution_count": 17,
     "metadata": {},
     "output_type": "execute_result"
    }
   ],
   "source": [
    "data_numeric.head()"
   ]
  },
  {
   "cell_type": "markdown",
   "id": "a2e15c22-f7dc-4370-b130-af59f3fdf156",
   "metadata": {},
   "source": [
    "#### Splitting the data in train, test"
   ]
  },
  {
   "cell_type": "code",
   "execution_count": 18,
   "id": "dcd25bf6-d3e7-4aae-8b36-19b5f147fa8c",
   "metadata": {},
   "outputs": [],
   "source": [
    "X = data_numeric.drop(['cc_num', 'is_fraud'], axis = 1)\n",
    "y = data_numeric['is_fraud']\n",
    "\n",
    "X_train, X_test, y_train, y_test = train_test_split(X,y, test_size= 0.3, random_state= 42)"
   ]
  },
  {
   "cell_type": "markdown",
   "id": "7b0aedbb-0f4a-47c6-847b-c1f47069899a",
   "metadata": {},
   "source": [
    "#### Standardizing\n",
    "\n",
    "\n",
    "##### RobustScaler is used as this is better than Standard Scaler when using on a large Dataset as it Scales data as per IQR thus tends to provide better results than a StandardScaler as it handles outliers more robustly"
   ]
  },
  {
   "cell_type": "code",
   "execution_count": 19,
   "id": "6a5c16e0-9d49-40b5-80e7-e62e5040aa18",
   "metadata": {},
   "outputs": [],
   "source": [
    "scaler = RobustScaler()\n",
    "\n",
    "X_train = scaler.fit_transform(X_train)\n",
    "X_test = scaler.transform(X_test)"
   ]
  },
  {
   "cell_type": "markdown",
   "id": "145e7743-bb05-44c1-85f2-52a5dd8bffd4",
   "metadata": {},
   "source": [
    "#### Decision Tree w/o Hyperparameter tuning\n"
   ]
  },
  {
   "cell_type": "code",
   "execution_count": 20,
   "id": "5c562c13-176b-485a-bbb1-486c0070c53f",
   "metadata": {
    "tags": []
   },
   "outputs": [
    {
     "name": "stdout",
     "output_type": "stream",
     "text": [
      "[[66284   130]\n",
      " [  159   114]]\n",
      "\n",
      "\n",
      "              precision    recall  f1-score   support\n",
      "\n",
      "           0       1.00      1.00      1.00     66414\n",
      "           1       0.47      0.42      0.44       273\n",
      "\n",
      "    accuracy                           1.00     66687\n",
      "   macro avg       0.73      0.71      0.72     66687\n",
      "weighted avg       1.00      1.00      1.00     66687\n",
      "\n"
     ]
    }
   ],
   "source": [
    "dt = DecisionTreeClassifier(random_state=42)\n",
    "# Train\n",
    "dt.fit(X_train,y_train)\n",
    "# Predict\n",
    "dt_pred = dt.predict(X_test)\n",
    "\n",
    "print(confusion_matrix(y_test,dt_pred))\n",
    "\n",
    "print('\\n')\n",
    "print(classification_report(y_test,dt_pred))"
   ]
  },
  {
   "cell_type": "code",
   "execution_count": 21,
   "id": "340978d1-c618-4c23-808f-2ce66037650d",
   "metadata": {},
   "outputs": [
    {
     "data": {
      "text/html": [
       "<div>\n",
       "<style scoped>\n",
       "    .dataframe tbody tr th:only-of-type {\n",
       "        vertical-align: middle;\n",
       "    }\n",
       "\n",
       "    .dataframe tbody tr th {\n",
       "        vertical-align: top;\n",
       "    }\n",
       "\n",
       "    .dataframe thead th {\n",
       "        text-align: right;\n",
       "    }\n",
       "</style>\n",
       "<table border=\"1\" class=\"dataframe\">\n",
       "  <thead>\n",
       "    <tr style=\"text-align: right;\">\n",
       "      <th></th>\n",
       "      <th>Decision Tree</th>\n",
       "      <th>Recall</th>\n",
       "      <th>Precision</th>\n",
       "      <th>F1 Score</th>\n",
       "      <th>Accuracy</th>\n",
       "    </tr>\n",
       "  </thead>\n",
       "  <tbody>\n",
       "    <tr>\n",
       "      <th>0</th>\n",
       "      <td>w/o GridSearch &amp; CV</td>\n",
       "      <td>0.417582</td>\n",
       "      <td>0.467213</td>\n",
       "      <td>0.441006</td>\n",
       "      <td>0.995666</td>\n",
       "    </tr>\n",
       "  </tbody>\n",
       "</table>\n",
       "</div>"
      ],
      "text/plain": [
       "         Decision Tree    Recall  Precision  F1 Score  Accuracy\n",
       "0  w/o GridSearch & CV  0.417582   0.467213  0.441006  0.995666"
      ]
     },
     "execution_count": 21,
     "metadata": {},
     "output_type": "execute_result"
    }
   ],
   "source": [
    "dt_Recall = recall_score(y_test, dt_pred)\n",
    "dt_Precision = precision_score(y_test, dt_pred)\n",
    "dt_f1 = f1_score(y_test, dt_pred)\n",
    "dt_accuracy = accuracy_score(y_test, dt_pred)\n",
    "\n",
    "dtdf = [(dt_Recall, dt_Precision, dt_f1, dt_accuracy)]\n",
    "\n",
    "dt_score = pd.DataFrame(data = dtdf, columns=['Recall','Precision','F1 Score', 'Accuracy'])\n",
    "dt_score.insert(0, 'Decision Tree', 'w/o GridSearch & CV')\n",
    "dt_score"
   ]
  },
  {
   "cell_type": "code",
   "execution_count": 22,
   "id": "8ac1529e-c58a-4ee1-8efb-cae66abfcd63",
   "metadata": {},
   "outputs": [
    {
     "name": "stdout",
     "output_type": "stream",
     "text": [
      "1.0\n",
      "0.9956663217718595\n"
     ]
    }
   ],
   "source": [
    "print (dt.score(X_train,y_train))\n",
    "print(dt.score(X_test,y_test))"
   ]
  },
  {
   "cell_type": "code",
   "execution_count": 23,
   "id": "3869c2b5-93cf-4c1a-b102-b0b7cfa53a36",
   "metadata": {},
   "outputs": [
    {
     "data": {
      "text/plain": [
       "{'ccp_alpha': 0.0,\n",
       " 'class_weight': None,\n",
       " 'criterion': 'gini',\n",
       " 'max_depth': None,\n",
       " 'max_features': None,\n",
       " 'max_leaf_nodes': None,\n",
       " 'min_impurity_decrease': 0.0,\n",
       " 'min_samples_leaf': 1,\n",
       " 'min_samples_split': 2,\n",
       " 'min_weight_fraction_leaf': 0.0,\n",
       " 'random_state': 42,\n",
       " 'splitter': 'best'}"
      ]
     },
     "execution_count": 23,
     "metadata": {},
     "output_type": "execute_result"
    }
   ],
   "source": [
    "dt.get_params()"
   ]
  },
  {
   "cell_type": "code",
   "execution_count": 24,
   "id": "a47ec7ee-ff69-4a1e-ada1-d6e4235ed677",
   "metadata": {},
   "outputs": [],
   "source": [
    "model_probs = pd.DataFrame(dt.predict_proba(X_test)[:, 1], columns = ['DT'])"
   ]
  },
  {
   "cell_type": "code",
   "execution_count": 25,
   "id": "f12c8c40-2d01-41ab-a0a6-b6989a149652",
   "metadata": {},
   "outputs": [],
   "source": [
    "fpr, tpr, _ = roc_curve(y_test,  model_probs['DT'])\n",
    "auc = roc_auc_score(y_test, model_probs['DT'])"
   ]
  },
  {
   "cell_type": "code",
   "execution_count": 26,
   "id": "a668d9fe-e8fa-4bc9-ac97-f586d97a6baa",
   "metadata": {},
   "outputs": [],
   "source": [
    "result_table = pd.DataFrame(columns=['classifiers', 'fpr','tpr','auc'])"
   ]
  },
  {
   "cell_type": "code",
   "execution_count": 27,
   "id": "d74809af-9144-4e77-a0e3-4097d1d0892b",
   "metadata": {},
   "outputs": [
    {
     "name": "stderr",
     "output_type": "stream",
     "text": [
      "/tmp/ipykernel_4458/1845363342.py:1: FutureWarning: The frame.append method is deprecated and will be removed from pandas in a future version. Use pandas.concat instead.\n",
      "  result_table = result_table.append({'classifiers':'DT',\n"
     ]
    }
   ],
   "source": [
    "result_table = result_table.append({'classifiers':'DT',\n",
    "                    'fpr':fpr, \n",
    "                    'tpr':tpr, \n",
    "                    'auc':auc}, ignore_index=True)\n"
   ]
  },
  {
   "cell_type": "markdown",
   "id": "2d3a491f-ad98-4a6b-b4a0-da92d17e8d05",
   "metadata": {},
   "source": [
    "#### Random Forest w/o Hyperparameter tuning\n"
   ]
  },
  {
   "cell_type": "code",
   "execution_count": 29,
   "id": "ab621ed6-eda6-46a5-a262-ec420bcf3c45",
   "metadata": {},
   "outputs": [
    {
     "name": "stdout",
     "output_type": "stream",
     "text": [
      "[[66398    16]\n",
      " [  160   113]]\n",
      "\n",
      "\n",
      "              precision    recall  f1-score   support\n",
      "\n",
      "           0       1.00      1.00      1.00     66414\n",
      "           1       0.88      0.41      0.56       273\n",
      "\n",
      "    accuracy                           1.00     66687\n",
      "   macro avg       0.94      0.71      0.78     66687\n",
      "weighted avg       1.00      1.00      1.00     66687\n",
      "\n"
     ]
    }
   ],
   "source": [
    "rf = RandomForestClassifier(n_estimators=200,random_state=42)\n",
    "\n",
    "rf.fit(X_train,y_train)\n",
    "\n",
    "rf_pred = rf.predict(X_test)\n",
    "\n",
    "print(confusion_matrix(y_test,rf_pred))\n",
    "print('\\n')\n",
    "print(classification_report(y_test,rf_pred))"
   ]
  },
  {
   "cell_type": "code",
   "execution_count": 30,
   "id": "d25a22b6-2453-4b62-b065-79b957b7e82c",
   "metadata": {},
   "outputs": [
    {
     "data": {
      "text/html": [
       "<div>\n",
       "<style scoped>\n",
       "    .dataframe tbody tr th:only-of-type {\n",
       "        vertical-align: middle;\n",
       "    }\n",
       "\n",
       "    .dataframe tbody tr th {\n",
       "        vertical-align: top;\n",
       "    }\n",
       "\n",
       "    .dataframe thead th {\n",
       "        text-align: right;\n",
       "    }\n",
       "</style>\n",
       "<table border=\"1\" class=\"dataframe\">\n",
       "  <thead>\n",
       "    <tr style=\"text-align: right;\">\n",
       "      <th></th>\n",
       "      <th>Random Forest</th>\n",
       "      <th>Recall</th>\n",
       "      <th>Precision</th>\n",
       "      <th>F1 Score</th>\n",
       "      <th>Accuracy</th>\n",
       "    </tr>\n",
       "  </thead>\n",
       "  <tbody>\n",
       "    <tr>\n",
       "      <th>0</th>\n",
       "      <td>w/o GridSearch &amp; CV</td>\n",
       "      <td>0.413919</td>\n",
       "      <td>0.875969</td>\n",
       "      <td>0.562189</td>\n",
       "      <td>0.997361</td>\n",
       "    </tr>\n",
       "  </tbody>\n",
       "</table>\n",
       "</div>"
      ],
      "text/plain": [
       "         Random Forest    Recall  Precision  F1 Score  Accuracy\n",
       "0  w/o GridSearch & CV  0.413919   0.875969  0.562189  0.997361"
      ]
     },
     "execution_count": 30,
     "metadata": {},
     "output_type": "execute_result"
    }
   ],
   "source": [
    "rf_Recall = recall_score(y_test, rf_pred)\n",
    "rf_Precision = precision_score(y_test, rf_pred)\n",
    "rf_f1 = f1_score(y_test, rf_pred)\n",
    "rf_accuracy = accuracy_score(y_test, rf_pred)\n",
    "\n",
    "rfdf = [(rf_Recall, rf_Precision, rf_f1, rf_accuracy)]\n",
    "\n",
    "rf_score = pd.DataFrame(data = rfdf, columns=['Recall','Precision','F1 Score', 'Accuracy'])\n",
    "rf_score.insert(0, 'Random Forest', 'w/o GridSearch & CV')\n",
    "rf_score"
   ]
  },
  {
   "cell_type": "code",
   "execution_count": 31,
   "id": "69073df3-3d26-4332-b7af-3c82eb2f565e",
   "metadata": {},
   "outputs": [
    {
     "name": "stdout",
     "output_type": "stream",
     "text": [
      "1.0\n",
      "0.9973608049544889\n"
     ]
    }
   ],
   "source": [
    "print (rf.score(X_train,y_train))\n",
    "print(rf.score(X_test,y_test))"
   ]
  },
  {
   "cell_type": "code",
   "execution_count": 32,
   "id": "8faff3c6-abc1-4089-a29a-0e22fe86f7d6",
   "metadata": {},
   "outputs": [
    {
     "data": {
      "text/plain": [
       "{'bootstrap': True,\n",
       " 'ccp_alpha': 0.0,\n",
       " 'class_weight': None,\n",
       " 'criterion': 'gini',\n",
       " 'max_depth': None,\n",
       " 'max_features': 'sqrt',\n",
       " 'max_leaf_nodes': None,\n",
       " 'max_samples': None,\n",
       " 'min_impurity_decrease': 0.0,\n",
       " 'min_samples_leaf': 1,\n",
       " 'min_samples_split': 2,\n",
       " 'min_weight_fraction_leaf': 0.0,\n",
       " 'n_estimators': 200,\n",
       " 'n_jobs': None,\n",
       " 'oob_score': False,\n",
       " 'random_state': 42,\n",
       " 'verbose': 0,\n",
       " 'warm_start': False}"
      ]
     },
     "execution_count": 32,
     "metadata": {},
     "output_type": "execute_result"
    }
   ],
   "source": [
    "rf.get_params()"
   ]
  },
  {
   "cell_type": "code",
   "execution_count": 33,
   "id": "4643b477-47c2-4f6e-8ca4-52024b2fd5b2",
   "metadata": {},
   "outputs": [],
   "source": [
    "model_probs['RF'] = rf.predict_proba(X_test)[:, 1]"
   ]
  },
  {
   "cell_type": "code",
   "execution_count": 34,
   "id": "867a6137-b9a3-4c6f-95de-d047876665c7",
   "metadata": {},
   "outputs": [],
   "source": [
    "fpr, tpr, _ = roc_curve(y_test,  model_probs['RF'])\n",
    "auc = roc_auc_score(y_test, model_probs['RF'])"
   ]
  },
  {
   "cell_type": "code",
   "execution_count": 35,
   "id": "4170c116-e3d9-4b07-9d19-03445c5bc8fa",
   "metadata": {},
   "outputs": [
    {
     "name": "stderr",
     "output_type": "stream",
     "text": [
      "/tmp/ipykernel_4458/1587168915.py:1: FutureWarning: The frame.append method is deprecated and will be removed from pandas in a future version. Use pandas.concat instead.\n",
      "  result_table= result_table.append({'classifiers':'RF',\n"
     ]
    }
   ],
   "source": [
    "result_table= result_table.append({'classifiers':'RF',\n",
    "                    'fpr':fpr, \n",
    "                    'tpr':tpr, \n",
    "                    'auc':auc}, ignore_index=True)"
   ]
  },
  {
   "cell_type": "markdown",
   "id": "128d4a14-810d-4221-9a7d-add84f38446d",
   "metadata": {},
   "source": [
    "#### AdaBoost w/o Hyperparameter tuning\n"
   ]
  },
  {
   "cell_type": "code",
   "execution_count": 36,
   "id": "43ea808f-9de0-4f1b-9a5e-0aa7a2592690",
   "metadata": {},
   "outputs": [
    {
     "name": "stdout",
     "output_type": "stream",
     "text": [
      "[[66372    42]\n",
      " [  207    66]]\n",
      "\n",
      "\n",
      "              precision    recall  f1-score   support\n",
      "\n",
      "           0       1.00      1.00      1.00     66414\n",
      "           1       0.61      0.24      0.35       273\n",
      "\n",
      "    accuracy                           1.00     66687\n",
      "   macro avg       0.80      0.62      0.67     66687\n",
      "weighted avg       1.00      1.00      1.00     66687\n",
      "\n"
     ]
    }
   ],
   "source": [
    "ada = AdaBoostClassifier(n_estimators=200,random_state=42)\n",
    "ada.fit(X_train,y_train)\n",
    "\n",
    "ada_pred = ada.predict(X_test)\n",
    "\n",
    "print(confusion_matrix(y_test,ada_pred))\n",
    "print('\\n')\n",
    "print(classification_report(y_test,ada_pred))"
   ]
  },
  {
   "cell_type": "code",
   "execution_count": 37,
   "id": "214133c7-69ca-4fd2-8feb-81efaaf58ad8",
   "metadata": {},
   "outputs": [
    {
     "data": {
      "text/html": [
       "<div>\n",
       "<style scoped>\n",
       "    .dataframe tbody tr th:only-of-type {\n",
       "        vertical-align: middle;\n",
       "    }\n",
       "\n",
       "    .dataframe tbody tr th {\n",
       "        vertical-align: top;\n",
       "    }\n",
       "\n",
       "    .dataframe thead th {\n",
       "        text-align: right;\n",
       "    }\n",
       "</style>\n",
       "<table border=\"1\" class=\"dataframe\">\n",
       "  <thead>\n",
       "    <tr style=\"text-align: right;\">\n",
       "      <th></th>\n",
       "      <th>AdaBoost</th>\n",
       "      <th>Recall</th>\n",
       "      <th>Precision</th>\n",
       "      <th>F1 Score</th>\n",
       "      <th>Accuracy</th>\n",
       "    </tr>\n",
       "  </thead>\n",
       "  <tbody>\n",
       "    <tr>\n",
       "      <th>0</th>\n",
       "      <td>w/o GridSearch &amp; CV</td>\n",
       "      <td>0.241758</td>\n",
       "      <td>0.611111</td>\n",
       "      <td>0.346457</td>\n",
       "      <td>0.996266</td>\n",
       "    </tr>\n",
       "  </tbody>\n",
       "</table>\n",
       "</div>"
      ],
      "text/plain": [
       "              AdaBoost    Recall  Precision  F1 Score  Accuracy\n",
       "0  w/o GridSearch & CV  0.241758   0.611111  0.346457  0.996266"
      ]
     },
     "execution_count": 37,
     "metadata": {},
     "output_type": "execute_result"
    }
   ],
   "source": [
    "ada_Recall = recall_score(y_test, ada_pred)\n",
    "ada_Precision = precision_score(y_test, ada_pred)\n",
    "ada_f1 = f1_score(y_test, ada_pred)\n",
    "ada_accuracy = accuracy_score(y_test, ada_pred)\n",
    "\n",
    "adadf = [(ada_Recall, ada_Precision, ada_f1, ada_accuracy)]\n",
    "\n",
    "ada_score = pd.DataFrame(data = adadf, columns=['Recall','Precision','F1 Score', 'Accuracy'])\n",
    "ada_score.insert(0, 'AdaBoost', 'w/o GridSearch & CV')\n",
    "ada_score"
   ]
  },
  {
   "cell_type": "code",
   "execution_count": 38,
   "id": "e8281953-65be-4e1f-838f-c5945ad5bf4b",
   "metadata": {},
   "outputs": [
    {
     "name": "stdout",
     "output_type": "stream",
     "text": [
      "0.9966131323063476\n",
      "0.9962661388276576\n"
     ]
    }
   ],
   "source": [
    "print (ada.score(X_train,y_train))\n",
    "print(ada.score(X_test,y_test))"
   ]
  },
  {
   "cell_type": "code",
   "execution_count": 39,
   "id": "d79c37d4-9fcb-459e-b299-03ccb32e9c9d",
   "metadata": {},
   "outputs": [
    {
     "data": {
      "text/plain": [
       "{'algorithm': 'SAMME.R',\n",
       " 'base_estimator': 'deprecated',\n",
       " 'estimator': None,\n",
       " 'learning_rate': 1.0,\n",
       " 'n_estimators': 200,\n",
       " 'random_state': 42}"
      ]
     },
     "execution_count": 39,
     "metadata": {},
     "output_type": "execute_result"
    }
   ],
   "source": [
    "ada.get_params()"
   ]
  },
  {
   "cell_type": "code",
   "execution_count": 40,
   "id": "67d75da5-0080-4a30-8f29-e5826f417abf",
   "metadata": {},
   "outputs": [],
   "source": [
    "model_probs['Ada'] = ada.predict_proba(X_test)[:, 1]"
   ]
  },
  {
   "cell_type": "code",
   "execution_count": 41,
   "id": "cd02b112-0c48-4e4e-a864-f04effa507aa",
   "metadata": {},
   "outputs": [],
   "source": [
    "fpr, tpr, _ = roc_curve(y_test,  model_probs['Ada'])\n",
    "auc = roc_auc_score(y_test, model_probs['Ada'])"
   ]
  },
  {
   "cell_type": "code",
   "execution_count": 42,
   "id": "cb42e8eb-9bbd-4d90-8098-c25cd265032d",
   "metadata": {},
   "outputs": [
    {
     "name": "stderr",
     "output_type": "stream",
     "text": [
      "/tmp/ipykernel_4458/2058489420.py:1: FutureWarning: The frame.append method is deprecated and will be removed from pandas in a future version. Use pandas.concat instead.\n",
      "  result_table= result_table.append({'classifiers':'Ada',\n"
     ]
    }
   ],
   "source": [
    "result_table= result_table.append({'classifiers':'Ada',\n",
    "                    'fpr':fpr, \n",
    "                    'tpr':tpr, \n",
    "                    'auc':auc}, ignore_index=True)"
   ]
  },
  {
   "cell_type": "markdown",
   "id": "32ae7544-6223-41dc-86ff-2f7bd64c131c",
   "metadata": {},
   "source": [
    "#### XGB w/o Hyperparameter tuning"
   ]
  },
  {
   "cell_type": "code",
   "execution_count": 43,
   "id": "d9bae63c-4a11-4957-bbd2-8b23c59a7039",
   "metadata": {},
   "outputs": [
    {
     "name": "stdout",
     "output_type": "stream",
     "text": [
      "[[66396    18]\n",
      " [  205    68]]\n",
      "\n",
      "\n",
      "              precision    recall  f1-score   support\n",
      "\n",
      "           0       1.00      1.00      1.00     66414\n",
      "           1       0.79      0.25      0.38       273\n",
      "\n",
      "    accuracy                           1.00     66687\n",
      "   macro avg       0.89      0.62      0.69     66687\n",
      "weighted avg       1.00      1.00      1.00     66687\n",
      "\n"
     ]
    }
   ],
   "source": [
    "xgbc = xgb.XGBClassifier(n_estimators=200,\n",
    "                         max_depth=2,\n",
    "                         eval_metric=\"auc\",\n",
    "                         random_state=42).fit(X_train,y_train, verbose=True)\n",
    "\n",
    "\n",
    "xgb_pred = xgbc.predict(X_test)\n",
    "\n",
    "print(confusion_matrix(y_test,xgb_pred))\n",
    "print('\\n')\n",
    "print(classification_report(y_test,xgb_pred))"
   ]
  },
  {
   "cell_type": "code",
   "execution_count": 44,
   "id": "b562a8e3-53c1-453b-b6ae-f060fd37efa5",
   "metadata": {},
   "outputs": [
    {
     "data": {
      "text/html": [
       "<div>\n",
       "<style scoped>\n",
       "    .dataframe tbody tr th:only-of-type {\n",
       "        vertical-align: middle;\n",
       "    }\n",
       "\n",
       "    .dataframe tbody tr th {\n",
       "        vertical-align: top;\n",
       "    }\n",
       "\n",
       "    .dataframe thead th {\n",
       "        text-align: right;\n",
       "    }\n",
       "</style>\n",
       "<table border=\"1\" class=\"dataframe\">\n",
       "  <thead>\n",
       "    <tr style=\"text-align: right;\">\n",
       "      <th></th>\n",
       "      <th>XGBoost</th>\n",
       "      <th>Recall</th>\n",
       "      <th>Precision</th>\n",
       "      <th>F1 Score</th>\n",
       "      <th>Accuracy</th>\n",
       "    </tr>\n",
       "  </thead>\n",
       "  <tbody>\n",
       "    <tr>\n",
       "      <th>0</th>\n",
       "      <td>w/o GridSearch &amp; CV</td>\n",
       "      <td>0.249084</td>\n",
       "      <td>0.790698</td>\n",
       "      <td>0.37883</td>\n",
       "      <td>0.996656</td>\n",
       "    </tr>\n",
       "  </tbody>\n",
       "</table>\n",
       "</div>"
      ],
      "text/plain": [
       "               XGBoost    Recall  Precision  F1 Score  Accuracy\n",
       "0  w/o GridSearch & CV  0.249084   0.790698   0.37883  0.996656"
      ]
     },
     "execution_count": 44,
     "metadata": {},
     "output_type": "execute_result"
    }
   ],
   "source": [
    "xgb_Recall = recall_score(y_test, xgb_pred)\n",
    "xgb_Precision = precision_score(y_test, xgb_pred)\n",
    "xgb_f1 = f1_score(y_test, xgb_pred)\n",
    "xgb_accuracy = accuracy_score(y_test, xgb_pred)\n",
    "\n",
    "xgbdf = [(xgb_Recall, xgb_Precision, xgb_f1, xgb_accuracy)]\n",
    "\n",
    "xgb_score = pd.DataFrame(data = xgbdf, columns=['Recall','Precision','F1 Score', 'Accuracy'])\n",
    "xgb_score.insert(0, 'XGBoost', 'w/o GridSearch & CV')\n",
    "xgb_score"
   ]
  },
  {
   "cell_type": "code",
   "execution_count": 45,
   "id": "20695663-f77a-45d9-b603-02b2b7b0a8ba",
   "metadata": {},
   "outputs": [
    {
     "name": "stdout",
     "output_type": "stream",
     "text": [
      "0.9975964164754725\n",
      "0.9966560199139263\n"
     ]
    }
   ],
   "source": [
    "print (xgbc.score(X_train,y_train))\n",
    "print(xgbc.score(X_test,y_test))"
   ]
  },
  {
   "cell_type": "code",
   "execution_count": 46,
   "id": "667b9d63-4219-4a54-852a-205db89c10bc",
   "metadata": {
    "tags": []
   },
   "outputs": [
    {
     "data": {
      "text/plain": [
       "{'objective': 'binary:logistic',\n",
       " 'use_label_encoder': None,\n",
       " 'base_score': 0.5,\n",
       " 'booster': 'gbtree',\n",
       " 'callbacks': None,\n",
       " 'colsample_bylevel': 1,\n",
       " 'colsample_bynode': 1,\n",
       " 'colsample_bytree': 1,\n",
       " 'early_stopping_rounds': None,\n",
       " 'enable_categorical': False,\n",
       " 'eval_metric': 'auc',\n",
       " 'feature_types': None,\n",
       " 'gamma': 0,\n",
       " 'gpu_id': -1,\n",
       " 'grow_policy': 'depthwise',\n",
       " 'importance_type': None,\n",
       " 'interaction_constraints': '',\n",
       " 'learning_rate': 0.300000012,\n",
       " 'max_bin': 256,\n",
       " 'max_cat_threshold': 64,\n",
       " 'max_cat_to_onehot': 4,\n",
       " 'max_delta_step': 0,\n",
       " 'max_depth': 2,\n",
       " 'max_leaves': 0,\n",
       " 'min_child_weight': 1,\n",
       " 'missing': nan,\n",
       " 'monotone_constraints': '()',\n",
       " 'n_estimators': 200,\n",
       " 'n_jobs': 0,\n",
       " 'num_parallel_tree': 1,\n",
       " 'predictor': 'auto',\n",
       " 'random_state': 42,\n",
       " 'reg_alpha': 0,\n",
       " 'reg_lambda': 1,\n",
       " 'sampling_method': 'uniform',\n",
       " 'scale_pos_weight': 1,\n",
       " 'subsample': 1,\n",
       " 'tree_method': 'exact',\n",
       " 'validate_parameters': 1,\n",
       " 'verbosity': None}"
      ]
     },
     "execution_count": 46,
     "metadata": {},
     "output_type": "execute_result"
    }
   ],
   "source": [
    "xgbc.get_params()"
   ]
  },
  {
   "cell_type": "code",
   "execution_count": 47,
   "id": "d9ed0169-ef86-469e-a27f-c49ee479b3c0",
   "metadata": {},
   "outputs": [],
   "source": [
    "model_probs['XGB'] = xgbc.predict_proba(X_test)[:, 1]"
   ]
  },
  {
   "cell_type": "code",
   "execution_count": 48,
   "id": "c62aa9ac-7921-40f1-bc1d-a4871a9d1403",
   "metadata": {},
   "outputs": [],
   "source": [
    "fpr, tpr, _ = roc_curve(y_test,  model_probs['XGB'])\n",
    "auc = roc_auc_score(y_test, model_probs['XGB'])"
   ]
  },
  {
   "cell_type": "code",
   "execution_count": 49,
   "id": "3f28939e-84df-4e11-85be-406a6acd0846",
   "metadata": {},
   "outputs": [
    {
     "name": "stderr",
     "output_type": "stream",
     "text": [
      "/tmp/ipykernel_4458/1733270084.py:1: FutureWarning: The frame.append method is deprecated and will be removed from pandas in a future version. Use pandas.concat instead.\n",
      "  result_table= result_table.append({'classifiers':'XGB',\n"
     ]
    }
   ],
   "source": [
    "result_table= result_table.append({'classifiers':'XGB',\n",
    "                    'fpr':fpr, \n",
    "                    'tpr':tpr, \n",
    "                    'auc':auc}, ignore_index=True)"
   ]
  },
  {
   "cell_type": "markdown",
   "id": "ed305f26-05f6-4e13-8533-f42c627b2e24",
   "metadata": {},
   "source": [
    "#### Decision Tree with CV & Hyperparameter Tuning"
   ]
  },
  {
   "cell_type": "code",
   "execution_count": 50,
   "id": "35aa3a69-2725-4e64-a56e-6daf267dd5cb",
   "metadata": {},
   "outputs": [],
   "source": [
    "kf = StratifiedKFold(n_splits=5, shuffle=False)"
   ]
  },
  {
   "cell_type": "code",
   "execution_count": 51,
   "id": "85a65d30-4632-4ed8-9f6e-1dadb567e766",
   "metadata": {},
   "outputs": [],
   "source": [
    "dt_cv = DecisionTreeClassifier(random_state=42)\n",
    "\n",
    "# score = cross_val_score(dt_cv,X_train,y_train, cv = kf, scoring = 'roc_auc')\n",
    "\n",
    "# print(\"Cross Validation AUC scores: {}\".format(score))\n",
    "# print(\"Avg Cross Validation AUC score is: {}\".format(score.mean()))"
   ]
  },
  {
   "cell_type": "code",
   "execution_count": 52,
   "id": "97c528dc-1001-4bcc-8025-0794dbe8a4d8",
   "metadata": {},
   "outputs": [
    {
     "name": "stdout",
     "output_type": "stream",
     "text": [
      "Fitting 5 folds for each of 6 candidates, totalling 30 fits\n"
     ]
    }
   ],
   "source": [
    "params = {\n",
    "    'criterion': ['gini','entropy'],\n",
    "    'max_depth': list(range(1, 4))\n",
    "}\n",
    "grid_dt = GridSearchCV(dt_cv, param_grid=params,scoring = 'roc_auc', cv = kf, n_jobs = 4, refit = \"AUC\", verbose = 5\n",
    "                      ).fit(X_train,y_train)\n"
   ]
  },
  {
   "cell_type": "code",
   "execution_count": 53,
   "id": "75950325-72c6-4cf7-a2bf-8196a0df19f6",
   "metadata": {},
   "outputs": [
    {
     "name": "stdout",
     "output_type": "stream",
     "text": [
      "Best Parameters: {'criterion': 'entropy', 'max_depth': 3}\n",
      "Best Score 0.9310687221392475\n"
     ]
    }
   ],
   "source": [
    "print(\"Best Parameters:\", grid_dt.best_params_)\n",
    "print(\"Best Score\", grid_dt.best_score_)"
   ]
  },
  {
   "cell_type": "code",
   "execution_count": 54,
   "id": "aa24255c-58e5-444f-b305-ac497945c5a0",
   "metadata": {},
   "outputs": [
    {
     "name": "stdout",
     "output_type": "stream",
     "text": [
      "[[66414     0]\n",
      " [  273     0]]\n",
      "\n",
      "\n",
      "              precision    recall  f1-score   support\n",
      "\n",
      "           0       1.00      1.00      1.00     66414\n",
      "           1       0.00      0.00      0.00       273\n",
      "\n",
      "    accuracy                           1.00     66687\n",
      "   macro avg       0.50      0.50      0.50     66687\n",
      "weighted avg       0.99      1.00      0.99     66687\n",
      "\n"
     ]
    },
    {
     "name": "stderr",
     "output_type": "stream",
     "text": [
      "/opt/conda/lib/python3.10/site-packages/sklearn/metrics/_classification.py:1344: UndefinedMetricWarning: Precision and F-score are ill-defined and being set to 0.0 in labels with no predicted samples. Use `zero_division` parameter to control this behavior.\n",
      "  _warn_prf(average, modifier, msg_start, len(result))\n",
      "/opt/conda/lib/python3.10/site-packages/sklearn/metrics/_classification.py:1344: UndefinedMetricWarning: Precision and F-score are ill-defined and being set to 0.0 in labels with no predicted samples. Use `zero_division` parameter to control this behavior.\n",
      "  _warn_prf(average, modifier, msg_start, len(result))\n",
      "/opt/conda/lib/python3.10/site-packages/sklearn/metrics/_classification.py:1344: UndefinedMetricWarning: Precision and F-score are ill-defined and being set to 0.0 in labels with no predicted samples. Use `zero_division` parameter to control this behavior.\n",
      "  _warn_prf(average, modifier, msg_start, len(result))\n"
     ]
    }
   ],
   "source": [
    "dt_cv_pred = grid_dt.predict(X_test)\n",
    "\n",
    "print(confusion_matrix(y_test,dt_cv_pred))\n",
    "\n",
    "print('\\n')\n",
    "print(classification_report(y_test,dt_cv_pred))"
   ]
  },
  {
   "cell_type": "code",
   "execution_count": 55,
   "id": "67a8c890-76a6-494d-9421-b99466b37d19",
   "metadata": {},
   "outputs": [
    {
     "name": "stderr",
     "output_type": "stream",
     "text": [
      "/opt/conda/lib/python3.10/site-packages/sklearn/metrics/_classification.py:1344: UndefinedMetricWarning: Precision is ill-defined and being set to 0.0 due to no predicted samples. Use `zero_division` parameter to control this behavior.\n",
      "  _warn_prf(average, modifier, msg_start, len(result))\n"
     ]
    },
    {
     "data": {
      "text/html": [
       "<div>\n",
       "<style scoped>\n",
       "    .dataframe tbody tr th:only-of-type {\n",
       "        vertical-align: middle;\n",
       "    }\n",
       "\n",
       "    .dataframe tbody tr th {\n",
       "        vertical-align: top;\n",
       "    }\n",
       "\n",
       "    .dataframe thead th {\n",
       "        text-align: right;\n",
       "    }\n",
       "</style>\n",
       "<table border=\"1\" class=\"dataframe\">\n",
       "  <thead>\n",
       "    <tr style=\"text-align: right;\">\n",
       "      <th></th>\n",
       "      <th>Decision Tree</th>\n",
       "      <th>Recall</th>\n",
       "      <th>Precision</th>\n",
       "      <th>F1 Score</th>\n",
       "      <th>Accuracy</th>\n",
       "    </tr>\n",
       "  </thead>\n",
       "  <tbody>\n",
       "    <tr>\n",
       "      <th>0</th>\n",
       "      <td>with GridSearch &amp; CV</td>\n",
       "      <td>0.0</td>\n",
       "      <td>0.0</td>\n",
       "      <td>0.0</td>\n",
       "      <td>0.995906</td>\n",
       "    </tr>\n",
       "  </tbody>\n",
       "</table>\n",
       "</div>"
      ],
      "text/plain": [
       "          Decision Tree  Recall  Precision  F1 Score  Accuracy\n",
       "0  with GridSearch & CV     0.0        0.0       0.0  0.995906"
      ]
     },
     "execution_count": 55,
     "metadata": {},
     "output_type": "execute_result"
    }
   ],
   "source": [
    "dt_cv_Recall = recall_score(y_test, dt_cv_pred)\n",
    "dt_cv_Precision = precision_score(y_test, dt_cv_pred)\n",
    "dt_cv_f1 = f1_score(y_test, dt_cv_pred)\n",
    "dt_cv_accuracy = accuracy_score(y_test, dt_cv_pred)\n",
    "\n",
    "dt_cv_df = [(dt_cv_Recall, dt_cv_Precision, dt_cv_f1, dt_cv_accuracy)]\n",
    "\n",
    "dt_cv_score = pd.DataFrame(data = dt_cv_df, columns=['Recall','Precision','F1 Score', 'Accuracy'])\n",
    "dt_cv_score.insert(0, 'Decision Tree', 'with GridSearch & CV')\n",
    "dt_cv_score"
   ]
  },
  {
   "cell_type": "code",
   "execution_count": 56,
   "id": "d467ccc0-1787-4186-8944-e34708fc72cf",
   "metadata": {},
   "outputs": [
    {
     "name": "stdout",
     "output_type": "stream",
     "text": [
      "0.9464566614320433\n",
      "0.9437859046224751\n"
     ]
    }
   ],
   "source": [
    "print (grid_dt.score(X_train,y_train))\n",
    "print(grid_dt.score(X_test,y_test))"
   ]
  },
  {
   "cell_type": "code",
   "execution_count": 57,
   "id": "a62cc064-564b-4ab6-8c4b-6aeb66c80c65",
   "metadata": {},
   "outputs": [],
   "source": [
    "model_probs['DT_cv'] = grid_dt.predict_proba(X_test)[:, 1]"
   ]
  },
  {
   "cell_type": "code",
   "execution_count": 58,
   "id": "56655126-965d-4342-a3ed-61fc93d54ac2",
   "metadata": {},
   "outputs": [],
   "source": [
    "fpr, tpr, _ = roc_curve(y_test,  model_probs['DT_cv'])\n",
    "auc = roc_auc_score(y_test, model_probs['DT_cv'])"
   ]
  },
  {
   "cell_type": "code",
   "execution_count": 59,
   "id": "95f77f02-3b88-4391-bdfb-0e494990350a",
   "metadata": {},
   "outputs": [
    {
     "name": "stderr",
     "output_type": "stream",
     "text": [
      "/tmp/ipykernel_4458/1762803716.py:1: FutureWarning: The frame.append method is deprecated and will be removed from pandas in a future version. Use pandas.concat instead.\n",
      "  result_table= result_table.append({'classifiers':'DT_cv',\n"
     ]
    }
   ],
   "source": [
    "result_table= result_table.append({'classifiers':'DT_cv',\n",
    "                    'fpr':fpr, \n",
    "                    'tpr':tpr, \n",
    "                    'auc':auc}, ignore_index=True)"
   ]
  },
  {
   "cell_type": "markdown",
   "id": "73d1c600-0fd0-4c40-a690-fe5a192a47ff",
   "metadata": {},
   "source": [
    "#### Random Forest with CV & Hyperparameter Tuning"
   ]
  },
  {
   "cell_type": "code",
   "execution_count": 60,
   "id": "da432606-d912-4be4-afe5-ce3150d24f66",
   "metadata": {},
   "outputs": [],
   "source": [
    "rf_cv = RandomForestClassifier(random_state=42)\n",
    "# score = cross_val_score(rf_cv,X_train,y_train, cv = kf, scoring = 'roc_auc')\n",
    "\n",
    "# print(\"Cross Validation AUC scores: {}\".format(score))\n",
    "# print(\"Avg Cross Validation AUC score is: {}\".format(score.mean()))"
   ]
  },
  {
   "cell_type": "code",
   "execution_count": 61,
   "id": "bcf71c25-2055-455d-9a7c-a7c6e39fc365",
   "metadata": {},
   "outputs": [
    {
     "name": "stdout",
     "output_type": "stream",
     "text": [
      "Fitting 5 folds for each of 8 candidates, totalling 40 fits\n"
     ]
    }
   ],
   "source": [
    "params = {\n",
    "    'n_estimators': list(range(100, 401, 100)),\n",
    "    'max_features': ['sqrt','log2']\n",
    "}\n",
    "grid_rf = GridSearchCV(rf_cv, param_grid=params,scoring = 'roc_auc', cv = kf,n_jobs = 4,refit = \"AUC\",verbose=5,\n",
    "                      ).fit(X_train,y_train)\n"
   ]
  },
  {
   "cell_type": "code",
   "execution_count": 62,
   "id": "06e00881-e7cc-4b74-ac74-f5a03e57fa99",
   "metadata": {},
   "outputs": [
    {
     "name": "stdout",
     "output_type": "stream",
     "text": [
      "Best Parameters: {'max_features': 'sqrt', 'n_estimators': 400}\n",
      "Best Score 0.970404876234787\n"
     ]
    }
   ],
   "source": [
    "print(\"Best Parameters:\", grid_rf.best_params_)\n",
    "print(\"Best Score\", grid_rf.best_score_)"
   ]
  },
  {
   "cell_type": "code",
   "execution_count": 63,
   "id": "40faee6c-23f9-41fe-a3a6-9cc616e15ac6",
   "metadata": {},
   "outputs": [
    {
     "name": "stdout",
     "output_type": "stream",
     "text": [
      "[[66398    16]\n",
      " [  162   111]]\n",
      "\n",
      "\n",
      "              precision    recall  f1-score   support\n",
      "\n",
      "           0       1.00      1.00      1.00     66414\n",
      "           1       0.87      0.41      0.55       273\n",
      "\n",
      "    accuracy                           1.00     66687\n",
      "   macro avg       0.94      0.70      0.78     66687\n",
      "weighted avg       1.00      1.00      1.00     66687\n",
      "\n"
     ]
    }
   ],
   "source": [
    "rf_cv_pred = grid_rf.predict(X_test)\n",
    "\n",
    "print(confusion_matrix(y_test,rf_cv_pred))\n",
    "\n",
    "print('\\n')\n",
    "print(classification_report(y_test,rf_cv_pred))"
   ]
  },
  {
   "cell_type": "code",
   "execution_count": 64,
   "id": "5aed9aa3-bab4-4205-957d-6f9c67d7bdc3",
   "metadata": {},
   "outputs": [
    {
     "data": {
      "text/html": [
       "<div>\n",
       "<style scoped>\n",
       "    .dataframe tbody tr th:only-of-type {\n",
       "        vertical-align: middle;\n",
       "    }\n",
       "\n",
       "    .dataframe tbody tr th {\n",
       "        vertical-align: top;\n",
       "    }\n",
       "\n",
       "    .dataframe thead th {\n",
       "        text-align: right;\n",
       "    }\n",
       "</style>\n",
       "<table border=\"1\" class=\"dataframe\">\n",
       "  <thead>\n",
       "    <tr style=\"text-align: right;\">\n",
       "      <th></th>\n",
       "      <th>Random Forest</th>\n",
       "      <th>Recall</th>\n",
       "      <th>Precision</th>\n",
       "      <th>F1 Score</th>\n",
       "      <th>Accuracy</th>\n",
       "    </tr>\n",
       "  </thead>\n",
       "  <tbody>\n",
       "    <tr>\n",
       "      <th>0</th>\n",
       "      <td>with GridSearch &amp; CV</td>\n",
       "      <td>0.406593</td>\n",
       "      <td>0.874016</td>\n",
       "      <td>0.555</td>\n",
       "      <td>0.997331</td>\n",
       "    </tr>\n",
       "  </tbody>\n",
       "</table>\n",
       "</div>"
      ],
      "text/plain": [
       "          Random Forest    Recall  Precision  F1 Score  Accuracy\n",
       "0  with GridSearch & CV  0.406593   0.874016     0.555  0.997331"
      ]
     },
     "execution_count": 64,
     "metadata": {},
     "output_type": "execute_result"
    }
   ],
   "source": [
    "rf_cv_Recall = recall_score(y_test, rf_cv_pred)\n",
    "rf_cv_Precision = precision_score(y_test, rf_cv_pred)\n",
    "rf_cv_f1 = f1_score(y_test, rf_cv_pred)\n",
    "rf_cv_accuracy = accuracy_score(y_test, rf_cv_pred)\n",
    "\n",
    "rf_cv_df = [(rf_cv_Recall, rf_cv_Precision, rf_cv_f1, rf_cv_accuracy)]\n",
    "\n",
    "rf_cv_score = pd.DataFrame(data = rf_cv_df, columns=['Recall','Precision','F1 Score', 'Accuracy'])\n",
    "rf_cv_score.insert(0, 'Random Forest', 'with GridSearch & CV')\n",
    "rf_cv_score"
   ]
  },
  {
   "cell_type": "code",
   "execution_count": 65,
   "id": "daddd94b-a050-4f11-a82e-c1ee3edb8020",
   "metadata": {},
   "outputs": [
    {
     "name": "stdout",
     "output_type": "stream",
     "text": [
      "1.0\n",
      "0.9611738654335095\n"
     ]
    }
   ],
   "source": [
    "print (grid_rf.score(X_train,y_train))\n",
    "print(grid_rf.score(X_test,y_test))"
   ]
  },
  {
   "cell_type": "code",
   "execution_count": 66,
   "id": "1818f21b-f7d7-4c50-9ab0-7847e3f66e24",
   "metadata": {},
   "outputs": [],
   "source": [
    "model_probs['RF_cv'] = grid_rf.predict_proba(X_test)[:, 1]"
   ]
  },
  {
   "cell_type": "code",
   "execution_count": 67,
   "id": "fc58a197-5a34-4494-9b09-7d43f86686dc",
   "metadata": {},
   "outputs": [],
   "source": [
    "fpr, tpr, _ = roc_curve(y_test,  model_probs['RF_cv'])\n",
    "auc = roc_auc_score(y_test, model_probs['RF_cv'])"
   ]
  },
  {
   "cell_type": "code",
   "execution_count": 68,
   "id": "be22d8a1-a073-4d7e-9739-27c1111aa83d",
   "metadata": {},
   "outputs": [
    {
     "name": "stderr",
     "output_type": "stream",
     "text": [
      "/tmp/ipykernel_4458/3135785514.py:1: FutureWarning: The frame.append method is deprecated and will be removed from pandas in a future version. Use pandas.concat instead.\n",
      "  result_table= result_table.append({'classifiers':'RF_cv',\n"
     ]
    }
   ],
   "source": [
    "result_table= result_table.append({'classifiers':'RF_cv',\n",
    "                    'fpr':fpr, \n",
    "                    'tpr':tpr, \n",
    "                    'auc':auc}, ignore_index=True)"
   ]
  },
  {
   "cell_type": "markdown",
   "id": "81d56857-b45a-4219-8ad5-e45375c5bd18",
   "metadata": {},
   "source": [
    "#### AdaBoost with CV & Hyperparameter Tuning"
   ]
  },
  {
   "cell_type": "code",
   "execution_count": 69,
   "id": "9fbf0a90-a6a7-40c0-a91e-57268060dc5e",
   "metadata": {},
   "outputs": [
    {
     "name": "stdout",
     "output_type": "stream",
     "text": [
      "Fitting 5 folds for each of 3 candidates, totalling 15 fits\n"
     ]
    }
   ],
   "source": [
    "ada_cv = AdaBoostClassifier(random_state=42)\n",
    "params = {\n",
    "    'n_estimators': [50,100,200]\n",
    "}\n",
    "\n",
    "grid_ada = GridSearchCV(ada_cv, param_grid=params,scoring = 'roc_auc', cv = kf ,n_jobs = 4, refit = \"AUC\", verbose=5).fit(X_train,y_train)"
   ]
  },
  {
   "cell_type": "code",
   "execution_count": 70,
   "id": "727f57c9-d046-4c3d-af55-4ee3b5ff1343",
   "metadata": {},
   "outputs": [
    {
     "name": "stdout",
     "output_type": "stream",
     "text": [
      "Best Parameters: {'n_estimators': 200}\n",
      "Best Score 0.9612159996796823\n"
     ]
    }
   ],
   "source": [
    "print(\"Best Parameters:\", grid_ada.best_params_)\n",
    "print(\"Best Score\", grid_ada.best_score_)"
   ]
  },
  {
   "cell_type": "code",
   "execution_count": 71,
   "id": "ea5129c5-95ef-41a8-9aac-f5110981ff73",
   "metadata": {},
   "outputs": [
    {
     "name": "stdout",
     "output_type": "stream",
     "text": [
      "[[66372    42]\n",
      " [  207    66]]\n",
      "\n",
      "\n",
      "              precision    recall  f1-score   support\n",
      "\n",
      "           0       1.00      1.00      1.00     66414\n",
      "           1       0.61      0.24      0.35       273\n",
      "\n",
      "    accuracy                           1.00     66687\n",
      "   macro avg       0.80      0.62      0.67     66687\n",
      "weighted avg       1.00      1.00      1.00     66687\n",
      "\n"
     ]
    }
   ],
   "source": [
    "ada_cv_pred = grid_ada.predict(X_test)\n",
    "\n",
    "print(confusion_matrix(y_test,ada_cv_pred))\n",
    "\n",
    "print('\\n')\n",
    "print(classification_report(y_test,ada_cv_pred))"
   ]
  },
  {
   "cell_type": "code",
   "execution_count": 72,
   "id": "bfc49806-a4ab-43af-8eaa-cff2ae471017",
   "metadata": {},
   "outputs": [
    {
     "data": {
      "text/html": [
       "<div>\n",
       "<style scoped>\n",
       "    .dataframe tbody tr th:only-of-type {\n",
       "        vertical-align: middle;\n",
       "    }\n",
       "\n",
       "    .dataframe tbody tr th {\n",
       "        vertical-align: top;\n",
       "    }\n",
       "\n",
       "    .dataframe thead th {\n",
       "        text-align: right;\n",
       "    }\n",
       "</style>\n",
       "<table border=\"1\" class=\"dataframe\">\n",
       "  <thead>\n",
       "    <tr style=\"text-align: right;\">\n",
       "      <th></th>\n",
       "      <th>AdaBoost</th>\n",
       "      <th>Recall</th>\n",
       "      <th>Precision</th>\n",
       "      <th>F1 Score</th>\n",
       "      <th>Accuracy</th>\n",
       "    </tr>\n",
       "  </thead>\n",
       "  <tbody>\n",
       "    <tr>\n",
       "      <th>0</th>\n",
       "      <td>with GridSearch &amp; CV</td>\n",
       "      <td>0.241758</td>\n",
       "      <td>0.611111</td>\n",
       "      <td>0.346457</td>\n",
       "      <td>0.996266</td>\n",
       "    </tr>\n",
       "  </tbody>\n",
       "</table>\n",
       "</div>"
      ],
      "text/plain": [
       "               AdaBoost    Recall  Precision  F1 Score  Accuracy\n",
       "0  with GridSearch & CV  0.241758   0.611111  0.346457  0.996266"
      ]
     },
     "execution_count": 72,
     "metadata": {},
     "output_type": "execute_result"
    }
   ],
   "source": [
    "ada_cv_Recall = recall_score(y_test, ada_cv_pred)\n",
    "ada_cv_Precision = precision_score(y_test, ada_cv_pred)\n",
    "ada_cv_f1 = f1_score(y_test, ada_cv_pred)\n",
    "ada_cv_accuracy = accuracy_score(y_test, ada_cv_pred)\n",
    "\n",
    "ada_cv_df = [(ada_cv_Recall, ada_cv_Precision, ada_cv_f1, ada_cv_accuracy)]\n",
    "\n",
    "ada_cv_score = pd.DataFrame(data = ada_cv_df, columns=['Recall','Precision','F1 Score', 'Accuracy'])\n",
    "ada_cv_score.insert(0, 'AdaBoost', 'with GridSearch & CV')\n",
    "ada_cv_score"
   ]
  },
  {
   "cell_type": "code",
   "execution_count": 73,
   "id": "ec7633b0-843d-4ca9-aaa7-cdcfb9603c2c",
   "metadata": {},
   "outputs": [
    {
     "name": "stdout",
     "output_type": "stream",
     "text": [
      "0.9873995990067254\n",
      "0.9633794222962169\n"
     ]
    }
   ],
   "source": [
    "print (grid_ada.score(X_train,y_train))\n",
    "print(grid_ada.score(X_test,y_test))"
   ]
  },
  {
   "cell_type": "code",
   "execution_count": 74,
   "id": "f0400b4e-2853-4d31-b857-290668442b79",
   "metadata": {},
   "outputs": [],
   "source": [
    "model_probs['AdaBoost_cv'] = grid_ada.predict_proba(X_test)[:, 1]"
   ]
  },
  {
   "cell_type": "code",
   "execution_count": 75,
   "id": "e21b4648-378d-4d1b-aef9-342f76e16875",
   "metadata": {},
   "outputs": [],
   "source": [
    "fpr, tpr, _ = roc_curve(y_test,  model_probs['AdaBoost_cv'])\n",
    "auc = roc_auc_score(y_test, model_probs['AdaBoost_cv'])"
   ]
  },
  {
   "cell_type": "code",
   "execution_count": 76,
   "id": "4bf8f2ee-c85a-4168-8579-87b6d0484f44",
   "metadata": {},
   "outputs": [
    {
     "name": "stderr",
     "output_type": "stream",
     "text": [
      "/tmp/ipykernel_4458/1531079689.py:1: FutureWarning: The frame.append method is deprecated and will be removed from pandas in a future version. Use pandas.concat instead.\n",
      "  result_table= result_table.append({'classifiers':'AdaBoost_cv',\n"
     ]
    }
   ],
   "source": [
    "result_table= result_table.append({'classifiers':'AdaBoost_cv',\n",
    "                    'fpr':fpr, \n",
    "                    'tpr':tpr, \n",
    "                    'auc':auc}, ignore_index=True)"
   ]
  },
  {
   "cell_type": "markdown",
   "id": "63151a88-c399-4ee2-b258-e70820af2c75",
   "metadata": {},
   "source": [
    "#### XGBoost with CV & Hyperparameter Tuning"
   ]
  },
  {
   "cell_type": "code",
   "execution_count": 77,
   "id": "60321477-01de-4247-a597-24fb5d9cd3b8",
   "metadata": {},
   "outputs": [
    {
     "name": "stdout",
     "output_type": "stream",
     "text": [
      "Fitting 5 folds for each of 24 candidates, totalling 120 fits\n"
     ]
    }
   ],
   "source": [
    "xgbc_cv = xgb.XGBClassifier(random_state=42)\n",
    "\n",
    "params = {\n",
    "    'n_estimators': list(range(100, 801, 100)),\n",
    "    'max_depth': list(range(1, 4))\n",
    "}\n",
    "\n",
    "\n",
    "grid_xgb = GridSearchCV(xgbc_cv, param_grid=params,scoring = 'roc_auc', cv = kf ,n_jobs = 4, refit = \"AUC\", verbose=5).fit(X_train,y_train)"
   ]
  },
  {
   "cell_type": "code",
   "execution_count": 78,
   "id": "469bc810-b87a-46f3-b2af-698e841a3c59",
   "metadata": {},
   "outputs": [
    {
     "name": "stdout",
     "output_type": "stream",
     "text": [
      "Best Parameters: {'max_depth': 3, 'n_estimators': 400}\n",
      "Best Score 0.9832711062097597\n"
     ]
    }
   ],
   "source": [
    "print(\"Best Parameters:\", grid_xgb.best_params_)\n",
    "print(\"Best Score\", grid_xgb.best_score_)"
   ]
  },
  {
   "cell_type": "code",
   "execution_count": 79,
   "id": "4925a04f-06f8-4802-992c-784118d898a1",
   "metadata": {},
   "outputs": [
    {
     "name": "stdout",
     "output_type": "stream",
     "text": [
      "[[66399    15]\n",
      " [  144   129]]\n",
      "\n",
      "\n",
      "              precision    recall  f1-score   support\n",
      "\n",
      "           0       1.00      1.00      1.00     66414\n",
      "           1       0.90      0.47      0.62       273\n",
      "\n",
      "    accuracy                           1.00     66687\n",
      "   macro avg       0.95      0.74      0.81     66687\n",
      "weighted avg       1.00      1.00      1.00     66687\n",
      "\n"
     ]
    }
   ],
   "source": [
    "xgbc_cv_pred = grid_xgb.predict(X_test)\n",
    "\n",
    "print(confusion_matrix(y_test,xgbc_cv_pred))\n",
    "\n",
    "print('\\n')\n",
    "print(classification_report(y_test,xgbc_cv_pred))"
   ]
  },
  {
   "cell_type": "code",
   "execution_count": 80,
   "id": "842a9b1c-b637-4ef8-91dc-9c5f6c7357aa",
   "metadata": {},
   "outputs": [
    {
     "data": {
      "text/html": [
       "<div>\n",
       "<style scoped>\n",
       "    .dataframe tbody tr th:only-of-type {\n",
       "        vertical-align: middle;\n",
       "    }\n",
       "\n",
       "    .dataframe tbody tr th {\n",
       "        vertical-align: top;\n",
       "    }\n",
       "\n",
       "    .dataframe thead th {\n",
       "        text-align: right;\n",
       "    }\n",
       "</style>\n",
       "<table border=\"1\" class=\"dataframe\">\n",
       "  <thead>\n",
       "    <tr style=\"text-align: right;\">\n",
       "      <th></th>\n",
       "      <th>XGBoost</th>\n",
       "      <th>Recall</th>\n",
       "      <th>Precision</th>\n",
       "      <th>F1 Score</th>\n",
       "      <th>Accuracy</th>\n",
       "    </tr>\n",
       "  </thead>\n",
       "  <tbody>\n",
       "    <tr>\n",
       "      <th>0</th>\n",
       "      <td>with GridSearch &amp; CV</td>\n",
       "      <td>0.241758</td>\n",
       "      <td>0.611111</td>\n",
       "      <td>0.346457</td>\n",
       "      <td>0.996266</td>\n",
       "    </tr>\n",
       "  </tbody>\n",
       "</table>\n",
       "</div>"
      ],
      "text/plain": [
       "                XGBoost    Recall  Precision  F1 Score  Accuracy\n",
       "0  with GridSearch & CV  0.241758   0.611111  0.346457  0.996266"
      ]
     },
     "execution_count": 80,
     "metadata": {},
     "output_type": "execute_result"
    }
   ],
   "source": [
    "xgbc_cv_Recall = recall_score(y_test, xgbc_cv_pred)\n",
    "xgbc_cv_Precision = precision_score(y_test, xgbc_cv_pred)\n",
    "xgbc_cv_f1 = f1_score(y_test, xgbc_cv_pred)\n",
    "xgbc_cv_accuracy = accuracy_score(y_test, xgbc_cv_pred)\n",
    "\n",
    "xgbc_cv_df = [(xgbc_cv_Recall, xgbc_cv_Precision, xgbc_cv_f1, xgbc_cv_accuracy)]\n",
    "\n",
    "xgbc_cv_score = pd.DataFrame(data = ada_cv_df, columns=['Recall','Precision','F1 Score', 'Accuracy'])\n",
    "xgbc_cv_score.insert(0, 'XGBoost', 'with GridSearch & CV')\n",
    "xgbc_cv_score"
   ]
  },
  {
   "cell_type": "code",
   "execution_count": 81,
   "id": "938f84d6-c4e6-4b2b-b64c-d60998a5e83e",
   "metadata": {},
   "outputs": [
    {
     "name": "stdout",
     "output_type": "stream",
     "text": [
      "0.9998297935468802\n",
      "0.9835921549265121\n"
     ]
    }
   ],
   "source": [
    "print (grid_xgb.score(X_train,y_train))\n",
    "print(grid_xgb.score(X_test,y_test))"
   ]
  },
  {
   "cell_type": "code",
   "execution_count": 82,
   "id": "e734f7c6-fc53-4f05-9834-32e98b50f52c",
   "metadata": {},
   "outputs": [],
   "source": [
    "model_probs['XGB_cv'] = grid_xgb.predict_proba(X_test)[:, 1]"
   ]
  },
  {
   "cell_type": "code",
   "execution_count": 83,
   "id": "1a877bb3-4766-4a0c-8d46-b94b981a6197",
   "metadata": {},
   "outputs": [],
   "source": [
    "fpr, tpr, _ = roc_curve(y_test,  model_probs['XGB_cv'])\n",
    "auc = roc_auc_score(y_test, model_probs['XGB_cv'])"
   ]
  },
  {
   "cell_type": "code",
   "execution_count": 84,
   "id": "c56f4f70-4410-473c-8cda-3049b6f7abba",
   "metadata": {},
   "outputs": [
    {
     "name": "stderr",
     "output_type": "stream",
     "text": [
      "/tmp/ipykernel_4458/272015995.py:1: FutureWarning: The frame.append method is deprecated and will be removed from pandas in a future version. Use pandas.concat instead.\n",
      "  result_table= result_table.append({'classifiers':'XGB_cv',\n"
     ]
    }
   ],
   "source": [
    "result_table= result_table.append({'classifiers':'XGB_cv',\n",
    "                    'fpr':fpr, \n",
    "                    'tpr':tpr, \n",
    "                    'auc':auc}, ignore_index=True)\n",
    "\n",
    "result_table.set_index('classifiers', inplace=True)"
   ]
  },
  {
   "cell_type": "code",
   "execution_count": 88,
   "id": "1b2e9497-2d78-4ccc-ad54-51baa3a3efb5",
   "metadata": {},
   "outputs": [
    {
     "data": {
      "image/png": "[encoded data removed]",
      "text/plain": [
       "<Figure size 800x600 with 1 Axes>"
      ]
     },
     "metadata": {},
     "output_type": "display_data"
    }
   ],
   "source": [
    "fig = plt.figure(figsize=(8,6))\n",
    "\n",
    "for i in result_table.index:\n",
    "    plt.plot(result_table.loc[i]['fpr'], \n",
    "             result_table.loc[i]['tpr'], \n",
    "             label=\"{}, AUC={:.3f}\".format(i, result_table.loc[i]['auc']))\n",
    "    \n",
    "plt.plot([0,1], [0,1], color='orange', linestyle='--')\n",
    "\n",
    "plt.xticks(np.arange(0.0, 1.1, step=0.1))\n",
    "plt.xlabel(\"Flase Positive Rate\", fontsize=15)\n",
    "\n",
    "plt.yticks(np.arange(0.0, 1.1, step=0.1))\n",
    "plt.ylabel(\"True Positive Rate\", fontsize=15)\n",
    "\n",
    "plt.title('ROC Curve Analysis', fontweight='bold', fontsize=15)\n",
    "plt.legend(prop={'size':13}, loc='lower right')\n",
    "\n",
    "plt.show()"
   ]
  },
  {
   "cell_type": "code",
   "execution_count": null,
   "id": "512b8278-994e-4693-9d6d-61bfb24e6f42",
   "metadata": {},
   "outputs": [],
   "source": []
  },
  {
   "cell_type": "code",
   "execution_count": null,
   "id": "307f9056-53a4-41b6-8e81-86b489198ebb",
   "metadata": {},
   "outputs": [],
   "source": []
  },
  {
   "cell_type": "code",
   "execution_count": null,
   "id": "a59724d4-7132-4ecc-a1ba-ad3294e6dfb1",
   "metadata": {},
   "outputs": [],
   "source": []
  }
 ],
 "metadata": {
  "kernelspec": {
   "display_name": "Python 3 (ipykernel)",
   "language": "python",
   "name": "python3"
  },
  "language_info": {
   "codemirror_mode": {
    "name": "ipython",
    "version": 3
   },
   "file_extension": ".py",
   "mimetype": "text/x-python",
   "name": "python",
   "nbconvert_exporter": "python",
   "pygments_lexer": "ipython3",
   "version": "3.10.8"
  }
 },
 "nbformat": 4,
 "nbformat_minor": 5
}
