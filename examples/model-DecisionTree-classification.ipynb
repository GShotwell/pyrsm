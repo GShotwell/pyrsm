{
 "cells": [
  {
   "cell_type": "markdown",
   "id": "e8d465a1-a270-410b-86bf-a329a5cdb13b",
   "metadata": {},
   "source": [
    "#### Want to know more about Decision Trees? Have a look at this awesome article which summarises everthing you need to start with Decision trees\n",
    "\n",
    "https://towardsdatascience.com/decision-trees-explained-entropy-information-gain-gini-index-ccp-pruning-4d78070db36c"
   ]
  },
  {
   "cell_type": "markdown",
   "id": "ecddd819-d472-43e4-ba0b-55a53c148c32",
   "metadata": {},
   "source": [
    "> Decision trees are a popular machine learning algorithm used for both classification and regression tasks. They work by recursively splitting the data into subsets based on the values of the features, with the goal of creating a tree-like model that can be used to make predictions on new, unseen data.\n",
    "\n",
    "In the case of classification, decision trees are used to classify instances based on a set of features. The decision tree consists of internal nodes that represent tests on the features, and branches that represent the possible outcomes of each test. The leaves of the tree represent the class labels.\n",
    "\n",
    "The basic idea behind the construction of a decision tree is to choose a feature that maximizes the information gain or reduces the impurity at each split. The most common impurity measures used are Gini index and entropy. The information gain measures the reduction in entropy or impurity of the dataset after a split.\n",
    "\n",
    "## Advantages\n",
    "\n",
    "- Decision trees are easy to interpret and visualize, making it easier to communicate the logic behind the model to stakeholders and decision-makers\n",
    "- Decision trees can handle non-linear relationships between features\n",
    "- Decision trees can automatically select the most relevant features, reducing the need for feature selection\n",
    "- Ability to handle both categorical and continuous data \n",
    "- They also perform well on small to medium-sized datasets with a moderate number of features.\n",
    "\n",
    "## Disadvantages\n",
    "\n",
    "- Decision trees can suffer from overfitting if the tree is too deep or too complex. This can lead to poor generalization performance on new, unseen data\n",
    "- Decision trees can be biased towards features with many values, or towards features that appear earlier in the tree\n",
    "- They can be computationally expensive to train, especially when dealing with large datasets or complex trees"
   ]
  },
  {
   "cell_type": "code",
   "execution_count": 3,
   "id": "4b09d265-9fd9-49b9-a133-a7928ffa4da5",
   "metadata": {},
   "outputs": [],
   "source": [
    "import pandas as pd\n",
    "import numpy as np\n",
    "\n",
    "\n",
    "import seaborn as sns\n",
    "import matplotlib.pyplot as plt\n",
    "from mlxtend.plotting import plot_confusion_matrix\n",
    "\n",
    "\n",
    "from sklearn.model_selection import train_test_split\n",
    "from sklearn.model_selection import GridSearchCV\n",
    "from sklearn.model_selection import StratifiedKFold\n",
    "from sklearn.inspection import permutation_importance\n",
    "from sklearn.metrics import confusion_matrix\n",
    "from sklearn import metrics, tree\n",
    "\n",
    "## DecisionTreeClassifier\n",
    "from sklearn.tree import DecisionTreeClassifier\n",
    "\n",
    "\n",
    "import pyrsm as rsm"
   ]
  },
  {
   "cell_type": "code",
   "execution_count": 4,
   "id": "8eb9855b-92df-4e25-81ab-2352f25dc596",
   "metadata": {},
   "outputs": [],
   "source": [
    "data = pd.read_pickle('https://raw.githubusercontent.com/vnijs/pyrsm/main/pyrsm/data/model/fraud_data.pkl')"
   ]
  },
  {
   "cell_type": "code",
   "execution_count": 5,
   "id": "45e2d7bb-b5de-4f82-8a4e-de9341256527",
   "metadata": {},
   "outputs": [
    {
     "data": {
      "text/html": [
       "<div>\n",
       "<style scoped>\n",
       "    .dataframe tbody tr th:only-of-type {\n",
       "        vertical-align: middle;\n",
       "    }\n",
       "\n",
       "    .dataframe tbody tr th {\n",
       "        vertical-align: top;\n",
       "    }\n",
       "\n",
       "    .dataframe thead th {\n",
       "        text-align: right;\n",
       "    }\n",
       "</style>\n",
       "<table border=\"1\" class=\"dataframe\">\n",
       "  <thead>\n",
       "    <tr style=\"text-align: right;\">\n",
       "      <th></th>\n",
       "      <th>cc_num</th>\n",
       "      <th>amt</th>\n",
       "      <th>zip</th>\n",
       "      <th>lat</th>\n",
       "      <th>long</th>\n",
       "      <th>city_pop</th>\n",
       "      <th>unix_time</th>\n",
       "      <th>merch_lat</th>\n",
       "      <th>merch_long</th>\n",
       "      <th>is_fraud</th>\n",
       "    </tr>\n",
       "  </thead>\n",
       "  <tbody>\n",
       "    <tr>\n",
       "      <th>count</th>\n",
       "      <td>2.222880e+05</td>\n",
       "      <td>222288.000000</td>\n",
       "      <td>222288.000000</td>\n",
       "      <td>222288.000000</td>\n",
       "      <td>222288.000000</td>\n",
       "      <td>2.222880e+05</td>\n",
       "      <td>2.222880e+05</td>\n",
       "      <td>222288.000000</td>\n",
       "      <td>222288.000000</td>\n",
       "      <td>222288.000000</td>\n",
       "    </tr>\n",
       "    <tr>\n",
       "      <th>mean</th>\n",
       "      <td>4.207592e+17</td>\n",
       "      <td>69.401502</td>\n",
       "      <td>48805.671278</td>\n",
       "      <td>38.537418</td>\n",
       "      <td>-90.231433</td>\n",
       "      <td>8.803416e+04</td>\n",
       "      <td>1.380672e+09</td>\n",
       "      <td>38.537002</td>\n",
       "      <td>-90.232102</td>\n",
       "      <td>0.003842</td>\n",
       "    </tr>\n",
       "    <tr>\n",
       "      <th>std</th>\n",
       "      <td>1.313834e+18</td>\n",
       "      <td>149.463684</td>\n",
       "      <td>26892.840297</td>\n",
       "      <td>5.058758</td>\n",
       "      <td>13.748966</td>\n",
       "      <td>3.006358e+05</td>\n",
       "      <td>5.196285e+06</td>\n",
       "      <td>5.092326</td>\n",
       "      <td>13.758243</td>\n",
       "      <td>0.061864</td>\n",
       "    </tr>\n",
       "    <tr>\n",
       "      <th>min</th>\n",
       "      <td>6.041621e+10</td>\n",
       "      <td>1.000000</td>\n",
       "      <td>1257.000000</td>\n",
       "      <td>20.027100</td>\n",
       "      <td>-165.672300</td>\n",
       "      <td>2.300000e+01</td>\n",
       "      <td>1.371817e+09</td>\n",
       "      <td>19.027849</td>\n",
       "      <td>-166.669910</td>\n",
       "      <td>0.000000</td>\n",
       "    </tr>\n",
       "    <tr>\n",
       "      <th>25%</th>\n",
       "      <td>1.800462e+14</td>\n",
       "      <td>9.620000</td>\n",
       "      <td>26237.000000</td>\n",
       "      <td>34.668900</td>\n",
       "      <td>-96.809400</td>\n",
       "      <td>7.410000e+02</td>\n",
       "      <td>1.376039e+09</td>\n",
       "      <td>34.748957</td>\n",
       "      <td>-96.922423</td>\n",
       "      <td>0.000000</td>\n",
       "    </tr>\n",
       "    <tr>\n",
       "      <th>50%</th>\n",
       "      <td>3.521417e+15</td>\n",
       "      <td>47.230000</td>\n",
       "      <td>48154.000000</td>\n",
       "      <td>39.371600</td>\n",
       "      <td>-87.461600</td>\n",
       "      <td>2.408000e+03</td>\n",
       "      <td>1.380740e+09</td>\n",
       "      <td>39.366193</td>\n",
       "      <td>-87.410562</td>\n",
       "      <td>0.000000</td>\n",
       "    </tr>\n",
       "    <tr>\n",
       "      <th>75%</th>\n",
       "      <td>4.642255e+15</td>\n",
       "      <td>83.010000</td>\n",
       "      <td>72042.000000</td>\n",
       "      <td>41.846700</td>\n",
       "      <td>-80.158000</td>\n",
       "      <td>1.968500e+04</td>\n",
       "      <td>1.385858e+09</td>\n",
       "      <td>41.938688</td>\n",
       "      <td>-80.231169</td>\n",
       "      <td>0.000000</td>\n",
       "    </tr>\n",
       "    <tr>\n",
       "      <th>max</th>\n",
       "      <td>4.992346e+18</td>\n",
       "      <td>13149.150000</td>\n",
       "      <td>99921.000000</td>\n",
       "      <td>65.689900</td>\n",
       "      <td>-67.950300</td>\n",
       "      <td>2.906700e+06</td>\n",
       "      <td>1.388534e+09</td>\n",
       "      <td>66.668167</td>\n",
       "      <td>-66.955602</td>\n",
       "      <td>1.000000</td>\n",
       "    </tr>\n",
       "  </tbody>\n",
       "</table>\n",
       "</div>"
      ],
      "text/plain": [
       "             cc_num            amt            zip            lat  \\\n",
       "count  2.222880e+05  222288.000000  222288.000000  222288.000000   \n",
       "mean   4.207592e+17      69.401502   48805.671278      38.537418   \n",
       "std    1.313834e+18     149.463684   26892.840297       5.058758   \n",
       "min    6.041621e+10       1.000000    1257.000000      20.027100   \n",
       "25%    1.800462e+14       9.620000   26237.000000      34.668900   \n",
       "50%    3.521417e+15      47.230000   48154.000000      39.371600   \n",
       "75%    4.642255e+15      83.010000   72042.000000      41.846700   \n",
       "max    4.992346e+18   13149.150000   99921.000000      65.689900   \n",
       "\n",
       "                long      city_pop     unix_time      merch_lat  \\\n",
       "count  222288.000000  2.222880e+05  2.222880e+05  222288.000000   \n",
       "mean      -90.231433  8.803416e+04  1.380672e+09      38.537002   \n",
       "std        13.748966  3.006358e+05  5.196285e+06       5.092326   \n",
       "min      -165.672300  2.300000e+01  1.371817e+09      19.027849   \n",
       "25%       -96.809400  7.410000e+02  1.376039e+09      34.748957   \n",
       "50%       -87.461600  2.408000e+03  1.380740e+09      39.366193   \n",
       "75%       -80.158000  1.968500e+04  1.385858e+09      41.938688   \n",
       "max       -67.950300  2.906700e+06  1.388534e+09      66.668167   \n",
       "\n",
       "          merch_long       is_fraud  \n",
       "count  222288.000000  222288.000000  \n",
       "mean      -90.232102       0.003842  \n",
       "std        13.758243       0.061864  \n",
       "min      -166.669910       0.000000  \n",
       "25%       -96.922423       0.000000  \n",
       "50%       -87.410562       0.000000  \n",
       "75%       -80.231169       0.000000  \n",
       "max       -66.955602       1.000000  "
      ]
     },
     "execution_count": 5,
     "metadata": {},
     "output_type": "execute_result"
    }
   ],
   "source": [
    "data.describe()"
   ]
  },
  {
   "cell_type": "code",
   "execution_count": 6,
   "id": "592ff788-6df6-4cba-8e6d-ac0fa1d07410",
   "metadata": {},
   "outputs": [
    {
     "data": {
      "text/html": [
       "<div>\n",
       "<style scoped>\n",
       "    .dataframe tbody tr th:only-of-type {\n",
       "        vertical-align: middle;\n",
       "    }\n",
       "\n",
       "    .dataframe tbody tr th {\n",
       "        vertical-align: top;\n",
       "    }\n",
       "\n",
       "    .dataframe thead th {\n",
       "        text-align: right;\n",
       "    }\n",
       "</style>\n",
       "<table border=\"1\" class=\"dataframe\">\n",
       "  <thead>\n",
       "    <tr style=\"text-align: right;\">\n",
       "      <th></th>\n",
       "      <th>trans_date_trans_time</th>\n",
       "      <th>cc_num</th>\n",
       "      <th>merchant</th>\n",
       "      <th>category</th>\n",
       "      <th>amt</th>\n",
       "      <th>first</th>\n",
       "      <th>last</th>\n",
       "      <th>gender</th>\n",
       "      <th>street</th>\n",
       "      <th>city</th>\n",
       "      <th>...</th>\n",
       "      <th>lat</th>\n",
       "      <th>long</th>\n",
       "      <th>city_pop</th>\n",
       "      <th>job</th>\n",
       "      <th>dob</th>\n",
       "      <th>trans_num</th>\n",
       "      <th>unix_time</th>\n",
       "      <th>merch_lat</th>\n",
       "      <th>merch_long</th>\n",
       "      <th>is_fraud</th>\n",
       "    </tr>\n",
       "  </thead>\n",
       "  <tbody>\n",
       "    <tr>\n",
       "      <th>191922</th>\n",
       "      <td>2020-08-27 16:50:04</td>\n",
       "      <td>4169759661243568</td>\n",
       "      <td>fraud_Terry, Johns and Bins</td>\n",
       "      <td>misc_pos</td>\n",
       "      <td>96.71</td>\n",
       "      <td>Jamie</td>\n",
       "      <td>Carr</td>\n",
       "      <td>F</td>\n",
       "      <td>55363 Aaron Circle Suite 450</td>\n",
       "      <td>Lawn</td>\n",
       "      <td>...</td>\n",
       "      <td>40.2236</td>\n",
       "      <td>-76.5380</td>\n",
       "      <td>213</td>\n",
       "      <td>Special educational needs teacher</td>\n",
       "      <td>1972-02-15</td>\n",
       "      <td>f3fc65de5749ead3631c0f9b7a95355a</td>\n",
       "      <td>1377622204</td>\n",
       "      <td>39.866326</td>\n",
       "      <td>-76.664828</td>\n",
       "      <td>0</td>\n",
       "    </tr>\n",
       "    <tr>\n",
       "      <th>350244</th>\n",
       "      <td>2020-11-03 08:27:37</td>\n",
       "      <td>4769426683924058915</td>\n",
       "      <td>fraud_Zieme, Bode and Dooley</td>\n",
       "      <td>gas_transport</td>\n",
       "      <td>85.30</td>\n",
       "      <td>Andrea</td>\n",
       "      <td>Cruz</td>\n",
       "      <td>F</td>\n",
       "      <td>26572 Hodge Villages Suite 512</td>\n",
       "      <td>Mifflin</td>\n",
       "      <td>...</td>\n",
       "      <td>40.5553</td>\n",
       "      <td>-77.4001</td>\n",
       "      <td>1909</td>\n",
       "      <td>Mining engineer</td>\n",
       "      <td>1954-08-22</td>\n",
       "      <td>8a41e2423d25ea0dcd96cbbbfe149186</td>\n",
       "      <td>1383467257</td>\n",
       "      <td>39.930887</td>\n",
       "      <td>-77.448371</td>\n",
       "      <td>0</td>\n",
       "    </tr>\n",
       "    <tr>\n",
       "      <th>230792</th>\n",
       "      <td>2020-09-12 14:08:26</td>\n",
       "      <td>6011693194885790</td>\n",
       "      <td>fraud_Boehm, Predovic and Reinger</td>\n",
       "      <td>misc_pos</td>\n",
       "      <td>3.74</td>\n",
       "      <td>Victoria</td>\n",
       "      <td>Fleming</td>\n",
       "      <td>F</td>\n",
       "      <td>2807 Parker Station Suite 080</td>\n",
       "      <td>Stanchfield</td>\n",
       "      <td>...</td>\n",
       "      <td>45.6675</td>\n",
       "      <td>-93.2433</td>\n",
       "      <td>2607</td>\n",
       "      <td>Lecturer, further education</td>\n",
       "      <td>1995-12-04</td>\n",
       "      <td>5e00cb43812b425be8c7bcc8b149cd45</td>\n",
       "      <td>1378994906</td>\n",
       "      <td>46.477073</td>\n",
       "      <td>-92.446747</td>\n",
       "      <td>0</td>\n",
       "    </tr>\n",
       "    <tr>\n",
       "      <th>405817</th>\n",
       "      <td>2020-11-28 11:14:55</td>\n",
       "      <td>180046765320457</td>\n",
       "      <td>fraud_Johns-Hoeger</td>\n",
       "      <td>entertainment</td>\n",
       "      <td>83.16</td>\n",
       "      <td>Jared</td>\n",
       "      <td>Camacho</td>\n",
       "      <td>M</td>\n",
       "      <td>4257 Perez Mall</td>\n",
       "      <td>Canton</td>\n",
       "      <td>...</td>\n",
       "      <td>40.8027</td>\n",
       "      <td>-81.3739</td>\n",
       "      <td>192805</td>\n",
       "      <td>Building control surveyor</td>\n",
       "      <td>1963-06-30</td>\n",
       "      <td>e40e987ef47ab544db1c4eced0ee832a</td>\n",
       "      <td>1385637295</td>\n",
       "      <td>41.800316</td>\n",
       "      <td>-80.517950</td>\n",
       "      <td>0</td>\n",
       "    </tr>\n",
       "    <tr>\n",
       "      <th>280759</th>\n",
       "      <td>2020-10-04 11:36:45</td>\n",
       "      <td>3513618443244549</td>\n",
       "      <td>fraud_Miller-Hauck</td>\n",
       "      <td>grocery_pos</td>\n",
       "      <td>128.99</td>\n",
       "      <td>Amber</td>\n",
       "      <td>Perez</td>\n",
       "      <td>F</td>\n",
       "      <td>954 Reyes Ways</td>\n",
       "      <td>Fulton</td>\n",
       "      <td>...</td>\n",
       "      <td>43.7588</td>\n",
       "      <td>-97.8712</td>\n",
       "      <td>355</td>\n",
       "      <td>Financial adviser</td>\n",
       "      <td>1955-06-26</td>\n",
       "      <td>0dc92a2c21a0a2a1ba20dd56bba70330</td>\n",
       "      <td>1380886605</td>\n",
       "      <td>43.639493</td>\n",
       "      <td>-97.897122</td>\n",
       "      <td>0</td>\n",
       "    </tr>\n",
       "  </tbody>\n",
       "</table>\n",
       "<p>5 rows × 22 columns</p>\n",
       "</div>"
      ],
      "text/plain": [
       "       trans_date_trans_time               cc_num  \\\n",
       "191922   2020-08-27 16:50:04     4169759661243568   \n",
       "350244   2020-11-03 08:27:37  4769426683924058915   \n",
       "230792   2020-09-12 14:08:26     6011693194885790   \n",
       "405817   2020-11-28 11:14:55      180046765320457   \n",
       "280759   2020-10-04 11:36:45     3513618443244549   \n",
       "\n",
       "                                 merchant       category     amt     first  \\\n",
       "191922        fraud_Terry, Johns and Bins       misc_pos   96.71     Jamie   \n",
       "350244       fraud_Zieme, Bode and Dooley  gas_transport   85.30    Andrea   \n",
       "230792  fraud_Boehm, Predovic and Reinger       misc_pos    3.74  Victoria   \n",
       "405817                 fraud_Johns-Hoeger  entertainment   83.16     Jared   \n",
       "280759                 fraud_Miller-Hauck    grocery_pos  128.99     Amber   \n",
       "\n",
       "           last gender                          street         city  ...  \\\n",
       "191922     Carr      F    55363 Aaron Circle Suite 450         Lawn  ...   \n",
       "350244     Cruz      F  26572 Hodge Villages Suite 512      Mifflin  ...   \n",
       "230792  Fleming      F   2807 Parker Station Suite 080  Stanchfield  ...   \n",
       "405817  Camacho      M                 4257 Perez Mall       Canton  ...   \n",
       "280759    Perez      F                  954 Reyes Ways       Fulton  ...   \n",
       "\n",
       "            lat     long  city_pop                                job  \\\n",
       "191922  40.2236 -76.5380       213  Special educational needs teacher   \n",
       "350244  40.5553 -77.4001      1909                    Mining engineer   \n",
       "230792  45.6675 -93.2433      2607        Lecturer, further education   \n",
       "405817  40.8027 -81.3739    192805          Building control surveyor   \n",
       "280759  43.7588 -97.8712       355                  Financial adviser   \n",
       "\n",
       "               dob                         trans_num   unix_time  merch_lat  \\\n",
       "191922  1972-02-15  f3fc65de5749ead3631c0f9b7a95355a  1377622204  39.866326   \n",
       "350244  1954-08-22  8a41e2423d25ea0dcd96cbbbfe149186  1383467257  39.930887   \n",
       "230792  1995-12-04  5e00cb43812b425be8c7bcc8b149cd45  1378994906  46.477073   \n",
       "405817  1963-06-30  e40e987ef47ab544db1c4eced0ee832a  1385637295  41.800316   \n",
       "280759  1955-06-26  0dc92a2c21a0a2a1ba20dd56bba70330  1380886605  43.639493   \n",
       "\n",
       "        merch_long  is_fraud  \n",
       "191922  -76.664828         0  \n",
       "350244  -77.448371         0  \n",
       "230792  -92.446747         0  \n",
       "405817  -80.517950         0  \n",
       "280759  -97.897122         0  \n",
       "\n",
       "[5 rows x 22 columns]"
      ]
     },
     "execution_count": 6,
     "metadata": {},
     "output_type": "execute_result"
    }
   ],
   "source": [
    "data.head()"
   ]
  },
  {
   "cell_type": "code",
   "execution_count": 7,
   "id": "b2961515-c609-4969-99d9-0a5c9f611297",
   "metadata": {},
   "outputs": [
    {
     "data": {
      "text/plain": [
       "trans_date_trans_time    0\n",
       "cc_num                   0\n",
       "merchant                 0\n",
       "category                 0\n",
       "amt                      0\n",
       "first                    0\n",
       "last                     0\n",
       "gender                   0\n",
       "street                   0\n",
       "city                     0\n",
       "state                    0\n",
       "zip                      0\n",
       "lat                      0\n",
       "long                     0\n",
       "city_pop                 0\n",
       "job                      0\n",
       "dob                      0\n",
       "trans_num                0\n",
       "unix_time                0\n",
       "merch_lat                0\n",
       "merch_long               0\n",
       "is_fraud                 0\n",
       "dtype: int64"
      ]
     },
     "execution_count": 7,
     "metadata": {},
     "output_type": "execute_result"
    }
   ],
   "source": [
    "data.isnull().sum()"
   ]
  },
  {
   "cell_type": "code",
   "execution_count": 8,
   "id": "79c64103-32d8-4a33-8b4a-40cd31711d31",
   "metadata": {},
   "outputs": [
    {
     "data": {
      "text/markdown": [
       "## Fraud Detection Data\n",
       "\n",
       "#### _Source: Kaggle_\n",
       "\n",
       "### About the Dataset\n",
       "This is a simulated credit card transaction dataset containing legitimate and fraud transactions from the duration 1st Jan 2019 - 31st Dec 2020. It covers credit cards of 1000 customers doing transactions with a pool of 800 merchants.\n",
       "\n",
       "Following are the columns in the dataset:\n",
       "\n",
       "- trans_date_trans_time : Date and time of Transaction occuring\n",
       "- cc_num : Credit card number\n",
       "- merchant : Organization where the transaction occured\n",
       "- category : Type of merchant/organization. Eg home, food dining etc\n",
       "- amt: Amount of transaction\n",
       "- first : First name of the person who did transaction\n",
       "- last : Last name of the person who did transaction\n",
       "- gender\n",
       "- street\n",
       "- city\n",
       "- state\n",
       "- zip\n",
       "- lat : Geographical Latitude coordinates of the customer where transaction occured\n",
       "- long : Geographical Longitude coordinates of the customer where transaction occured\n",
       "- city_pop : City Population\n",
       "- job : Current Job of the person who did transaction\n",
       "- dob : Date of birth\n",
       "- trans_num : Transaction number\n",
       "- merch_lat : Geographical Latitude coordinates of the merhcant where transaction occured\n",
       "- merch_long : Geographical Latitude coordinates of the merhcant where transaction occured\n",
       "- is_fraud : Variable that tells whether a transaction is fraud or not\n"
      ],
      "text/plain": [
       "<IPython.core.display.Markdown object>"
      ]
     },
     "metadata": {},
     "output_type": "display_data"
    }
   ],
   "source": [
    "rsm.describe(data)"
   ]
  },
  {
   "cell_type": "code",
   "execution_count": 9,
   "id": "e30f10a7-b21a-48a8-b1d6-c0e035d3ea33",
   "metadata": {},
   "outputs": [
    {
     "data": {
      "text/plain": [
       "Index(['trans_date_trans_time', 'cc_num', 'merchant', 'category', 'amt',\n",
       "       'first', 'last', 'gender', 'street', 'city', 'state', 'zip', 'lat',\n",
       "       'long', 'city_pop', 'job', 'dob', 'trans_num', 'unix_time', 'merch_lat',\n",
       "       'merch_long', 'is_fraud'],\n",
       "      dtype='object')"
      ]
     },
     "execution_count": 9,
     "metadata": {},
     "output_type": "execute_result"
    }
   ],
   "source": [
    "data.columns"
   ]
  },
  {
   "cell_type": "code",
   "execution_count": 10,
   "id": "8797da4d-fb91-4278-b1dc-79aac1500b58",
   "metadata": {},
   "outputs": [],
   "source": [
    "dict = {'lat': 'Latitude',\n",
    "        'long': 'Longitude'}\n",
    " \n",
    "# call rename () method\n",
    "data.rename(columns=dict,\n",
    "          inplace=True)"
   ]
  },
  {
   "cell_type": "code",
   "execution_count": 11,
   "id": "79bea42d-bb58-4118-bba5-16758ec1f07c",
   "metadata": {},
   "outputs": [
    {
     "data": {
      "text/plain": [
       "Index(['trans_date_trans_time', 'cc_num', 'merchant', 'category', 'amt',\n",
       "       'first', 'last', 'gender', 'street', 'city', 'state', 'zip', 'Latitude',\n",
       "       'Longitude', 'city_pop', 'job', 'dob', 'trans_num', 'unix_time',\n",
       "       'merch_lat', 'merch_long', 'is_fraud'],\n",
       "      dtype='object')"
      ]
     },
     "execution_count": 11,
     "metadata": {},
     "output_type": "execute_result"
    }
   ],
   "source": [
    "data.columns"
   ]
  },
  {
   "cell_type": "code",
   "execution_count": 12,
   "id": "705137fe-bb49-4387-b6d7-206cec2c7091",
   "metadata": {},
   "outputs": [],
   "source": [
    "## Encoding Male as 1 and Female as 0\n",
    "\n",
    "data[\"GenderMale\"] = rsm.ifelse(data.gender == \"M\",1,0)"
   ]
  },
  {
   "cell_type": "code",
   "execution_count": 13,
   "id": "c42983bb-3309-4cd4-a708-8636d1126f1e",
   "metadata": {},
   "outputs": [
    {
     "data": {
      "text/plain": [
       "0    221434\n",
       "1       854\n",
       "Name: is_fraud, dtype: int64"
      ]
     },
     "execution_count": 13,
     "metadata": {},
     "output_type": "execute_result"
    }
   ],
   "source": [
    "data['is_fraud'].value_counts()"
   ]
  },
  {
   "cell_type": "code",
   "execution_count": 14,
   "id": "be02d95e-5880-4631-af36-6a5e3a396e27",
   "metadata": {},
   "outputs": [
    {
     "data": {
      "text/plain": [
       "trans_date_trans_time     object\n",
       "cc_num                     int64\n",
       "merchant                  object\n",
       "category                  object\n",
       "amt                      float64\n",
       "first                     object\n",
       "last                      object\n",
       "gender                    object\n",
       "street                    object\n",
       "city                      object\n",
       "state                     object\n",
       "zip                        int64\n",
       "Latitude                 float64\n",
       "Longitude                float64\n",
       "city_pop                   int64\n",
       "job                       object\n",
       "dob                       object\n",
       "trans_num                 object\n",
       "unix_time                  int64\n",
       "merch_lat                float64\n",
       "merch_long               float64\n",
       "is_fraud                   int64\n",
       "GenderMale                 int64\n",
       "dtype: object"
      ]
     },
     "execution_count": 14,
     "metadata": {},
     "output_type": "execute_result"
    }
   ],
   "source": [
    "data.dtypes"
   ]
  },
  {
   "cell_type": "code",
   "execution_count": 15,
   "id": "33d28a3d-36da-4c7f-b03a-c8525f3133d1",
   "metadata": {},
   "outputs": [
    {
     "name": "stderr",
     "output_type": "stream",
     "text": [
      "/tmp/ipykernel_124/4184077422.py:1: DeprecationWarning: `np.object` is a deprecated alias for the builtin `object`. To silence this warning, use `object` by itself. Doing this will not modify any behavior and is safe. \n",
      "Deprecated in NumPy 1.20; for more details and guidance: https://numpy.org/devdocs/release/1.20.0-notes.html#deprecations\n",
      "  data_numeric = data.loc[:,data.dtypes!= np.object]\n"
     ]
    }
   ],
   "source": [
    "data_numeric = data.loc[:,data.dtypes!= np.object]"
   ]
  },
  {
   "cell_type": "code",
   "execution_count": 16,
   "id": "abdf2a51-2e1e-4fa2-ba1c-dd6f1e848f19",
   "metadata": {},
   "outputs": [
    {
     "data": {
      "text/html": [
       "<div>\n",
       "<style scoped>\n",
       "    .dataframe tbody tr th:only-of-type {\n",
       "        vertical-align: middle;\n",
       "    }\n",
       "\n",
       "    .dataframe tbody tr th {\n",
       "        vertical-align: top;\n",
       "    }\n",
       "\n",
       "    .dataframe thead th {\n",
       "        text-align: right;\n",
       "    }\n",
       "</style>\n",
       "<table border=\"1\" class=\"dataframe\">\n",
       "  <thead>\n",
       "    <tr style=\"text-align: right;\">\n",
       "      <th></th>\n",
       "      <th>cc_num</th>\n",
       "      <th>amt</th>\n",
       "      <th>zip</th>\n",
       "      <th>Latitude</th>\n",
       "      <th>Longitude</th>\n",
       "      <th>city_pop</th>\n",
       "      <th>unix_time</th>\n",
       "      <th>merch_lat</th>\n",
       "      <th>merch_long</th>\n",
       "      <th>is_fraud</th>\n",
       "      <th>GenderMale</th>\n",
       "    </tr>\n",
       "  </thead>\n",
       "  <tbody>\n",
       "    <tr>\n",
       "      <th>191922</th>\n",
       "      <td>4169759661243568</td>\n",
       "      <td>96.71</td>\n",
       "      <td>17041</td>\n",
       "      <td>40.2236</td>\n",
       "      <td>-76.5380</td>\n",
       "      <td>213</td>\n",
       "      <td>1377622204</td>\n",
       "      <td>39.866326</td>\n",
       "      <td>-76.664828</td>\n",
       "      <td>0</td>\n",
       "      <td>0</td>\n",
       "    </tr>\n",
       "    <tr>\n",
       "      <th>350244</th>\n",
       "      <td>4769426683924058915</td>\n",
       "      <td>85.30</td>\n",
       "      <td>17058</td>\n",
       "      <td>40.5553</td>\n",
       "      <td>-77.4001</td>\n",
       "      <td>1909</td>\n",
       "      <td>1383467257</td>\n",
       "      <td>39.930887</td>\n",
       "      <td>-77.448371</td>\n",
       "      <td>0</td>\n",
       "      <td>0</td>\n",
       "    </tr>\n",
       "    <tr>\n",
       "      <th>230792</th>\n",
       "      <td>6011693194885790</td>\n",
       "      <td>3.74</td>\n",
       "      <td>55080</td>\n",
       "      <td>45.6675</td>\n",
       "      <td>-93.2433</td>\n",
       "      <td>2607</td>\n",
       "      <td>1378994906</td>\n",
       "      <td>46.477073</td>\n",
       "      <td>-92.446747</td>\n",
       "      <td>0</td>\n",
       "      <td>0</td>\n",
       "    </tr>\n",
       "    <tr>\n",
       "      <th>405817</th>\n",
       "      <td>180046765320457</td>\n",
       "      <td>83.16</td>\n",
       "      <td>44702</td>\n",
       "      <td>40.8027</td>\n",
       "      <td>-81.3739</td>\n",
       "      <td>192805</td>\n",
       "      <td>1385637295</td>\n",
       "      <td>41.800316</td>\n",
       "      <td>-80.517950</td>\n",
       "      <td>0</td>\n",
       "      <td>1</td>\n",
       "    </tr>\n",
       "    <tr>\n",
       "      <th>280759</th>\n",
       "      <td>3513618443244549</td>\n",
       "      <td>128.99</td>\n",
       "      <td>57340</td>\n",
       "      <td>43.7588</td>\n",
       "      <td>-97.8712</td>\n",
       "      <td>355</td>\n",
       "      <td>1380886605</td>\n",
       "      <td>43.639493</td>\n",
       "      <td>-97.897122</td>\n",
       "      <td>0</td>\n",
       "      <td>0</td>\n",
       "    </tr>\n",
       "  </tbody>\n",
       "</table>\n",
       "</div>"
      ],
      "text/plain": [
       "                     cc_num     amt    zip  Latitude  Longitude  city_pop  \\\n",
       "191922     4169759661243568   96.71  17041   40.2236   -76.5380       213   \n",
       "350244  4769426683924058915   85.30  17058   40.5553   -77.4001      1909   \n",
       "230792     6011693194885790    3.74  55080   45.6675   -93.2433      2607   \n",
       "405817      180046765320457   83.16  44702   40.8027   -81.3739    192805   \n",
       "280759     3513618443244549  128.99  57340   43.7588   -97.8712       355   \n",
       "\n",
       "         unix_time  merch_lat  merch_long  is_fraud  GenderMale  \n",
       "191922  1377622204  39.866326  -76.664828         0           0  \n",
       "350244  1383467257  39.930887  -77.448371         0           0  \n",
       "230792  1378994906  46.477073  -92.446747         0           0  \n",
       "405817  1385637295  41.800316  -80.517950         0           1  \n",
       "280759  1380886605  43.639493  -97.897122         0           0  "
      ]
     },
     "execution_count": 16,
     "metadata": {},
     "output_type": "execute_result"
    }
   ],
   "source": [
    "data_numeric.head()"
   ]
  },
  {
   "cell_type": "markdown",
   "id": "91016daa-e218-48dd-bb20-cf3c868178c3",
   "metadata": {},
   "source": [
    "#### Data Split and assigning Training values as 0 or 1"
   ]
  },
  {
   "cell_type": "code",
   "execution_count": 17,
   "id": "281a2162-a0d7-491f-ba2c-72988ba96437",
   "metadata": {},
   "outputs": [],
   "source": [
    "data_numeric = data_numeric.drop(['cc_num'], axis = 1)\n",
    "\n",
    "train_data, test_data = train_test_split(data_numeric, test_size=0.3, random_state=42)\n",
    "train_data[\"Training\"] = 1\n",
    "test_data[\"Training\"] = 0\n",
    "data = pd.concat([train_data, test_data], ignore_index=True)"
   ]
  },
  {
   "cell_type": "code",
   "execution_count": 18,
   "id": "0a9cfb80-8808-4078-ac83-98e3bbf9d004",
   "metadata": {},
   "outputs": [
    {
     "data": {
      "text/html": [
       "<div>\n",
       "<style scoped>\n",
       "    .dataframe tbody tr th:only-of-type {\n",
       "        vertical-align: middle;\n",
       "    }\n",
       "\n",
       "    .dataframe tbody tr th {\n",
       "        vertical-align: top;\n",
       "    }\n",
       "\n",
       "    .dataframe thead th {\n",
       "        text-align: right;\n",
       "    }\n",
       "</style>\n",
       "<table border=\"1\" class=\"dataframe\">\n",
       "  <thead>\n",
       "    <tr style=\"text-align: right;\">\n",
       "      <th></th>\n",
       "      <th>amt</th>\n",
       "      <th>zip</th>\n",
       "      <th>Latitude</th>\n",
       "      <th>Longitude</th>\n",
       "      <th>city_pop</th>\n",
       "      <th>unix_time</th>\n",
       "      <th>merch_lat</th>\n",
       "      <th>merch_long</th>\n",
       "      <th>is_fraud</th>\n",
       "      <th>GenderMale</th>\n",
       "      <th>Training</th>\n",
       "    </tr>\n",
       "  </thead>\n",
       "  <tbody>\n",
       "    <tr>\n",
       "      <th>0</th>\n",
       "      <td>8.70</td>\n",
       "      <td>49440</td>\n",
       "      <td>43.2326</td>\n",
       "      <td>-86.2492</td>\n",
       "      <td>128715</td>\n",
       "      <td>1376249570</td>\n",
       "      <td>43.142312</td>\n",
       "      <td>-87.137187</td>\n",
       "      <td>0</td>\n",
       "      <td>1</td>\n",
       "      <td>1</td>\n",
       "    </tr>\n",
       "    <tr>\n",
       "      <th>1</th>\n",
       "      <td>3.86</td>\n",
       "      <td>15920</td>\n",
       "      <td>40.4603</td>\n",
       "      <td>-79.0097</td>\n",
       "      <td>922</td>\n",
       "      <td>1379523248</td>\n",
       "      <td>40.794572</td>\n",
       "      <td>-79.360570</td>\n",
       "      <td>0</td>\n",
       "      <td>0</td>\n",
       "      <td>1</td>\n",
       "    </tr>\n",
       "    <tr>\n",
       "      <th>2</th>\n",
       "      <td>55.18</td>\n",
       "      <td>56117</td>\n",
       "      <td>43.5336</td>\n",
       "      <td>-95.6515</td>\n",
       "      <td>399</td>\n",
       "      <td>1373150139</td>\n",
       "      <td>43.027659</td>\n",
       "      <td>-95.111562</td>\n",
       "      <td>0</td>\n",
       "      <td>0</td>\n",
       "      <td>1</td>\n",
       "    </tr>\n",
       "    <tr>\n",
       "      <th>3</th>\n",
       "      <td>63.97</td>\n",
       "      <td>29455</td>\n",
       "      <td>32.8357</td>\n",
       "      <td>-79.8217</td>\n",
       "      <td>20478</td>\n",
       "      <td>1371823404</td>\n",
       "      <td>33.204335</td>\n",
       "      <td>-78.992084</td>\n",
       "      <td>0</td>\n",
       "      <td>1</td>\n",
       "      <td>1</td>\n",
       "    </tr>\n",
       "    <tr>\n",
       "      <th>4</th>\n",
       "      <td>38.76</td>\n",
       "      <td>22015</td>\n",
       "      <td>38.7894</td>\n",
       "      <td>-77.2818</td>\n",
       "      <td>43102</td>\n",
       "      <td>1384530785</td>\n",
       "      <td>39.367203</td>\n",
       "      <td>-77.338293</td>\n",
       "      <td>0</td>\n",
       "      <td>1</td>\n",
       "      <td>1</td>\n",
       "    </tr>\n",
       "    <tr>\n",
       "      <th>...</th>\n",
       "      <td>...</td>\n",
       "      <td>...</td>\n",
       "      <td>...</td>\n",
       "      <td>...</td>\n",
       "      <td>...</td>\n",
       "      <td>...</td>\n",
       "      <td>...</td>\n",
       "      <td>...</td>\n",
       "      <td>...</td>\n",
       "      <td>...</td>\n",
       "      <td>...</td>\n",
       "    </tr>\n",
       "    <tr>\n",
       "      <th>222283</th>\n",
       "      <td>88.85</td>\n",
       "      <td>89512</td>\n",
       "      <td>39.5483</td>\n",
       "      <td>-119.7957</td>\n",
       "      <td>276896</td>\n",
       "      <td>1388187837</td>\n",
       "      <td>39.431524</td>\n",
       "      <td>-118.885055</td>\n",
       "      <td>0</td>\n",
       "      <td>1</td>\n",
       "      <td>0</td>\n",
       "    </tr>\n",
       "    <tr>\n",
       "      <th>222284</th>\n",
       "      <td>58.04</td>\n",
       "      <td>5486</td>\n",
       "      <td>44.6400</td>\n",
       "      <td>-73.3113</td>\n",
       "      <td>1654</td>\n",
       "      <td>1377799974</td>\n",
       "      <td>44.514894</td>\n",
       "      <td>-74.151891</td>\n",
       "      <td>0</td>\n",
       "      <td>1</td>\n",
       "      <td>0</td>\n",
       "    </tr>\n",
       "    <tr>\n",
       "      <th>222285</th>\n",
       "      <td>46.81</td>\n",
       "      <td>4555</td>\n",
       "      <td>44.0943</td>\n",
       "      <td>-69.4828</td>\n",
       "      <td>1643</td>\n",
       "      <td>1387424993</td>\n",
       "      <td>43.870709</td>\n",
       "      <td>-68.564362</td>\n",
       "      <td>0</td>\n",
       "      <td>0</td>\n",
       "      <td>0</td>\n",
       "    </tr>\n",
       "    <tr>\n",
       "      <th>222286</th>\n",
       "      <td>39.96</td>\n",
       "      <td>59714</td>\n",
       "      <td>45.7801</td>\n",
       "      <td>-111.1439</td>\n",
       "      <td>18182</td>\n",
       "      <td>1377651198</td>\n",
       "      <td>44.857909</td>\n",
       "      <td>-111.244932</td>\n",
       "      <td>0</td>\n",
       "      <td>1</td>\n",
       "      <td>0</td>\n",
       "    </tr>\n",
       "    <tr>\n",
       "      <th>222287</th>\n",
       "      <td>79.60</td>\n",
       "      <td>75092</td>\n",
       "      <td>33.6372</td>\n",
       "      <td>-96.6184</td>\n",
       "      <td>46563</td>\n",
       "      <td>1386410914</td>\n",
       "      <td>33.450687</td>\n",
       "      <td>-97.382745</td>\n",
       "      <td>0</td>\n",
       "      <td>0</td>\n",
       "      <td>0</td>\n",
       "    </tr>\n",
       "  </tbody>\n",
       "</table>\n",
       "<p>222288 rows × 11 columns</p>\n",
       "</div>"
      ],
      "text/plain": [
       "          amt    zip  Latitude  Longitude  city_pop   unix_time  merch_lat  \\\n",
       "0        8.70  49440   43.2326   -86.2492    128715  1376249570  43.142312   \n",
       "1        3.86  15920   40.4603   -79.0097       922  1379523248  40.794572   \n",
       "2       55.18  56117   43.5336   -95.6515       399  1373150139  43.027659   \n",
       "3       63.97  29455   32.8357   -79.8217     20478  1371823404  33.204335   \n",
       "4       38.76  22015   38.7894   -77.2818     43102  1384530785  39.367203   \n",
       "...       ...    ...       ...        ...       ...         ...        ...   \n",
       "222283  88.85  89512   39.5483  -119.7957    276896  1388187837  39.431524   \n",
       "222284  58.04   5486   44.6400   -73.3113      1654  1377799974  44.514894   \n",
       "222285  46.81   4555   44.0943   -69.4828      1643  1387424993  43.870709   \n",
       "222286  39.96  59714   45.7801  -111.1439     18182  1377651198  44.857909   \n",
       "222287  79.60  75092   33.6372   -96.6184     46563  1386410914  33.450687   \n",
       "\n",
       "        merch_long  is_fraud  GenderMale  Training  \n",
       "0       -87.137187         0           1         1  \n",
       "1       -79.360570         0           0         1  \n",
       "2       -95.111562         0           0         1  \n",
       "3       -78.992084         0           1         1  \n",
       "4       -77.338293         0           1         1  \n",
       "...            ...       ...         ...       ...  \n",
       "222283 -118.885055         0           1         0  \n",
       "222284  -74.151891         0           1         0  \n",
       "222285  -68.564362         0           0         0  \n",
       "222286 -111.244932         0           1         0  \n",
       "222287  -97.382745         0           0         0  \n",
       "\n",
       "[222288 rows x 11 columns]"
      ]
     },
     "execution_count": 18,
     "metadata": {},
     "output_type": "execute_result"
    }
   ],
   "source": [
    "data"
   ]
  },
  {
   "cell_type": "markdown",
   "id": "d37c2095-7314-4aaf-aa14-4445933d9ab0",
   "metadata": {},
   "source": [
    "### Creating feature list to run models"
   ]
  },
  {
   "cell_type": "code",
   "execution_count": 19,
   "id": "515d4930-b47e-47df-8ad1-1dbedb402baf",
   "metadata": {},
   "outputs": [],
   "source": [
    "col_list = [col for col in data.columns if col!= 'Training' and col!= 'is_fraud']"
   ]
  },
  {
   "cell_type": "code",
   "execution_count": 20,
   "id": "72c996e0-479f-47df-a3d4-3c9f043721b7",
   "metadata": {},
   "outputs": [
    {
     "data": {
      "text/plain": [
       "['amt',\n",
       " 'zip',\n",
       " 'Latitude',\n",
       " 'Longitude',\n",
       " 'city_pop',\n",
       " 'unix_time',\n",
       " 'merch_lat',\n",
       " 'merch_long',\n",
       " 'GenderMale']"
      ]
     },
     "execution_count": 20,
     "metadata": {},
     "output_type": "execute_result"
    }
   ],
   "source": [
    "col_list"
   ]
  },
  {
   "cell_type": "markdown",
   "id": "cc92c75e-65a0-418f-92cc-bea0fd681bc5",
   "metadata": {},
   "source": [
    "#### Decision Tree w/o Hyperparameter tuning\n"
   ]
  },
  {
   "cell_type": "code",
   "execution_count": 21,
   "id": "d19982ef-d89e-436b-9b78-3d321cb70790",
   "metadata": {
    "tags": []
   },
   "outputs": [],
   "source": [
    "dt = DecisionTreeClassifier(random_state=42)\n",
    "# Train\n",
    "dt.fit(data[data.Training==1][col_list],data[data.Training == 1]['is_fraud'])\n",
    "# Predict\n",
    "dt_pred = dt.predict(data[data.Training == 0][col_list])\n"
   ]
  },
  {
   "cell_type": "code",
   "execution_count": 22,
   "id": "beeac78a-ac54-4271-bcb5-98e4fe185b3c",
   "metadata": {},
   "outputs": [
    {
     "data": {
      "image/png": "[encoded data removed]",
      "text/plain": [
       "<Figure size 500x500 with 1 Axes>"
      ]
     },
     "metadata": {},
     "output_type": "display_data"
    }
   ],
   "source": [
    "fig, ax = plot_confusion_matrix(conf_mat=confusion_matrix(data[data.Training == 0]['is_fraud'],dt_pred), \n",
    "                                 figsize=(5, 5), cmap=plt.cm.Blues)\n",
    "\n",
    "ax.set_xlabel('Predicted label', fontsize=14)\n",
    "ax.set_ylabel('True label', fontsize=14)\n",
    "plt.title('Confusion Matrix', fontsize=14)\n",
    "plt.show()"
   ]
  },
  {
   "cell_type": "code",
   "execution_count": 23,
   "id": "b9e0f805-2c4c-4079-adb5-cbcd52a5e496",
   "metadata": {
    "tags": []
   },
   "outputs": [
    {
     "data": {
      "text/plain": [
       "{'ccp_alpha': 0.0,\n",
       " 'class_weight': None,\n",
       " 'criterion': 'gini',\n",
       " 'max_depth': None,\n",
       " 'max_features': None,\n",
       " 'max_leaf_nodes': None,\n",
       " 'min_impurity_decrease': 0.0,\n",
       " 'min_samples_leaf': 1,\n",
       " 'min_samples_split': 2,\n",
       " 'min_weight_fraction_leaf': 0.0,\n",
       " 'random_state': 42,\n",
       " 'splitter': 'best'}"
      ]
     },
     "execution_count": 23,
     "metadata": {},
     "output_type": "execute_result"
    }
   ],
   "source": [
    "dt.get_params()"
   ]
  },
  {
   "cell_type": "code",
   "execution_count": 24,
   "id": "0f1bc31e-e3f6-4bdf-8642-a1cc4b1cf1ec",
   "metadata": {},
   "outputs": [],
   "source": [
    "data['dt_pred'] = dt.predict_proba(data[col_list])[:,1]"
   ]
  },
  {
   "cell_type": "code",
   "execution_count": 25,
   "id": "9b7467c1-c51d-49b9-aa1b-ddddbc4d2118",
   "metadata": {
    "tags": []
   },
   "outputs": [
    {
     "data": {
      "text/html": [
       "<div>\n",
       "<style scoped>\n",
       "    .dataframe tbody tr th:only-of-type {\n",
       "        vertical-align: middle;\n",
       "    }\n",
       "\n",
       "    .dataframe tbody tr th {\n",
       "        vertical-align: top;\n",
       "    }\n",
       "\n",
       "    .dataframe thead th {\n",
       "        text-align: right;\n",
       "    }\n",
       "</style>\n",
       "<table border=\"1\" class=\"dataframe\">\n",
       "  <thead>\n",
       "    <tr style=\"text-align: right;\">\n",
       "      <th></th>\n",
       "      <th>amt</th>\n",
       "      <th>zip</th>\n",
       "      <th>Latitude</th>\n",
       "      <th>Longitude</th>\n",
       "      <th>city_pop</th>\n",
       "      <th>unix_time</th>\n",
       "      <th>merch_lat</th>\n",
       "      <th>merch_long</th>\n",
       "      <th>is_fraud</th>\n",
       "      <th>GenderMale</th>\n",
       "      <th>Training</th>\n",
       "      <th>dt_pred</th>\n",
       "    </tr>\n",
       "  </thead>\n",
       "  <tbody>\n",
       "    <tr>\n",
       "      <th>0</th>\n",
       "      <td>8.70</td>\n",
       "      <td>49440</td>\n",
       "      <td>43.2326</td>\n",
       "      <td>-86.2492</td>\n",
       "      <td>128715</td>\n",
       "      <td>1376249570</td>\n",
       "      <td>43.142312</td>\n",
       "      <td>-87.137187</td>\n",
       "      <td>0</td>\n",
       "      <td>1</td>\n",
       "      <td>1</td>\n",
       "      <td>0.0</td>\n",
       "    </tr>\n",
       "    <tr>\n",
       "      <th>1</th>\n",
       "      <td>3.86</td>\n",
       "      <td>15920</td>\n",
       "      <td>40.4603</td>\n",
       "      <td>-79.0097</td>\n",
       "      <td>922</td>\n",
       "      <td>1379523248</td>\n",
       "      <td>40.794572</td>\n",
       "      <td>-79.360570</td>\n",
       "      <td>0</td>\n",
       "      <td>0</td>\n",
       "      <td>1</td>\n",
       "      <td>0.0</td>\n",
       "    </tr>\n",
       "    <tr>\n",
       "      <th>2</th>\n",
       "      <td>55.18</td>\n",
       "      <td>56117</td>\n",
       "      <td>43.5336</td>\n",
       "      <td>-95.6515</td>\n",
       "      <td>399</td>\n",
       "      <td>1373150139</td>\n",
       "      <td>43.027659</td>\n",
       "      <td>-95.111562</td>\n",
       "      <td>0</td>\n",
       "      <td>0</td>\n",
       "      <td>1</td>\n",
       "      <td>0.0</td>\n",
       "    </tr>\n",
       "    <tr>\n",
       "      <th>3</th>\n",
       "      <td>63.97</td>\n",
       "      <td>29455</td>\n",
       "      <td>32.8357</td>\n",
       "      <td>-79.8217</td>\n",
       "      <td>20478</td>\n",
       "      <td>1371823404</td>\n",
       "      <td>33.204335</td>\n",
       "      <td>-78.992084</td>\n",
       "      <td>0</td>\n",
       "      <td>1</td>\n",
       "      <td>1</td>\n",
       "      <td>0.0</td>\n",
       "    </tr>\n",
       "    <tr>\n",
       "      <th>4</th>\n",
       "      <td>38.76</td>\n",
       "      <td>22015</td>\n",
       "      <td>38.7894</td>\n",
       "      <td>-77.2818</td>\n",
       "      <td>43102</td>\n",
       "      <td>1384530785</td>\n",
       "      <td>39.367203</td>\n",
       "      <td>-77.338293</td>\n",
       "      <td>0</td>\n",
       "      <td>1</td>\n",
       "      <td>1</td>\n",
       "      <td>0.0</td>\n",
       "    </tr>\n",
       "  </tbody>\n",
       "</table>\n",
       "</div>"
      ],
      "text/plain": [
       "     amt    zip  Latitude  Longitude  city_pop   unix_time  merch_lat  \\\n",
       "0   8.70  49440   43.2326   -86.2492    128715  1376249570  43.142312   \n",
       "1   3.86  15920   40.4603   -79.0097       922  1379523248  40.794572   \n",
       "2  55.18  56117   43.5336   -95.6515       399  1373150139  43.027659   \n",
       "3  63.97  29455   32.8357   -79.8217     20478  1371823404  33.204335   \n",
       "4  38.76  22015   38.7894   -77.2818     43102  1384530785  39.367203   \n",
       "\n",
       "   merch_long  is_fraud  GenderMale  Training  dt_pred  \n",
       "0  -87.137187         0           1         1      0.0  \n",
       "1  -79.360570         0           0         1      0.0  \n",
       "2  -95.111562         0           0         1      0.0  \n",
       "3  -78.992084         0           1         1      0.0  \n",
       "4  -77.338293         0           1         1      0.0  "
      ]
     },
     "execution_count": 25,
     "metadata": {},
     "output_type": "execute_result"
    }
   ],
   "source": [
    "data.head()"
   ]
  },
  {
   "cell_type": "markdown",
   "id": "07d18be1-c628-4f51-95fc-3162c6496e76",
   "metadata": {},
   "source": [
    "### What is Hyperparameter Tuning and Cross Validation (CV)?\n",
    "\n",
    "Hyperparameter tuning refers to the process of selecting the best hyperparameters for a given machine learning algorithm. \n",
    "\n",
    "- Hyperparameters are parameters that cannot be learned from the data and must be set manually before training. \n",
    "- Examples of hyperparameters include the regularization parameter, maximum depth, number of estimators etc. By tuning these hyperparameters, we can optimize the performance of the model on a given dataset. (We can find all these parameters on sklearn model's help website)\n",
    "\n",
    "Cross-validation, is a technique for evaluating the performance of a model on a given dataset. \n",
    "- In cross-validation, the dataset is divided into k-folds, and the model is trained and tested k times. \n",
    "- In each iteration, k-1 folds are used for training, and the remaining fold is used for testing. \n",
    "- This process is repeated for each fold, and the results are averaged to obtain a final performance score. Cross-validation can help prevent overfitting and provide a more accurate estimate of the model's performance on unseen data.\n",
    "\n",
    "Together, hyperparameter tuning and cross-validation can help improve the performance of machine learning models and make them more robust and reliable. By selecting the best hyperparameters and evaluating the model's performance on multiple folds of data, we can create models that generalize well and are less prone to overfitting.\n"
   ]
  },
  {
   "cell_type": "markdown",
   "id": "9314d1a2-6449-430e-9977-4b2365980029",
   "metadata": {},
   "source": [
    "### Why are we using F1 score for scoring and refitting the algorithm?\n",
    "\n",
    "The F1 score is a commonly used metric for evaluating the performance of classification models. It is a weighted average of precision and recall, which makes it a good choice for problems where both false positives and false negatives are important.\n",
    "\n",
    "F1 score can be used to refit a classification model when the goal is to improve the model's ability to correctly classify both positive and negative instances, rather than just one of them. This is particularly important when the dataset is imbalanced, meaning that one class is much more frequent than the other. In such cases, accuracy alone may not be a good metric for evaluating the model's performance, as it may give an overly optimistic estimate of the model's true ability to classify the minority class."
   ]
  },
  {
   "cell_type": "markdown",
   "id": "53bbaa6b-febe-42d4-b435-d2ac781ae824",
   "metadata": {},
   "source": [
    "#### Decision Tree with CV & Hyperparameter Tuning"
   ]
  },
  {
   "cell_type": "code",
   "execution_count": 26,
   "id": "97943feb-01d3-4bc3-8220-3d009e40a1d1",
   "metadata": {},
   "outputs": [],
   "source": [
    "kf = StratifiedKFold(n_splits=5, shuffle=False)"
   ]
  },
  {
   "cell_type": "code",
   "execution_count": 27,
   "id": "982cd29e-8676-46af-a666-581503aa3a1b",
   "metadata": {},
   "outputs": [],
   "source": [
    "dt_cv = DecisionTreeClassifier(random_state=42)"
   ]
  },
  {
   "cell_type": "code",
   "execution_count": 28,
   "id": "30464e0c-020f-4541-8123-2a48172f1c57",
   "metadata": {},
   "outputs": [
    {
     "name": "stdout",
     "output_type": "stream",
     "text": [
      "Fitting 5 folds for each of 6 candidates, totalling 30 fits\n"
     ]
    }
   ],
   "source": [
    "params = {\n",
    "    'criterion': ['gini','entropy'],\n",
    "    'max_depth': list(range(1, 4))\n",
    "}\n",
    "grid_dt = GridSearchCV(dt_cv, param_grid=params,scoring = 'f1', cv = kf, n_jobs = 4, refit = 'f1', verbose = 5\n",
    "                      ).fit(data[data.Training==1][col_list],data[data.Training == 1]['is_fraud'])\n",
    "\n",
    "best_dt = grid_dt.best_estimator_"
   ]
  },
  {
   "cell_type": "code",
   "execution_count": 29,
   "id": "a315f307-d64a-4c79-8abe-29d1ff6ccf85",
   "metadata": {},
   "outputs": [
    {
     "name": "stdout",
     "output_type": "stream",
     "text": [
      "Best Parameters: {'criterion': 'gini', 'max_depth': 1}\n",
      "Best Score 0.0\n"
     ]
    }
   ],
   "source": [
    "print(\"Best Parameters:\", grid_dt.best_params_)\n",
    "print(\"Best Score\", grid_dt.best_score_)"
   ]
  },
  {
   "cell_type": "code",
   "execution_count": 30,
   "id": "07ff283f-dc99-4ef5-8966-703426ae25f3",
   "metadata": {},
   "outputs": [],
   "source": [
    "dt_cv_pred = grid_dt.predict(data[data.Training==0][col_list])\n"
   ]
  },
  {
   "cell_type": "code",
   "execution_count": 31,
   "id": "90318606-9bf4-4e8e-828a-2e1f8545ef24",
   "metadata": {},
   "outputs": [
    {
     "data": {
      "image/png": "[encoded data removed]",
      "text/plain": [
       "<Figure size 500x500 with 1 Axes>"
      ]
     },
     "metadata": {},
     "output_type": "display_data"
    }
   ],
   "source": [
    "fig, ax = plot_confusion_matrix(conf_mat=confusion_matrix(data[data.Training == 0]['is_fraud'],dt_cv_pred), \n",
    "                                 figsize=(5, 5), cmap=plt.cm.Blues)\n",
    "\n",
    "ax.set_xlabel('Predicted label', fontsize=14)\n",
    "ax.set_ylabel('True label', fontsize=14)\n",
    "plt.title('Confusion Matrix', fontsize=14)\n",
    "plt.show()"
   ]
  },
  {
   "cell_type": "code",
   "execution_count": 32,
   "id": "0c7d09e3-be9c-4a91-bdbc-aafe0d6d0446",
   "metadata": {},
   "outputs": [
    {
     "data": {
      "image/png": "[encoded data removed]",
      "text/plain": [
       "<Figure size 640x480 with 1 Axes>"
      ]
     },
     "metadata": {},
     "output_type": "display_data"
    }
   ],
   "source": [
    "fig = tree.plot_tree(best_dt, feature_names=col_list, class_names=[\"yes\", \"no\"], filled=True)"
   ]
  },
  {
   "cell_type": "code",
   "execution_count": 33,
   "id": "68808cff-282b-4d92-b5e3-1eb176fc1c5e",
   "metadata": {},
   "outputs": [],
   "source": [
    "data['DT_cv_pred'] = grid_dt.predict_proba(data[col_list])[:,1]"
   ]
  },
  {
   "cell_type": "markdown",
   "id": "170b1441-cd2e-4a28-8815-6e5073e48c91",
   "metadata": {},
   "source": [
    "### What is Permutation Importance?\n",
    "\n",
    "Permutation importance is a technique for feature importance estimation in machine learning models. It measures the importance of each feature by permuting its values and observing the effect on the model's performance.\n",
    "\n",
    "The basic idea behind permutation importance is to shuffle the values of a feature in the test set and evaluate the resulting decrease in the model's performance metric. By comparing the decrease in performance with the original performance, we can estimate the importance of the feature. Features that have a large impact on the performance metric when their values are permuted are considered more important, while features that have little impact are considered less important.\n",
    "\n",
    "Permutation importance is a powerful technique for understanding which features are most important for a given machine learning problem. It is often used in combination with other feature selection techniques to improve the performance of models and reduce overfitting."
   ]
  },
  {
   "cell_type": "markdown",
   "id": "2005207e-1b86-48ef-96bc-32e3421d7253",
   "metadata": {},
   "source": [
    "## Permutation importance using DT"
   ]
  },
  {
   "cell_type": "code",
   "execution_count": 34,
   "id": "070d0d85-a8d0-470f-9433-6274c1fc8472",
   "metadata": {},
   "outputs": [],
   "source": [
    "def importance(clf, X, y, cn):\n",
    "    imp = permutation_importance(\n",
    "        clf, X, y, scoring=\"f1\", n_repeats=10, random_state=1234\n",
    "    )\n",
    "    data = pd.DataFrame(imp.importances.T)\n",
    "    data.columns = cn\n",
    "    order = data.agg(\"mean\").sort_values(ascending=False).index\n",
    "    fig = sns.barplot(\n",
    "        x=\"value\", y=\"variable\", color=\"slateblue\", data=pd.melt(data[order])\n",
    "    )\n",
    "    fig.set(title=\"Permutation Importances\", xlabel=None, ylabel=None)\n",
    "    return fig"
   ]
  },
  {
   "cell_type": "code",
   "execution_count": 35,
   "id": "527ac588-de27-4a12-8e24-0a1258aab259",
   "metadata": {},
   "outputs": [
    {
     "data": {
      "image/png": "[encoded data removed]",
      "text/plain": [
       "<Figure size 640x480 with 1 Axes>"
      ]
     },
     "metadata": {},
     "output_type": "display_data"
    }
   ],
   "source": [
    "fig = importance(dt, data[data.Training == 0][col_list], data[data.Training == 0]['is_fraud'],\n",
    "                 data[data.Training == 0][col_list].columns)"
   ]
  },
  {
   "cell_type": "markdown",
   "id": "bc711e09-dbad-448d-947e-1fc55ddf9376",
   "metadata": {},
   "source": [
    "## Model Comparison"
   ]
  },
  {
   "cell_type": "code",
   "execution_count": 36,
   "id": "da27f519-c3d0-4efd-9593-516d2dc42dfa",
   "metadata": {},
   "outputs": [
    {
     "name": "stderr",
     "output_type": "stream",
     "text": [
      "/home/jovyan/.rsm-msba/lib/python3.10/site-packages/pyrsm/perf.py:1038: RuntimeWarning: invalid value encountered in long_scalars\n",
      "  precision = TP / (TP + FP)\n",
      "/home/jovyan/.rsm-msba/lib/python3.10/site-packages/pyrsm/perf.py:1062: RuntimeWarning: invalid value encountered in long_scalars\n",
      "  ROME=[profit / (cost * (TP + FP))],\n"
     ]
    }
   ],
   "source": [
    "pred_cols = [col for col in data.columns if \"pred\" in col]\n",
    "\n",
    "model_comparison = rsm.evalbin(\n",
    "    pred=pred_cols,\n",
    "    df=data[data.Training == 0],\n",
    "    rvar=\"is_fraud\",\n",
    "    lev=1,\n",
    "    cost=1,\n",
    "    margin=2,\n",
    ")"
   ]
  },
  {
   "cell_type": "code",
   "execution_count": 37,
   "id": "45e88c85-aabd-4ad3-b7a1-78d9a67ea115",
   "metadata": {},
   "outputs": [
    {
     "data": {
      "text/html": [
       "<div>\n",
       "<style scoped>\n",
       "    .dataframe tbody tr th:only-of-type {\n",
       "        vertical-align: middle;\n",
       "    }\n",
       "\n",
       "    .dataframe tbody tr th {\n",
       "        vertical-align: top;\n",
       "    }\n",
       "\n",
       "    .dataframe thead th {\n",
       "        text-align: right;\n",
       "    }\n",
       "</style>\n",
       "<table border=\"1\" class=\"dataframe\">\n",
       "  <thead>\n",
       "    <tr style=\"text-align: right;\">\n",
       "      <th></th>\n",
       "      <th>Type</th>\n",
       "      <th>predictor</th>\n",
       "      <th>TP</th>\n",
       "      <th>FP</th>\n",
       "      <th>TN</th>\n",
       "      <th>FN</th>\n",
       "      <th>total</th>\n",
       "      <th>TPR</th>\n",
       "      <th>TNR</th>\n",
       "      <th>precision</th>\n",
       "      <th>Fscore</th>\n",
       "      <th>accuracy</th>\n",
       "      <th>kappa</th>\n",
       "      <th>profit</th>\n",
       "      <th>index</th>\n",
       "      <th>ROME</th>\n",
       "      <th>contact</th>\n",
       "      <th>AUC</th>\n",
       "    </tr>\n",
       "  </thead>\n",
       "  <tbody>\n",
       "    <tr>\n",
       "      <th>0</th>\n",
       "      <td>All</td>\n",
       "      <td>dt_pred</td>\n",
       "      <td>129</td>\n",
       "      <td>148</td>\n",
       "      <td>66270</td>\n",
       "      <td>140</td>\n",
       "      <td>66687</td>\n",
       "      <td>0.48</td>\n",
       "      <td>0.998</td>\n",
       "      <td>0.466</td>\n",
       "      <td>0.473</td>\n",
       "      <td>0.996</td>\n",
       "      <td>0.47</td>\n",
       "      <td>-19</td>\n",
       "      <td>-inf</td>\n",
       "      <td>-0.069</td>\n",
       "      <td>0.004</td>\n",
       "      <td>0.739</td>\n",
       "    </tr>\n",
       "    <tr>\n",
       "      <th>1</th>\n",
       "      <td>All</td>\n",
       "      <td>DT_cv_pred</td>\n",
       "      <td>0</td>\n",
       "      <td>0</td>\n",
       "      <td>66418</td>\n",
       "      <td>269</td>\n",
       "      <td>66687</td>\n",
       "      <td>0.00</td>\n",
       "      <td>1.000</td>\n",
       "      <td>NaN</td>\n",
       "      <td>NaN</td>\n",
       "      <td>0.996</td>\n",
       "      <td>0.00</td>\n",
       "      <td>0</td>\n",
       "      <td>NaN</td>\n",
       "      <td>NaN</td>\n",
       "      <td>0.000</td>\n",
       "      <td>0.736</td>\n",
       "    </tr>\n",
       "  </tbody>\n",
       "</table>\n",
       "</div>"
      ],
      "text/plain": [
       "  Type   predictor   TP   FP     TN   FN  total   TPR    TNR  precision  \\\n",
       "0  All     dt_pred  129  148  66270  140  66687  0.48  0.998      0.466   \n",
       "1  All  DT_cv_pred    0    0  66418  269  66687  0.00  1.000        NaN   \n",
       "\n",
       "   Fscore  accuracy  kappa  profit  index   ROME  contact    AUC  \n",
       "0   0.473     0.996   0.47     -19   -inf -0.069    0.004  0.739  \n",
       "1     NaN     0.996   0.00       0    NaN    NaN    0.000  0.736  "
      ]
     },
     "execution_count": 37,
     "metadata": {},
     "output_type": "execute_result"
    }
   ],
   "source": [
    "model_comparison"
   ]
  },
  {
   "cell_type": "markdown",
   "id": "07e9331e-2b21-4c64-8a3e-7d0ea75f40b1",
   "metadata": {
    "tags": []
   },
   "source": [
    "## Partial Dependence plots"
   ]
  },
  {
   "cell_type": "markdown",
   "id": "f9fb96f6-a4c1-448f-913d-2432eaf16983",
   "metadata": {},
   "source": [
    "#### What are Partial Dependence Plots (PDPs)\n",
    "\n",
    "PDPs are essentially a way to graphically display the average response of a machine learning model to changes in one or more input variables, while holding all other input variables constant at their mean or median values. This allows us to see how the output of the model changes as the value of the input variable(s) being examined changes, while keeping everything else constant.\n",
    "\n",
    "PDPs are useful because they can help us to understand the relationship between different input variables and the output of your model, and to identify any non-linear relationships or interactions that may be present in your data. This information can be helpful in developing more accurate and robust models, and in gaining insights into the underlying data generating process."
   ]
  },
  {
   "cell_type": "code",
   "execution_count": 38,
   "id": "0b5a9614-3765-45cc-b1b0-8d64a60321c4",
   "metadata": {},
   "outputs": [
    {
     "data": {
      "image/png": "[encoded data removed]",
      "text/plain": [
       "<Figure size 1000x1800 with 9 Axes>"
      ]
     },
     "metadata": {},
     "output_type": "display_data"
    }
   ],
   "source": [
    "rsm.pred_plot_sk(grid_dt,data[col_list],rvar='is_fraud')"
   ]
  }
 ],
 "metadata": {
  "kernelspec": {
   "display_name": "Python 3 (ipykernel)",
   "language": "python",
   "name": "python3"
  },
  "language_info": {
   "codemirror_mode": {
    "name": "ipython",
    "version": 3
   },
   "file_extension": ".py",
   "mimetype": "text/x-python",
   "name": "python",
   "nbconvert_exporter": "python",
   "pygments_lexer": "ipython3",
   "version": "3.10.8"
  }
 },
 "nbformat": 4,
 "nbformat_minor": 5
}
