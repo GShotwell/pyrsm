{
 "cells": [
  {
   "cell_type": "markdown",
   "metadata": {},
   "source": [
    "# Single mean\n",
    "\n",
    "The single mean (or one-sample) t-test is used to compare the mean of a variable in a sample of data to a (hypothesized) mean in the population from which our sample data are drawn. This is important because we seldom have access to data for an entire population"
   ]
  },
  {
   "cell_type": "code",
   "execution_count": 7,
   "metadata": {},
   "outputs": [],
   "source": [
    "import matplotlib as mpl\n",
    "import pyrsm as rsm\n",
    "\n",
    "# increase plot resolution\n",
    "mpl.rcParams[\"figure.dpi\"] = 150"
   ]
  },
  {
   "cell_type": "code",
   "execution_count": 8,
   "metadata": {},
   "outputs": [],
   "source": [
    "rsm.load_data(pkg=\"basics\", name=\"demand_uk\", dct=globals())"
   ]
  },
  {
   "cell_type": "code",
   "execution_count": 9,
   "metadata": {},
   "outputs": [
    {
     "data": {
      "text/markdown": [
       "## Demand in the UK\n",
       "\n",
       "### Description\n",
       "\n",
       "We have access to data from a random sample of grocery stores in the UK. The data includes information on unit sales in a category during one month in each store in a store panel in the UK. The data set contains one variable, 'demand_uk'. \n",
       "\n",
       "### Variables\n",
       "\n",
       "A data frame with 572 observations on 2 variable\n",
       "\n",
       "* id = Store identifier\n",
       "* demand_uk = Total category sales in units per store"
      ],
      "text/plain": [
       "<IPython.core.display.Markdown object>"
      ]
     },
     "metadata": {},
     "output_type": "display_data"
    }
   ],
   "source": [
    "rsm.describe(demand_uk)\n"
   ]
  },
  {
   "cell_type": "code",
   "execution_count": 10,
   "metadata": {},
   "outputs": [
    {
     "name": "stdout",
     "output_type": "stream",
     "text": [
      "Single mean test\n",
      "Data: demand\n",
      "Variable: demand\n",
      "Confidence: 0.95\n",
      "Null hyp.: the mean of demand = 1750\n",
      "Alt. hyp.: the mean of demand is > 1750\n",
      "\n",
      "    mean   n  n_missing      sd     se                  me\n",
      "1953.393 572          0 815.266 34.088 66.811206+0.000000j\n",
      "   diff     se  t.value p.value  df       5%  100%\n",
      "203.393 34.088    5.967  < .001 571 1897.233   inf\n"
     ]
    }
   ],
   "source": [
    "sm = rsm.single_mean(demand_uk, \"demand\", \"greater\", 0.95, 1750)\n",
    "sm.calculate()\n",
    "sm.summary()\n"
   ]
  },
  {
   "cell_type": "code",
   "execution_count": 11,
   "metadata": {},
   "outputs": [
    {
     "name": "stdout",
     "output_type": "stream",
     "text": [
      "Data: demand\n",
      "Variable: demand\n",
      "Confidence: 0.95\n",
      "Null hyp.: the mean of demand = 1750\n",
      "Alt. hyp.: the mean of demand is > 1750\n",
      "\n",
      "    mean   n  n_missing      sd     se                  me\n",
      "1953.393 572          0 815.266 34.088 66.811206+0.000000j\n",
      "   diff     se  t.value p.value  df       5%  100%\n",
      "203.393 34.088    5.967  < .001 571 1897.233   inf\n"
     ]
    }
   ],
   "source": [
    "sm.summary()"
   ]
  },
  {
   "cell_type": "code",
   "execution_count": 12,
   "metadata": {},
   "outputs": [
    {
     "name": "stdout",
     "output_type": "stream",
     "text": [
      "Probability calculator\n",
      "Distribution: t\n",
      "Df:\t571\n",
      "Mean:\t0.0\n",
      "St. dev:\t1.002\n",
      "Lower bound:\t0\n",
      "Upper bound:\t0.95\n",
      "\n",
      "P(X < 1.648) = 0.95\n",
      "P(X > 1.648) = 0.05\n"
     ]
    },
    {
     "data": {
      "image/png": "[encoded data removed]",
      "text/plain": [
       "<Figure size 432x288 with 1 Axes>"
      ]
     },
     "metadata": {
      "needs_background": "light"
     },
     "output_type": "display_data"
    }
   ],
   "source": [
    "params = dict(zip([\"df\", \"lb\", \"ub\", \"decimals\"], [571, 0, 0.95, 3]))\n",
    "prob_calculator = rsm.prob_calc(distribution=\"t\", params=params)\n",
    "\n",
    "prob_calculator.calculate()\n",
    "prob_calculator.plot()"
   ]
  },
  {
   "cell_type": "code",
   "execution_count": 13,
   "metadata": {},
   "outputs": [
    {
     "data": {
      "image/png": "[encoded data removed]",
      "text/plain": [
       "<Figure size 720x720 with 1 Axes>"
      ]
     },
     "metadata": {
      "needs_background": "light"
     },
     "output_type": "display_data"
    }
   ],
   "source": [
    "sm.plot(types=\"hist\")"
   ]
  },
  {
   "cell_type": "code",
   "execution_count": null,
   "metadata": {},
   "outputs": [],
   "source": []
  }
 ],
 "metadata": {
  "interpreter": {
   "hash": "bbba8b880f8e16fea63b45a2473043b3a2eb4895c09d1c8a67b72e7583b44428"
  },
  "kernelspec": {
   "display_name": "Python 3.10.4 ('pyrsm-dev')",
   "language": "python",
   "name": "python3"
  },
  "language_info": {
   "codemirror_mode": {
    "name": "ipython",
    "version": 3
   },
   "file_extension": ".py",
   "mimetype": "text/x-python",
   "name": "python",
   "nbconvert_exporter": "python",
   "pygments_lexer": "ipython3",
   "version": "3.10.4"
  },
  "orig_nbformat": 4
 },
 "nbformat": 4,
 "nbformat_minor": 2
}
