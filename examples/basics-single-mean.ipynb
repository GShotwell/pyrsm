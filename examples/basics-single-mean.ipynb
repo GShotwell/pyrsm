{
    "cells": [
        {
            "attachments": {},
            "cell_type": "markdown",
            "metadata": {},
            "source": [
                "# Basics > Means > Single Mean\n",
                "\n",
                "<div class=\"alert alert-info\">Compare a single mean to the mean value in the population</div>\n",
                "\n",
                "The single mean (or one-sample) t-test is used to compare the mean of a variable in a sample of data to a (hypothesized) mean in the population from which our sample data are drawn. This is important because we seldom have access to data for an entire population. The hypothesized value in the population is specified in the `Comparison value` box.\n",
                "\n",
                "We can perform either a one-sided test (i.e., `less than` or `greater than`) or a two-sided test (see the `Alternative hypothesis` dropdown). We use one-sided tests to evaluate if the available data provide evidence that the sample mean is larger (or smaller) than the comparison value (i.e., the population value in the null-hypothesis)."
            ]
        },
        {
            "cell_type": "code",
            "execution_count": 1,
            "metadata": {},
            "outputs": [],
            "source": [
                "import matplotlib as mpl\n",
                "import pyrsm as rsm\n",
                "\n",
                "# increase plot resolution\n",
                "mpl.rcParams[\"figure.dpi\"] = 100\n"
            ]
        },
        {
            "cell_type": "code",
            "execution_count": 2,
            "metadata": {},
            "outputs": [],
            "source": [
                "## setup pyrsm for autoreload\n",
                "%reload_ext autoreload\n",
                "%autoreload 2\n",
                "%aimport pyrsm"
            ]
        },
        {
            "attachments": {},
            "cell_type": "markdown",
            "metadata": {},
            "source": [
                "# Example\n",
                "\n",
                "We have access to data from a random sample of grocery stores in the UK. Management will consider entering this market if consumer demand for the product category exceeds 100M units, or, approximately, 1750 units per store. The average demand per store in the sample is equal to 1953. While this number is larger than 1750 we need to determine if the difference could be attributed to sampling error.\n",
                "\n",
                "You can find the information on unit sales in each of the sample stores in the **demand_uk.rda** data set. The data set contains two variables, `store_id` and `demand_uk`. Our null-hypothesis is that the average store demand in the UK is equal to 1750 unit so we enter that number into the `Comparison value` box. We choose the `Greater than` option from the `Alternative hypothesis` drop-down because we want to determine if the available data provides sufficient evidence to reject the null-hypothesis favor of the alternative that average store demand in the UK is **larger than 1750**."
            ]
        },
        {
            "cell_type": "code",
            "execution_count": 3,
            "metadata": {},
            "outputs": [
                {
                    "data": {
                        "text/html": [
                            "<div>\n",
                            "<style scoped>\n",
                            "    .dataframe tbody tr th:only-of-type {\n",
                            "        vertical-align: middle;\n",
                            "    }\n",
                            "\n",
                            "    .dataframe tbody tr th {\n",
                            "        vertical-align: top;\n",
                            "    }\n",
                            "\n",
                            "    .dataframe thead th {\n",
                            "        text-align: right;\n",
                            "    }\n",
                            "</style>\n",
                            "<table border=\"1\" class=\"dataframe\">\n",
                            "  <thead>\n",
                            "    <tr style=\"text-align: right;\">\n",
                            "      <th></th>\n",
                            "      <th>id</th>\n",
                            "      <th>demand</th>\n",
                            "    </tr>\n",
                            "  </thead>\n",
                            "  <tbody>\n",
                            "    <tr>\n",
                            "      <th>store 38973</th>\n",
                            "      <td>3386</td>\n",
                            "      <td>3615</td>\n",
                            "    </tr>\n",
                            "    <tr>\n",
                            "      <th>store 55141</th>\n",
                            "      <td>2766</td>\n",
                            "      <td>780</td>\n",
                            "    </tr>\n",
                            "    <tr>\n",
                            "      <th>store 20280</th>\n",
                            "      <td>2559</td>\n",
                            "      <td>1780</td>\n",
                            "    </tr>\n",
                            "    <tr>\n",
                            "      <th>store 26784</th>\n",
                            "      <td>3545</td>\n",
                            "      <td>2716</td>\n",
                            "    </tr>\n",
                            "    <tr>\n",
                            "      <th>store 37018</th>\n",
                            "      <td>3189</td>\n",
                            "      <td>1126</td>\n",
                            "    </tr>\n",
                            "    <tr>\n",
                            "      <th>...</th>\n",
                            "      <td>...</td>\n",
                            "      <td>...</td>\n",
                            "    </tr>\n",
                            "    <tr>\n",
                            "      <th>store 42171</th>\n",
                            "      <td>2741</td>\n",
                            "      <td>2143</td>\n",
                            "    </tr>\n",
                            "    <tr>\n",
                            "      <th>store 31868</th>\n",
                            "      <td>2932</td>\n",
                            "      <td>2801</td>\n",
                            "    </tr>\n",
                            "    <tr>\n",
                            "      <th>store 24006</th>\n",
                            "      <td>3028</td>\n",
                            "      <td>918</td>\n",
                            "    </tr>\n",
                            "    <tr>\n",
                            "      <th>store 33378</th>\n",
                            "      <td>3968</td>\n",
                            "      <td>3612</td>\n",
                            "    </tr>\n",
                            "    <tr>\n",
                            "      <th>store 48302</th>\n",
                            "      <td>1269</td>\n",
                            "      <td>359</td>\n",
                            "    </tr>\n",
                            "  </tbody>\n",
                            "</table>\n",
                            "<p>572 rows × 2 columns</p>\n",
                            "</div>"
                        ],
                        "text/plain": [
                            "               id  demand\n",
                            "store 38973  3386    3615\n",
                            "store 55141  2766     780\n",
                            "store 20280  2559    1780\n",
                            "store 26784  3545    2716\n",
                            "store 37018  3189    1126\n",
                            "...           ...     ...\n",
                            "store 42171  2741    2143\n",
                            "store 31868  2932    2801\n",
                            "store 24006  3028     918\n",
                            "store 33378  3968    3612\n",
                            "store 48302  1269     359\n",
                            "\n",
                            "[572 rows x 2 columns]"
                        ]
                    },
                    "execution_count": 3,
                    "metadata": {},
                    "output_type": "execute_result"
                }
            ],
            "source": [
                "# load example data from the pyrsm library\n",
                "demand_uk, demand_uk_description = rsm.load_data(pkg=\"basics\", name=\"demand_uk\")\n",
                "demand_uk\n"
            ]
        },
        {
            "cell_type": "code",
            "execution_count": 4,
            "metadata": {},
            "outputs": [
                {
                    "data": {
                        "text/markdown": [
                            "## Demand in the UK\n",
                            "\n",
                            "### Description\n",
                            "\n",
                            "We have access to data from a random sample of grocery stores in the UK. The data includes information on unit sales in a category during one month in each store in a store panel in the UK. The data set contains one variable, 'demand_uk'. \n",
                            "\n",
                            "### Variables\n",
                            "\n",
                            "A data frame with 572 observations on 2 variable\n",
                            "\n",
                            "* id = Store identifier\n",
                            "* demand_uk = Total category sales in units per store"
                        ],
                        "text/plain": [
                            "<IPython.core.display.Markdown object>"
                        ]
                    },
                    "metadata": {},
                    "output_type": "display_data"
                }
            ],
            "source": [
                "# format the data description\n",
                "rsm.md(demand_uk_description)\n"
            ]
        },
        {
            "cell_type": "code",
            "execution_count": 5,
            "metadata": {},
            "outputs": [
                {
                    "name": "stdout",
                    "output_type": "stream",
                    "text": [
                        "Single mean test\n",
                        "Data      : demand_uk\n",
                        "Variables : demand\n",
                        "Confidence: 0.95\n",
                        "Comparison: 1750\n",
                        "\n",
                        "Null hyp. : the mean of demand is equal to 1750\n",
                        "Alt. hyp. : the mean of demand is greater than 1750\n",
                        "\n",
                        "    mean   n  n_missing      sd     se     me\n",
                        "1953.393 572          0 815.266 34.088 66.953\n",
                        "   diff     se  t.value p.value  df     5.0%  100%    \n",
                        "203.393 34.088    5.967  < .001 571 1897.233   inf ***\n",
                        "\n",
                        "Signif. codes:  0 '***' 0.001 '**' 0.01 '*' 0.05 '.' 0.1 ' ' 1\n"
                    ]
                }
            ],
            "source": [
                "# perform pyrsm single-mean analysis\n",
                "sm = rsm.basics.single_mean({\"demand_uk\": demand_uk}, \"demand\", \"greater\", 0.95, 1750)\n",
                "sm.summary()\n"
            ]
        },
        {
            "attachments": {},
            "cell_type": "markdown",
            "metadata": {},
            "source": [
                "The first two blocks of output show basic information about the test (e.g.,. the null and alternative hypothesis) and summary statistics (e.g., mean, standard deviation, standard error, margin or error, etc.). The final row of output shows the following:\n",
                "\n",
                "- `diff` is the difference between the sample mean (1953.393) and the comparison value (1750)\n",
                "- `se` is the standard error (i.e., the standard deviation of the sampling distribution of `diff`)\n",
                "- `t.value` is the t statistic associated with `diff` that we can compare to a t-distribution (i.e., `diff / se`)\n",
                "- `p.value` is the probability of finding a value as extreme or more extreme than `diff` if the null hypothesis is true\n",
                "- `df` is the degrees of freedom associated with the statistical test (i.e., *n - 1*)\n",
                "- `5% 100%` show the 95% confidence interval around the sample mean (1897 to Inf.). These numbers provide a range within which the true population mean is likely to fall"
            ]
        },
        {
            "attachments": {},
            "cell_type": "markdown",
            "metadata": {},
            "source": [
                "# Testing\n",
                "\n",
                "There are three approaches we can use to evaluate the null hypothesis. We will choose a significance level of 0.05.1 Of course, each approach will lead to the same conclusion.\n",
                "\n",
                "### p.value\n",
                "\n",
                "Because the p.value is **smaller** than the conventional significance level (i.e., 0.05) we reject the null hypothesis and suggest that management should enter the UK market. Note also the ’***’ that are used as an indicator for significance.\n",
                "\n",
                "### confidence interval\n",
                "\n",
                "Because the `comparison value` is **not** contained in the confidence interval we reject the null hypothesis and suggest that management should enter the UK market.\n",
                "\n",
                "### t.value\n",
                "\n",
                "Because the calculated t.value (5.967) is **larger** than the *critical t.value* we reject the null hypothesis and suggest that management should enter the UK market. We can obtain the critical t.value by using the probability calculator in the *Basics menu*. For a t-distribution with 571 degrees of freedom (see `df`) the critical t.value is 1.648. We have to enter 0.95 as the upper probability bound (i.e., 1 - 0.05) because the alternative hypothesis is `Greater than`."
            ]
        },
        {
            "cell_type": "code",
            "execution_count": 6,
            "metadata": {},
            "outputs": [
                {
                    "name": "stdout",
                    "output_type": "stream",
                    "text": [
                        "Probability calculator\n",
                        "Distribution: t\n",
                        "Df          : 571\n",
                        "Mean        : 0\n",
                        "St. dev     : 1.004\n",
                        "Lower bound : 0\n",
                        "Upper bound : 0.95\n",
                        "\n",
                        "P(X < 1.648) = 0.95\n",
                        "P(X > 1.648) = 0.05\n"
                    ]
                },
                {
                    "data": {
                        "image/png": "[encoded data removed]",
                        "text/plain": [
                            "<Figure size 640x480 with 1 Axes>"
                        ]
                    },
                    "metadata": {},
                    "output_type": "display_data"
                }
            ],
            "source": [
                "pc = rsm.basics.prob_calc(\"tdist\", df=571,  pub=0.95)\n",
                "pc.summary()\n",
                "pc.plot()\n"
            ]
        },
        {
            "attachments": {},
            "cell_type": "markdown",
            "metadata": {},
            "source": [
                "In addition to the numerical output provided in the Summary tab we can visualize the data in the Plot tab. The settings in the side-panel are the same as before. The black lines in the histogram show the sample mean (solid) and the confidence interval around the sample mean (dashed). The red line shows the comparison value (i.e., unit sales under the null-hypothesis). Because the red line does not fall within the confidence interval (1897 to Inf.) we reject the null-hypothesis in favor of the alternative."
            ]
        },
        {
            "cell_type": "code",
            "execution_count": 7,
            "metadata": {},
            "outputs": [
                {
                    "data": {
                        "image/png": "[encoded data removed]",
                        "text/plain": [
                            "<Figure size 640x480 with 1 Axes>"
                        ]
                    },
                    "metadata": {},
                    "output_type": "display_data"
                }
            ],
            "source": [
                "sm.plot(\"hist\")\n"
            ]
        },
        {
            "cell_type": "code",
            "execution_count": 8,
            "metadata": {},
            "outputs": [
                {
                    "name": "stdout",
                    "output_type": "stream",
                    "text": [
                        "Plot type not available yet\n"
                    ]
                }
            ],
            "source": [
                "sm.plot(\"sim\")\n"
            ]
        },
        {
            "attachments": {},
            "cell_type": "markdown",
            "metadata": {},
            "source": [
                "# Radiant for Python App: Single Mean\n",
                "\n",
                "Now lets re-run the analysis using a web-based user interface. Select the `demand` variable for the `Data` and `y` variables, and enter 1750 for the `Comparison value`. The `Alternative hypothesis` is should be set to `Greater than`.\n",
                "\n",
                "\n",
                "These steps will generate the same output as shown above and will generate the required Python code to create the desired results.\n",
                "\n",
                "> Note: The app will continue running until you press the `Stop` button in the app navigation bar or the stop button next to the notebook cell"
            ]
        },
        {
            "cell_type": "code",
            "execution_count": 9,
            "metadata": {},
            "outputs": [
                {
                    "name": "stdout",
                    "output_type": "stream",
                    "text": [
                        "Listening on http://0.0.0.0:8000\n",
                        "Pyrsm and Radiant are open source tools and free to use. If you\n",
                        "are a student or instructor using pyrsm or Radiant for a class,\n",
                        "as a favor to the developers, please send an email to\n",
                        "<radiant@rady.ucsd.edu> with the name of the school and class.\n",
                        "If you are using Radiant in your company, as a favor to the\n",
                        "developer, please share the name of your company and what types\n",
                        "of activites you are supporting with the tool.\n"
                    ]
                },
                {
                    "data": {
                        "text/markdown": [
                            "```python\n",
                            "import pyrsm as rsm\n",
                            "\n",
                            "# demand_uk = pd.read_parquet('demand_uk.parquet')\n",
                            "sm = rsm.basics.single_mean(\n",
                            "    data={\"demand_uk\": demand_uk}, var=\"demand\", alt_hyp=\"greater\", comp_value=1750\n",
                            ")\n",
                            "sm.summary()\n",
                            "\n",
                            "```"
                        ],
                        "text/plain": [
                            "<IPython.core.display.Markdown object>"
                        ]
                    },
                    "metadata": {},
                    "output_type": "display_data"
                }
            ],
            "source": [
                "rsm.radiant.single_mean(\n",
                "    {\"demand_uk\": demand_uk}, {\"demand_uk\": demand_uk_description}, code=True\n",
                ")\n"
            ]
        },
        {
            "cell_type": "markdown",
            "metadata": {},
            "source": [
                "<p align=\"center\"><img src=\"figures_basics/single_mean_summary.png\"></p>"
            ]
        },
        {
            "attachments": {},
            "cell_type": "markdown",
            "metadata": {},
            "source": [
                "# Stats Speak\n",
                "\n",
                "This is a **single mean** test of the null hypothesis that the true population **mean** is equal to **1750**. Using a significance level of 0.05, we reject the null hypothesis, and conclude that the true population **mean** is **larger** than **1750**.\n",
                "\n",
                "The p.value for this test is **< .001**. This is the probability of observing a sample **mean** that is as or more extreme than the sample **mean** from the data if the null hypothesis is true. In this case, it is the probability of observing a sample **mean** that is larger than (or equal to) **1953.393** if the true population **mean** is **1750**.\n",
                "\n",
                "The 5% confidence bound is **1897.233**. If repeated samples were taken and the 5% confidence bound computed for each one, the true population mean would exceed the lower bound in 95% of the samples\n",
                "\n",
                "The **significance level**, often denoted by α, is the highest probability you are willing to accept of rejecting the null hypothesis when it is actually true. A commonly used significance level is 0.05 (or 5%)\n",
                "\n",
                "1−α is called the **confidence level**. A commonly used confidence level is 0.95 (or 95%)"
            ]
        },
        {
            "attachments": {},
            "cell_type": "markdown",
            "metadata": {},
            "source": [
                "# Video Tutorials\n",
                "\n",
                "To review the same analysis in Radiant-for-R, copy-and-paste the full command below into the RStudio console (i.e., the bottom-left window) and press return to gain access to all materials used in the hypothesis testing module of the <a href=\"https://www.youtube.com/playlist?list=PLNhtaetb48EdKRIY7MewCyvb_1x7dV3xw\">Radiant Tutorial Series</a>:\n",
                "\n",
                "`usethis::use_course(\"https://www.dropbox.com/sh/0xvhyolgcvox685/AADSppNSIocrJS-BqZXhD1Kna?dl=1\")`\n",
                "\n",
                "<a href=\"https://www.youtube.com/watch?v=QV1qA5RPzlY\" target=\"_blank\">Single Mean Hypothesis Test</a>\n",
                "\n",
                "* This video shows how to test a hypothesis about a single sample mean versus a population mean\n",
                "* Topics List:\n",
                "    - Calculate summary statistics for a sample\n",
                "    - Setup a hypothesis test for a single mean in Radiant\n",
                "    - Use the p.value, confidence interval, or critical value to evaluate the hypothesis test"
            ]
        },
        {
            "attachments": {},
            "cell_type": "markdown",
            "metadata": {},
            "source": [
                "© Vincent Nijs (2023)"
            ]
        }
    ],
    "metadata": {
        "interpreter": {
            "hash": "bbba8b880f8e16fea63b45a2473043b3a2eb4895c09d1c8a67b72e7583b44428"
        },
        "kernelspec": {
            "display_name": "Python 3 (ipykernel)",
            "language": "python",
            "name": "python3"
        },
        "language_info": {
            "codemirror_mode": {
                "name": "ipython",
                "version": 3
            },
            "file_extension": ".py",
            "mimetype": "text/x-python",
            "name": "python",
            "nbconvert_exporter": "python",
            "pygments_lexer": "ipython3",
            "version": "3.10.10"
        }
    },
    "nbformat": 4,
    "nbformat_minor": 2
}
