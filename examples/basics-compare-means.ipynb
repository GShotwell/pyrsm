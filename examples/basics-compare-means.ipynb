{
 "cells": [
  {
   "attachments": {},
   "cell_type": "markdown",
   "metadata": {},
   "source": [
    "# Basics > Means > Compare Means\n",
    "\n",
    "<div class=\"alert alert-info\">Compare the means of two or more variables or groups in the data</div>\n",
    "\n",
    "The compare means t-test is used to compare the mean of a variable in one group to the mean of the same variable in one, or more, other groups. The null hypothesis for the difference between the groups in the population is set to zero. We test this hypothesis using sample data.\n",
    "\n",
    "We can perform either a one-tailed test (i.e., `less than` or `greater than`) or a two-tailed test (see the ‘Alternative hypothesis’ dropdown). We use one-tailed tests to evaluate if the available data provide evidence that the difference in sample means between groups is less than (or greater than ) zero."
   ]
  },
  {
   "cell_type": "code",
   "execution_count": 1,
   "metadata": {},
   "outputs": [
    {
     "data": {
      "text/plain": [
       "'0.8.4.1'"
      ]
     },
     "execution_count": 1,
     "metadata": {},
     "output_type": "execute_result"
    }
   ],
   "source": [
    "import os\n",
    "import matplotlib as mpl\n",
    "import pyrsm as rsm\n",
    "\n",
    "# increase plot resolution\n",
    "mpl.rcParams[\"figure.dpi\"] = 150\n",
    "rsm.__version__"
   ]
  },
  {
   "cell_type": "code",
   "execution_count": 2,
   "metadata": {},
   "outputs": [],
   "source": [
    "## setup pyrsm for autoreload when you edit code and save\n",
    "## nothing else needed!\n",
    "%reload_ext autoreload\n",
    "%autoreload 2\n",
    "%aimport pyrsm"
   ]
  },
  {
   "attachments": {},
   "cell_type": "markdown",
   "metadata": {},
   "source": [
    "# Example\n",
    "\n",
    "We have access to the nine-month academic salary for Assistant Professors, Associate Professors and Professors in a college in the U.S (2008-09). The data were collected as part of an on-going effort by the college’s administration to monitor salary differences between male and female faculty members.\n",
    "\n",
    "The data are part of the CAR package and are linked to the book: Fox J. and Weisberg, S. (2011) An R Companion to Applied Regression, Second Edition Sage.\n",
    "\n"
   ]
  },
  {
   "cell_type": "code",
   "execution_count": 3,
   "metadata": {},
   "outputs": [],
   "source": [
    "rsm.load_data(pkg=\"basics\", name=\"salary\", dct=globals())"
   ]
  },
  {
   "cell_type": "code",
   "execution_count": 4,
   "metadata": {},
   "outputs": [
    {
     "data": {
      "text/markdown": [
       "## Salaries for Professors\n",
       "\n",
       "### Description\n",
       "\n",
       "The 2008-09 nine-month academic salary for Assistant Professors, Associate Professors and Professors in a college in the U.S. The data were collected as part of the on-going effort of the college's administration to monitor salary differences between male and female faculty members. A data frame with 397 observations on the following 6 variables.\n",
       "\n",
       "### Variables\n",
       "\n",
       "- rank = a factor with levels AsstProf, AssocProf, and Prof\n",
       "- discipline = a factor with levels A ('theoretical' departments) or B ('applied' departments)\n",
       "- yrs.since.phd = years since PhD\n",
       "- yrs.service = years of service\n",
       "- sex = a factor with levels Female and Male\n",
       "- salary = nine-month salary, in dollars\n",
       "\n",
       "### Source\n",
       "\n",
       "Fox J. and Weisberg, S. (2011) An R Companion to Applied Regression, Second Edition Sage.\n"
      ],
      "text/plain": [
       "<IPython.core.display.Markdown object>"
      ]
     },
     "metadata": {},
     "output_type": "display_data"
    }
   ],
   "source": [
    "rsm.describe(salary)"
   ]
  },
  {
   "cell_type": "code",
   "execution_count": 5,
   "metadata": {},
   "outputs": [
    {
     "data": {
      "text/html": [
       "<div>\n",
       "<style scoped>\n",
       "    .dataframe tbody tr th:only-of-type {\n",
       "        vertical-align: middle;\n",
       "    }\n",
       "\n",
       "    .dataframe tbody tr th {\n",
       "        vertical-align: top;\n",
       "    }\n",
       "\n",
       "    .dataframe thead th {\n",
       "        text-align: right;\n",
       "    }\n",
       "</style>\n",
       "<table border=\"1\" class=\"dataframe\">\n",
       "  <thead>\n",
       "    <tr style=\"text-align: right;\">\n",
       "      <th></th>\n",
       "      <th>salary</th>\n",
       "      <th>rank</th>\n",
       "      <th>discipline</th>\n",
       "      <th>yrs.since.phd</th>\n",
       "      <th>yrs.service</th>\n",
       "      <th>sex</th>\n",
       "    </tr>\n",
       "  </thead>\n",
       "  <tbody>\n",
       "    <tr>\n",
       "      <th>0</th>\n",
       "      <td>139750</td>\n",
       "      <td>Prof</td>\n",
       "      <td>B</td>\n",
       "      <td>19</td>\n",
       "      <td>18</td>\n",
       "      <td>Male</td>\n",
       "    </tr>\n",
       "    <tr>\n",
       "      <th>1</th>\n",
       "      <td>173200</td>\n",
       "      <td>Prof</td>\n",
       "      <td>B</td>\n",
       "      <td>20</td>\n",
       "      <td>16</td>\n",
       "      <td>Male</td>\n",
       "    </tr>\n",
       "    <tr>\n",
       "      <th>2</th>\n",
       "      <td>79750</td>\n",
       "      <td>AsstProf</td>\n",
       "      <td>B</td>\n",
       "      <td>4</td>\n",
       "      <td>3</td>\n",
       "      <td>Male</td>\n",
       "    </tr>\n",
       "    <tr>\n",
       "      <th>3</th>\n",
       "      <td>115000</td>\n",
       "      <td>Prof</td>\n",
       "      <td>B</td>\n",
       "      <td>45</td>\n",
       "      <td>39</td>\n",
       "      <td>Male</td>\n",
       "    </tr>\n",
       "    <tr>\n",
       "      <th>4</th>\n",
       "      <td>141500</td>\n",
       "      <td>Prof</td>\n",
       "      <td>B</td>\n",
       "      <td>40</td>\n",
       "      <td>41</td>\n",
       "      <td>Male</td>\n",
       "    </tr>\n",
       "  </tbody>\n",
       "</table>\n",
       "</div>"
      ],
      "text/plain": [
       "   salary      rank discipline  yrs.since.phd  yrs.service   sex\n",
       "0  139750      Prof          B             19           18  Male\n",
       "1  173200      Prof          B             20           16  Male\n",
       "2   79750  AsstProf          B              4            3  Male\n",
       "3  115000      Prof          B             45           39  Male\n",
       "4  141500      Prof          B             40           41  Male"
      ]
     },
     "execution_count": 5,
     "metadata": {},
     "output_type": "execute_result"
    }
   ],
   "source": [
    "salary.head()"
   ]
  },
  {
   "cell_type": "code",
   "execution_count": 6,
   "metadata": {},
   "outputs": [
    {
     "data": {
      "image/png": "[encoded data removed]",
      "text/plain": [
       "<Figure size 1000x1200 with 6 Axes>"
      ]
     },
     "metadata": {},
     "output_type": "display_data"
    }
   ],
   "source": [
    "rsm.distr_plot(salary)"
   ]
  },
  {
   "attachments": {},
   "cell_type": "markdown",
   "metadata": {},
   "source": [
    "Suppose we want to test if professors of lower rank earn lower salaries compared to those of higher rank.\n",
    "\n",
    "Below is the way to do it in python."
   ]
  },
  {
   "cell_type": "code",
   "execution_count": 8,
   "metadata": {},
   "outputs": [
    {
     "name": "stdout",
     "output_type": "stream",
     "text": [
      "Pairwise mean comparisons t-test\n",
      "Data: salaries\n",
      "Variables: rank, salary\n",
      "Confidence: 0.95\n",
      "Adjustment: none\n",
      "     rank       mean   n  n_missing        sd       se       me\n",
      " AsstProf  80775.985  67          0  8174.113  998.627 1957.273\n",
      "     Prof 126772.109 266          0 27718.675 1699.541 3331.039\n",
      "AssocProf  93876.438  64          0 13831.700 1728.962 3388.704\n",
      "           Null hyp.            Alt. hyp.       diff  t.value  p.value      df\n",
      "AsstProf = AssocProf AsstProf > AssocProf -13100.452   -6.561      1.0 101.286\n",
      "     AsstProf = Prof      AsstProf > Prof -45996.124  -23.334      1.0 324.340\n",
      "    AssocProf = Prof     AssocProf > Prof -32895.672  -13.569      1.0 199.325\n"
     ]
    }
   ],
   "source": [
    "# cm = rsm.compare_means(salary, \"rank\", \"salary\", [(\"AsstProf\", \"AssocProf\"), (\"AsstProf\", \"Prof\"), (\"AssocProf\", \"Prof\")], \"two-sided\", 0.95)\n",
    "# cm = rsm.compare_means(salary, \"rank\", \"salary\", [(\"AsstProf\", \"AssocProf\"), (\"AsstProf\", \"Prof\"), (\"AssocProf\", \"Prof\")], \"less\", 0.95)\n",
    "# cm = rsm.compare_means(salary, \"rank\", \"salary\", [(\"AsstProf\", \"AssocProf\"), (\"AsstProf\", \"Prof\"), (\"AssocProf\", \"Prof\")], \"greater\", 0.95)\n",
    "cm = rsm.compare_means(salary, \"rank\", \"salary\", [(\"AsstProf\", \"AssocProf\"), (\"AsstProf\", \"Prof\"), (\"AssocProf\", \"Prof\")], \"greater\", 0.95, \"bonferroni\")\n",
    "cm.summary(dec=3)"
   ]
  },
  {
   "attachments": {},
   "cell_type": "markdown",
   "metadata": {},
   "source": [
    "To test this hypothesis on Radiant, we first select professor `rank` and select `salary` as the numerical variable to compare across ranks.\n",
    "In the `Choose combinations` box select all available entries to conduct pair-wise comparisons across the three levels.\n",
    "Note that removing all entries will automatically select all combinations.\n",
    "We are interested in a one-sided hypothesis (i.e., `less than`)."
   ]
  },
  {
   "attachments": {},
   "cell_type": "markdown",
   "metadata": {},
   "source": [
    "<p align=\"center\">\n",
    "<img src=\"figures_basics/compare_means_summary.png\">\n",
    "</p>"
   ]
  },
  {
   "attachments": {},
   "cell_type": "markdown",
   "metadata": {},
   "source": [
    "The first two blocks of output show basic information about the test (e.g., selected variables and confidence levels) and summary statistics (e.g., mean, standard deviation, margin or error, etc. per group). The final block of output shows the following:\n",
    "\n",
    "- `Null hyp.` is the null hypothesis and `Alt. hyp.` the alternative hypothesis\n",
    "- `diff` is the difference between the sample means for two groups (e.g., 80775.99 - 93876.44 = -13100.45). If the null hypothesis is true we expect this difference to be small (i.e., close to zero)\n",
    "- `p.value` is the probability of finding a value as extreme or more extreme than `diff` if the null hypothesis is true"
   ]
  },
  {
   "attachments": {},
   "cell_type": "markdown",
   "metadata": {},
   "source": [
    "If we check `Show additional statistics` the following output is added:"
   ]
  },
  {
   "attachments": {},
   "cell_type": "markdown",
   "metadata": {},
   "source": [
    "<pre>\n",
    "Pairwise mean comparisons (t-test)\n",
    "Data      : salary \n",
    "Variables : rank, salary \n",
    "Samples   : independent \n",
    "Confidence: 0.95 \n",
    "Adjustment: None \n",
    "\n",
    "      rank        mean   n n_missing         sd        se        me\n",
    "  AsstProf  80,775.985  67         0  8,174.113   998.627 1,993.823\n",
    " AssocProf  93,876.438  64         0 13,831.700 1,728.962 3,455.056\n",
    "      Prof 126,772.109 266         0 27,718.675 1,699.541 3,346.322\n",
    "\n",
    " Null hyp.              Alt. hyp.              diff      p.value se       t.value df      0%   95%           \n",
    " AsstProf = AssocProf   AsstProf &lt; AssocProf   -13100.45 &lt; .001  1996.639  -6.561 101.286 -Inf  -9785.958 ***\n",
    " AsstProf = Prof        AsstProf &lt; Prof        -45996.12 &lt; .001  1971.217 -23.334 324.340 -Inf -42744.474 ***\n",
    " AssocProf = Prof       AssocProf &lt; Prof       -32895.67 &lt; .001  2424.407 -13.569 199.325 -Inf -28889.256 ***\n",
    "\n",
    "Signif. codes:  0 '***' 0.001 '**' 0.01 '*' 0.05 '.' 0.1 ' ' 1\n",
    "</pre>"
   ]
  },
  {
   "attachments": {},
   "cell_type": "markdown",
   "metadata": {},
   "source": [
    "- `se` is the standard error (i.e., the standard deviation of the sampling distribution of `diff`)\n",
    "- `t.value` is the t statistic associated with `diff` that we can compare to a t-distribution (i.e., `diff` / `se`)\n",
    "- `df` is the degrees of freedom associated with the statistical test. Note that the Welch approximation is used for the degrees of freedom\n",
    "- `0% 95%` show the 95% confidence interval around the difference in sample means. These numbers provide a range within which the true population difference is likely to fall"
   ]
  },
  {
   "attachments": {},
   "cell_type": "markdown",
   "metadata": {},
   "source": [
    "# Testing\n",
    "\n",
    "There are three approaches we can use to evaluate the null hypothesis. We will choose a significance level of 0.05.1 Of course, each approach will lead to the same conclusion.\n",
    "\n",
    "### p.value\n",
    "\n",
    "Because each of the p.values is <b>smaller</b> than the significance level we reject the null hypothesis for each evaluated pair of professor ranks. The data suggest that associate professors make more than assistant professors and professors make more than assistant and associate professors. Note also the ’***’ that are used as an indicator for significance.\n",
    "\n",
    "### confidence interval\n",
    "\n",
    "Because zero is <b>not</b> contained in any of the confidence intervals we reject the null hypothesis for each evaluated combination of ranks. Because our alternative hypothesis is `Less than` the confidence interval is actually an upper bound for the difference in salaries in the population at a 95% confidence level (i.e., -9785.958, -42744.474, and -28889.256)\n",
    "\n",
    "### t.value\n",
    "\n",
    "Because the calculated t.values (-6.561, -23.334, and -13.569) are <b>smaller</b> than the corresponding critical t.value we reject the null hypothesis for each evaluated combination of ranks. We can obtain the critical t.value by using the probability calculator in the Basics menu. Using the test for assistant versus associate professors as an example, we find that for a t-distribution with 101.286 degrees of freedom (see `df`) the critical t.value is 1.66. We choose 0.05 as the lower probability bound because the alternative hypothesis is `Less than`."
   ]
  },
  {
   "attachments": {},
   "cell_type": "markdown",
   "metadata": {},
   "source": [
    "<p align=\"center\">\n",
    "<img src=\"figures_basics/compare_means_prob_calc.png\">\n",
    "</p>"
   ]
  },
  {
   "attachments": {},
   "cell_type": "markdown",
   "metadata": {},
   "source": [
    "In addition to the numerical output provided in the Summary tab we can also investigate the association between `rank` and `salary` visually (see the Plot tab). The screen shot below shows a scatter plot of professor salaries and a bar chart with confidence interval (black) and standard error (blue) bars. Consistent with the results shown in the Summary tab there is clear separation between the salaries across ranks. We could also choose to plot the sample data as a box plot or as a set of density curves."
   ]
  },
  {
   "attachments": {},
   "cell_type": "markdown",
   "metadata": {},
   "source": [
    "<p align=\"center\">\n",
    "<img src=\"figures_basics/compare_means_plot.png\">\n",
    "</p>"
   ]
  },
  {
   "attachments": {},
   "cell_type": "markdown",
   "metadata": {},
   "source": [
    "# Multiple comparison adjustment\n",
    "\n",
    "The more comparisons we evaluate the more likely we are to find a “significant” result just by chance even if the null hypothesis is true. If we conduct 100 tests and set our **significance level** at 0.05 (or 5%) we can expect to find 5 p.values smaller than or equal to 0.05 even if the are no associations in the population.\n",
    "\n",
    "Bonferroni adjustment ensures the p.values are scaled appropriately given the number of tests conducted.\n",
    "<a href=\"https://xkcd.com/882/\" target=\"blank\">This XKCD cartoon</a> expresses the need for this type of adjustments very clearly.\n",
    "\n",
    "# <i>Stats Speak</i>\n",
    "\n",
    "This is a **comparison of means** test of the null hypothesis that the true population **difference in means** is equal to **0**. Using a significance level of 0.05, we reject the null hypothesis for each pair of ranks evaluated, and conclude that the true population **difference in means** is **less** than **0**.\n",
    "\n",
    "The p.value for the test of differences in salaries between assistant and associate professors is **< .001**. This is the probability of observing a sample **difference in means** that is as or more extreme than the sample **difference in means** from the data if the null hypothesis is true. In this case, it is the probability of observing a sample **difference in means** that is less than (or equal to) **-13100.45** if the true population **difference in means** is **0**.\n",
    "\n",
    "The 95% confidence bound is **-9785.958**. If repeated samples were taken and the 95% confidence bound computed for each one, the true population mean would be below the lower bound in 95% of the samples.\n",
    "\n",
    "<sup>1</sup> The <b>significance level</b>, often denoted by α, is the highest probability you are willing to accept of rejecting the null hypothesis when it is actually true. A commonly used significance level is 0.05 (or 5%)"
   ]
  },
  {
   "attachments": {},
   "cell_type": "markdown",
   "metadata": {},
   "source": [
    "# Report > Rmd\n",
    "\n",
    "Add code to <a href=\"https://radiant-rstats.github.io/docs/data/report_rmd.html\" target=\"_blank\">*Report > Rmd*</a> to (re)create the analysis by clicking the edit icon on the bottom left of your screen or by pressing `ALT-enter` on your keyboard.\n",
    "\n",
    "If a plot was created it can be customized using `ggplot2` commands (e.g., `plot(result, plots = \"scatter\", custom = TRUE) + labs(title = \"Compare means\")`). See <a href=\"https://radiant-rstats.github.io/docs/data/visualize.html\" target=\"_blank\">*Data > Visualize*</a> for details."
   ]
  },
  {
   "attachments": {},
   "cell_type": "markdown",
   "metadata": {},
   "source": [
    "# R-functions\n",
    "\n",
    "For an overview of related R-functions used by Radiant to evaluate means see <a href=\"https://radiant-rstats.github.io/radiant.basics/reference/index.html#section-basics-means\" target=\"_blank\">*Basics > Means*</a>\n",
    "\n",
    "The key function from the `stats` package used in the `compare_means` tool is `t.test`."
   ]
  },
  {
   "attachments": {},
   "cell_type": "markdown",
   "metadata": {},
   "source": [
    "# Video Tutorials\n",
    "\n",
    "Copy-and-paste the full command below into the RStudio console (i.e., the bottom-left window) and press return to gain access to all materials used in the hypothesis testing module of the <a href=\"https://www.youtube.com/playlist?list=PLNhtaetb48EdKRIY7MewCyvb_1x7dV3xw\" target=\"_blank\">Radiant Tutorial Series</a>:\n",
    "\n",
    "usethis::use_course(\"https://www.dropbox.com/sh/0xvhyolgcvox685/AADSppNSIocrJS-BqZXhD1Kna?dl=1\")\n",
    "\n",
    "<a href=\"https://youtu.be/cTWk0JADnVg\" target=\"_blank\">Compare Means Hypothesis Test</a>\n",
    "\n",
    "- This video shows how to conduct a compare means hypothesis test\n",
    "- Topics List:\n",
    "    - Calculate summary statistics by groups\n",
    "    - Setup a hypothesis test for compare means in Radiant\n",
    "    - Use the p.value and confidence interval to evaluate the hypothesis test"
   ]
  },
  {
   "attachments": {},
   "cell_type": "markdown",
   "metadata": {},
   "source": [
    "© Vincent Nijs (2019)"
   ]
  }
 ],
 "metadata": {
  "kernelspec": {
   "display_name": "base",
   "language": "python",
   "name": "python3"
  },
  "language_info": {
   "codemirror_mode": {
    "name": "ipython",
    "version": 3
   },
   "file_extension": ".py",
   "mimetype": "text/x-python",
   "name": "python",
   "nbconvert_exporter": "python",
   "pygments_lexer": "ipython3",
   "version": "3.10.11"
  },
  "orig_nbformat": 4,
  "vscode": {
   "interpreter": {
    "hash": "d4d1e4263499bec80672ea0156c357c1ee493ec2b1c70f0acce89fc37c4a6abe"
   }
  }
 },
 "nbformat": 4,
 "nbformat_minor": 2
}
