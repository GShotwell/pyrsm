{
 "cells": [
  {
   "cell_type": "code",
   "execution_count": 1,
   "id": "waiting-teach",
   "metadata": {},
   "outputs": [
    {
     "name": "stdout",
     "output_type": "stream",
     "text": [
      "Sample size calculation for comparison of proportions \n",
      "Sample size 1    : 39,208\n",
      "Sample size 2    : 39,208\n",
      "Total sample size: 78,416\n",
      "Proportion 1     : 0.51 \n",
      "Proportion 2     : 0.52 \n",
      "Effect size      : 0.02000934 \n",
      "Confidence level : 0.95 \n",
      "Power            : 0.8 \n",
      "Alternative      : two.sided \n",
      "\n"
     ]
    }
   ],
   "source": [
    "result <- radiant.design::sample_size_comp(\n",
    "  type = \"proportion\", \n",
    "  p1 = 0.51, \n",
    "  p2 = 0.52, \n",
    "  conf_lev = 0.95, \n",
    "  power = 0.8\n",
    ")\n",
    "summary(result)"
   ]
  },
  {
   "cell_type": "code",
   "execution_count": 2,
   "id": "opposite-chocolate",
   "metadata": {},
   "outputs": [],
   "source": [
    "dframe <- data.frame(\n",
    "    col1 = c(\"x\", \"y\", \"z\"),\n",
    "    col2 = c(3, 4, 5)\n",
    ")"
   ]
  },
  {
   "cell_type": "code",
   "execution_count": 3,
   "id": "hearing-wichita",
   "metadata": {},
   "outputs": [
    {
     "data": {
      "image/png": "[encoded data removed]",
      "text/plain": [
       "plot without title"
      ]
     },
     "metadata": {
      "image/png": {
       "height": 420,
       "width": 420
      }
     },
     "output_type": "display_data"
    }
   ],
   "source": [
    "library(ggplot2)\n",
    "p <- ggplot(dframe, aes(x=col1, y=col2)) + geom_bar(stat=\"identity\")\n",
    "print(p)\n"
   ]
  },
  {
   "cell_type": "code",
   "execution_count": null,
   "id": "technical-sierra",
   "metadata": {},
   "outputs": [],
   "source": []
  }
 ],
 "metadata": {
  "kernelspec": {
   "display_name": "R",
   "language": "R",
   "name": "ir"
  },
  "language_info": {
   "codemirror_mode": "r",
   "file_extension": ".r",
   "mimetype": "text/x-r-source",
   "name": "R",
   "pygments_lexer": "r",
   "version": "4.1.2"
  }
 },
 "nbformat": 4,
 "nbformat_minor": 5
}
