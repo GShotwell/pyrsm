{
 "cells": [
  {
   "cell_type": "markdown",
   "id": "6aec986b-9bbe-4876-9801-856521f75ae8",
   "metadata": {},
   "source": [
    "# Radiant\n",
    "\n",
    "Starts radiant using the command below. When the URL `http://0.0.0.0:8181` is shown, click on it to start radiant in a new tab in your browser. The link will work as long as there is a `[*]` next to the cell with the command that starts radiant. Note radiant will treat the location of the R-notebook as the base directory to work from.\n",
    "\n",
    "Stop radiant as useful by clicking on the power-icon in the navigation bar and then on Stop"
   ]
  },
  {
   "cell_type": "code",
   "execution_count": 2,
   "id": "c8d21f89-3679-4e8c-a751-4d88f543ca53",
   "metadata": {},
   "outputs": [
    {
     "name": "stderr",
     "output_type": "stream",
     "text": [
      "\n",
      "Starting radiant at the url shown below ...\n",
      "Click on the link or copy-and-paste it into\n",
      "your browser's url bar to start\n",
      "\n",
      "\n",
      "Listening on http://0.0.0.0:8181\n",
      "\n",
      "Stopped Radiant\n",
      "\n",
      "\n"
     ]
    }
   ],
   "source": [
    "radiant.data::launch(package=\"radiant\", host=\"0.0.0.0\", port=8181, run=FALSE)"
   ]
  },
  {
   "cell_type": "code",
   "execution_count": 3,
   "id": "143d154b-e8d6-446d-a8e9-e0ab20a0eb32",
   "metadata": {},
   "outputs": [
    {
     "name": "stderr",
     "output_type": "stream",
     "text": [
      "\n",
      "Listening on http://0.0.0.0:8181\n",
      "\n"
     ]
    },
    {
     "name": "stdout",
     "output_type": "stream",
     "text": [
      "Stopped GitGadget"
     ]
    }
   ],
   "source": [
    "gitgadget::gitgadget(host=\"0.0.0.0\", port=8181, launch.browser = FALSE)"
   ]
  }
 ],
 "metadata": {
  "kernelspec": {
   "display_name": "R",
   "language": "R",
   "name": "ir"
  },
  "language_info": {
   "codemirror_mode": "r",
   "file_extension": ".r",
   "mimetype": "text/x-r-source",
   "name": "R",
   "pygments_lexer": "r",
   "version": "4.1.2"
  }
 },
 "nbformat": 4,
 "nbformat_minor": 5
}
