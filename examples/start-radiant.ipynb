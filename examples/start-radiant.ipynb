{
 "cells": [
  {
   "cell_type": "markdown",
   "id": "6aec986b-9bbe-4876-9801-856521f75ae8",
   "metadata": {},
   "source": [
    "# Radiant\n",
    "\n",
    "Starts radiant using the command below. When the URL `http://0.0.0.0:8181` is shown, click on it to start radiant in a new tab in your browser. The link will work as long as there is a `[*]` next to the cell with the command that starts radiant. Note radiant will treat the location of the R-notebook as the base directory to work from.\n",
    "\n",
    "Stop radiant as usual by clicking on the power-icon in the navigation bar and then on Stop"
   ]
  },
  {
   "cell_type": "code",
   "execution_count": 1,
   "id": "c8d21f89-3679-4e8c-a751-4d88f543ca53",
   "metadata": {},
   "outputs": [
    {
     "ename": "ERROR",
     "evalue": "Error in radiant.data::launch(package = \"radiant\", host = \"0.0.0.0\", port = 8181, : Calling radiant start function but radiant is not installed.\n",
     "output_type": "error",
     "traceback": [
      "Error in radiant.data::launch(package = \"radiant\", host = \"0.0.0.0\", port = 8181, : Calling radiant start function but radiant is not installed.\nTraceback:\n",
      "1. radiant.data::launch(package = \"radiant\", host = \"0.0.0.0\", port = 8181, \n .     run = FALSE)",
      "2. stop(sprintf(\"Calling %s start function but %s is not installed.\", \n .     package, package))"
     ]
    }
   ],
   "source": [
    "radiant.data::launch(package=\"radiant\", host=\"0.0.0.0\", port=8181, run=FALSE)"
   ]
  },
  {
   "cell_type": "code",
   "execution_count": null,
   "id": "d85bf498-eb7c-4df8-858c-31bd610708ed",
   "metadata": {},
   "outputs": [],
   "source": []
  }
 ],
 "metadata": {
  "kernelspec": {
   "display_name": "R",
   "language": "R",
   "name": "ir"
  },
  "language_info": {
   "codemirror_mode": "r",
   "file_extension": ".r",
   "mimetype": "text/x-r-source",
   "name": "R",
   "pygments_lexer": "r",
   "version": "4.2.0"
  }
 },
 "nbformat": 4,
 "nbformat_minor": 5
}
