{
 "cells": [
  {
   "attachments": {},
   "cell_type": "markdown",
   "metadata": {},
   "source": [
    "# Basics > Proportions > Compare Proportions\n",
    "\n",
    "\n",
    "<div class=\"alert alert-info\">Compare proportions for two or more groups in the data</div>\n",
    "\n",
    "The compare proportions test is used to evaluate if the frequency of occurrence of some event, behavior, intention, etc. differs across groups. The null hypothesis for the difference in proportions across groups in the population is set to zero. We test this hypothesis using sample data.\n",
    "\n",
    "We can perform either a one-tailed test (i.e., `less than` or `greater than`) or a two-tailed test (see the `Alternative hypothesis` dropdown). A one-tailed test is useful if we want to evaluate if the available sample data suggest that, for example, the proportion of dropped calls is larger (or smaller) for one wireless provider compared to others."
   ]
  },
  {
   "cell_type": "markdown",
   "metadata": {},
   "source": [
    "> WIP Radiant-for-Python implementation of Compare Proportions is in the works. Check back soon ..."
   ]
  },
  {
   "cell_type": "code",
   "execution_count": 1,
   "metadata": {},
   "outputs": [],
   "source": [
    "import matplotlib as mpl\n",
    "import pyrsm as rsm\n",
    "\n",
    "# increase plot resolution\n",
    "mpl.rcParams[\"figure.dpi\"] = 100\n"
   ]
  },
  {
   "cell_type": "code",
   "execution_count": 2,
   "metadata": {},
   "outputs": [],
   "source": [
    "## setup pyrsm for autoreload\n",
    "%reload_ext autoreload\n",
    "%autoreload 2\n",
    "%aimport pyrsm"
   ]
  },
  {
   "attachments": {},
   "cell_type": "markdown",
   "metadata": {},
   "source": [
    "# Example\n",
    "\n",
    "We will use a sample from a dataset that describes the survival status of individual passengers on the Titanic. The principal source for data about Titanic passengers is the Encyclopedia Titanic. One of the original sources is Eaton & Haas (1994) Titanic: Triumph and Tragedy, Patrick Stephens Ltd, which includes a passenger list created by many researchers and edited by Michael A. Findlay."
   ]
  },
  {
   "cell_type": "code",
   "execution_count": 3,
   "metadata": {},
   "outputs": [
    {
     "data": {
      "text/html": [
       "<div>\n",
       "<style scoped>\n",
       "    .dataframe tbody tr th:only-of-type {\n",
       "        vertical-align: middle;\n",
       "    }\n",
       "\n",
       "    .dataframe tbody tr th {\n",
       "        vertical-align: top;\n",
       "    }\n",
       "\n",
       "    .dataframe thead th {\n",
       "        text-align: right;\n",
       "    }\n",
       "</style>\n",
       "<table border=\"1\" class=\"dataframe\">\n",
       "  <thead>\n",
       "    <tr style=\"text-align: right;\">\n",
       "      <th></th>\n",
       "      <th>pclass</th>\n",
       "      <th>survived</th>\n",
       "      <th>sex</th>\n",
       "      <th>age</th>\n",
       "      <th>sibsp</th>\n",
       "      <th>parch</th>\n",
       "      <th>fare</th>\n",
       "      <th>name</th>\n",
       "      <th>cabin</th>\n",
       "      <th>embarked</th>\n",
       "    </tr>\n",
       "  </thead>\n",
       "  <tbody>\n",
       "    <tr>\n",
       "      <th>0</th>\n",
       "      <td>1st</td>\n",
       "      <td>Yes</td>\n",
       "      <td>female</td>\n",
       "      <td>29.0000</td>\n",
       "      <td>0</td>\n",
       "      <td>0</td>\n",
       "      <td>211.337494</td>\n",
       "      <td>Allen, Miss. Elisabeth Walton</td>\n",
       "      <td>B5</td>\n",
       "      <td>Southampton</td>\n",
       "    </tr>\n",
       "    <tr>\n",
       "      <th>1</th>\n",
       "      <td>1st</td>\n",
       "      <td>Yes</td>\n",
       "      <td>male</td>\n",
       "      <td>0.9167</td>\n",
       "      <td>1</td>\n",
       "      <td>2</td>\n",
       "      <td>151.550003</td>\n",
       "      <td>Allison, Master. Hudson Trevor</td>\n",
       "      <td>C22 C26</td>\n",
       "      <td>Southampton</td>\n",
       "    </tr>\n",
       "    <tr>\n",
       "      <th>2</th>\n",
       "      <td>1st</td>\n",
       "      <td>No</td>\n",
       "      <td>female</td>\n",
       "      <td>2.0000</td>\n",
       "      <td>1</td>\n",
       "      <td>2</td>\n",
       "      <td>151.550003</td>\n",
       "      <td>Allison, Miss. Helen Loraine</td>\n",
       "      <td>C22 C26</td>\n",
       "      <td>Southampton</td>\n",
       "    </tr>\n",
       "    <tr>\n",
       "      <th>3</th>\n",
       "      <td>1st</td>\n",
       "      <td>No</td>\n",
       "      <td>male</td>\n",
       "      <td>30.0000</td>\n",
       "      <td>1</td>\n",
       "      <td>2</td>\n",
       "      <td>151.550003</td>\n",
       "      <td>Allison, Mr. Hudson Joshua Crei</td>\n",
       "      <td>C22 C26</td>\n",
       "      <td>Southampton</td>\n",
       "    </tr>\n",
       "    <tr>\n",
       "      <th>4</th>\n",
       "      <td>1st</td>\n",
       "      <td>No</td>\n",
       "      <td>female</td>\n",
       "      <td>25.0000</td>\n",
       "      <td>1</td>\n",
       "      <td>2</td>\n",
       "      <td>151.550003</td>\n",
       "      <td>Allison, Mrs. Hudson J C (Bessi</td>\n",
       "      <td>C22 C26</td>\n",
       "      <td>Southampton</td>\n",
       "    </tr>\n",
       "    <tr>\n",
       "      <th>...</th>\n",
       "      <td>...</td>\n",
       "      <td>...</td>\n",
       "      <td>...</td>\n",
       "      <td>...</td>\n",
       "      <td>...</td>\n",
       "      <td>...</td>\n",
       "      <td>...</td>\n",
       "      <td>...</td>\n",
       "      <td>...</td>\n",
       "      <td>...</td>\n",
       "    </tr>\n",
       "    <tr>\n",
       "      <th>1038</th>\n",
       "      <td>3rd</td>\n",
       "      <td>No</td>\n",
       "      <td>male</td>\n",
       "      <td>45.5000</td>\n",
       "      <td>0</td>\n",
       "      <td>0</td>\n",
       "      <td>7.225000</td>\n",
       "      <td>Youseff, Mr. Gerious</td>\n",
       "      <td></td>\n",
       "      <td>Cherbourg</td>\n",
       "    </tr>\n",
       "    <tr>\n",
       "      <th>1039</th>\n",
       "      <td>3rd</td>\n",
       "      <td>No</td>\n",
       "      <td>female</td>\n",
       "      <td>14.5000</td>\n",
       "      <td>1</td>\n",
       "      <td>0</td>\n",
       "      <td>14.454200</td>\n",
       "      <td>Zabour, Miss. Hileni</td>\n",
       "      <td></td>\n",
       "      <td>Cherbourg</td>\n",
       "    </tr>\n",
       "    <tr>\n",
       "      <th>1040</th>\n",
       "      <td>3rd</td>\n",
       "      <td>No</td>\n",
       "      <td>male</td>\n",
       "      <td>26.5000</td>\n",
       "      <td>0</td>\n",
       "      <td>0</td>\n",
       "      <td>7.225000</td>\n",
       "      <td>Zakarian, Mr. Mapriededer</td>\n",
       "      <td></td>\n",
       "      <td>Cherbourg</td>\n",
       "    </tr>\n",
       "    <tr>\n",
       "      <th>1041</th>\n",
       "      <td>3rd</td>\n",
       "      <td>No</td>\n",
       "      <td>male</td>\n",
       "      <td>27.0000</td>\n",
       "      <td>0</td>\n",
       "      <td>0</td>\n",
       "      <td>7.225000</td>\n",
       "      <td>Zakarian, Mr. Ortin</td>\n",
       "      <td></td>\n",
       "      <td>Cherbourg</td>\n",
       "    </tr>\n",
       "    <tr>\n",
       "      <th>1042</th>\n",
       "      <td>3rd</td>\n",
       "      <td>No</td>\n",
       "      <td>male</td>\n",
       "      <td>29.0000</td>\n",
       "      <td>0</td>\n",
       "      <td>0</td>\n",
       "      <td>7.875000</td>\n",
       "      <td>Zimmerman, Mr. Leo</td>\n",
       "      <td></td>\n",
       "      <td>Southampton</td>\n",
       "    </tr>\n",
       "  </tbody>\n",
       "</table>\n",
       "<p>1043 rows × 10 columns</p>\n",
       "</div>"
      ],
      "text/plain": [
       "     pclass survived     sex      age  sibsp  parch        fare  \\\n",
       "0       1st      Yes  female  29.0000      0      0  211.337494   \n",
       "1       1st      Yes    male   0.9167      1      2  151.550003   \n",
       "2       1st       No  female   2.0000      1      2  151.550003   \n",
       "3       1st       No    male  30.0000      1      2  151.550003   \n",
       "4       1st       No  female  25.0000      1      2  151.550003   \n",
       "...     ...      ...     ...      ...    ...    ...         ...   \n",
       "1038    3rd       No    male  45.5000      0      0    7.225000   \n",
       "1039    3rd       No  female  14.5000      1      0   14.454200   \n",
       "1040    3rd       No    male  26.5000      0      0    7.225000   \n",
       "1041    3rd       No    male  27.0000      0      0    7.225000   \n",
       "1042    3rd       No    male  29.0000      0      0    7.875000   \n",
       "\n",
       "                                 name    cabin     embarked  \n",
       "0       Allen, Miss. Elisabeth Walton       B5  Southampton  \n",
       "1      Allison, Master. Hudson Trevor  C22 C26  Southampton  \n",
       "2        Allison, Miss. Helen Loraine  C22 C26  Southampton  \n",
       "3     Allison, Mr. Hudson Joshua Crei  C22 C26  Southampton  \n",
       "4     Allison, Mrs. Hudson J C (Bessi  C22 C26  Southampton  \n",
       "...                               ...      ...          ...  \n",
       "1038             Youseff, Mr. Gerious             Cherbourg  \n",
       "1039             Zabour, Miss. Hileni             Cherbourg  \n",
       "1040        Zakarian, Mr. Mapriededer             Cherbourg  \n",
       "1041              Zakarian, Mr. Ortin             Cherbourg  \n",
       "1042               Zimmerman, Mr. Leo           Southampton  \n",
       "\n",
       "[1043 rows x 10 columns]"
      ]
     },
     "execution_count": 3,
     "metadata": {},
     "output_type": "execute_result"
    }
   ],
   "source": [
    "titanic, titanic_description = rsm.load_data(pkg=\"data\", name=\"titanic\")\n",
    "titanic\n"
   ]
  },
  {
   "cell_type": "code",
   "execution_count": 4,
   "metadata": {},
   "outputs": [
    {
     "data": {
      "text/markdown": [
       "## Titanic\n",
       "\n",
       "This dataset describes the survival status of individual passengers on the Titanic. The titanic data frame does not contain information from the crew, but it does contain actual ages of (some of) the passengers. The principal source for data about Titanic passengers is the Encyclopedia Titanica. One of the original sources is Eaton & Haas (1994) Titanic: Triumph and Tragedy, Patrick Stephens Ltd, which includes a passenger list created by many researchers and edited by Michael A. Findlay.\n",
       "\n",
       "## Variables\n",
       "\n",
       "* survival - Survival (Yes, No)\n",
       "* pclass - Passenger Class (1st, 2nd, 3rd)\n",
       "* sex - Sex (female, male)\n",
       "* age - Age in years\n",
       "* sibsp - Number of Siblings/Spouses Aboard\n",
       "* parch - Number of Parents/Children Aboard\n",
       "* fare - Passenger Fare\n",
       "* name - Name\n",
       "* cabin - Cabin\n",
       "* embarked - Port of Embarkation (Cherbourg, Queenstown, Southampton)\n",
       "\n",
       "##  Notes\n",
       "\n",
       "`pclass` is a proxy for socio-economic status (SES) 1st ~ Upper; 2nd ~ Middle; 3rd ~ Lower\n",
       "\n",
       "Age is in Years; Fractional if Age less than One (1). If the Age is Estimated, it is in the form xx.5\n",
       "\n",
       "With respect to the family relation variables (i.e. sibsp and parch) some relations were ignored.  The following are the definitions used for sibsp and parch.\n",
       "\n",
       "Sibling:  Brother, Sister, Stepbrother, or Stepsister of Passenger Aboard Titanic\n",
       "Spouse:   Husband or Wife of Passenger Aboard Titanic (Mistresses and Fiances Ignored)\n",
       "Parent:   Mother or Father of Passenger Aboard Titanic\n",
       "Child:    Son, Daughter, Stepson, or Stepdaughter of Passenger Aboard Titanic\n",
       "\n",
       "Other family relatives excluded from this study include cousins, nephews/nieces, aunts/uncles, and in-laws. Some children travelled only with a nanny, therefore parch=0 for them.  As well, some travelled with very close friends or neighbors in a village, however, the definitions do not support such relations.\n",
       "\n",
       "Note: Missing values and the `ticket` variable were removed from the data\n",
       "\n",
       "## Related reading\n",
       "\n",
       "<a href=\"http://phys.org/news/2012-07-shipwrecks-men-survive.html\" target=\"_blank\">In shipwrecks, men more likely to survive</a>"
      ],
      "text/plain": [
       "<IPython.core.display.Markdown object>"
      ]
     },
     "metadata": {},
     "output_type": "display_data"
    }
   ],
   "source": [
    "# format the data description\n",
    "rsm.md(titanic_description)\n"
   ]
  },
  {
   "attachments": {},
   "cell_type": "markdown",
   "metadata": {},
   "source": [
    "Lets focus on two variables in the database:\n",
    "- survived = a factor with levels `Yes` and `No`\n",
    "- pclass = Passenger Class (1st, 2nd, 3rd). This is a proxy for socio-economic status (SES) 1st ~ Upper; 2nd ~ Middle; 3rd ~ Lower\n",
    "\n",
    "Suppose we want to test if the proportion of people that survived the sinking of the Titanic differs across passenger classes.\n",
    "\n",
    "Below is the way to do it in Python"
   ]
  },
  {
   "attachments": {},
   "cell_type": "markdown",
   "metadata": {},
   "source": [
    "## Not ready yet - pleas review and fix you see the problem"
   ]
  },
  {
   "cell_type": "code",
   "execution_count": 5,
   "metadata": {},
   "outputs": [
    {
     "name": "stdout",
     "output_type": "stream",
     "text": [
      "Pairwise proportion comparisons\n",
      "Data      : Not provided\n",
      "Variables : pclass, survived\n",
      "Level     : \"Yes\" in survived\n",
      "Confidence: 0.95\n",
      "Adjustment: None\n",
      "\n",
      "pclass  Yes     p   n  n_missing    sd    se    me\n",
      "   1st  179 0.635 282          0 0.481 0.029 0.056\n",
      "   2nd  115 0.441 261          0 0.496 0.031 0.060\n",
      "   3rd  131 0.262 500          0 0.440 0.020 0.039\n"
     ]
    }
   ],
   "source": [
    "cp = rsm.basics.compare_props(\n",
    "    data=titanic,\n",
    "    gvar=\"pclass\",\n",
    "    var=\"survived\",\n",
    "    lev=\"Yes\",\n",
    "    comb=[(\"1st\", \"2nd\"), (\"1st\", \"3rd\"), (\"2nd\", \"3rd\")],\n",
    "    alt_hyp=\"two-sided\",\n",
    "    conf=0.95,\n",
    ")\n",
    "cp.summary()\n"
   ]
  },
  {
   "attachments": {},
   "cell_type": "markdown",
   "metadata": {},
   "source": [
    "To test this hypothesis on Radiant, we select `pclass` as the grouping variable and calculate proportions of `yes` (see `Choose level`) for `survived` (see `Variable (select one)`).\n",
    "\n",
    "In the `Choose combinations` box select all available entries to conduct pair-wise comparisons across the three passenger class levels. Note that removing all entries will automatically select all combinations. Unless we have an explicit hypothesis for the direction of the effect we should use a two-sided test (i.e., `two.sided`). Our first alternative hypothesis would be ‘The proportion of survivors among 1st class passengers was different compared to 2nd class passengers’."
   ]
  },
  {
   "attachments": {},
   "cell_type": "markdown",
   "metadata": {},
   "source": [
    "<p align=\"center\">\n",
    "<img src=\"figures_basics/compare_props_summary.png\">\n",
    "</p>"
   ]
  },
  {
   "attachments": {},
   "cell_type": "markdown",
   "metadata": {},
   "source": [
    "The first two blocks of output show basic information about the test (e.g.,. selected variables and confidence levels) and summary statistics (e.g., proportions, standard error, margin or error, etc. per group). The final block of output shows the following:\n",
    "\n",
    "- `Null hyp.` is the null hypothesis and `Alt. hyp.` the alternative hypothesis\n",
    "- `diff` is the difference between the sample proportion for two groups (e.g., 0.635 - 0.441 = 0.194). If the null hypothesis is true we expect this difference to be small (i.e., close to zero)\n",
    "- `p.value` is the probability of finding a value as extreme or more extreme than `diff` if the null hypothesis is true"
   ]
  },
  {
   "attachments": {},
   "cell_type": "markdown",
   "metadata": {},
   "source": [
    "If we check `Show additional statistics` the following output is added:"
   ]
  },
  {
   "attachments": {},
   "cell_type": "markdown",
   "metadata": {},
   "source": [
    "<pre>Pairwise proportion comparisons\n",
    "Data      : titanic \n",
    "Variables : pclass, survived \n",
    "Level     : Yes in survived \n",
    "Confidence: 0.95 \n",
    "Adjustment: None \n",
    "\n",
    " pclass Yes  No     p   n n_missing    sd    se    me\n",
    "    1st 179 103 0.635 282         0 8.086 0.029 0.056\n",
    "    2nd 115 146 0.441 261         0 8.021 0.031 0.060\n",
    "    3rd 131 369 0.262 500         0 9.832 0.020 0.039\n",
    "\n",
    " Null hyp.   Alt. hyp.              diff  p.value chisq.value df 2.5%  97.5%    \n",
    " 1st = 2nd   1st not equal to 2nd   0.194 &lt; .001  20.576      1  0.112 0.277 ***\n",
    " 1st = 3rd   1st not equal to 3rd   0.373 &lt; .001  104.704     1  0.305 0.441 ***\n",
    " 2nd = 3rd   2nd not equal to 3rd   0.179 &lt; .001  25.008      1  0.107 0.250 ***\n",
    "\n",
    "Signif. codes:  0 '***' 0.001 '**' 0.01 '*' 0.05 '.' 0.1 ' ' 1\n",
    "</pre>"
   ]
  },
  {
   "attachments": {},
   "cell_type": "markdown",
   "metadata": {},
   "source": [
    "- `chisq.value` is the chi-squared statistic associated with `diff` that we can compare to a chi-squared distribution. For additional discussion on how this metric is calculated see the help file in Basics > Tables > Cross-tabs. For each combination the equivalent of a 2X2 cross-tab is calculated.\n",
    "- `df` is the degrees of freedom associated with each statistical test (1).\n",
    "- `2.5%` `97.5%` show the 95% confidence interval around the difference in sample proportions. These numbers provide a range within which the true population difference is likely to fall"
   ]
  },
  {
   "attachments": {},
   "cell_type": "markdown",
   "metadata": {},
   "source": [
    "# Testing\n",
    "\n",
    "There are three approaches we can use to evaluate the null hypothesis. We will choose a significance level of 0.05.<sup>1</sup> Of course, each approach will lead to the same conclusion."
   ]
  },
  {
   "attachments": {},
   "cell_type": "markdown",
   "metadata": {},
   "source": [
    "### p.value\n",
    "\n",
    "Because the p.values are **smaller** than the significance level for each pair-wise comparison we can reject the null hypothesis that the proportions are equal based on the available sample of data. The results suggest that 1st class passengers were more likely to survive the sinking than either 2nd or 3rd class passengers. In turn, the 2nd class passengers were more likely to survive than those in 3rd class.\n",
    "\n",
    "### Confidence interval\n",
    "\n",
    "Because zero is **not** contained in any of the confidence intervals we reject the null hypothesis for each evaluated combination of passenger class levels.\n",
    "\n",
    "### Chi-squared values\n",
    "\n",
    "Because the calculated chi-squared values (20.576, 104.704, and 25.008) are **larger** than the corresponding **critical** chi-squared value we reject the null hypothesis for each evaluated combination of passenger class levels. We can obtain the critical chi-squared value by using the probability calculator in the ***Basics*** menu. Using the test for 1st versus 2nd class passengers as an example, we find that for a chi-squared distribution with 1 degree of freedom (see `df`) and a confidence level of 0.95 the critical chi-squared value is 3.841."
   ]
  },
  {
   "attachments": {},
   "cell_type": "markdown",
   "metadata": {},
   "source": [
    "<p align=\"center\">\n",
    "<img src=\"figures_basics/compare_props_prob_calc.png\">\n",
    "</p>"
   ]
  },
  {
   "attachments": {},
   "cell_type": "markdown",
   "metadata": {},
   "source": [
    "In addition to the numerical output provided in the ***Summary*** tab we can also investigate the association between `pclass` and `survived` visually (see the ***Plot*** tab). The screen shot below shows two bar charts. The first chart has confidence interval (black) and standard error (blue) bars for the proportion of `yes` entries for `survived` in the sample. Consistent with the results shown in the ***Summary*** tab there are clear differences in the survival rate across passenger classes. The `Dodge` chart shows the proportions of `yes` and `no` in `survived` side-by-side for each passenger class. While 1st class passengers had a higher proportion of `yes` than `no` the opposite holds for the 3rd class passengers."
   ]
  },
  {
   "attachments": {},
   "cell_type": "markdown",
   "metadata": {},
   "source": [
    "<p align=\"center\">\n",
    "<img src=\"figures_basics/compare_props_plot.png\">\n",
    "</p>"
   ]
  },
  {
   "attachments": {},
   "cell_type": "markdown",
   "metadata": {},
   "source": [
    "# Technical Notes\n",
    "- Radiant uses R’s `prop.test` function to compare proportions. When one or more expected values are small (e.g., 5 or less) the p.value for this test is calculated using simulation methods. When this occurs it is recommended to rerun the test using Basics > Tables > Cross-tabs and evaluate if some cells may have an expected value below 1.\n",
    "- For one-sided tests (i.e., `Less than` or `Greater than`) critical values must be obtained by using the normal distribution in the probability calculator and squaring the corresponding Z-statistic.\n",
    "\n",
    "# Multiple comparison adjustment\n",
    "\n",
    "The more comparisons we evaluate the more likely we are to find a “significant” result just by chance even if the null hypothesis is true. If we conduct 100 tests and set our **significance level** at 0.05 (or 5%) we can expect to find 5 p.values smaller than or equal to 0.05 even if there are no associations in the population.\n",
    "\n",
    "Bonferroni adjustment ensures the p.values are scaled appropriately given the number of tests conducted.\n",
    "<a href=\"https://xkcd.com/882/\" target=\"blank\">This XKCD cartoon</a> expresses the need for this type of adjustments very clearly."
   ]
  },
  {
   "attachments": {},
   "cell_type": "markdown",
   "metadata": {},
   "source": [
    "# <i>Stats Speak</i>\n",
    "\n",
    "This is a **comparison of proportions** test of the null hypothesis that the true population **difference in proportions** is equal to **0**. Using a significance level of 0.05, we reject the null hypothesis for each pair of passengers classes evaluated, and conclude that the true population **difference in proportions** is **not equal to 0**.\n",
    "\n",
    "The p.value for the test of differences in the survival proportion for 1st versus 2nd class passengers is **< .001**. This is the probability of observing a sample **difference in proportions** that is as or more extreme than the sample **difference in proportions** from the data if the null hypothesis is true. In this case, it is the probability of observing a sample **difference in proportions** that is less than **-0.194** or greater than **0.194** if the true population **difference in proportions** is **0**.\n",
    "\n",
    "The 95% confidence interval is **0.112** to **0.277**. If repeated samples were taken and the 95% confidence interval computed for each one, the true **difference in population proportions** would fall inside the confidence interval in 95% of the samples\n",
    "\n",
    "<sup>1</sup> The **significance level**, often denoted by α, is the highest probability you are willing to accept of rejecting the null hypothesis when it is actually true. A commonly used significance level is 0.05 (or 5%)"
   ]
  },
  {
   "attachments": {},
   "cell_type": "markdown",
   "metadata": {},
   "source": [
    "# Video Tutorials\n",
    "\n",
    "To review the same analysis in Radiant for R, copy-and-paste the full command below into the RStudio console (i.e., the bottom-left window) and press return to gain access to all materials used in the hypothesis testing module of the <a href=\"https://www.youtube.com/playlist?list=PLNhtaetb48EdKRIY7MewCyvb_1x7dV3xw\" target=\"_blank\">Radiant Tutorial Series</a>:\n",
    "\n",
    "`usethis::use_course(\"https://www.dropbox.com/sh/0xvhyolgcvox685/AADSppNSIocrJS-BqZXhD1Kna?dl=1\")`\n",
    "\n",
    "<a href=\"https://youtu.be/ICqSRs4UfLM\" target=\"_blank\">Compare Proportions Hypothesis Test</a>\n",
    "\n",
    "* This video shows how to conduct a compare proportions hypothesis test\n",
    "* Topics List:\n",
    "    - Setup a hypothesis test for compare means in Radiant\n",
    "    - Use the p.value and confidence interval to evaluate the hypothesis test"
   ]
  },
  {
   "attachments": {},
   "cell_type": "markdown",
   "metadata": {},
   "source": [
    "© Vincent Nijs (2023)"
   ]
  }
 ],
 "metadata": {
  "interpreter": {
   "hash": "53a2aba860810c54f9d6467701d48cc6f01ab0c2f275f91ba243d3565bcab01f"
  },
  "kernelspec": {
   "display_name": "Python 3.9.12 ('pyrsm-dev')",
   "language": "python",
   "name": "python3"
  },
  "language_info": {
   "codemirror_mode": {
    "name": "ipython",
    "version": 3
   },
   "file_extension": ".py",
   "mimetype": "text/x-python",
   "name": "python",
   "nbconvert_exporter": "python",
   "pygments_lexer": "ipython3",
   "version": "3.10.10"
  },
  "orig_nbformat": 4
 },
 "nbformat": 4,
 "nbformat_minor": 2
}
