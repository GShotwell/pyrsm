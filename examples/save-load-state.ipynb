{
 "cells": [
  {
   "cell_type": "code",
   "execution_count": 1,
   "id": "moved-teach",
   "metadata": {},
   "outputs": [],
   "source": [
    "x = 2\n",
    "y = 3\n",
    "z = x - y"
   ]
  },
  {
   "cell_type": "code",
   "execution_count": 2,
   "id": "normal-architect",
   "metadata": {},
   "outputs": [],
   "source": [
    "import pyrsm as rsm"
   ]
  },
  {
   "cell_type": "code",
   "execution_count": 3,
   "id": "equal-nitrogen",
   "metadata": {},
   "outputs": [
    {
     "output_type": "stream",
     "name": "stdout",
     "text": [
      "Could not determine the notebook name\nUsing 'notebook.state.pkl' instead\n"
     ]
    }
   ],
   "source": [
    "rsm.save_state(globals())"
   ]
  },
  {
   "cell_type": "code",
   "execution_count": 4,
   "id": "active-offense",
   "metadata": {},
   "outputs": [],
   "source": [
    "del x, y, z"
   ]
  },
  {
   "cell_type": "code",
   "execution_count": 5,
   "id": "fatal-chemical",
   "metadata": {},
   "outputs": [
    {
     "output_type": "stream",
     "name": "stdout",
     "text": [
      "name 'x' is not defined\n"
     ]
    }
   ],
   "source": [
    "try:\n",
    "    print(x)\n",
    "except Exception as err:\n",
    "    print(err)"
   ]
  },
  {
   "source": [
    "Use `rsm.load_state` to either return a dictionary of the objects you stored, or add them to `globals()` for easy access"
   ],
   "cell_type": "markdown",
   "metadata": {}
  },
  {
   "cell_type": "code",
   "execution_count": 6,
   "id": "extended-chapel",
   "metadata": {},
   "outputs": [
    {
     "output_type": "execute_result",
     "data": {
      "text/plain": [
       "{'x': 2, 'y': 3, 'z': -1}"
      ]
     },
     "metadata": {},
     "execution_count": 6
    }
   ],
   "source": [
    "rsm.load_state()"
   ]
  },
  {
   "cell_type": "code",
   "execution_count": 7,
   "id": "internal-ability",
   "metadata": {},
   "outputs": [],
   "source": [
    "rsm.load_state(globals())"
   ]
  },
  {
   "cell_type": "code",
   "execution_count": 8,
   "id": "surface-nudist",
   "metadata": {},
   "outputs": [
    {
     "output_type": "execute_result",
     "data": {
      "text/plain": [
       "2"
      ]
     },
     "metadata": {},
     "execution_count": 8
    }
   ],
   "source": [
    "x"
   ]
  },
  {
   "source": [
    "If your notebook contains objects that cannot be pickled, you can save just the objects you want to keep as follows"
   ],
   "cell_type": "markdown",
   "metadata": {}
  },
  {
   "cell_type": "code",
   "execution_count": 9,
   "metadata": {},
   "outputs": [
    {
     "output_type": "stream",
     "name": "stdout",
     "text": [
      "Could not determine the notebook name\nUsing 'notebook.state.pkl' instead\n"
     ]
    }
   ],
   "source": [
    "rsm.save_state({\"x\": x, \"y\": y, \"z\": z})"
   ]
  },
  {
   "cell_type": "code",
   "execution_count": 10,
   "metadata": {},
   "outputs": [],
   "source": [
    "del x, y, z"
   ]
  },
  {
   "cell_type": "code",
   "execution_count": 11,
   "metadata": {},
   "outputs": [
    {
     "output_type": "stream",
     "name": "stdout",
     "text": [
      "name 'x' is not defined\n"
     ]
    }
   ],
   "source": [
    "try:\n",
    "    print(x)\n",
    "except Exception as err:\n",
    "    print(err)"
   ]
  },
  {
   "cell_type": "code",
   "execution_count": 12,
   "metadata": {},
   "outputs": [],
   "source": [
    "rsm.load_state(globals())"
   ]
  },
  {
   "cell_type": "code",
   "execution_count": 13,
   "metadata": {},
   "outputs": [
    {
     "output_type": "execute_result",
     "data": {
      "text/plain": [
       "2"
      ]
     },
     "metadata": {},
     "execution_count": 13
    }
   ],
   "source": [
    "x"
   ]
  }
 ],
 "metadata": {
  "kernelspec": {
   "display_name": "Python 3",
   "language": "python",
   "name": "python3"
  },
  "language_info": {
   "codemirror_mode": {
    "name": "ipython",
    "version": 3
   },
   "file_extension": ".py",
   "mimetype": "text/x-python",
   "name": "python",
   "nbconvert_exporter": "python",
   "pygments_lexer": "ipython3",
   "version": "3.8.5-final"
  }
 },
 "nbformat": 4,
 "nbformat_minor": 5
}