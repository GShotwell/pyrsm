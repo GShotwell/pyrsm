{
 "cells": [
  {
   "cell_type": "code",
   "execution_count": 1,
   "id": "moved-teach",
   "metadata": {},
   "outputs": [],
   "source": [
    "x = 2\n",
    "y = 3\n",
    "z = x - y"
   ]
  },
  {
   "cell_type": "code",
   "execution_count": 2,
   "id": "normal-architect",
   "metadata": {},
   "outputs": [],
   "source": [
    "import pyrsm as rsm"
   ]
  },
  {
   "cell_type": "code",
   "execution_count": 3,
   "id": "equal-nitrogen",
   "metadata": {},
   "outputs": [],
   "source": [
    "rsm.save_state(globals())"
   ]
  },
  {
   "cell_type": "code",
   "execution_count": 4,
   "id": "active-offense",
   "metadata": {},
   "outputs": [],
   "source": [
    "del x, y, z"
   ]
  },
  {
   "cell_type": "code",
   "execution_count": 6,
   "id": "fatal-chemical",
   "metadata": {},
   "outputs": [
    {
     "ename": "NameError",
     "evalue": "name 'x' is not defined",
     "output_type": "error",
     "traceback": [
      "\u001b[0;31m---------------------------------------------------------------------------\u001b[0m",
      "\u001b[0;31mNameError\u001b[0m                                 Traceback (most recent call last)",
      "\u001b[0;32m<ipython-input-6-6fcf9dfbd479>\u001b[0m in \u001b[0;36m<module>\u001b[0;34m\u001b[0m\n\u001b[0;32m----> 1\u001b[0;31m \u001b[0mx\u001b[0m\u001b[0;34m\u001b[0m\u001b[0;34m\u001b[0m\u001b[0m\n\u001b[0m",
      "\u001b[0;31mNameError\u001b[0m: name 'x' is not defined"
     ]
    }
   ],
   "source": [
    "x"
   ]
  },
  {
   "cell_type": "code",
   "execution_count": 7,
   "id": "extended-chapel",
   "metadata": {},
   "outputs": [
    {
     "data": {
      "text/plain": [
       "{'x': 2, 'y': 3, 'z': -1}"
      ]
     },
     "execution_count": 7,
     "metadata": {},
     "output_type": "execute_result"
    }
   ],
   "source": [
    "rsm.load_state()"
   ]
  },
  {
   "cell_type": "code",
   "execution_count": 8,
   "id": "internal-ability",
   "metadata": {},
   "outputs": [],
   "source": [
    "rsm.load_state(globals())"
   ]
  },
  {
   "cell_type": "code",
   "execution_count": 9,
   "id": "surface-nudist",
   "metadata": {},
   "outputs": [
    {
     "data": {
      "text/plain": [
       "2"
      ]
     },
     "execution_count": 9,
     "metadata": {},
     "output_type": "execute_result"
    }
   ],
   "source": [
    "x"
   ]
  },
  {
   "cell_type": "code",
   "execution_count": null,
   "id": "ready-certification",
   "metadata": {},
   "outputs": [],
   "source": []
  }
 ],
 "metadata": {
  "kernelspec": {
   "display_name": "Python 3",
   "language": "python",
   "name": "python3"
  },
  "language_info": {
   "codemirror_mode": {
    "name": "ipython",
    "version": 3
   },
   "file_extension": ".py",
   "mimetype": "text/x-python",
   "name": "python",
   "nbconvert_exporter": "python",
   "pygments_lexer": "ipython3",
   "version": "3.8.5"
  }
 },
 "nbformat": 4,
 "nbformat_minor": 5
}
