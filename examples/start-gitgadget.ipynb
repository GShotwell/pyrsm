{
 "cells": [
  {
   "cell_type": "markdown",
   "id": "6aec986b-9bbe-4876-9801-856521f75ae8",
   "metadata": {},
   "source": [
    "# GitGadget\n",
    "\n",
    "Starts gitgadget using the command below. When the URL `http://0.0.0.0:8282` is shown, click on it to start gitgadget in a new tab in your browser. The link will work as long as there is a `[*]` next to the cell with the command that starts gitgadget. Note gitgadget will treat the location of the R-notebook as the base directory to work from.\n",
    "\n",
    "If you need to use a different directory to Sync, for example, select the directory you want to use through the Directory tab.\n",
    "\n",
    "Stop gitgadget click on the Done button"
   ]
  },
  {
   "cell_type": "code",
   "execution_count": 1,
   "id": "143d154b-e8d6-446d-a8e9-e0ab20a0eb32",
   "metadata": {},
   "outputs": [
    {
     "name": "stderr",
     "output_type": "stream",
     "text": [
      "Loading required package: shiny\n",
      "\n",
      "\n",
      "Listening on http://0.0.0.0:8282\n",
      "\n"
     ]
    },
    {
     "name": "stdout",
     "output_type": "stream",
     "text": [
      "Stopped GitGadget"
     ]
    }
   ],
   "source": [
    "gitgadget::gitgadget(host=\"0.0.0.0\", port=8282, launch.browser=FALSE)"
   ]
  },
  {
   "cell_type": "code",
   "execution_count": null,
   "id": "394b63f5-0301-4e88-bf0b-c9d7aa9648f3",
   "metadata": {},
   "outputs": [],
   "source": []
  }
 ],
 "metadata": {
  "kernelspec": {
   "display_name": "R",
   "language": "R",
   "name": "ir"
  },
  "language_info": {
   "codemirror_mode": "r",
   "file_extension": ".r",
   "mimetype": "text/x-r-source",
   "name": "R",
   "pygments_lexer": "r",
   "version": "4.1.2"
  }
 },
 "nbformat": 4,
 "nbformat_minor": 5
}
