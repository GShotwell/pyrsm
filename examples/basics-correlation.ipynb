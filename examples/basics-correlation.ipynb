{
 "cells": [
  {
   "cell_type": "markdown",
   "id": "mineral-fitting",
   "metadata": {},
   "source": [
    "# Basics > Correlation"
   ]
  },
  {
   "cell_type": "markdown",
   "id": "sustained-contributor",
   "metadata": {},
   "source": [
    "> How correlated are the variables in the data?\n",
    "\n",
    "Create a correlation matrix of selected numeric variables (`int` or `float`). Correlations and p.values are provided for each variable pair. "
   ]
  },
  {
   "cell_type": "code",
   "execution_count": 1,
   "id": "considerable-muscle",
   "metadata": {},
   "outputs": [],
   "source": [
    "import matplotlib as mpl\n",
    "import pandas as pd\n",
    "import pyrsm as rsm\n",
    "\n",
    "# increase plot resolution\n",
    "mpl.rcParams[\"figure.dpi\"] = 200"
   ]
  },
  {
   "cell_type": "code",
   "execution_count": 2,
   "id": "parliamentary-hampshire",
   "metadata": {},
   "outputs": [
    {
     "data": {
      "text/plain": [
       "'0.5.10'"
      ]
     },
     "execution_count": 2,
     "metadata": {},
     "output_type": "execute_result"
    }
   ],
   "source": [
    "# check pyrsm version\n",
    "rsm.__version__"
   ]
  },
  {
   "cell_type": "code",
   "execution_count": 3,
   "id": "7ee0a39f",
   "metadata": {},
   "outputs": [
    {
     "name": "stdout",
     "output_type": "stream",
     "text": [
      "     active environment : base\n",
      "    active env location : /opt/conda/envs/pyrsm-dev\n"
     ]
    }
   ],
   "source": [
    "# check conda environment used\n",
    "!conda info | grep 'active env'"
   ]
  },
  {
   "cell_type": "code",
   "execution_count": 4,
   "id": "a681b773",
   "metadata": {},
   "outputs": [
    {
     "name": "stdout",
     "output_type": "stream",
     "text": [
      "/opt/conda/envs/pyrsm-dev/bin/python\n"
     ]
    }
   ],
   "source": [
    "# check python being used\n",
    "import sys\n",
    "print(sys.executable)"
   ]
  },
  {
   "cell_type": "code",
   "execution_count": 5,
   "id": "b149d204",
   "metadata": {},
   "outputs": [],
   "source": [
    "rsm.load_data(pkg=\"basics\", name=\"salary\", dct=globals())"
   ]
  },
  {
   "cell_type": "code",
   "execution_count": 6,
   "id": "attended-hundred",
   "metadata": {},
   "outputs": [
    {
     "data": {
      "text/markdown": [
       "## Salaries for Professors\n",
       "\n",
       "### Description\n",
       "\n",
       "The 2008-09 nine-month academic salary for Assistant Professors, Associate Professors and Professors in a college in the U.S. The data were collected as part of the on-going effort of the college's administration to monitor salary differences between male and female faculty members. A data frame with 397 observations on the following 6 variables.\n",
       "\n",
       "### Variables\n",
       "\n",
       "- rank = a factor with levels AsstProf, AssocProf, and Prof\n",
       "- discipline = a factor with levels A ('theoretical' departments) or B ('applied' departments)\n",
       "- yrs.since.phd = years since PhD\n",
       "- yrs.service = years of service\n",
       "- sex = a factor with levels Female and Male\n",
       "- salary = nine-month salary, in dollars\n",
       "\n",
       "### Source\n",
       "\n",
       "Fox J. and Weisberg, S. (2011) An R Companion to Applied Regression, Second Edition Sage.\n"
      ],
      "text/plain": [
       "<IPython.core.display.Markdown object>"
      ]
     },
     "metadata": {},
     "output_type": "display_data"
    }
   ],
   "source": [
    "rsm.describe(salary)"
   ]
  },
  {
   "cell_type": "code",
   "execution_count": 7,
   "id": "written-psychology",
   "metadata": {},
   "outputs": [
    {
     "data": {
      "text/html": [
       "<div>\n",
       "<style scoped>\n",
       "    .dataframe tbody tr th:only-of-type {\n",
       "        vertical-align: middle;\n",
       "    }\n",
       "\n",
       "    .dataframe tbody tr th {\n",
       "        vertical-align: top;\n",
       "    }\n",
       "\n",
       "    .dataframe thead th {\n",
       "        text-align: right;\n",
       "    }\n",
       "</style>\n",
       "<table border=\"1\" class=\"dataframe\">\n",
       "  <thead>\n",
       "    <tr style=\"text-align: right;\">\n",
       "      <th></th>\n",
       "      <th>salary</th>\n",
       "      <th>rank</th>\n",
       "      <th>discipline</th>\n",
       "      <th>yrs.since.phd</th>\n",
       "      <th>yrs.service</th>\n",
       "      <th>sex</th>\n",
       "    </tr>\n",
       "  </thead>\n",
       "  <tbody>\n",
       "    <tr>\n",
       "      <th>0</th>\n",
       "      <td>139750</td>\n",
       "      <td>Prof</td>\n",
       "      <td>B</td>\n",
       "      <td>19</td>\n",
       "      <td>18</td>\n",
       "      <td>Male</td>\n",
       "    </tr>\n",
       "    <tr>\n",
       "      <th>1</th>\n",
       "      <td>173200</td>\n",
       "      <td>Prof</td>\n",
       "      <td>B</td>\n",
       "      <td>20</td>\n",
       "      <td>16</td>\n",
       "      <td>Male</td>\n",
       "    </tr>\n",
       "    <tr>\n",
       "      <th>2</th>\n",
       "      <td>79750</td>\n",
       "      <td>AsstProf</td>\n",
       "      <td>B</td>\n",
       "      <td>4</td>\n",
       "      <td>3</td>\n",
       "      <td>Male</td>\n",
       "    </tr>\n",
       "    <tr>\n",
       "      <th>3</th>\n",
       "      <td>115000</td>\n",
       "      <td>Prof</td>\n",
       "      <td>B</td>\n",
       "      <td>45</td>\n",
       "      <td>39</td>\n",
       "      <td>Male</td>\n",
       "    </tr>\n",
       "    <tr>\n",
       "      <th>4</th>\n",
       "      <td>141500</td>\n",
       "      <td>Prof</td>\n",
       "      <td>B</td>\n",
       "      <td>40</td>\n",
       "      <td>41</td>\n",
       "      <td>Male</td>\n",
       "    </tr>\n",
       "    <tr>\n",
       "      <th>...</th>\n",
       "      <td>...</td>\n",
       "      <td>...</td>\n",
       "      <td>...</td>\n",
       "      <td>...</td>\n",
       "      <td>...</td>\n",
       "      <td>...</td>\n",
       "    </tr>\n",
       "    <tr>\n",
       "      <th>392</th>\n",
       "      <td>103106</td>\n",
       "      <td>Prof</td>\n",
       "      <td>A</td>\n",
       "      <td>33</td>\n",
       "      <td>30</td>\n",
       "      <td>Male</td>\n",
       "    </tr>\n",
       "    <tr>\n",
       "      <th>393</th>\n",
       "      <td>150564</td>\n",
       "      <td>Prof</td>\n",
       "      <td>A</td>\n",
       "      <td>31</td>\n",
       "      <td>19</td>\n",
       "      <td>Male</td>\n",
       "    </tr>\n",
       "    <tr>\n",
       "      <th>394</th>\n",
       "      <td>101738</td>\n",
       "      <td>Prof</td>\n",
       "      <td>A</td>\n",
       "      <td>42</td>\n",
       "      <td>25</td>\n",
       "      <td>Male</td>\n",
       "    </tr>\n",
       "    <tr>\n",
       "      <th>395</th>\n",
       "      <td>95329</td>\n",
       "      <td>Prof</td>\n",
       "      <td>A</td>\n",
       "      <td>25</td>\n",
       "      <td>15</td>\n",
       "      <td>Male</td>\n",
       "    </tr>\n",
       "    <tr>\n",
       "      <th>396</th>\n",
       "      <td>81035</td>\n",
       "      <td>AsstProf</td>\n",
       "      <td>A</td>\n",
       "      <td>8</td>\n",
       "      <td>4</td>\n",
       "      <td>Male</td>\n",
       "    </tr>\n",
       "  </tbody>\n",
       "</table>\n",
       "<p>397 rows × 6 columns</p>\n",
       "</div>"
      ],
      "text/plain": [
       "     salary      rank discipline  yrs.since.phd  yrs.service   sex\n",
       "0    139750      Prof          B             19           18  Male\n",
       "1    173200      Prof          B             20           16  Male\n",
       "2     79750  AsstProf          B              4            3  Male\n",
       "3    115000      Prof          B             45           39  Male\n",
       "4    141500      Prof          B             40           41  Male\n",
       "..      ...       ...        ...            ...          ...   ...\n",
       "392  103106      Prof          A             33           30  Male\n",
       "393  150564      Prof          A             31           19  Male\n",
       "394  101738      Prof          A             42           25  Male\n",
       "395   95329      Prof          A             25           15  Male\n",
       "396   81035  AsstProf          A              8            4  Male\n",
       "\n",
       "[397 rows x 6 columns]"
      ]
     },
     "execution_count": 7,
     "metadata": {},
     "output_type": "execute_result"
    }
   ],
   "source": [
    "salary"
   ]
  },
  {
   "cell_type": "markdown",
   "id": "smoking-national",
   "metadata": {},
   "source": [
    "To create a correlation object use `rsm.correlation`. The created object has attributes and methods that you can use to get the information you need. For example. the `.cr` attribute shows the correlation matrix as a two dimension numpy array."
   ]
  },
  {
   "cell_type": "code",
   "execution_count": 8,
   "id": "refined-sculpture",
   "metadata": {},
   "outputs": [
    {
     "data": {
      "text/plain": [
       "array([[0.        , 0.        , 0.        ],\n",
       "       [0.41923111, 0.        , 0.        ],\n",
       "       [0.33474468, 0.90964915, 0.        ]])"
      ]
     },
     "execution_count": 8,
     "metadata": {},
     "output_type": "execute_result"
    }
   ],
   "source": [
    "cr = rsm.correlation(salary[[\"salary\", \"yrs.since.phd\", \"yrs.service\"]])\n",
    "cr.cr"
   ]
  },
  {
   "cell_type": "markdown",
   "id": "beginning-vitamin",
   "metadata": {},
   "source": [
    "Documentation about how to create a correlation object and how to acces its attrubutes is shown below."
   ]
  },
  {
   "cell_type": "code",
   "execution_count": 9,
   "id": "partial-bulgaria",
   "metadata": {},
   "outputs": [
    {
     "name": "stdout",
     "output_type": "stream",
     "text": [
      "Help on correlation in module pyrsm.basics object:\n",
      "\n",
      "class correlation(builtins.object)\n",
      " |  correlation(df)\n",
      " |  \n",
      " |  Methods defined here:\n",
      " |  \n",
      " |  __init__(self, df)\n",
      " |      Calculate correlations between numeric variables in a Pandas dataframe\n",
      " |      \n",
      " |      Parameters\n",
      " |      ----------\n",
      " |      df : Pandas dataframe with numeric variables\n",
      " |      \n",
      " |      Returns\n",
      " |      -------\n",
      " |      Correlation object with two key attributes\n",
      " |      cr: Correlation matrix\n",
      " |      cp: p.value matrix\n",
      " |      \n",
      " |      Examples\n",
      " |      --------\n",
      " |      import pandas as pd\n",
      " |      import pyrsm as rsm\n",
      " |      rsm.load_data(pkg=\"basics\", name=\"salary\", dct=globals())\n",
      " |      cr = rsm.correlation(salary[[\"salary\", \"yrs.since.phd\", \"yrs.service\"]])\n",
      " |      c.cr\n",
      " |  \n",
      " |  plot(self, nobs=1000, dec=2, figsize=None)\n",
      " |      Plot of correlations between numeric variables in a Pandas dataframe\n",
      " |      \n",
      " |      Parameters\n",
      " |      ----------\n",
      " |      nobs : int\n",
      " |          Number of observations to use for the scatter plots. The default\n",
      " |          value is 1,000. To use all observations in the plots, use nobs=-1\n",
      " |      dec : int\n",
      " |          Number of decimal places to use in rounding\n",
      " |      figsize : tuple\n",
      " |          A tuple that determines the figure size. If None, size is\n",
      " |          determined based on the number of numeric variables in the\n",
      " |          data\n",
      " |      \n",
      " |      Examples\n",
      " |      --------\n",
      " |      import pandas as pd\n",
      " |      import pyrsm as rsm\n",
      " |      rsm.load_data(pkg=\"basics\", name=\"salary\", dct=globals())\n",
      " |      cr = rsm.correlation(salary[[\"salary\", \"yrs.since.phd\", \"yrs.service\"]])\n",
      " |      cr.plot(figsize=(7, 3))\n",
      " |  \n",
      " |  summary(self, cutoff=0, dec=2)\n",
      " |      Print correlations between numeric variables in a Pandas dataframe\n",
      " |      \n",
      " |      Parameters\n",
      " |      ----------\n",
      " |      cutoff : float\n",
      " |          Only show correlations larger than a threshold in absolute value\n",
      " |      dec : int\n",
      " |          Number of decimal places to use in rounding\n",
      " |      \n",
      " |      Examples\n",
      " |      --------\n",
      " |      import pandas as pd\n",
      " |      import pyrsm as rsm\n",
      " |      rsm.load_data(pkg=\"basics\", name=\"salary\", dct=globals())\n",
      " |      cr = rsm.correlation(salary[[\"salary\", \"yrs.since.phd\", \"yrs.service\"]])\n",
      " |      cr.summary()\n",
      " |  \n",
      " |  ----------------------------------------------------------------------\n",
      " |  Data descriptors defined here:\n",
      " |  \n",
      " |  __dict__\n",
      " |      dictionary for instance variables (if defined)\n",
      " |  \n",
      " |  __weakref__\n",
      " |      list of weak references to the object (if defined)\n",
      "\n"
     ]
    }
   ],
   "source": [
    "help(cr)"
   ]
  },
  {
   "cell_type": "markdown",
   "id": "utility-cancer",
   "metadata": {},
   "source": [
    "Correlation objects have two methods: `summary` and `plot`. The documentation for each is shown below."
   ]
  },
  {
   "cell_type": "code",
   "execution_count": 10,
   "id": "labeled-replacement",
   "metadata": {},
   "outputs": [
    {
     "name": "stdout",
     "output_type": "stream",
     "text": [
      "Help on method summary in module pyrsm.basics:\n",
      "\n",
      "summary(cutoff=0, dec=2) method of pyrsm.basics.correlation instance\n",
      "    Print correlations between numeric variables in a Pandas dataframe\n",
      "    \n",
      "    Parameters\n",
      "    ----------\n",
      "    cutoff : float\n",
      "        Only show correlations larger than a threshold in absolute value\n",
      "    dec : int\n",
      "        Number of decimal places to use in rounding\n",
      "    \n",
      "    Examples\n",
      "    --------\n",
      "    import pandas as pd\n",
      "    import pyrsm as rsm\n",
      "    rsm.load_data(pkg=\"basics\", name=\"salary\", dct=globals())\n",
      "    cr = rsm.correlation(salary[[\"salary\", \"yrs.since.phd\", \"yrs.service\"]])\n",
      "    cr.summary()\n",
      "\n"
     ]
    }
   ],
   "source": [
    "help(cr.summary)"
   ]
  },
  {
   "cell_type": "code",
   "execution_count": 11,
   "id": "satisfied-protein",
   "metadata": {},
   "outputs": [
    {
     "name": "stdout",
     "output_type": "stream",
     "text": [
      "Correlation\n",
      "Variables: salary, yrs.since.phd, yrs.service\n",
      "Null hyp.: variables x and y are not correlated\n",
      "Alt. hyp.: variables x and y are correlated\n",
      "\n",
      "Correlation matrix:\n",
      "              salary yrs.since.phd\n",
      "yrs.since.phd   0.42              \n",
      "yrs.service     0.33          0.91\n",
      "\n",
      "p.values:\n",
      "              salary yrs.since.phd\n",
      "yrs.since.phd    0.0              \n",
      "yrs.service      0.0           0.0\n"
     ]
    }
   ],
   "source": [
    "cr.summary()"
   ]
  },
  {
   "cell_type": "markdown",
   "id": "sensitive-dutch",
   "metadata": {},
   "source": [
    "We can use the `plot` method to get a visual representation of the correlation matrix. Note that scatter plots in the graph at most 1,000 data points by default. To generate scatter plots that use all observations use `plot(n = -1)`.\n",
    "\n",
    "Stars shown in the plot are interpreted as:\n",
    "\n",
    "- p.value between 0 and 0.001:  ***\n",
    "- p.value between 0.001 and 0.01: **\n",
    "- p.value between 0.01 and 0.05: *\n",
    "- p.value between 0.05 and 0.1: ."
   ]
  },
  {
   "cell_type": "code",
   "execution_count": 12,
   "id": "actual-shopping",
   "metadata": {},
   "outputs": [
    {
     "name": "stdout",
     "output_type": "stream",
     "text": [
      "Help on method plot in module pyrsm.basics:\n",
      "\n",
      "plot(nobs=1000, dec=2, figsize=None) method of pyrsm.basics.correlation instance\n",
      "    Plot of correlations between numeric variables in a Pandas dataframe\n",
      "    \n",
      "    Parameters\n",
      "    ----------\n",
      "    nobs : int\n",
      "        Number of observations to use for the scatter plots. The default\n",
      "        value is 1,000. To use all observations in the plots, use nobs=-1\n",
      "    dec : int\n",
      "        Number of decimal places to use in rounding\n",
      "    figsize : tuple\n",
      "        A tuple that determines the figure size. If None, size is\n",
      "        determined based on the number of numeric variables in the\n",
      "        data\n",
      "    \n",
      "    Examples\n",
      "    --------\n",
      "    import pandas as pd\n",
      "    import pyrsm as rsm\n",
      "    rsm.load_data(pkg=\"basics\", name=\"salary\", dct=globals())\n",
      "    cr = rsm.correlation(salary[[\"salary\", \"yrs.since.phd\", \"yrs.service\"]])\n",
      "    cr.plot(figsize=(7, 3))\n",
      "\n"
     ]
    }
   ],
   "source": [
    "help(cr.plot)"
   ]
  },
  {
   "cell_type": "markdown",
   "id": "appointed-scanning",
   "metadata": {},
   "source": [
    "In the graph below all observations all observations are use to calculate the correlations but only 50 randomly sampled observations are used to generate the scatter plots. The `salary` dataset has only 397 observations so this option isn't really needed. However, for datasets with many thousands of rows, scatter plots are very slow to generate. The default value for `nobs` is set to 1,000."
   ]
  },
  {
   "cell_type": "code",
   "execution_count": 13,
   "id": "successful-implementation",
   "metadata": {},
   "outputs": [
    {
     "data": {
      "image/png": "[encoded data removed]",
      "text/plain": [
       "<Figure size 360x360 with 9 Axes>"
      ]
     },
     "metadata": {
      "needs_background": "light"
     },
     "output_type": "display_data"
    }
   ],
   "source": [
    "cr.plot(nobs=50)"
   ]
  },
  {
   "cell_type": "markdown",
   "id": "together-study",
   "metadata": {},
   "source": [
    "When the number of observations in a dataset is more than 1,000 and you want to use all observations to calculate the correlations and generate the scatter plots use `nobs = -1`."
   ]
  },
  {
   "cell_type": "code",
   "execution_count": 14,
   "id": "acknowledged-white",
   "metadata": {},
   "outputs": [
    {
     "data": {
      "image/png": "[encoded data removed]",
      "text/plain": [
       "<Figure size 360x360 with 9 Axes>"
      ]
     },
     "metadata": {
      "needs_background": "light"
     },
     "output_type": "display_data"
    }
   ],
   "source": [
    "cr.plot(nobs=-1)"
   ]
  },
  {
   "cell_type": "markdown",
   "id": "distinguished-steps",
   "metadata": {},
   "source": [
    "The font-size used in the plot is proportional to the size and significance of the correlation between two variables.\n",
    "\n",
    "### Correlation cutoff\n",
    "\n",
    "To show only correlations above a certain value choose a non-zero value in the numeric input between 0 and 1 (e.g., 0.15)."
   ]
  },
  {
   "cell_type": "code",
   "execution_count": 15,
   "id": "attached-dressing",
   "metadata": {},
   "outputs": [
    {
     "name": "stdout",
     "output_type": "stream",
     "text": [
      "Correlation\n",
      "Variables: salary, yrs.since.phd, yrs.service\n",
      "Null hyp.: variables x and y are not correlated\n",
      "Alt. hyp.: variables x and y are correlated\n",
      "\n",
      "Correlation matrix:\n",
      "              salary yrs.since.phd\n",
      "yrs.since.phd                     \n",
      "yrs.service                   0.91\n",
      "\n",
      "p.values:\n",
      "              salary yrs.since.phd\n",
      "yrs.since.phd                     \n",
      "yrs.service                    0.0\n"
     ]
    }
   ],
   "source": [
    "cr.summary(cutoff=0.5)"
   ]
  },
  {
   "cell_type": "markdown",
   "id": "chemical-commonwealth",
   "metadata": {},
   "source": [
    "### Khan on correlation"
   ]
  },
  {
   "cell_type": "code",
   "execution_count": 16,
   "id": "simple-botswana",
   "metadata": {},
   "outputs": [
    {
     "data": {
      "text/html": [
       "\n",
       "<p align=\"center\"><iframe width=\"640\" height=\"375\" src=\"https://www.youtube.com/embed/-Y-M9aD_ccQ\" frameborder=\"0\" allowfullscreen></iframe></p>\n"
      ],
      "text/plain": [
       "<IPython.core.display.HTML object>"
      ]
     },
     "metadata": {},
     "output_type": "display_data"
    }
   ],
   "source": [
    "%%HTML\n",
    "\n",
    "<p align=\"center\"><iframe width=\"640\" height=\"375\" src=\"https://www.youtube.com/embed/-Y-M9aD_ccQ\" frameborder=\"0\" allowfullscreen></iframe></p>"
   ]
  }
 ],
 "metadata": {
  "interpreter": {
   "hash": "bbba8b880f8e16fea63b45a2473043b3a2eb4895c09d1c8a67b72e7583b44428"
  },
  "kernelspec": {
   "display_name": "Python 3.10.4 ('pyrsm-dev')",
   "language": "python",
   "name": "python3"
  },
  "language_info": {
   "codemirror_mode": {
    "name": "ipython",
    "version": 3
   },
   "file_extension": ".py",
   "mimetype": "text/x-python",
   "name": "python",
   "nbconvert_exporter": "python",
   "pygments_lexer": "ipython3",
   "version": "3.10.4"
  }
 },
 "nbformat": 4,
 "nbformat_minor": 5
}
